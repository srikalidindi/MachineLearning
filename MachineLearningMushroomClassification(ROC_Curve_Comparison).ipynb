{
  "nbformat": 4,
  "nbformat_minor": 0,
  "metadata": {
    "colab": {
      "name": "MachineLearningMushroomClassification(ROC Curve Comparison).ipynb",
      "provenance": [],
      "collapsed_sections": []
    },
    "kernelspec": {
      "name": "python3",
      "display_name": "Python 3"
    }
  },
  "cells": [
    {
      "cell_type": "code",
      "metadata": {
        "id": "9FijuSIWXuTs",
        "colab_type": "code",
        "outputId": "9c0c636b-1f09-43c4-c0a9-b7971da79568",
        "colab": {
          "resources": {
            "http://localhost:8080/nbextensions/google.colab/files.js": {
              "data": "Ly8gQ29weXJpZ2h0IDIwMTcgR29vZ2xlIExMQwovLwovLyBMaWNlbnNlZCB1bmRlciB0aGUgQXBhY2hlIExpY2Vuc2UsIFZlcnNpb24gMi4wICh0aGUgIkxpY2Vuc2UiKTsKLy8geW91IG1heSBub3QgdXNlIHRoaXMgZmlsZSBleGNlcHQgaW4gY29tcGxpYW5jZSB3aXRoIHRoZSBMaWNlbnNlLgovLyBZb3UgbWF5IG9idGFpbiBhIGNvcHkgb2YgdGhlIExpY2Vuc2UgYXQKLy8KLy8gICAgICBodHRwOi8vd3d3LmFwYWNoZS5vcmcvbGljZW5zZXMvTElDRU5TRS0yLjAKLy8KLy8gVW5sZXNzIHJlcXVpcmVkIGJ5IGFwcGxpY2FibGUgbGF3IG9yIGFncmVlZCB0byBpbiB3cml0aW5nLCBzb2Z0d2FyZQovLyBkaXN0cmlidXRlZCB1bmRlciB0aGUgTGljZW5zZSBpcyBkaXN0cmlidXRlZCBvbiBhbiAiQVMgSVMiIEJBU0lTLAovLyBXSVRIT1VUIFdBUlJBTlRJRVMgT1IgQ09ORElUSU9OUyBPRiBBTlkgS0lORCwgZWl0aGVyIGV4cHJlc3Mgb3IgaW1wbGllZC4KLy8gU2VlIHRoZSBMaWNlbnNlIGZvciB0aGUgc3BlY2lmaWMgbGFuZ3VhZ2UgZ292ZXJuaW5nIHBlcm1pc3Npb25zIGFuZAovLyBsaW1pdGF0aW9ucyB1bmRlciB0aGUgTGljZW5zZS4KCi8qKgogKiBAZmlsZW92ZXJ2aWV3IEhlbHBlcnMgZm9yIGdvb2dsZS5jb2xhYiBQeXRob24gbW9kdWxlLgogKi8KKGZ1bmN0aW9uKHNjb3BlKSB7CmZ1bmN0aW9uIHNwYW4odGV4dCwgc3R5bGVBdHRyaWJ1dGVzID0ge30pIHsKICBjb25zdCBlbGVtZW50ID0gZG9jdW1lbnQuY3JlYXRlRWxlbWVudCgnc3BhbicpOwogIGVsZW1lbnQudGV4dENvbnRlbnQgPSB0ZXh0OwogIGZvciAoY29uc3Qga2V5IG9mIE9iamVjdC5rZXlzKHN0eWxlQXR0cmlidXRlcykpIHsKICAgIGVsZW1lbnQuc3R5bGVba2V5XSA9IHN0eWxlQXR0cmlidXRlc1trZXldOwogIH0KICByZXR1cm4gZWxlbWVudDsKfQoKLy8gTWF4IG51bWJlciBvZiBieXRlcyB3aGljaCB3aWxsIGJlIHVwbG9hZGVkIGF0IGEgdGltZS4KY29uc3QgTUFYX1BBWUxPQURfU0laRSA9IDEwMCAqIDEwMjQ7Ci8vIE1heCBhbW91bnQgb2YgdGltZSB0byBibG9jayB3YWl0aW5nIGZvciB0aGUgdXNlci4KY29uc3QgRklMRV9DSEFOR0VfVElNRU9VVF9NUyA9IDMwICogMTAwMDsKCmZ1bmN0aW9uIF91cGxvYWRGaWxlcyhpbnB1dElkLCBvdXRwdXRJZCkgewogIGNvbnN0IHN0ZXBzID0gdXBsb2FkRmlsZXNTdGVwKGlucHV0SWQsIG91dHB1dElkKTsKICBjb25zdCBvdXRwdXRFbGVtZW50ID0gZG9jdW1lbnQuZ2V0RWxlbWVudEJ5SWQob3V0cHV0SWQpOwogIC8vIENhY2hlIHN0ZXBzIG9uIHRoZSBvdXRwdXRFbGVtZW50IHRvIG1ha2UgaXQgYXZhaWxhYmxlIGZvciB0aGUgbmV4dCBjYWxsCiAgLy8gdG8gdXBsb2FkRmlsZXNDb250aW51ZSBmcm9tIFB5dGhvbi4KICBvdXRwdXRFbGVtZW50LnN0ZXBzID0gc3RlcHM7CgogIHJldHVybiBfdXBsb2FkRmlsZXNDb250aW51ZShvdXRwdXRJZCk7Cn0KCi8vIFRoaXMgaXMgcm91Z2hseSBhbiBhc3luYyBnZW5lcmF0b3IgKG5vdCBzdXBwb3J0ZWQgaW4gdGhlIGJyb3dzZXIgeWV0KSwKLy8gd2hlcmUgdGhlcmUgYXJlIG11bHRpcGxlIGFzeW5jaHJvbm91cyBzdGVwcyBhbmQgdGhlIFB5dGhvbiBzaWRlIGlzIGdvaW5nCi8vIHRvIHBvbGwgZm9yIGNvbXBsZXRpb24gb2YgZWFjaCBzdGVwLgovLyBUaGlzIHVzZXMgYSBQcm9taXNlIHRvIGJsb2NrIHRoZSBweXRob24gc2lkZSBvbiBjb21wbGV0aW9uIG9mIGVhY2ggc3RlcCwKLy8gdGhlbiBwYXNzZXMgdGhlIHJlc3VsdCBvZiB0aGUgcHJldmlvdXMgc3RlcCBhcyB0aGUgaW5wdXQgdG8gdGhlIG5leHQgc3RlcC4KZnVuY3Rpb24gX3VwbG9hZEZpbGVzQ29udGludWUob3V0cHV0SWQpIHsKICBjb25zdCBvdXRwdXRFbGVtZW50ID0gZG9jdW1lbnQuZ2V0RWxlbWVudEJ5SWQob3V0cHV0SWQpOwogIGNvbnN0IHN0ZXBzID0gb3V0cHV0RWxlbWVudC5zdGVwczsKCiAgY29uc3QgbmV4dCA9IHN0ZXBzLm5leHQob3V0cHV0RWxlbWVudC5sYXN0UHJvbWlzZVZhbHVlKTsKICByZXR1cm4gUHJvbWlzZS5yZXNvbHZlKG5leHQudmFsdWUucHJvbWlzZSkudGhlbigodmFsdWUpID0+IHsKICAgIC8vIENhY2hlIHRoZSBsYXN0IHByb21pc2UgdmFsdWUgdG8gbWFrZSBpdCBhdmFpbGFibGUgdG8gdGhlIG5leHQKICAgIC8vIHN0ZXAgb2YgdGhlIGdlbmVyYXRvci4KICAgIG91dHB1dEVsZW1lbnQubGFzdFByb21pc2VWYWx1ZSA9IHZhbHVlOwogICAgcmV0dXJuIG5leHQudmFsdWUucmVzcG9uc2U7CiAgfSk7Cn0KCi8qKgogKiBHZW5lcmF0b3IgZnVuY3Rpb24gd2hpY2ggaXMgY2FsbGVkIGJldHdlZW4gZWFjaCBhc3luYyBzdGVwIG9mIHRoZSB1cGxvYWQKICogcHJvY2Vzcy4KICogQHBhcmFtIHtzdHJpbmd9IGlucHV0SWQgRWxlbWVudCBJRCBvZiB0aGUgaW5wdXQgZmlsZSBwaWNrZXIgZWxlbWVudC4KICogQHBhcmFtIHtzdHJpbmd9IG91dHB1dElkIEVsZW1lbnQgSUQgb2YgdGhlIG91dHB1dCBkaXNwbGF5LgogKiBAcmV0dXJuIHshSXRlcmFibGU8IU9iamVjdD59IEl0ZXJhYmxlIG9mIG5leHQgc3RlcHMuCiAqLwpmdW5jdGlvbiogdXBsb2FkRmlsZXNTdGVwKGlucHV0SWQsIG91dHB1dElkKSB7CiAgY29uc3QgaW5wdXRFbGVtZW50ID0gZG9jdW1lbnQuZ2V0RWxlbWVudEJ5SWQoaW5wdXRJZCk7CiAgaW5wdXRFbGVtZW50LmRpc2FibGVkID0gZmFsc2U7CgogIGNvbnN0IG91dHB1dEVsZW1lbnQgPSBkb2N1bWVudC5nZXRFbGVtZW50QnlJZChvdXRwdXRJZCk7CiAgb3V0cHV0RWxlbWVudC5pbm5lckhUTUwgPSAnJzsKCiAgY29uc3QgcGlja2VkUHJvbWlzZSA9IG5ldyBQcm9taXNlKChyZXNvbHZlKSA9PiB7CiAgICBpbnB1dEVsZW1lbnQuYWRkRXZlbnRMaXN0ZW5lcignY2hhbmdlJywgKGUpID0+IHsKICAgICAgcmVzb2x2ZShlLnRhcmdldC5maWxlcyk7CiAgICB9KTsKICB9KTsKCiAgY29uc3QgY2FuY2VsID0gZG9jdW1lbnQuY3JlYXRlRWxlbWVudCgnYnV0dG9uJyk7CiAgaW5wdXRFbGVtZW50LnBhcmVudEVsZW1lbnQuYXBwZW5kQ2hpbGQoY2FuY2VsKTsKICBjYW5jZWwudGV4dENvbnRlbnQgPSAnQ2FuY2VsIHVwbG9hZCc7CiAgY29uc3QgY2FuY2VsUHJvbWlzZSA9IG5ldyBQcm9taXNlKChyZXNvbHZlKSA9PiB7CiAgICBjYW5jZWwub25jbGljayA9ICgpID0+IHsKICAgICAgcmVzb2x2ZShudWxsKTsKICAgIH07CiAgfSk7CgogIC8vIENhbmNlbCB1cGxvYWQgaWYgdXNlciBoYXNuJ3QgcGlja2VkIGFueXRoaW5nIGluIHRpbWVvdXQuCiAgY29uc3QgdGltZW91dFByb21pc2UgPSBuZXcgUHJvbWlzZSgocmVzb2x2ZSkgPT4gewogICAgc2V0VGltZW91dCgoKSA9PiB7CiAgICAgIHJlc29sdmUobnVsbCk7CiAgICB9LCBGSUxFX0NIQU5HRV9USU1FT1VUX01TKTsKICB9KTsKCiAgLy8gV2FpdCBmb3IgdGhlIHVzZXIgdG8gcGljayB0aGUgZmlsZXMuCiAgY29uc3QgZmlsZXMgPSB5aWVsZCB7CiAgICBwcm9taXNlOiBQcm9taXNlLnJhY2UoW3BpY2tlZFByb21pc2UsIHRpbWVvdXRQcm9taXNlLCBjYW5jZWxQcm9taXNlXSksCiAgICByZXNwb25zZTogewogICAgICBhY3Rpb246ICdzdGFydGluZycsCiAgICB9CiAgfTsKCiAgaWYgKCFmaWxlcykgewogICAgcmV0dXJuIHsKICAgICAgcmVzcG9uc2U6IHsKICAgICAgICBhY3Rpb246ICdjb21wbGV0ZScsCiAgICAgIH0KICAgIH07CiAgfQoKICBjYW5jZWwucmVtb3ZlKCk7CgogIC8vIERpc2FibGUgdGhlIGlucHV0IGVsZW1lbnQgc2luY2UgZnVydGhlciBwaWNrcyBhcmUgbm90IGFsbG93ZWQuCiAgaW5wdXRFbGVtZW50LmRpc2FibGVkID0gdHJ1ZTsKCiAgZm9yIChjb25zdCBmaWxlIG9mIGZpbGVzKSB7CiAgICBjb25zdCBsaSA9IGRvY3VtZW50LmNyZWF0ZUVsZW1lbnQoJ2xpJyk7CiAgICBsaS5hcHBlbmQoc3BhbihmaWxlLm5hbWUsIHtmb250V2VpZ2h0OiAnYm9sZCd9KSk7CiAgICBsaS5hcHBlbmQoc3BhbigKICAgICAgICBgKCR7ZmlsZS50eXBlIHx8ICduL2EnfSkgLSAke2ZpbGUuc2l6ZX0gYnl0ZXMsIGAgKwogICAgICAgIGBsYXN0IG1vZGlmaWVkOiAkewogICAgICAgICAgICBmaWxlLmxhc3RNb2RpZmllZERhdGUgPyBmaWxlLmxhc3RNb2RpZmllZERhdGUudG9Mb2NhbGVEYXRlU3RyaW5nKCkgOgogICAgICAgICAgICAgICAgICAgICAgICAgICAgICAgICAgICAnbi9hJ30gLSBgKSk7CiAgICBjb25zdCBwZXJjZW50ID0gc3BhbignMCUgZG9uZScpOwogICAgbGkuYXBwZW5kQ2hpbGQocGVyY2VudCk7CgogICAgb3V0cHV0RWxlbWVudC5hcHBlbmRDaGlsZChsaSk7CgogICAgY29uc3QgZmlsZURhdGFQcm9taXNlID0gbmV3IFByb21pc2UoKHJlc29sdmUpID0+IHsKICAgICAgY29uc3QgcmVhZGVyID0gbmV3IEZpbGVSZWFkZXIoKTsKICAgICAgcmVhZGVyLm9ubG9hZCA9IChlKSA9PiB7CiAgICAgICAgcmVzb2x2ZShlLnRhcmdldC5yZXN1bHQpOwogICAgICB9OwogICAgICByZWFkZXIucmVhZEFzQXJyYXlCdWZmZXIoZmlsZSk7CiAgICB9KTsKICAgIC8vIFdhaXQgZm9yIHRoZSBkYXRhIHRvIGJlIHJlYWR5LgogICAgbGV0IGZpbGVEYXRhID0geWllbGQgewogICAgICBwcm9taXNlOiBmaWxlRGF0YVByb21pc2UsCiAgICAgIHJlc3BvbnNlOiB7CiAgICAgICAgYWN0aW9uOiAnY29udGludWUnLAogICAgICB9CiAgICB9OwoKICAgIC8vIFVzZSBhIGNodW5rZWQgc2VuZGluZyB0byBhdm9pZCBtZXNzYWdlIHNpemUgbGltaXRzLiBTZWUgYi82MjExNTY2MC4KICAgIGxldCBwb3NpdGlvbiA9IDA7CiAgICB3aGlsZSAocG9zaXRpb24gPCBmaWxlRGF0YS5ieXRlTGVuZ3RoKSB7CiAgICAgIGNvbnN0IGxlbmd0aCA9IE1hdGgubWluKGZpbGVEYXRhLmJ5dGVMZW5ndGggLSBwb3NpdGlvbiwgTUFYX1BBWUxPQURfU0laRSk7CiAgICAgIGNvbnN0IGNodW5rID0gbmV3IFVpbnQ4QXJyYXkoZmlsZURhdGEsIHBvc2l0aW9uLCBsZW5ndGgpOwogICAgICBwb3NpdGlvbiArPSBsZW5ndGg7CgogICAgICBjb25zdCBiYXNlNjQgPSBidG9hKFN0cmluZy5mcm9tQ2hhckNvZGUuYXBwbHkobnVsbCwgY2h1bmspKTsKICAgICAgeWllbGQgewogICAgICAgIHJlc3BvbnNlOiB7CiAgICAgICAgICBhY3Rpb246ICdhcHBlbmQnLAogICAgICAgICAgZmlsZTogZmlsZS5uYW1lLAogICAgICAgICAgZGF0YTogYmFzZTY0LAogICAgICAgIH0sCiAgICAgIH07CiAgICAgIHBlcmNlbnQudGV4dENvbnRlbnQgPQogICAgICAgICAgYCR7TWF0aC5yb3VuZCgocG9zaXRpb24gLyBmaWxlRGF0YS5ieXRlTGVuZ3RoKSAqIDEwMCl9JSBkb25lYDsKICAgIH0KICB9CgogIC8vIEFsbCBkb25lLgogIHlpZWxkIHsKICAgIHJlc3BvbnNlOiB7CiAgICAgIGFjdGlvbjogJ2NvbXBsZXRlJywKICAgIH0KICB9Owp9CgpzY29wZS5nb29nbGUgPSBzY29wZS5nb29nbGUgfHwge307CnNjb3BlLmdvb2dsZS5jb2xhYiA9IHNjb3BlLmdvb2dsZS5jb2xhYiB8fCB7fTsKc2NvcGUuZ29vZ2xlLmNvbGFiLl9maWxlcyA9IHsKICBfdXBsb2FkRmlsZXMsCiAgX3VwbG9hZEZpbGVzQ29udGludWUsCn07Cn0pKHNlbGYpOwo=",
              "ok": true,
              "headers": [
                [
                  "content-type",
                  "application/javascript"
                ]
              ],
              "status": 200,
              "status_text": ""
            }
          },
          "base_uri": "https://localhost:8080/",
          "height": 74
        }
      },
      "source": [
        "from google.colab import files\n",
        "uploaded = files.upload()"
      ],
      "execution_count": 6,
      "outputs": [
        {
          "output_type": "display_data",
          "data": {
            "text/html": [
              "\n",
              "     <input type=\"file\" id=\"files-23b9a7f2-e3ff-4184-bb50-31a28936f516\" name=\"files[]\" multiple disabled />\n",
              "     <output id=\"result-23b9a7f2-e3ff-4184-bb50-31a28936f516\">\n",
              "      Upload widget is only available when the cell has been executed in the\n",
              "      current browser session. Please rerun this cell to enable.\n",
              "      </output>\n",
              "      <script src=\"/nbextensions/google.colab/files.js\"></script> "
            ],
            "text/plain": [
              "<IPython.core.display.HTML object>"
            ]
          },
          "metadata": {
            "tags": []
          }
        },
        {
          "output_type": "stream",
          "text": [
            "Saving mushrooms.csv to mushrooms.csv\n"
          ],
          "name": "stdout"
        }
      ]
    },
    {
      "cell_type": "markdown",
      "metadata": {
        "id": "jhW0Nr6JY4p4",
        "colab_type": "text"
      },
      "source": [
        "In this notebook I am gonna demonstrate 6 different models \n",
        "1.Principal Component Analysis\n",
        "2.Logistic Regression\n",
        "3.Gaussian Naive Bayes\n",
        "4.Support vector Machine\n",
        "5.Random Forest Classifier\n",
        "6.Decision trees\n",
        "7.Simple Neutral network"
      ]
    },
    {
      "cell_type": "code",
      "metadata": {
        "id": "lgEvCnLiX5oD",
        "colab_type": "code",
        "colab": {}
      },
      "source": [
        "import pandas as pd\n",
        "import numpy as np\n",
        "from matplotlib import pyplot as plt\n",
        "import seaborn as sns"
      ],
      "execution_count": 0,
      "outputs": []
    },
    {
      "cell_type": "code",
      "metadata": {
        "id": "r0EKpImlZczd",
        "colab_type": "code",
        "outputId": "3929ab80-29e2-4bd4-8a39-799eeb29366f",
        "colab": {
          "base_uri": "https://localhost:8080/",
          "height": 306
        }
      },
      "source": [
        "data=pd.read_csv(\"mushrooms.csv\")\n",
        "data.head(6)"
      ],
      "execution_count": 26,
      "outputs": [
        {
          "output_type": "execute_result",
          "data": {
            "text/html": [
              "<div>\n",
              "<style scoped>\n",
              "    .dataframe tbody tr th:only-of-type {\n",
              "        vertical-align: middle;\n",
              "    }\n",
              "\n",
              "    .dataframe tbody tr th {\n",
              "        vertical-align: top;\n",
              "    }\n",
              "\n",
              "    .dataframe thead th {\n",
              "        text-align: right;\n",
              "    }\n",
              "</style>\n",
              "<table border=\"1\" class=\"dataframe\">\n",
              "  <thead>\n",
              "    <tr style=\"text-align: right;\">\n",
              "      <th></th>\n",
              "      <th>class</th>\n",
              "      <th>cap-shape</th>\n",
              "      <th>cap-surface</th>\n",
              "      <th>cap-color</th>\n",
              "      <th>bruises</th>\n",
              "      <th>odor</th>\n",
              "      <th>gill-attachment</th>\n",
              "      <th>gill-spacing</th>\n",
              "      <th>gill-size</th>\n",
              "      <th>gill-color</th>\n",
              "      <th>stalk-shape</th>\n",
              "      <th>stalk-root</th>\n",
              "      <th>stalk-surface-above-ring</th>\n",
              "      <th>stalk-surface-below-ring</th>\n",
              "      <th>stalk-color-above-ring</th>\n",
              "      <th>stalk-color-below-ring</th>\n",
              "      <th>veil-type</th>\n",
              "      <th>veil-color</th>\n",
              "      <th>ring-number</th>\n",
              "      <th>ring-type</th>\n",
              "      <th>spore-print-color</th>\n",
              "      <th>population</th>\n",
              "      <th>habitat</th>\n",
              "    </tr>\n",
              "  </thead>\n",
              "  <tbody>\n",
              "    <tr>\n",
              "      <th>0</th>\n",
              "      <td>p</td>\n",
              "      <td>x</td>\n",
              "      <td>s</td>\n",
              "      <td>n</td>\n",
              "      <td>t</td>\n",
              "      <td>p</td>\n",
              "      <td>f</td>\n",
              "      <td>c</td>\n",
              "      <td>n</td>\n",
              "      <td>k</td>\n",
              "      <td>e</td>\n",
              "      <td>e</td>\n",
              "      <td>s</td>\n",
              "      <td>s</td>\n",
              "      <td>w</td>\n",
              "      <td>w</td>\n",
              "      <td>p</td>\n",
              "      <td>w</td>\n",
              "      <td>o</td>\n",
              "      <td>p</td>\n",
              "      <td>k</td>\n",
              "      <td>s</td>\n",
              "      <td>u</td>\n",
              "    </tr>\n",
              "    <tr>\n",
              "      <th>1</th>\n",
              "      <td>e</td>\n",
              "      <td>x</td>\n",
              "      <td>s</td>\n",
              "      <td>y</td>\n",
              "      <td>t</td>\n",
              "      <td>a</td>\n",
              "      <td>f</td>\n",
              "      <td>c</td>\n",
              "      <td>b</td>\n",
              "      <td>k</td>\n",
              "      <td>e</td>\n",
              "      <td>c</td>\n",
              "      <td>s</td>\n",
              "      <td>s</td>\n",
              "      <td>w</td>\n",
              "      <td>w</td>\n",
              "      <td>p</td>\n",
              "      <td>w</td>\n",
              "      <td>o</td>\n",
              "      <td>p</td>\n",
              "      <td>n</td>\n",
              "      <td>n</td>\n",
              "      <td>g</td>\n",
              "    </tr>\n",
              "    <tr>\n",
              "      <th>2</th>\n",
              "      <td>e</td>\n",
              "      <td>b</td>\n",
              "      <td>s</td>\n",
              "      <td>w</td>\n",
              "      <td>t</td>\n",
              "      <td>l</td>\n",
              "      <td>f</td>\n",
              "      <td>c</td>\n",
              "      <td>b</td>\n",
              "      <td>n</td>\n",
              "      <td>e</td>\n",
              "      <td>c</td>\n",
              "      <td>s</td>\n",
              "      <td>s</td>\n",
              "      <td>w</td>\n",
              "      <td>w</td>\n",
              "      <td>p</td>\n",
              "      <td>w</td>\n",
              "      <td>o</td>\n",
              "      <td>p</td>\n",
              "      <td>n</td>\n",
              "      <td>n</td>\n",
              "      <td>m</td>\n",
              "    </tr>\n",
              "    <tr>\n",
              "      <th>3</th>\n",
              "      <td>p</td>\n",
              "      <td>x</td>\n",
              "      <td>y</td>\n",
              "      <td>w</td>\n",
              "      <td>t</td>\n",
              "      <td>p</td>\n",
              "      <td>f</td>\n",
              "      <td>c</td>\n",
              "      <td>n</td>\n",
              "      <td>n</td>\n",
              "      <td>e</td>\n",
              "      <td>e</td>\n",
              "      <td>s</td>\n",
              "      <td>s</td>\n",
              "      <td>w</td>\n",
              "      <td>w</td>\n",
              "      <td>p</td>\n",
              "      <td>w</td>\n",
              "      <td>o</td>\n",
              "      <td>p</td>\n",
              "      <td>k</td>\n",
              "      <td>s</td>\n",
              "      <td>u</td>\n",
              "    </tr>\n",
              "    <tr>\n",
              "      <th>4</th>\n",
              "      <td>e</td>\n",
              "      <td>x</td>\n",
              "      <td>s</td>\n",
              "      <td>g</td>\n",
              "      <td>f</td>\n",
              "      <td>n</td>\n",
              "      <td>f</td>\n",
              "      <td>w</td>\n",
              "      <td>b</td>\n",
              "      <td>k</td>\n",
              "      <td>t</td>\n",
              "      <td>e</td>\n",
              "      <td>s</td>\n",
              "      <td>s</td>\n",
              "      <td>w</td>\n",
              "      <td>w</td>\n",
              "      <td>p</td>\n",
              "      <td>w</td>\n",
              "      <td>o</td>\n",
              "      <td>e</td>\n",
              "      <td>n</td>\n",
              "      <td>a</td>\n",
              "      <td>g</td>\n",
              "    </tr>\n",
              "    <tr>\n",
              "      <th>5</th>\n",
              "      <td>e</td>\n",
              "      <td>x</td>\n",
              "      <td>y</td>\n",
              "      <td>y</td>\n",
              "      <td>t</td>\n",
              "      <td>a</td>\n",
              "      <td>f</td>\n",
              "      <td>c</td>\n",
              "      <td>b</td>\n",
              "      <td>n</td>\n",
              "      <td>e</td>\n",
              "      <td>c</td>\n",
              "      <td>s</td>\n",
              "      <td>s</td>\n",
              "      <td>w</td>\n",
              "      <td>w</td>\n",
              "      <td>p</td>\n",
              "      <td>w</td>\n",
              "      <td>o</td>\n",
              "      <td>p</td>\n",
              "      <td>k</td>\n",
              "      <td>n</td>\n",
              "      <td>g</td>\n",
              "    </tr>\n",
              "  </tbody>\n",
              "</table>\n",
              "</div>"
            ],
            "text/plain": [
              "  class cap-shape cap-surface  ... spore-print-color population habitat\n",
              "0     p         x           s  ...                 k          s       u\n",
              "1     e         x           s  ...                 n          n       g\n",
              "2     e         b           s  ...                 n          n       m\n",
              "3     p         x           y  ...                 k          s       u\n",
              "4     e         x           s  ...                 n          a       g\n",
              "5     e         x           y  ...                 k          n       g\n",
              "\n",
              "[6 rows x 23 columns]"
            ]
          },
          "metadata": {
            "tags": []
          },
          "execution_count": 26
        }
      ]
    },
    {
      "cell_type": "code",
      "metadata": {
        "id": "VOJlIUGOZhfX",
        "colab_type": "code",
        "outputId": "ea23a087-58e0-4598-de5b-205a987f5244",
        "colab": {
          "base_uri": "https://localhost:8080/",
          "height": 425
        }
      },
      "source": [
        "#Checking for null values\n",
        "data.isnull().sum()"
      ],
      "execution_count": 27,
      "outputs": [
        {
          "output_type": "execute_result",
          "data": {
            "text/plain": [
              "class                       0\n",
              "cap-shape                   0\n",
              "cap-surface                 0\n",
              "cap-color                   0\n",
              "bruises                     0\n",
              "odor                        0\n",
              "gill-attachment             0\n",
              "gill-spacing                0\n",
              "gill-size                   0\n",
              "gill-color                  0\n",
              "stalk-shape                 0\n",
              "stalk-root                  0\n",
              "stalk-surface-above-ring    0\n",
              "stalk-surface-below-ring    0\n",
              "stalk-color-above-ring      0\n",
              "stalk-color-below-ring      0\n",
              "veil-type                   0\n",
              "veil-color                  0\n",
              "ring-number                 0\n",
              "ring-type                   0\n",
              "spore-print-color           0\n",
              "population                  0\n",
              "habitat                     0\n",
              "dtype: int64"
            ]
          },
          "metadata": {
            "tags": []
          },
          "execution_count": 27
        }
      ]
    },
    {
      "cell_type": "code",
      "metadata": {
        "id": "uZZbK1XoZnbq",
        "colab_type": "code",
        "outputId": "da664132-54de-4c72-bec3-cfd58ef37d4e",
        "colab": {
          "base_uri": "https://localhost:8080/",
          "height": 34
        }
      },
      "source": [
        "data['class'].unique()"
      ],
      "execution_count": 28,
      "outputs": [
        {
          "output_type": "execute_result",
          "data": {
            "text/plain": [
              "array(['p', 'e'], dtype=object)"
            ]
          },
          "metadata": {
            "tags": []
          },
          "execution_count": 28
        }
      ]
    },
    {
      "cell_type": "code",
      "metadata": {
        "id": "6R-O_L-mZqad",
        "colab_type": "code",
        "outputId": "5b43c04b-09d1-4f77-d196-50780a28313b",
        "colab": {
          "base_uri": "https://localhost:8080/",
          "height": 34
        }
      },
      "source": [
        "data.shape"
      ],
      "execution_count": 29,
      "outputs": [
        {
          "output_type": "execute_result",
          "data": {
            "text/plain": [
              "(8124, 23)"
            ]
          },
          "metadata": {
            "tags": []
          },
          "execution_count": 29
        }
      ]
    },
    {
      "cell_type": "code",
      "metadata": {
        "id": "VwadTfSLZtF2",
        "colab_type": "code",
        "colab": {}
      },
      "source": [
        "#Thus we have 22 features(1st one is label) and 8124 instances. Now let us check which features constitures maximul information."
      ],
      "execution_count": 0,
      "outputs": []
    },
    {
      "cell_type": "code",
      "metadata": {
        "id": "q8w3uwMZZ3B0",
        "colab_type": "code",
        "colab": {}
      },
      "source": [
        "#We can see that the dataset has values in strings. We need to convert all the unique values to integers. Thus we perform label encoding on the data."
      ],
      "execution_count": 0,
      "outputs": []
    },
    {
      "cell_type": "code",
      "metadata": {
        "id": "8Adrqi9oZ-71",
        "colab_type": "code",
        "outputId": "899f2dd6-bdac-4f3a-db48-8c372db2b86b",
        "colab": {
          "base_uri": "https://localhost:8080/",
          "height": 275
        }
      },
      "source": [
        "from sklearn.preprocessing import LabelEncoder\n",
        "labelencoder=LabelEncoder()\n",
        "for col in data.columns:\n",
        "  data[col]=labelencoder.fit_transform(data[col])\n",
        "data.head()"
      ],
      "execution_count": 32,
      "outputs": [
        {
          "output_type": "execute_result",
          "data": {
            "text/html": [
              "<div>\n",
              "<style scoped>\n",
              "    .dataframe tbody tr th:only-of-type {\n",
              "        vertical-align: middle;\n",
              "    }\n",
              "\n",
              "    .dataframe tbody tr th {\n",
              "        vertical-align: top;\n",
              "    }\n",
              "\n",
              "    .dataframe thead th {\n",
              "        text-align: right;\n",
              "    }\n",
              "</style>\n",
              "<table border=\"1\" class=\"dataframe\">\n",
              "  <thead>\n",
              "    <tr style=\"text-align: right;\">\n",
              "      <th></th>\n",
              "      <th>class</th>\n",
              "      <th>cap-shape</th>\n",
              "      <th>cap-surface</th>\n",
              "      <th>cap-color</th>\n",
              "      <th>bruises</th>\n",
              "      <th>odor</th>\n",
              "      <th>gill-attachment</th>\n",
              "      <th>gill-spacing</th>\n",
              "      <th>gill-size</th>\n",
              "      <th>gill-color</th>\n",
              "      <th>stalk-shape</th>\n",
              "      <th>stalk-root</th>\n",
              "      <th>stalk-surface-above-ring</th>\n",
              "      <th>stalk-surface-below-ring</th>\n",
              "      <th>stalk-color-above-ring</th>\n",
              "      <th>stalk-color-below-ring</th>\n",
              "      <th>veil-type</th>\n",
              "      <th>veil-color</th>\n",
              "      <th>ring-number</th>\n",
              "      <th>ring-type</th>\n",
              "      <th>spore-print-color</th>\n",
              "      <th>population</th>\n",
              "      <th>habitat</th>\n",
              "    </tr>\n",
              "  </thead>\n",
              "  <tbody>\n",
              "    <tr>\n",
              "      <th>0</th>\n",
              "      <td>1</td>\n",
              "      <td>5</td>\n",
              "      <td>2</td>\n",
              "      <td>4</td>\n",
              "      <td>1</td>\n",
              "      <td>6</td>\n",
              "      <td>1</td>\n",
              "      <td>0</td>\n",
              "      <td>1</td>\n",
              "      <td>4</td>\n",
              "      <td>0</td>\n",
              "      <td>3</td>\n",
              "      <td>2</td>\n",
              "      <td>2</td>\n",
              "      <td>7</td>\n",
              "      <td>7</td>\n",
              "      <td>0</td>\n",
              "      <td>2</td>\n",
              "      <td>1</td>\n",
              "      <td>4</td>\n",
              "      <td>2</td>\n",
              "      <td>3</td>\n",
              "      <td>5</td>\n",
              "    </tr>\n",
              "    <tr>\n",
              "      <th>1</th>\n",
              "      <td>0</td>\n",
              "      <td>5</td>\n",
              "      <td>2</td>\n",
              "      <td>9</td>\n",
              "      <td>1</td>\n",
              "      <td>0</td>\n",
              "      <td>1</td>\n",
              "      <td>0</td>\n",
              "      <td>0</td>\n",
              "      <td>4</td>\n",
              "      <td>0</td>\n",
              "      <td>2</td>\n",
              "      <td>2</td>\n",
              "      <td>2</td>\n",
              "      <td>7</td>\n",
              "      <td>7</td>\n",
              "      <td>0</td>\n",
              "      <td>2</td>\n",
              "      <td>1</td>\n",
              "      <td>4</td>\n",
              "      <td>3</td>\n",
              "      <td>2</td>\n",
              "      <td>1</td>\n",
              "    </tr>\n",
              "    <tr>\n",
              "      <th>2</th>\n",
              "      <td>0</td>\n",
              "      <td>0</td>\n",
              "      <td>2</td>\n",
              "      <td>8</td>\n",
              "      <td>1</td>\n",
              "      <td>3</td>\n",
              "      <td>1</td>\n",
              "      <td>0</td>\n",
              "      <td>0</td>\n",
              "      <td>5</td>\n",
              "      <td>0</td>\n",
              "      <td>2</td>\n",
              "      <td>2</td>\n",
              "      <td>2</td>\n",
              "      <td>7</td>\n",
              "      <td>7</td>\n",
              "      <td>0</td>\n",
              "      <td>2</td>\n",
              "      <td>1</td>\n",
              "      <td>4</td>\n",
              "      <td>3</td>\n",
              "      <td>2</td>\n",
              "      <td>3</td>\n",
              "    </tr>\n",
              "    <tr>\n",
              "      <th>3</th>\n",
              "      <td>1</td>\n",
              "      <td>5</td>\n",
              "      <td>3</td>\n",
              "      <td>8</td>\n",
              "      <td>1</td>\n",
              "      <td>6</td>\n",
              "      <td>1</td>\n",
              "      <td>0</td>\n",
              "      <td>1</td>\n",
              "      <td>5</td>\n",
              "      <td>0</td>\n",
              "      <td>3</td>\n",
              "      <td>2</td>\n",
              "      <td>2</td>\n",
              "      <td>7</td>\n",
              "      <td>7</td>\n",
              "      <td>0</td>\n",
              "      <td>2</td>\n",
              "      <td>1</td>\n",
              "      <td>4</td>\n",
              "      <td>2</td>\n",
              "      <td>3</td>\n",
              "      <td>5</td>\n",
              "    </tr>\n",
              "    <tr>\n",
              "      <th>4</th>\n",
              "      <td>0</td>\n",
              "      <td>5</td>\n",
              "      <td>2</td>\n",
              "      <td>3</td>\n",
              "      <td>0</td>\n",
              "      <td>5</td>\n",
              "      <td>1</td>\n",
              "      <td>1</td>\n",
              "      <td>0</td>\n",
              "      <td>4</td>\n",
              "      <td>1</td>\n",
              "      <td>3</td>\n",
              "      <td>2</td>\n",
              "      <td>2</td>\n",
              "      <td>7</td>\n",
              "      <td>7</td>\n",
              "      <td>0</td>\n",
              "      <td>2</td>\n",
              "      <td>1</td>\n",
              "      <td>0</td>\n",
              "      <td>3</td>\n",
              "      <td>0</td>\n",
              "      <td>1</td>\n",
              "    </tr>\n",
              "  </tbody>\n",
              "</table>\n",
              "</div>"
            ],
            "text/plain": [
              "   class  cap-shape  cap-surface  ...  spore-print-color  population  habitat\n",
              "0      1          5            2  ...                  2           3        5\n",
              "1      0          5            2  ...                  3           2        1\n",
              "2      0          0            2  ...                  3           2        3\n",
              "3      1          5            3  ...                  2           3        5\n",
              "4      0          5            2  ...                  3           0        1\n",
              "\n",
              "[5 rows x 23 columns]"
            ]
          },
          "metadata": {
            "tags": []
          },
          "execution_count": 32
        }
      ]
    },
    {
      "cell_type": "code",
      "metadata": {
        "id": "M5UVB0IiaPXU",
        "colab_type": "code",
        "colab": {}
      },
      "source": [
        "#Checking the encoded values"
      ],
      "execution_count": 0,
      "outputs": []
    },
    {
      "cell_type": "code",
      "metadata": {
        "id": "vPe0vTYvaXwF",
        "colab_type": "code",
        "outputId": "4ce84509-2142-4651-8a01-c4de7b6fa126",
        "colab": {
          "base_uri": "https://localhost:8080/",
          "height": 34
        }
      },
      "source": [
        "data['stalk-color-above-ring'].unique()"
      ],
      "execution_count": 34,
      "outputs": [
        {
          "output_type": "execute_result",
          "data": {
            "text/plain": [
              "array([7, 3, 6, 4, 0, 2, 5, 1, 8])"
            ]
          },
          "metadata": {
            "tags": []
          },
          "execution_count": 34
        }
      ]
    },
    {
      "cell_type": "code",
      "metadata": {
        "id": "DrFYMvYcack-",
        "colab_type": "code",
        "outputId": "65907652-dbc4-448b-ce84-b167d46aa021",
        "colab": {
          "base_uri": "https://localhost:8080/",
          "height": 85
        }
      },
      "source": [
        "print(data.groupby('class').size())"
      ],
      "execution_count": 35,
      "outputs": [
        {
          "output_type": "stream",
          "text": [
            "class\n",
            "0    4208\n",
            "1    3916\n",
            "dtype: int64\n"
          ],
          "name": "stdout"
        }
      ]
    },
    {
      "cell_type": "code",
      "metadata": {
        "id": "_NH83QZNagKp",
        "colab_type": "code",
        "colab": {}
      },
      "source": [
        "#plotting boxplot to see the distributions of the data"
      ],
      "execution_count": 0,
      "outputs": []
    },
    {
      "cell_type": "code",
      "metadata": {
        "id": "Mu_v8e-Ya-8V",
        "colab_type": "code",
        "outputId": "e187b2eb-305b-47dd-c931-73702b96d2c4",
        "colab": {
          "base_uri": "https://localhost:8080/",
          "height": 459
        }
      },
      "source": [
        "'''\n",
        "# creating a figure instance\n",
        "fig, axes = plt.subplots(nrows=2 ,ncols=2 ,figsize=(9, 9))\n",
        "\n",
        "# creating axes instance and the boxplot\n",
        "bp1 = axes[0,0].boxplot(data['stalk-color-above-ring'],patch_artist=True)\n",
        "\n",
        "bp2 = axes[0,1].boxplot(data['stalk-color-below-ring'],patch_artist=True)\n",
        "\n",
        "bp3 = axes[1,0].boxplot(data['stalk-surface-below-ring'],patch_artist=True)\n",
        "\n",
        "bp4 = axes[1,1].boxplot(data['stalk-surface-above-ring'],patch_artist=True)\n",
        "'''\n",
        "ax=sns.boxplot(x='class',y='stalk-color-above-ring',data=data)\n",
        "ax=sns.stripplot(x=\"class\",y='stalk-color-above-ring',data=data,jitter=True,edgecolor=\"gray\")\n",
        "sns.plt.title(\"Class w.r.t stalkcolor above ring\",fontsize=12)"
      ],
      "execution_count": 37,
      "outputs": [
        {
          "output_type": "error",
          "ename": "AttributeError",
          "evalue": "ignored",
          "traceback": [
            "\u001b[0;31m---------------------------------------------------------------------------\u001b[0m",
            "\u001b[0;31mAttributeError\u001b[0m                            Traceback (most recent call last)",
            "\u001b[0;32m<ipython-input-37-55f40ef99801>\u001b[0m in \u001b[0;36m<module>\u001b[0;34m()\u001b[0m\n\u001b[1;32m     14\u001b[0m \u001b[0max\u001b[0m\u001b[0;34m=\u001b[0m\u001b[0msns\u001b[0m\u001b[0;34m.\u001b[0m\u001b[0mboxplot\u001b[0m\u001b[0;34m(\u001b[0m\u001b[0mx\u001b[0m\u001b[0;34m=\u001b[0m\u001b[0;34m'class'\u001b[0m\u001b[0;34m,\u001b[0m\u001b[0my\u001b[0m\u001b[0;34m=\u001b[0m\u001b[0;34m'stalk-color-above-ring'\u001b[0m\u001b[0;34m,\u001b[0m\u001b[0mdata\u001b[0m\u001b[0;34m=\u001b[0m\u001b[0mdata\u001b[0m\u001b[0;34m)\u001b[0m\u001b[0;34m\u001b[0m\u001b[0;34m\u001b[0m\u001b[0m\n\u001b[1;32m     15\u001b[0m \u001b[0max\u001b[0m\u001b[0;34m=\u001b[0m\u001b[0msns\u001b[0m\u001b[0;34m.\u001b[0m\u001b[0mstripplot\u001b[0m\u001b[0;34m(\u001b[0m\u001b[0mx\u001b[0m\u001b[0;34m=\u001b[0m\u001b[0;34m\"class\"\u001b[0m\u001b[0;34m,\u001b[0m\u001b[0my\u001b[0m\u001b[0;34m=\u001b[0m\u001b[0;34m'stalk-color-above-ring'\u001b[0m\u001b[0;34m,\u001b[0m\u001b[0mdata\u001b[0m\u001b[0;34m=\u001b[0m\u001b[0mdata\u001b[0m\u001b[0;34m,\u001b[0m\u001b[0mjitter\u001b[0m\u001b[0;34m=\u001b[0m\u001b[0;32mTrue\u001b[0m\u001b[0;34m,\u001b[0m\u001b[0medgecolor\u001b[0m\u001b[0;34m=\u001b[0m\u001b[0;34m\"gray\"\u001b[0m\u001b[0;34m)\u001b[0m\u001b[0;34m\u001b[0m\u001b[0;34m\u001b[0m\u001b[0m\n\u001b[0;32m---> 16\u001b[0;31m \u001b[0msns\u001b[0m\u001b[0;34m.\u001b[0m\u001b[0mplt\u001b[0m\u001b[0;34m.\u001b[0m\u001b[0mtitle\u001b[0m\u001b[0;34m(\u001b[0m\u001b[0;34m\"Class w.r.t stalkcolor above ring\"\u001b[0m\u001b[0;34m,\u001b[0m\u001b[0mfontsize\u001b[0m\u001b[0;34m=\u001b[0m\u001b[0;36m12\u001b[0m\u001b[0;34m)\u001b[0m\u001b[0;34m\u001b[0m\u001b[0;34m\u001b[0m\u001b[0m\n\u001b[0m",
            "\u001b[0;31mAttributeError\u001b[0m: module 'seaborn' has no attribute 'plt'"
          ]
        },
        {
          "output_type": "display_data",
          "data": {
            "image/png": "[encoded data removed]",
            "text/plain": [
              "<Figure size 432x288 with 1 Axes>"
            ]
          },
          "metadata": {
            "tags": []
          }
        }
      ]
    },
    {
      "cell_type": "code",
      "metadata": {
        "id": "njTXCxXTbgCM",
        "colab_type": "code",
        "outputId": "c1712140-4bc2-4726-fe34-f56d3bbed1b0",
        "colab": {
          "base_uri": "https://localhost:8080/",
          "height": 119
        }
      },
      "source": [
        "#Separation of features from label\n",
        "X = data.iloc[:,1:23]  # all rows, all the features and no labels\n",
        "y = data.iloc[:, 0]  # all rows, label only\n",
        "X.head()\n",
        "y.head()"
      ],
      "execution_count": 38,
      "outputs": [
        {
          "output_type": "execute_result",
          "data": {
            "text/plain": [
              "0    1\n",
              "1    0\n",
              "2    0\n",
              "3    1\n",
              "4    0\n",
              "Name: class, dtype: int64"
            ]
          },
          "metadata": {
            "tags": []
          },
          "execution_count": 38
        }
      ]
    },
    {
      "cell_type": "code",
      "metadata": {
        "id": "SOZ-bb72byWa",
        "colab_type": "code",
        "outputId": "805f2fe9-bee4-412e-a288-b80fec39abc9",
        "colab": {
          "base_uri": "https://localhost:8080/",
          "height": 351
        }
      },
      "source": [
        "X.describe()"
      ],
      "execution_count": 39,
      "outputs": [
        {
          "output_type": "execute_result",
          "data": {
            "text/html": [
              "<div>\n",
              "<style scoped>\n",
              "    .dataframe tbody tr th:only-of-type {\n",
              "        vertical-align: middle;\n",
              "    }\n",
              "\n",
              "    .dataframe tbody tr th {\n",
              "        vertical-align: top;\n",
              "    }\n",
              "\n",
              "    .dataframe thead th {\n",
              "        text-align: right;\n",
              "    }\n",
              "</style>\n",
              "<table border=\"1\" class=\"dataframe\">\n",
              "  <thead>\n",
              "    <tr style=\"text-align: right;\">\n",
              "      <th></th>\n",
              "      <th>cap-shape</th>\n",
              "      <th>cap-surface</th>\n",
              "      <th>cap-color</th>\n",
              "      <th>bruises</th>\n",
              "      <th>odor</th>\n",
              "      <th>gill-attachment</th>\n",
              "      <th>gill-spacing</th>\n",
              "      <th>gill-size</th>\n",
              "      <th>gill-color</th>\n",
              "      <th>stalk-shape</th>\n",
              "      <th>stalk-root</th>\n",
              "      <th>stalk-surface-above-ring</th>\n",
              "      <th>stalk-surface-below-ring</th>\n",
              "      <th>stalk-color-above-ring</th>\n",
              "      <th>stalk-color-below-ring</th>\n",
              "      <th>veil-type</th>\n",
              "      <th>veil-color</th>\n",
              "      <th>ring-number</th>\n",
              "      <th>ring-type</th>\n",
              "      <th>spore-print-color</th>\n",
              "      <th>population</th>\n",
              "      <th>habitat</th>\n",
              "    </tr>\n",
              "  </thead>\n",
              "  <tbody>\n",
              "    <tr>\n",
              "      <th>count</th>\n",
              "      <td>8124.000000</td>\n",
              "      <td>8124.000000</td>\n",
              "      <td>8124.000000</td>\n",
              "      <td>8124.000000</td>\n",
              "      <td>8124.000000</td>\n",
              "      <td>8124.000000</td>\n",
              "      <td>8124.000000</td>\n",
              "      <td>8124.000000</td>\n",
              "      <td>8124.000000</td>\n",
              "      <td>8124.000000</td>\n",
              "      <td>8124.000000</td>\n",
              "      <td>8124.000000</td>\n",
              "      <td>8124.000000</td>\n",
              "      <td>8124.000000</td>\n",
              "      <td>8124.000000</td>\n",
              "      <td>8124.0</td>\n",
              "      <td>8124.000000</td>\n",
              "      <td>8124.000000</td>\n",
              "      <td>8124.000000</td>\n",
              "      <td>8124.000000</td>\n",
              "      <td>8124.000000</td>\n",
              "      <td>8124.000000</td>\n",
              "    </tr>\n",
              "    <tr>\n",
              "      <th>mean</th>\n",
              "      <td>3.348104</td>\n",
              "      <td>1.827671</td>\n",
              "      <td>4.504677</td>\n",
              "      <td>0.415559</td>\n",
              "      <td>4.144756</td>\n",
              "      <td>0.974151</td>\n",
              "      <td>0.161497</td>\n",
              "      <td>0.309207</td>\n",
              "      <td>4.810684</td>\n",
              "      <td>0.567208</td>\n",
              "      <td>1.109798</td>\n",
              "      <td>1.575086</td>\n",
              "      <td>1.603644</td>\n",
              "      <td>5.816347</td>\n",
              "      <td>5.794682</td>\n",
              "      <td>0.0</td>\n",
              "      <td>1.965534</td>\n",
              "      <td>1.069424</td>\n",
              "      <td>2.291974</td>\n",
              "      <td>3.596750</td>\n",
              "      <td>3.644018</td>\n",
              "      <td>1.508616</td>\n",
              "    </tr>\n",
              "    <tr>\n",
              "      <th>std</th>\n",
              "      <td>1.604329</td>\n",
              "      <td>1.229873</td>\n",
              "      <td>2.545821</td>\n",
              "      <td>0.492848</td>\n",
              "      <td>2.103729</td>\n",
              "      <td>0.158695</td>\n",
              "      <td>0.368011</td>\n",
              "      <td>0.462195</td>\n",
              "      <td>3.540359</td>\n",
              "      <td>0.495493</td>\n",
              "      <td>1.061106</td>\n",
              "      <td>0.621459</td>\n",
              "      <td>0.675974</td>\n",
              "      <td>1.901747</td>\n",
              "      <td>1.907291</td>\n",
              "      <td>0.0</td>\n",
              "      <td>0.242669</td>\n",
              "      <td>0.271064</td>\n",
              "      <td>1.801672</td>\n",
              "      <td>2.382663</td>\n",
              "      <td>1.252082</td>\n",
              "      <td>1.719975</td>\n",
              "    </tr>\n",
              "    <tr>\n",
              "      <th>min</th>\n",
              "      <td>0.000000</td>\n",
              "      <td>0.000000</td>\n",
              "      <td>0.000000</td>\n",
              "      <td>0.000000</td>\n",
              "      <td>0.000000</td>\n",
              "      <td>0.000000</td>\n",
              "      <td>0.000000</td>\n",
              "      <td>0.000000</td>\n",
              "      <td>0.000000</td>\n",
              "      <td>0.000000</td>\n",
              "      <td>0.000000</td>\n",
              "      <td>0.000000</td>\n",
              "      <td>0.000000</td>\n",
              "      <td>0.000000</td>\n",
              "      <td>0.000000</td>\n",
              "      <td>0.0</td>\n",
              "      <td>0.000000</td>\n",
              "      <td>0.000000</td>\n",
              "      <td>0.000000</td>\n",
              "      <td>0.000000</td>\n",
              "      <td>0.000000</td>\n",
              "      <td>0.000000</td>\n",
              "    </tr>\n",
              "    <tr>\n",
              "      <th>25%</th>\n",
              "      <td>2.000000</td>\n",
              "      <td>0.000000</td>\n",
              "      <td>3.000000</td>\n",
              "      <td>0.000000</td>\n",
              "      <td>2.000000</td>\n",
              "      <td>1.000000</td>\n",
              "      <td>0.000000</td>\n",
              "      <td>0.000000</td>\n",
              "      <td>2.000000</td>\n",
              "      <td>0.000000</td>\n",
              "      <td>0.000000</td>\n",
              "      <td>1.000000</td>\n",
              "      <td>1.000000</td>\n",
              "      <td>6.000000</td>\n",
              "      <td>6.000000</td>\n",
              "      <td>0.0</td>\n",
              "      <td>2.000000</td>\n",
              "      <td>1.000000</td>\n",
              "      <td>0.000000</td>\n",
              "      <td>2.000000</td>\n",
              "      <td>3.000000</td>\n",
              "      <td>0.000000</td>\n",
              "    </tr>\n",
              "    <tr>\n",
              "      <th>50%</th>\n",
              "      <td>3.000000</td>\n",
              "      <td>2.000000</td>\n",
              "      <td>4.000000</td>\n",
              "      <td>0.000000</td>\n",
              "      <td>5.000000</td>\n",
              "      <td>1.000000</td>\n",
              "      <td>0.000000</td>\n",
              "      <td>0.000000</td>\n",
              "      <td>5.000000</td>\n",
              "      <td>1.000000</td>\n",
              "      <td>1.000000</td>\n",
              "      <td>2.000000</td>\n",
              "      <td>2.000000</td>\n",
              "      <td>7.000000</td>\n",
              "      <td>7.000000</td>\n",
              "      <td>0.0</td>\n",
              "      <td>2.000000</td>\n",
              "      <td>1.000000</td>\n",
              "      <td>2.000000</td>\n",
              "      <td>3.000000</td>\n",
              "      <td>4.000000</td>\n",
              "      <td>1.000000</td>\n",
              "    </tr>\n",
              "    <tr>\n",
              "      <th>75%</th>\n",
              "      <td>5.000000</td>\n",
              "      <td>3.000000</td>\n",
              "      <td>8.000000</td>\n",
              "      <td>1.000000</td>\n",
              "      <td>5.000000</td>\n",
              "      <td>1.000000</td>\n",
              "      <td>0.000000</td>\n",
              "      <td>1.000000</td>\n",
              "      <td>7.000000</td>\n",
              "      <td>1.000000</td>\n",
              "      <td>1.000000</td>\n",
              "      <td>2.000000</td>\n",
              "      <td>2.000000</td>\n",
              "      <td>7.000000</td>\n",
              "      <td>7.000000</td>\n",
              "      <td>0.0</td>\n",
              "      <td>2.000000</td>\n",
              "      <td>1.000000</td>\n",
              "      <td>4.000000</td>\n",
              "      <td>7.000000</td>\n",
              "      <td>4.000000</td>\n",
              "      <td>2.000000</td>\n",
              "    </tr>\n",
              "    <tr>\n",
              "      <th>max</th>\n",
              "      <td>5.000000</td>\n",
              "      <td>3.000000</td>\n",
              "      <td>9.000000</td>\n",
              "      <td>1.000000</td>\n",
              "      <td>8.000000</td>\n",
              "      <td>1.000000</td>\n",
              "      <td>1.000000</td>\n",
              "      <td>1.000000</td>\n",
              "      <td>11.000000</td>\n",
              "      <td>1.000000</td>\n",
              "      <td>4.000000</td>\n",
              "      <td>3.000000</td>\n",
              "      <td>3.000000</td>\n",
              "      <td>8.000000</td>\n",
              "      <td>8.000000</td>\n",
              "      <td>0.0</td>\n",
              "      <td>3.000000</td>\n",
              "      <td>2.000000</td>\n",
              "      <td>4.000000</td>\n",
              "      <td>8.000000</td>\n",
              "      <td>5.000000</td>\n",
              "      <td>6.000000</td>\n",
              "    </tr>\n",
              "  </tbody>\n",
              "</table>\n",
              "</div>"
            ],
            "text/plain": [
              "         cap-shape  cap-surface  ...   population      habitat\n",
              "count  8124.000000  8124.000000  ...  8124.000000  8124.000000\n",
              "mean      3.348104     1.827671  ...     3.644018     1.508616\n",
              "std       1.604329     1.229873  ...     1.252082     1.719975\n",
              "min       0.000000     0.000000  ...     0.000000     0.000000\n",
              "25%       2.000000     0.000000  ...     3.000000     0.000000\n",
              "50%       3.000000     2.000000  ...     4.000000     1.000000\n",
              "75%       5.000000     3.000000  ...     4.000000     2.000000\n",
              "max       5.000000     3.000000  ...     5.000000     6.000000\n",
              "\n",
              "[8 rows x 22 columns]"
            ]
          },
          "metadata": {
            "tags": []
          },
          "execution_count": 39
        }
      ]
    },
    {
      "cell_type": "code",
      "metadata": {
        "id": "g5UgE4Kqb5qA",
        "colab_type": "code",
        "outputId": "b0e387fd-27a9-43d4-9780-eb0fcd027948",
        "colab": {
          "base_uri": "https://localhost:8080/",
          "height": 119
        }
      },
      "source": [
        "y.head()"
      ],
      "execution_count": 40,
      "outputs": [
        {
          "output_type": "execute_result",
          "data": {
            "text/plain": [
              "0    1\n",
              "1    0\n",
              "2    0\n",
              "3    1\n",
              "4    0\n",
              "Name: class, dtype: int64"
            ]
          },
          "metadata": {
            "tags": []
          },
          "execution_count": 40
        }
      ]
    },
    {
      "cell_type": "code",
      "metadata": {
        "id": "WKOFQIU7b71x",
        "colab_type": "code",
        "outputId": "4e7981bd-20bc-48b7-9a5a-42fb2d0a5704",
        "colab": {
          "base_uri": "https://localhost:8080/",
          "height": 1000
        }
      },
      "source": [
        "data.corr()"
      ],
      "execution_count": 41,
      "outputs": [
        {
          "output_type": "execute_result",
          "data": {
            "text/html": [
              "<div>\n",
              "<style scoped>\n",
              "    .dataframe tbody tr th:only-of-type {\n",
              "        vertical-align: middle;\n",
              "    }\n",
              "\n",
              "    .dataframe tbody tr th {\n",
              "        vertical-align: top;\n",
              "    }\n",
              "\n",
              "    .dataframe thead th {\n",
              "        text-align: right;\n",
              "    }\n",
              "</style>\n",
              "<table border=\"1\" class=\"dataframe\">\n",
              "  <thead>\n",
              "    <tr style=\"text-align: right;\">\n",
              "      <th></th>\n",
              "      <th>class</th>\n",
              "      <th>cap-shape</th>\n",
              "      <th>cap-surface</th>\n",
              "      <th>cap-color</th>\n",
              "      <th>bruises</th>\n",
              "      <th>odor</th>\n",
              "      <th>gill-attachment</th>\n",
              "      <th>gill-spacing</th>\n",
              "      <th>gill-size</th>\n",
              "      <th>gill-color</th>\n",
              "      <th>stalk-shape</th>\n",
              "      <th>stalk-root</th>\n",
              "      <th>stalk-surface-above-ring</th>\n",
              "      <th>stalk-surface-below-ring</th>\n",
              "      <th>stalk-color-above-ring</th>\n",
              "      <th>stalk-color-below-ring</th>\n",
              "      <th>veil-type</th>\n",
              "      <th>veil-color</th>\n",
              "      <th>ring-number</th>\n",
              "      <th>ring-type</th>\n",
              "      <th>spore-print-color</th>\n",
              "      <th>population</th>\n",
              "      <th>habitat</th>\n",
              "    </tr>\n",
              "  </thead>\n",
              "  <tbody>\n",
              "    <tr>\n",
              "      <th>class</th>\n",
              "      <td>1.000000</td>\n",
              "      <td>0.052951</td>\n",
              "      <td>0.178446</td>\n",
              "      <td>-0.031384</td>\n",
              "      <td>-0.501530</td>\n",
              "      <td>-0.093552</td>\n",
              "      <td>0.129200</td>\n",
              "      <td>-0.348387</td>\n",
              "      <td>0.540024</td>\n",
              "      <td>-0.530566</td>\n",
              "      <td>-0.102019</td>\n",
              "      <td>-0.379361</td>\n",
              "      <td>-0.334593</td>\n",
              "      <td>-0.298801</td>\n",
              "      <td>-0.154003</td>\n",
              "      <td>-0.146730</td>\n",
              "      <td>NaN</td>\n",
              "      <td>0.145142</td>\n",
              "      <td>-0.214366</td>\n",
              "      <td>-0.411771</td>\n",
              "      <td>0.171961</td>\n",
              "      <td>0.298686</td>\n",
              "      <td>0.217179</td>\n",
              "    </tr>\n",
              "    <tr>\n",
              "      <th>cap-shape</th>\n",
              "      <td>0.052951</td>\n",
              "      <td>1.000000</td>\n",
              "      <td>-0.050454</td>\n",
              "      <td>-0.048203</td>\n",
              "      <td>-0.035374</td>\n",
              "      <td>-0.021935</td>\n",
              "      <td>0.078865</td>\n",
              "      <td>0.013196</td>\n",
              "      <td>0.054050</td>\n",
              "      <td>-0.006039</td>\n",
              "      <td>0.063794</td>\n",
              "      <td>0.030191</td>\n",
              "      <td>-0.030417</td>\n",
              "      <td>-0.032591</td>\n",
              "      <td>-0.031659</td>\n",
              "      <td>-0.030390</td>\n",
              "      <td>NaN</td>\n",
              "      <td>0.072560</td>\n",
              "      <td>-0.106534</td>\n",
              "      <td>-0.025457</td>\n",
              "      <td>-0.073416</td>\n",
              "      <td>0.063413</td>\n",
              "      <td>-0.042221</td>\n",
              "    </tr>\n",
              "    <tr>\n",
              "      <th>cap-surface</th>\n",
              "      <td>0.178446</td>\n",
              "      <td>-0.050454</td>\n",
              "      <td>1.000000</td>\n",
              "      <td>-0.019402</td>\n",
              "      <td>0.070228</td>\n",
              "      <td>0.045233</td>\n",
              "      <td>-0.034180</td>\n",
              "      <td>-0.282306</td>\n",
              "      <td>0.208100</td>\n",
              "      <td>-0.161017</td>\n",
              "      <td>-0.014123</td>\n",
              "      <td>-0.126245</td>\n",
              "      <td>0.089090</td>\n",
              "      <td>0.107965</td>\n",
              "      <td>0.066050</td>\n",
              "      <td>0.068885</td>\n",
              "      <td>NaN</td>\n",
              "      <td>-0.016603</td>\n",
              "      <td>-0.026147</td>\n",
              "      <td>-0.106407</td>\n",
              "      <td>0.230364</td>\n",
              "      <td>0.021555</td>\n",
              "      <td>0.163887</td>\n",
              "    </tr>\n",
              "    <tr>\n",
              "      <th>cap-color</th>\n",
              "      <td>-0.031384</td>\n",
              "      <td>-0.048203</td>\n",
              "      <td>-0.019402</td>\n",
              "      <td>1.000000</td>\n",
              "      <td>-0.000764</td>\n",
              "      <td>-0.387121</td>\n",
              "      <td>0.041436</td>\n",
              "      <td>0.144259</td>\n",
              "      <td>-0.169464</td>\n",
              "      <td>0.084659</td>\n",
              "      <td>-0.456496</td>\n",
              "      <td>0.321274</td>\n",
              "      <td>-0.060837</td>\n",
              "      <td>-0.047710</td>\n",
              "      <td>0.002364</td>\n",
              "      <td>0.008057</td>\n",
              "      <td>NaN</td>\n",
              "      <td>0.036130</td>\n",
              "      <td>-0.005822</td>\n",
              "      <td>0.162513</td>\n",
              "      <td>-0.293523</td>\n",
              "      <td>-0.144770</td>\n",
              "      <td>0.033925</td>\n",
              "    </tr>\n",
              "    <tr>\n",
              "      <th>bruises</th>\n",
              "      <td>-0.501530</td>\n",
              "      <td>-0.035374</td>\n",
              "      <td>0.070228</td>\n",
              "      <td>-0.000764</td>\n",
              "      <td>1.000000</td>\n",
              "      <td>-0.061825</td>\n",
              "      <td>0.137359</td>\n",
              "      <td>-0.299473</td>\n",
              "      <td>-0.369596</td>\n",
              "      <td>0.527120</td>\n",
              "      <td>0.099364</td>\n",
              "      <td>0.244188</td>\n",
              "      <td>0.460824</td>\n",
              "      <td>0.458983</td>\n",
              "      <td>0.083538</td>\n",
              "      <td>0.092874</td>\n",
              "      <td>NaN</td>\n",
              "      <td>0.119770</td>\n",
              "      <td>0.056788</td>\n",
              "      <td>0.692973</td>\n",
              "      <td>-0.285008</td>\n",
              "      <td>0.088137</td>\n",
              "      <td>-0.075095</td>\n",
              "    </tr>\n",
              "    <tr>\n",
              "      <th>odor</th>\n",
              "      <td>-0.093552</td>\n",
              "      <td>-0.021935</td>\n",
              "      <td>0.045233</td>\n",
              "      <td>-0.387121</td>\n",
              "      <td>-0.061825</td>\n",
              "      <td>1.000000</td>\n",
              "      <td>-0.059590</td>\n",
              "      <td>0.063936</td>\n",
              "      <td>0.310495</td>\n",
              "      <td>-0.129213</td>\n",
              "      <td>0.459766</td>\n",
              "      <td>-0.205215</td>\n",
              "      <td>0.118617</td>\n",
              "      <td>0.061820</td>\n",
              "      <td>0.174532</td>\n",
              "      <td>0.169407</td>\n",
              "      <td>NaN</td>\n",
              "      <td>-0.057747</td>\n",
              "      <td>0.111905</td>\n",
              "      <td>-0.281387</td>\n",
              "      <td>0.469055</td>\n",
              "      <td>-0.043623</td>\n",
              "      <td>-0.026610</td>\n",
              "    </tr>\n",
              "    <tr>\n",
              "      <th>gill-attachment</th>\n",
              "      <td>0.129200</td>\n",
              "      <td>0.078865</td>\n",
              "      <td>-0.034180</td>\n",
              "      <td>0.041436</td>\n",
              "      <td>0.137359</td>\n",
              "      <td>-0.059590</td>\n",
              "      <td>1.000000</td>\n",
              "      <td>0.071489</td>\n",
              "      <td>0.108984</td>\n",
              "      <td>-0.128567</td>\n",
              "      <td>0.186485</td>\n",
              "      <td>0.144063</td>\n",
              "      <td>-0.088916</td>\n",
              "      <td>-0.116177</td>\n",
              "      <td>0.099299</td>\n",
              "      <td>0.097160</td>\n",
              "      <td>NaN</td>\n",
              "      <td>0.897518</td>\n",
              "      <td>0.093236</td>\n",
              "      <td>-0.146689</td>\n",
              "      <td>-0.029524</td>\n",
              "      <td>0.165575</td>\n",
              "      <td>-0.030304</td>\n",
              "    </tr>\n",
              "    <tr>\n",
              "      <th>gill-spacing</th>\n",
              "      <td>-0.348387</td>\n",
              "      <td>0.013196</td>\n",
              "      <td>-0.282306</td>\n",
              "      <td>0.144259</td>\n",
              "      <td>-0.299473</td>\n",
              "      <td>0.063936</td>\n",
              "      <td>0.071489</td>\n",
              "      <td>1.000000</td>\n",
              "      <td>-0.108333</td>\n",
              "      <td>0.100193</td>\n",
              "      <td>0.080895</td>\n",
              "      <td>0.350548</td>\n",
              "      <td>-0.212359</td>\n",
              "      <td>-0.213775</td>\n",
              "      <td>0.274574</td>\n",
              "      <td>0.253505</td>\n",
              "      <td>NaN</td>\n",
              "      <td>0.073363</td>\n",
              "      <td>0.243014</td>\n",
              "      <td>-0.195897</td>\n",
              "      <td>0.047323</td>\n",
              "      <td>-0.529253</td>\n",
              "      <td>-0.154680</td>\n",
              "    </tr>\n",
              "    <tr>\n",
              "      <th>gill-size</th>\n",
              "      <td>0.540024</td>\n",
              "      <td>0.054050</td>\n",
              "      <td>0.208100</td>\n",
              "      <td>-0.169464</td>\n",
              "      <td>-0.369596</td>\n",
              "      <td>0.310495</td>\n",
              "      <td>0.108984</td>\n",
              "      <td>-0.108333</td>\n",
              "      <td>1.000000</td>\n",
              "      <td>-0.516736</td>\n",
              "      <td>0.214576</td>\n",
              "      <td>-0.344345</td>\n",
              "      <td>0.056310</td>\n",
              "      <td>0.010894</td>\n",
              "      <td>0.296548</td>\n",
              "      <td>0.278708</td>\n",
              "      <td>NaN</td>\n",
              "      <td>0.103809</td>\n",
              "      <td>-0.171362</td>\n",
              "      <td>-0.460872</td>\n",
              "      <td>0.622991</td>\n",
              "      <td>0.147682</td>\n",
              "      <td>0.161418</td>\n",
              "    </tr>\n",
              "    <tr>\n",
              "      <th>gill-color</th>\n",
              "      <td>-0.530566</td>\n",
              "      <td>-0.006039</td>\n",
              "      <td>-0.161017</td>\n",
              "      <td>0.084659</td>\n",
              "      <td>0.527120</td>\n",
              "      <td>-0.129213</td>\n",
              "      <td>-0.128567</td>\n",
              "      <td>0.100193</td>\n",
              "      <td>-0.516736</td>\n",
              "      <td>1.000000</td>\n",
              "      <td>-0.175699</td>\n",
              "      <td>0.315080</td>\n",
              "      <td>0.224287</td>\n",
              "      <td>0.257224</td>\n",
              "      <td>-0.058299</td>\n",
              "      <td>-0.074781</td>\n",
              "      <td>NaN</td>\n",
              "      <td>-0.097583</td>\n",
              "      <td>0.096054</td>\n",
              "      <td>0.629398</td>\n",
              "      <td>-0.416135</td>\n",
              "      <td>-0.034090</td>\n",
              "      <td>-0.202972</td>\n",
              "    </tr>\n",
              "    <tr>\n",
              "      <th>stalk-shape</th>\n",
              "      <td>-0.102019</td>\n",
              "      <td>0.063794</td>\n",
              "      <td>-0.014123</td>\n",
              "      <td>-0.456496</td>\n",
              "      <td>0.099364</td>\n",
              "      <td>0.459766</td>\n",
              "      <td>0.186485</td>\n",
              "      <td>0.080895</td>\n",
              "      <td>0.214576</td>\n",
              "      <td>-0.175699</td>\n",
              "      <td>1.000000</td>\n",
              "      <td>-0.163422</td>\n",
              "      <td>0.015193</td>\n",
              "      <td>-0.034399</td>\n",
              "      <td>0.223439</td>\n",
              "      <td>0.235794</td>\n",
              "      <td>NaN</td>\n",
              "      <td>0.162604</td>\n",
              "      <td>-0.293221</td>\n",
              "      <td>-0.291444</td>\n",
              "      <td>0.258831</td>\n",
              "      <td>0.087383</td>\n",
              "      <td>-0.269216</td>\n",
              "    </tr>\n",
              "    <tr>\n",
              "      <th>stalk-root</th>\n",
              "      <td>-0.379361</td>\n",
              "      <td>0.030191</td>\n",
              "      <td>-0.126245</td>\n",
              "      <td>0.321274</td>\n",
              "      <td>0.244188</td>\n",
              "      <td>-0.205215</td>\n",
              "      <td>0.144063</td>\n",
              "      <td>0.350548</td>\n",
              "      <td>-0.344345</td>\n",
              "      <td>0.315080</td>\n",
              "      <td>-0.163422</td>\n",
              "      <td>1.000000</td>\n",
              "      <td>-0.027065</td>\n",
              "      <td>0.087454</td>\n",
              "      <td>0.157140</td>\n",
              "      <td>0.159805</td>\n",
              "      <td>NaN</td>\n",
              "      <td>0.156213</td>\n",
              "      <td>-0.247357</td>\n",
              "      <td>0.210155</td>\n",
              "      <td>-0.536996</td>\n",
              "      <td>-0.306747</td>\n",
              "      <td>-0.007668</td>\n",
              "    </tr>\n",
              "    <tr>\n",
              "      <th>stalk-surface-above-ring</th>\n",
              "      <td>-0.334593</td>\n",
              "      <td>-0.030417</td>\n",
              "      <td>0.089090</td>\n",
              "      <td>-0.060837</td>\n",
              "      <td>0.460824</td>\n",
              "      <td>0.118617</td>\n",
              "      <td>-0.088916</td>\n",
              "      <td>-0.212359</td>\n",
              "      <td>0.056310</td>\n",
              "      <td>0.224287</td>\n",
              "      <td>0.015193</td>\n",
              "      <td>-0.027065</td>\n",
              "      <td>1.000000</td>\n",
              "      <td>0.437164</td>\n",
              "      <td>0.132708</td>\n",
              "      <td>0.142835</td>\n",
              "      <td>NaN</td>\n",
              "      <td>-0.090591</td>\n",
              "      <td>0.107904</td>\n",
              "      <td>0.390091</td>\n",
              "      <td>0.100764</td>\n",
              "      <td>0.079604</td>\n",
              "      <td>-0.058076</td>\n",
              "    </tr>\n",
              "    <tr>\n",
              "      <th>stalk-surface-below-ring</th>\n",
              "      <td>-0.298801</td>\n",
              "      <td>-0.032591</td>\n",
              "      <td>0.107965</td>\n",
              "      <td>-0.047710</td>\n",
              "      <td>0.458983</td>\n",
              "      <td>0.061820</td>\n",
              "      <td>-0.116177</td>\n",
              "      <td>-0.213775</td>\n",
              "      <td>0.010894</td>\n",
              "      <td>0.257224</td>\n",
              "      <td>-0.034399</td>\n",
              "      <td>0.087454</td>\n",
              "      <td>0.437164</td>\n",
              "      <td>1.000000</td>\n",
              "      <td>0.106933</td>\n",
              "      <td>0.110656</td>\n",
              "      <td>NaN</td>\n",
              "      <td>-0.077284</td>\n",
              "      <td>0.040006</td>\n",
              "      <td>0.394644</td>\n",
              "      <td>0.130974</td>\n",
              "      <td>0.046797</td>\n",
              "      <td>-0.039628</td>\n",
              "    </tr>\n",
              "    <tr>\n",
              "      <th>stalk-color-above-ring</th>\n",
              "      <td>-0.154003</td>\n",
              "      <td>-0.031659</td>\n",
              "      <td>0.066050</td>\n",
              "      <td>0.002364</td>\n",
              "      <td>0.083538</td>\n",
              "      <td>0.174532</td>\n",
              "      <td>0.099299</td>\n",
              "      <td>0.274574</td>\n",
              "      <td>0.296548</td>\n",
              "      <td>-0.058299</td>\n",
              "      <td>0.223439</td>\n",
              "      <td>0.157140</td>\n",
              "      <td>0.132708</td>\n",
              "      <td>0.106933</td>\n",
              "      <td>1.000000</td>\n",
              "      <td>0.491510</td>\n",
              "      <td>NaN</td>\n",
              "      <td>0.067377</td>\n",
              "      <td>0.084917</td>\n",
              "      <td>-0.048878</td>\n",
              "      <td>0.271533</td>\n",
              "      <td>-0.240261</td>\n",
              "      <td>0.042561</td>\n",
              "    </tr>\n",
              "    <tr>\n",
              "      <th>stalk-color-below-ring</th>\n",
              "      <td>-0.146730</td>\n",
              "      <td>-0.030390</td>\n",
              "      <td>0.068885</td>\n",
              "      <td>0.008057</td>\n",
              "      <td>0.092874</td>\n",
              "      <td>0.169407</td>\n",
              "      <td>0.097160</td>\n",
              "      <td>0.253505</td>\n",
              "      <td>0.278708</td>\n",
              "      <td>-0.074781</td>\n",
              "      <td>0.235794</td>\n",
              "      <td>0.159805</td>\n",
              "      <td>0.142835</td>\n",
              "      <td>0.110656</td>\n",
              "      <td>0.491510</td>\n",
              "      <td>1.000000</td>\n",
              "      <td>NaN</td>\n",
              "      <td>0.065567</td>\n",
              "      <td>0.087580</td>\n",
              "      <td>-0.034284</td>\n",
              "      <td>0.254518</td>\n",
              "      <td>-0.242792</td>\n",
              "      <td>0.041594</td>\n",
              "    </tr>\n",
              "    <tr>\n",
              "      <th>veil-type</th>\n",
              "      <td>NaN</td>\n",
              "      <td>NaN</td>\n",
              "      <td>NaN</td>\n",
              "      <td>NaN</td>\n",
              "      <td>NaN</td>\n",
              "      <td>NaN</td>\n",
              "      <td>NaN</td>\n",
              "      <td>NaN</td>\n",
              "      <td>NaN</td>\n",
              "      <td>NaN</td>\n",
              "      <td>NaN</td>\n",
              "      <td>NaN</td>\n",
              "      <td>NaN</td>\n",
              "      <td>NaN</td>\n",
              "      <td>NaN</td>\n",
              "      <td>NaN</td>\n",
              "      <td>NaN</td>\n",
              "      <td>NaN</td>\n",
              "      <td>NaN</td>\n",
              "      <td>NaN</td>\n",
              "      <td>NaN</td>\n",
              "      <td>NaN</td>\n",
              "      <td>NaN</td>\n",
              "    </tr>\n",
              "    <tr>\n",
              "      <th>veil-color</th>\n",
              "      <td>0.145142</td>\n",
              "      <td>0.072560</td>\n",
              "      <td>-0.016603</td>\n",
              "      <td>0.036130</td>\n",
              "      <td>0.119770</td>\n",
              "      <td>-0.057747</td>\n",
              "      <td>0.897518</td>\n",
              "      <td>0.073363</td>\n",
              "      <td>0.103809</td>\n",
              "      <td>-0.097583</td>\n",
              "      <td>0.162604</td>\n",
              "      <td>0.156213</td>\n",
              "      <td>-0.090591</td>\n",
              "      <td>-0.077284</td>\n",
              "      <td>0.067377</td>\n",
              "      <td>0.065567</td>\n",
              "      <td>NaN</td>\n",
              "      <td>1.000000</td>\n",
              "      <td>0.036380</td>\n",
              "      <td>-0.143673</td>\n",
              "      <td>-0.003600</td>\n",
              "      <td>0.124924</td>\n",
              "      <td>-0.040581</td>\n",
              "    </tr>\n",
              "    <tr>\n",
              "      <th>ring-number</th>\n",
              "      <td>-0.214366</td>\n",
              "      <td>-0.106534</td>\n",
              "      <td>-0.026147</td>\n",
              "      <td>-0.005822</td>\n",
              "      <td>0.056788</td>\n",
              "      <td>0.111905</td>\n",
              "      <td>0.093236</td>\n",
              "      <td>0.243014</td>\n",
              "      <td>-0.171362</td>\n",
              "      <td>0.096054</td>\n",
              "      <td>-0.293221</td>\n",
              "      <td>-0.247357</td>\n",
              "      <td>0.107904</td>\n",
              "      <td>0.040006</td>\n",
              "      <td>0.084917</td>\n",
              "      <td>0.087580</td>\n",
              "      <td>NaN</td>\n",
              "      <td>0.036380</td>\n",
              "      <td>1.000000</td>\n",
              "      <td>0.058312</td>\n",
              "      <td>0.338417</td>\n",
              "      <td>-0.242020</td>\n",
              "      <td>0.235835</td>\n",
              "    </tr>\n",
              "    <tr>\n",
              "      <th>ring-type</th>\n",
              "      <td>-0.411771</td>\n",
              "      <td>-0.025457</td>\n",
              "      <td>-0.106407</td>\n",
              "      <td>0.162513</td>\n",
              "      <td>0.692973</td>\n",
              "      <td>-0.281387</td>\n",
              "      <td>-0.146689</td>\n",
              "      <td>-0.195897</td>\n",
              "      <td>-0.460872</td>\n",
              "      <td>0.629398</td>\n",
              "      <td>-0.291444</td>\n",
              "      <td>0.210155</td>\n",
              "      <td>0.390091</td>\n",
              "      <td>0.394644</td>\n",
              "      <td>-0.048878</td>\n",
              "      <td>-0.034284</td>\n",
              "      <td>NaN</td>\n",
              "      <td>-0.143673</td>\n",
              "      <td>0.058312</td>\n",
              "      <td>1.000000</td>\n",
              "      <td>-0.487048</td>\n",
              "      <td>0.211763</td>\n",
              "      <td>-0.212080</td>\n",
              "    </tr>\n",
              "    <tr>\n",
              "      <th>spore-print-color</th>\n",
              "      <td>0.171961</td>\n",
              "      <td>-0.073416</td>\n",
              "      <td>0.230364</td>\n",
              "      <td>-0.293523</td>\n",
              "      <td>-0.285008</td>\n",
              "      <td>0.469055</td>\n",
              "      <td>-0.029524</td>\n",
              "      <td>0.047323</td>\n",
              "      <td>0.622991</td>\n",
              "      <td>-0.416135</td>\n",
              "      <td>0.258831</td>\n",
              "      <td>-0.536996</td>\n",
              "      <td>0.100764</td>\n",
              "      <td>0.130974</td>\n",
              "      <td>0.271533</td>\n",
              "      <td>0.254518</td>\n",
              "      <td>NaN</td>\n",
              "      <td>-0.003600</td>\n",
              "      <td>0.338417</td>\n",
              "      <td>-0.487048</td>\n",
              "      <td>1.000000</td>\n",
              "      <td>-0.126859</td>\n",
              "      <td>0.185954</td>\n",
              "    </tr>\n",
              "    <tr>\n",
              "      <th>population</th>\n",
              "      <td>0.298686</td>\n",
              "      <td>0.063413</td>\n",
              "      <td>0.021555</td>\n",
              "      <td>-0.144770</td>\n",
              "      <td>0.088137</td>\n",
              "      <td>-0.043623</td>\n",
              "      <td>0.165575</td>\n",
              "      <td>-0.529253</td>\n",
              "      <td>0.147682</td>\n",
              "      <td>-0.034090</td>\n",
              "      <td>0.087383</td>\n",
              "      <td>-0.306747</td>\n",
              "      <td>0.079604</td>\n",
              "      <td>0.046797</td>\n",
              "      <td>-0.240261</td>\n",
              "      <td>-0.242792</td>\n",
              "      <td>NaN</td>\n",
              "      <td>0.124924</td>\n",
              "      <td>-0.242020</td>\n",
              "      <td>0.211763</td>\n",
              "      <td>-0.126859</td>\n",
              "      <td>1.000000</td>\n",
              "      <td>-0.174529</td>\n",
              "    </tr>\n",
              "    <tr>\n",
              "      <th>habitat</th>\n",
              "      <td>0.217179</td>\n",
              "      <td>-0.042221</td>\n",
              "      <td>0.163887</td>\n",
              "      <td>0.033925</td>\n",
              "      <td>-0.075095</td>\n",
              "      <td>-0.026610</td>\n",
              "      <td>-0.030304</td>\n",
              "      <td>-0.154680</td>\n",
              "      <td>0.161418</td>\n",
              "      <td>-0.202972</td>\n",
              "      <td>-0.269216</td>\n",
              "      <td>-0.007668</td>\n",
              "      <td>-0.058076</td>\n",
              "      <td>-0.039628</td>\n",
              "      <td>0.042561</td>\n",
              "      <td>0.041594</td>\n",
              "      <td>NaN</td>\n",
              "      <td>-0.040581</td>\n",
              "      <td>0.235835</td>\n",
              "      <td>-0.212080</td>\n",
              "      <td>0.185954</td>\n",
              "      <td>-0.174529</td>\n",
              "      <td>1.000000</td>\n",
              "    </tr>\n",
              "  </tbody>\n",
              "</table>\n",
              "</div>"
            ],
            "text/plain": [
              "                             class  cap-shape  ...  population   habitat\n",
              "class                     1.000000   0.052951  ...    0.298686  0.217179\n",
              "cap-shape                 0.052951   1.000000  ...    0.063413 -0.042221\n",
              "cap-surface               0.178446  -0.050454  ...    0.021555  0.163887\n",
              "cap-color                -0.031384  -0.048203  ...   -0.144770  0.033925\n",
              "bruises                  -0.501530  -0.035374  ...    0.088137 -0.075095\n",
              "odor                     -0.093552  -0.021935  ...   -0.043623 -0.026610\n",
              "gill-attachment           0.129200   0.078865  ...    0.165575 -0.030304\n",
              "gill-spacing             -0.348387   0.013196  ...   -0.529253 -0.154680\n",
              "gill-size                 0.540024   0.054050  ...    0.147682  0.161418\n",
              "gill-color               -0.530566  -0.006039  ...   -0.034090 -0.202972\n",
              "stalk-shape              -0.102019   0.063794  ...    0.087383 -0.269216\n",
              "stalk-root               -0.379361   0.030191  ...   -0.306747 -0.007668\n",
              "stalk-surface-above-ring -0.334593  -0.030417  ...    0.079604 -0.058076\n",
              "stalk-surface-below-ring -0.298801  -0.032591  ...    0.046797 -0.039628\n",
              "stalk-color-above-ring   -0.154003  -0.031659  ...   -0.240261  0.042561\n",
              "stalk-color-below-ring   -0.146730  -0.030390  ...   -0.242792  0.041594\n",
              "veil-type                      NaN        NaN  ...         NaN       NaN\n",
              "veil-color                0.145142   0.072560  ...    0.124924 -0.040581\n",
              "ring-number              -0.214366  -0.106534  ...   -0.242020  0.235835\n",
              "ring-type                -0.411771  -0.025457  ...    0.211763 -0.212080\n",
              "spore-print-color         0.171961  -0.073416  ...   -0.126859  0.185954\n",
              "population                0.298686   0.063413  ...    1.000000 -0.174529\n",
              "habitat                   0.217179  -0.042221  ...   -0.174529  1.000000\n",
              "\n",
              "[23 rows x 23 columns]"
            ]
          },
          "metadata": {
            "tags": []
          },
          "execution_count": 41
        }
      ]
    },
    {
      "cell_type": "code",
      "metadata": {
        "id": "WNSsnfR4b8j5",
        "colab_type": "code",
        "outputId": "364801e7-4586-40c1-9204-ba1e40023c0b",
        "colab": {
          "base_uri": "https://localhost:8080/",
          "height": 238
        }
      },
      "source": [
        "#Standardising the data\n",
        "\n",
        "#Scale the data to be between -1 and 1\n",
        "from sklearn.preprocessing import StandardScaler\n",
        "scaler = StandardScaler()\n",
        "X=scaler.fit_transform(X)\n",
        "X"
      ],
      "execution_count": 42,
      "outputs": [
        {
          "output_type": "execute_result",
          "data": {
            "text/plain": [
              "array([[ 1.02971224,  0.14012794, -0.19824983, ..., -0.67019486,\n",
              "        -0.5143892 ,  2.03002809],\n",
              "       [ 1.02971224,  0.14012794,  1.76587407, ..., -0.2504706 ,\n",
              "        -1.31310821, -0.29572966],\n",
              "       [-2.08704716,  0.14012794,  1.37304929, ..., -0.2504706 ,\n",
              "        -1.31310821,  0.86714922],\n",
              "       ...,\n",
              "       [-0.8403434 ,  0.14012794, -0.19824983, ..., -1.50964337,\n",
              "        -2.11182722,  0.28570978],\n",
              "       [-0.21699152,  0.95327039, -0.19824983, ...,  1.42842641,\n",
              "         0.28432981,  0.28570978],\n",
              "       [ 1.02971224,  0.14012794, -0.19824983, ...,  0.16925365,\n",
              "        -2.11182722,  0.28570978]])"
            ]
          },
          "metadata": {
            "tags": []
          },
          "execution_count": 42
        }
      ]
    },
    {
      "cell_type": "code",
      "metadata": {
        "id": "NrZ7jpdScOgv",
        "colab_type": "code",
        "outputId": "b84b5e2e-3d57-4f02-caac-7b9cdd447940",
        "colab": {
          "base_uri": "https://localhost:8080/",
          "height": 238
        }
      },
      "source": [
        "#We can avoid PCA here since the dataset has not many dimensions\n",
        "from sklearn.decomposition import PCA\n",
        "pca = PCA()\n",
        "pca.fit_transform(X)"
      ],
      "execution_count": 43,
      "outputs": [
        {
          "output_type": "execute_result",
          "data": {
            "text/plain": [
              "array([[-5.74321902e-01, -9.75781349e-01, -1.22176154e+00, ...,\n",
              "        -2.08581362e-01,  8.13996758e-03, -1.59211948e-17],\n",
              "       [-2.28210230e+00,  2.79066333e-01, -1.20049669e+00, ...,\n",
              "         1.52238789e-01, -1.96446132e-01,  4.35476041e-17],\n",
              "       [-1.85803562e+00, -2.70972362e-01, -1.37237069e+00, ...,\n",
              "         2.57581784e-01, -3.62577199e-01,  1.93182410e-17],\n",
              "       ...,\n",
              "       [-1.62151632e+00, -7.57536709e-01,  2.73357994e+00, ...,\n",
              "        -1.42532241e+00,  6.36990122e-01,  7.01453987e-19],\n",
              "       [ 3.67060561e+00, -1.03277450e+00,  1.68459501e-01, ...,\n",
              "         9.41440123e-02, -6.43462238e-02, -3.98483680e-20],\n",
              "       [-1.57520272e+00, -1.22858140e+00,  2.44722789e+00, ...,\n",
              "        -8.04626064e-01,  5.90315263e-01,  7.43806407e-20]])"
            ]
          },
          "metadata": {
            "tags": []
          },
          "execution_count": 43
        }
      ]
    },
    {
      "cell_type": "code",
      "metadata": {
        "id": "3ABusFyacelp",
        "colab_type": "code",
        "colab": {}
      },
      "source": [
        "covariance=pca.get_covariance()\n",
        "#covariance"
      ],
      "execution_count": 0,
      "outputs": []
    },
    {
      "cell_type": "code",
      "metadata": {
        "id": "HRlO8FE7coXK",
        "colab_type": "code",
        "outputId": "85734688-3c6f-40ea-ac9a-9b08c2d7bef8",
        "colab": {
          "base_uri": "https://localhost:8080/",
          "height": 119
        }
      },
      "source": [
        "explained_variance=pca.explained_variance_\n",
        "explained_variance"
      ],
      "execution_count": 45,
      "outputs": [
        {
          "output_type": "execute_result",
          "data": {
            "text/plain": [
              "array([3.87410924e+00, 2.60339434e+00, 2.40073834e+00, 2.16674719e+00,\n",
              "       1.70303181e+00, 1.39495575e+00, 9.78803667e-01, 9.51936841e-01,\n",
              "       7.70036405e-01, 7.11748353e-01, 5.77556532e-01, 5.42484855e-01,\n",
              "       5.09631267e-01, 4.77214086e-01, 3.84467203e-01, 3.11228233e-01,\n",
              "       2.18649656e-01, 1.59514884e-01, 1.31521687e-01, 7.31993474e-02,\n",
              "       6.16155691e-02, 7.90604723e-34])"
            ]
          },
          "metadata": {
            "tags": []
          },
          "execution_count": 45
        }
      ]
    },
    {
      "cell_type": "code",
      "metadata": {
        "id": "5f9Mj36rctQK",
        "colab_type": "code",
        "outputId": "3ed5e42f-66f1-4416-9f47-05f7bb65d205",
        "colab": {
          "base_uri": "https://localhost:8080/",
          "height": 297
        }
      },
      "source": [
        "with plt.style.context('dark_background'):\n",
        "    plt.figure(figsize=(6, 4))\n",
        "    \n",
        "    plt.bar(range(22), explained_variance, alpha=0.5, align='center',\n",
        "            label='individual explained variance')\n",
        "    plt.ylabel('Explained variance ratio')\n",
        "    plt.xlabel('Principal components')\n",
        "    plt.legend(loc='best')\n",
        "    plt.tight_layout()"
      ],
      "execution_count": 46,
      "outputs": [
        {
          "output_type": "display_data",
          "data": {
            "image/png": "[encoded data removed]",
            "text/plain": [
              "<Figure size 432x288 with 1 Axes>"
            ]
          },
          "metadata": {
            "tags": []
          }
        }
      ]
    },
    {
      "cell_type": "code",
      "metadata": {
        "id": "RsPh7J6CdNVa",
        "colab_type": "code",
        "colab": {}
      },
      "source": [
        "#We can see that the last 4 components has less amount of variance of the data. The 1st 17 components retains more than 90% of the data."
      ],
      "execution_count": 0,
      "outputs": []
    },
    {
      "cell_type": "code",
      "metadata": {
        "id": "mIXZrF4tdaL3",
        "colab_type": "code",
        "colab": {}
      },
      "source": [
        "#Let us take only first two pricipal components and visualise it using K-means clustering"
      ],
      "execution_count": 0,
      "outputs": []
    },
    {
      "cell_type": "code",
      "metadata": {
        "id": "9LerpMDIdhBM",
        "colab_type": "code",
        "outputId": "9f483402-34a6-4b17-f7f4-579fdb1838a8",
        "colab": {
          "base_uri": "https://localhost:8080/",
          "height": 320
        }
      },
      "source": [
        "N=data.values\n",
        "pca = PCA(n_components=2)\n",
        "x = pca.fit_transform(N)\n",
        "plt.figure(figsize = (5,5))\n",
        "plt.scatter(x[:,0],x[:,1])\n",
        "plt.show()"
      ],
      "execution_count": 49,
      "outputs": [
        {
          "output_type": "display_data",
          "data": {
            "image/png": "[encoded data removed]",
            "text/plain": [
              "<Figure size 360x360 with 1 Axes>"
            ]
          },
          "metadata": {
            "tags": []
          }
        }
      ]
    },
    {
      "cell_type": "code",
      "metadata": {
        "id": "-eWJeXpYdzkp",
        "colab_type": "code",
        "outputId": "b73f01e7-43f4-47fa-d1e7-7f8c4768c730",
        "colab": {
          "base_uri": "https://localhost:8080/",
          "height": 320
        }
      },
      "source": [
        "from sklearn.cluster import KMeans\n",
        "kmeans = KMeans(n_clusters=2, random_state=5)\n",
        "X_clustered = kmeans.fit_predict(N)\n",
        "\n",
        "LABEL_COLOR_MAP = {0 : 'g',\n",
        "                   1 : 'y'\n",
        "                  }\n",
        "\n",
        "label_color = [LABEL_COLOR_MAP[l] for l in X_clustered]\n",
        "plt.figure(figsize = (5,5))\n",
        "plt.scatter(x[:,0],x[:,1], c= label_color)\n",
        "plt.show()"
      ],
      "execution_count": 50,
      "outputs": [
        {
          "output_type": "display_data",
          "data": {
            "image/png": "[encoded data removed]",
            "text/plain": [
              "<Figure size 360x360 with 1 Axes>"
            ]
          },
          "metadata": {
            "tags": []
          }
        }
      ]
    },
    {
      "cell_type": "code",
      "metadata": {
        "id": "v2AcMcLqeafW",
        "colab_type": "code",
        "colab": {}
      },
      "source": [
        "#Thus using K-Means we are able segregate 2 classes well using the first two components with maximum variance"
      ],
      "execution_count": 0,
      "outputs": []
    },
    {
      "cell_type": "code",
      "metadata": {
        "id": "IWNbva0fe0Vz",
        "colab_type": "code",
        "colab": {}
      },
      "source": [
        "#Performing PCA by taking 17 components with maximum varianc"
      ],
      "execution_count": 0,
      "outputs": []
    },
    {
      "cell_type": "code",
      "metadata": {
        "id": "iaxBxW95e5aS",
        "colab_type": "code",
        "outputId": "b43e02d9-010b-4db7-aef4-27ea5d4bbfab",
        "colab": {
          "base_uri": "https://localhost:8080/",
          "height": 238
        }
      },
      "source": [
        "pca_modified=PCA(n_components=17)\n",
        "pca_modified.fit_transform(X)"
      ],
      "execution_count": 53,
      "outputs": [
        {
          "output_type": "execute_result",
          "data": {
            "text/plain": [
              "array([[-0.5743219 , -0.97578135, -1.22176154, ..., -0.51996599,\n",
              "        -0.78254366,  1.12025933],\n",
              "       [-2.2821023 ,  0.27906633, -1.20049669, ..., -0.11307822,\n",
              "        -0.73093408, -0.01817413],\n",
              "       [-1.85803562, -0.27097236, -1.37237069, ...,  0.01652548,\n",
              "        -0.6561675 ,  0.10791396],\n",
              "       ...,\n",
              "       [-1.62151632, -0.75753671,  2.73357994, ..., -0.51961303,\n",
              "        -0.70768708,  0.22578534],\n",
              "       [ 3.67060561, -1.0327745 ,  0.1684595 , ..., -0.08688401,\n",
              "        -0.11464249, -0.14801392],\n",
              "       [-1.57520272, -1.2285814 ,  2.44722789, ...,  0.91606764,\n",
              "        -0.77988482, -0.30141893]])"
            ]
          },
          "metadata": {
            "tags": []
          },
          "execution_count": 53
        }
      ]
    },
    {
      "cell_type": "code",
      "metadata": {
        "id": "62T3ULBGfBf7",
        "colab_type": "code",
        "colab": {}
      },
      "source": [
        "#splitting the data into train and test set's"
      ],
      "execution_count": 0,
      "outputs": []
    },
    {
      "cell_type": "code",
      "metadata": {
        "id": "ekxyihoItisx",
        "colab_type": "code",
        "colab": {}
      },
      "source": [
        "from sklearn.model_selection import train_test_split\n",
        "X_train,X_test,y_train,y_test=train_test_split(X,y,test_size=0.2,random_state=4)"
      ],
      "execution_count": 0,
      "outputs": []
    },
    {
      "cell_type": "code",
      "metadata": {
        "id": "Aza43pRQtzkH",
        "colab_type": "code",
        "colab": {}
      },
      "source": [
        "#Default Logistic Regression\n",
        "from sklearn.linear_model import LogisticRegression\n",
        "from sklearn.model_selection import cross_val_score\n",
        "from sklearn import metrics\n",
        "\n",
        "model_LR=LogisticRegression()"
      ],
      "execution_count": 0,
      "outputs": []
    },
    {
      "cell_type": "code",
      "metadata": {
        "id": "2nmNteGJuI4D",
        "colab_type": "code",
        "outputId": "7fa9d6f6-425c-4450-9d9a-e711ab8881df",
        "colab": {
          "base_uri": "https://localhost:8080/",
          "height": 102
        }
      },
      "source": [
        "model_LR.fit(X_train,y_train)"
      ],
      "execution_count": 57,
      "outputs": [
        {
          "output_type": "execute_result",
          "data": {
            "text/plain": [
              "LogisticRegression(C=1.0, class_weight=None, dual=False, fit_intercept=True,\n",
              "                   intercept_scaling=1, l1_ratio=None, max_iter=100,\n",
              "                   multi_class='auto', n_jobs=None, penalty='l2',\n",
              "                   random_state=None, solver='lbfgs', tol=0.0001, verbose=0,\n",
              "                   warm_start=False)"
            ]
          },
          "metadata": {
            "tags": []
          },
          "execution_count": 57
        }
      ]
    },
    {
      "cell_type": "code",
      "metadata": {
        "id": "krjIzGwbuNBs",
        "colab_type": "code",
        "outputId": "5c8eda78-87e3-450a-bb33-e64f33f7ff2d",
        "colab": {
          "base_uri": "https://localhost:8080/",
          "height": 34
        }
      },
      "source": [
        "y_prob=model_LR.predict_proba(X_test)[:,1] #This will give you positive class prediction probabilities\n",
        "y_pred=np.where(y_prob>0.5,1,0) # This will threshold the probabilities to give class predictions\n",
        "model_LR.score(X_test,y_pred)"
      ],
      "execution_count": 58,
      "outputs": [
        {
          "output_type": "execute_result",
          "data": {
            "text/plain": [
              "1.0"
            ]
          },
          "metadata": {
            "tags": []
          },
          "execution_count": 58
        }
      ]
    },
    {
      "cell_type": "code",
      "metadata": {
        "id": "2g0OTADNuo7E",
        "colab_type": "code",
        "outputId": "c5cbe46b-2c20-4796-8fe5-3da69ca7d988",
        "colab": {
          "base_uri": "https://localhost:8080/",
          "height": 51
        }
      },
      "source": [
        "confusion_matrix=metrics.confusion_matrix(y_test,y_pred)\n",
        "confusion_matrix"
      ],
      "execution_count": 59,
      "outputs": [
        {
          "output_type": "execute_result",
          "data": {
            "text/plain": [
              "array([[815,  30],\n",
              "       [ 36, 744]])"
            ]
          },
          "metadata": {
            "tags": []
          },
          "execution_count": 59
        }
      ]
    },
    {
      "cell_type": "code",
      "metadata": {
        "id": "RhqgSHU7vYQ_",
        "colab_type": "code",
        "outputId": "292acebc-f9fb-42b7-da13-0986d217a018",
        "colab": {
          "base_uri": "https://localhost:8080/",
          "height": 34
        }
      },
      "source": [
        "auc_roc=metrics.roc_auc_score(y_test,y_pred)\n",
        "auc_roc"
      ],
      "execution_count": 60,
      "outputs": [
        {
          "output_type": "execute_result",
          "data": {
            "text/plain": [
              "0.9591715976331362"
            ]
          },
          "metadata": {
            "tags": []
          },
          "execution_count": 60
        }
      ]
    },
    {
      "cell_type": "code",
      "metadata": {
        "id": "nOBMC5a1volz",
        "colab_type": "code",
        "outputId": "8710ead3-35dd-42c0-c50b-4c31b00471b6",
        "colab": {
          "base_uri": "https://localhost:8080/",
          "height": 34
        }
      },
      "source": [
        "from sklearn.metrics import roc_curve,auc\n",
        "false_positive_rate,true_positive_rate,thresholds=roc_curve(y_test,y_prob)\n",
        "roc_auc=auc(false_positive_rate,true_positive_rate)\n",
        "roc_auc"
      ],
      "execution_count": 61,
      "outputs": [
        {
          "output_type": "execute_result",
          "data": {
            "text/plain": [
              "0.9903474434835382"
            ]
          },
          "metadata": {
            "tags": []
          },
          "execution_count": 61
        }
      ]
    },
    {
      "cell_type": "code",
      "metadata": {
        "id": "xJQOOEbQwONk",
        "colab_type": "code",
        "colab": {
          "base_uri": "https://localhost:8080/",
          "height": 638
        },
        "outputId": "3fb3e103-3fb8-4719-cc25-9cd4948683b7"
      },
      "source": [
        "import matplotlib.pyplot as plt\n",
        "plt.figure(figsize=(10,10))\n",
        "plt.title('Receiver Operating Characteristic')\n",
        "plt.plot(false_positive_rate,true_positive_rate,color='red',label='AUC=%0.2f' %roc_auc)\n",
        "plt.legend(loc='lower right')\n",
        "plt.plot([0,1],[0,1],linestyle='--')\n",
        "plt.axis('tight')\n",
        "plt.ylabel('True Positive Rate')\n",
        "plt.xlabel('False Positive Rate')\n"
      ],
      "execution_count": 62,
      "outputs": [
        {
          "output_type": "execute_result",
          "data": {
            "text/plain": [
              "Text(0.5, 0, 'False Positive Rate')"
            ]
          },
          "metadata": {
            "tags": []
          },
          "execution_count": 62
        },
        {
          "output_type": "display_data",
          "data": {
            "image/png": "[encoded data removed]",
            "text/plain": [
              "<Figure size 720x720 with 1 Axes>"
            ]
          },
          "metadata": {
            "tags": []
          }
        }
      ]
    },
    {
      "cell_type": "markdown",
      "metadata": {
        "id": "gv6-bLjb0Yr6",
        "colab_type": "text"
      },
      "source": [
        "Gaussian Naive Bayes"
      ]
    },
    {
      "cell_type": "code",
      "metadata": {
        "id": "DQmYLZuWzSDw",
        "colab_type": "code",
        "colab": {
          "base_uri": "https://localhost:8080/",
          "height": 34
        },
        "outputId": "4d3fef6c-68ab-4814-94b7-bd5df295095d"
      },
      "source": [
        "from sklearn.naive_bayes import GaussianNB\n",
        "model_naive=GaussianNB()\n",
        "model_naive.fit(X_train,y_train)"
      ],
      "execution_count": 63,
      "outputs": [
        {
          "output_type": "execute_result",
          "data": {
            "text/plain": [
              "GaussianNB(priors=None, var_smoothing=1e-09)"
            ]
          },
          "metadata": {
            "tags": []
          },
          "execution_count": 63
        }
      ]
    },
    {
      "cell_type": "code",
      "metadata": {
        "id": "_o0ZUP4B0pDE",
        "colab_type": "code",
        "colab": {
          "base_uri": "https://localhost:8080/",
          "height": 34
        },
        "outputId": "ab5c78dc-9ace-4808-8dae-7ca63afa29a7"
      },
      "source": [
        "y_prob=model_naive.predict_proba(X_test)[:,1] #This will give you positive class prediction probabilities\n",
        "y_pred=np.where(y_prob>0.5,1,0) #This will threshold the probabilities to give class predictions.\n",
        "model_naive.score(X_test,y_pred)"
      ],
      "execution_count": 64,
      "outputs": [
        {
          "output_type": "execute_result",
          "data": {
            "text/plain": [
              "1.0"
            ]
          },
          "metadata": {
            "tags": []
          },
          "execution_count": 64
        }
      ]
    },
    {
      "cell_type": "code",
      "metadata": {
        "id": "lzW84Hmp1Bbs",
        "colab_type": "code",
        "colab": {
          "base_uri": "https://localhost:8080/",
          "height": 34
        },
        "outputId": "025124f9-087a-40e7-c1e4-9d4931a5b34e"
      },
      "source": [
        "print(\"Number of mislabeled points from %d points: %d\" %(X_test.shape[0],(y_test!=y_pred).sum()))"
      ],
      "execution_count": 65,
      "outputs": [
        {
          "output_type": "stream",
          "text": [
            "Number of mislabeled points from 1625 points: 111\n"
          ],
          "name": "stdout"
        }
      ]
    },
    {
      "cell_type": "code",
      "metadata": {
        "id": "MWsWmohU1Oi8",
        "colab_type": "code",
        "colab": {
          "base_uri": "https://localhost:8080/",
          "height": 51
        },
        "outputId": "22ab59bf-b5ed-4eba-a301-4eaa475ea28c"
      },
      "source": [
        "scores=cross_val_score(model_naive,X,y,cv=10,scoring='accuracy')\n",
        "print(scores)"
      ],
      "execution_count": 66,
      "outputs": [
        {
          "output_type": "stream",
          "text": [
            "[0.59778598 0.78843788 0.97908979 0.9803198  0.84852217 0.81773399\n",
            " 0.8091133  0.81650246 0.85098522 0.97536946]\n"
          ],
          "name": "stdout"
        }
      ]
    },
    {
      "cell_type": "code",
      "metadata": {
        "id": "Os4um4eF1XOo",
        "colab_type": "code",
        "colab": {
          "base_uri": "https://localhost:8080/",
          "height": 34
        },
        "outputId": "f343f137-18ea-45e5-bee4-ad729b20f368"
      },
      "source": [
        "scores.mean()"
      ],
      "execution_count": 67,
      "outputs": [
        {
          "output_type": "execute_result",
          "data": {
            "text/plain": [
              "0.8463860057319785"
            ]
          },
          "metadata": {
            "tags": []
          },
          "execution_count": 67
        }
      ]
    },
    {
      "cell_type": "code",
      "metadata": {
        "id": "3je-dXfx1YcL",
        "colab_type": "code",
        "colab": {
          "base_uri": "https://localhost:8080/",
          "height": 51
        },
        "outputId": "fef0d6bc-c2db-479b-e3f7-5a79fad2ce13"
      },
      "source": [
        "confusion_matrix=metrics.confusion_matrix(y_test,y_pred)\n",
        "confusion_matrix"
      ],
      "execution_count": 68,
      "outputs": [
        {
          "output_type": "execute_result",
          "data": {
            "text/plain": [
              "array([[786,  59],\n",
              "       [ 52, 728]])"
            ]
          },
          "metadata": {
            "tags": []
          },
          "execution_count": 68
        }
      ]
    },
    {
      "cell_type": "code",
      "metadata": {
        "id": "jRHlLKkk1g0F",
        "colab_type": "code",
        "colab": {
          "base_uri": "https://localhost:8080/",
          "height": 54
        },
        "outputId": "c6c062f9-35fe-40cc-87d6-229bb087f0dd"
      },
      "source": [
        "auc_roc=metrics.classification_report(y_test,y_pred)\n",
        "auc_roc"
      ],
      "execution_count": 69,
      "outputs": [
        {
          "output_type": "execute_result",
          "data": {
            "text/plain": [
              "'              precision    recall  f1-score   support\\n\\n           0       0.94      0.93      0.93       845\\n           1       0.93      0.93      0.93       780\\n\\n    accuracy                           0.93      1625\\n   macro avg       0.93      0.93      0.93      1625\\nweighted avg       0.93      0.93      0.93      1625\\n'"
            ]
          },
          "metadata": {
            "tags": []
          },
          "execution_count": 69
        }
      ]
    },
    {
      "cell_type": "code",
      "metadata": {
        "id": "JsXxcNe81p5a",
        "colab_type": "code",
        "colab": {
          "base_uri": "https://localhost:8080/",
          "height": 34
        },
        "outputId": "61b298ff-536c-48b1-b140-69cfcd04538c"
      },
      "source": [
        "auc_roc=metrics.roc_auc_score(y_test,y_pred)\n",
        "auc_roc"
      ],
      "execution_count": 70,
      "outputs": [
        {
          "output_type": "execute_result",
          "data": {
            "text/plain": [
              "0.9317554240631164"
            ]
          },
          "metadata": {
            "tags": []
          },
          "execution_count": 70
        }
      ]
    },
    {
      "cell_type": "code",
      "metadata": {
        "id": "-CKZ4Kjr1xyn",
        "colab_type": "code",
        "colab": {
          "base_uri": "https://localhost:8080/",
          "height": 34
        },
        "outputId": "635bb2de-9a11-4485-fa60-ae931e18ab8c"
      },
      "source": [
        "from sklearn.metrics import roc_curve, auc\n",
        "false_positive_rate,true_positive_rate,thresholds=roc_curve(y_test,y_prob)\n",
        "roc_auc=auc(false_positive_rate,true_positive_rate)\n",
        "roc_auc"
      ],
      "execution_count": 71,
      "outputs": [
        {
          "output_type": "execute_result",
          "data": {
            "text/plain": [
              "0.9592201486876043"
            ]
          },
          "metadata": {
            "tags": []
          },
          "execution_count": 71
        }
      ]
    },
    {
      "cell_type": "code",
      "metadata": {
        "id": "mFqfayq42C3f",
        "colab_type": "code",
        "colab": {
          "base_uri": "https://localhost:8080/",
          "height": 638
        },
        "outputId": "31f2bd6d-43d9-4d38-a5a9-cdf501f04c03"
      },
      "source": [
        "import matplotlib.pyplot as plt\n",
        "plt.figure(figsize=(10,10))\n",
        "plt.title('Receiver Operating Characteristic')\n",
        "plt.plot(false_positive_rate,true_positive_rate,color='red',label='AUC = %0.2f' % roc_auc)\n",
        "plt.legend(loc='lower right')\n",
        "plt.plot([0,1],[0,1],linestyle='--')\n",
        "plt.axis('tight')\n",
        "plt.ylabel('True Positive Rate')\n",
        "plt.xlabel('False Positive Rate')"
      ],
      "execution_count": 72,
      "outputs": [
        {
          "output_type": "execute_result",
          "data": {
            "text/plain": [
              "Text(0.5, 0, 'False Positive Rate')"
            ]
          },
          "metadata": {
            "tags": []
          },
          "execution_count": 72
        },
        {
          "output_type": "display_data",
          "data": {
            "image/png": "[encoded data removed]",
            "text/plain": [
              "<Figure size 720x720 with 1 Axes>"
            ]
          },
          "metadata": {
            "tags": []
          }
        }
      ]
    },
    {
      "cell_type": "markdown",
      "metadata": {
        "id": "OCUG69rO2v6L",
        "colab_type": "text"
      },
      "source": [
        "Support Vector Machine"
      ]
    },
    {
      "cell_type": "code",
      "metadata": {
        "id": "SWdQpXHY2tav",
        "colab_type": "code",
        "colab": {}
      },
      "source": [
        "from sklearn.svm import SVC\n",
        "svm_model=SVC()"
      ],
      "execution_count": 0,
      "outputs": []
    },
    {
      "cell_type": "markdown",
      "metadata": {
        "id": "g6Lfp-Dk24RD",
        "colab_type": "text"
      },
      "source": [
        "Gamma parameter defines signigicance of each training examples, with low values mean FAR and high values mean 'CLOSE'. This parameter can be seen as the inverse radius of influence of samples selcted by the support vector models\n",
        "\n",
        "\n",
        "The C parameter trades off misclassification of training examples against simplicity of the decision surface. A low C makes the decision surface smooth, while a high C aims at classifying all training examples correctly by giving the model freedom to select more samples as support vectors."
      ]
    },
    {
      "cell_type": "code",
      "metadata": {
        "id": "Mjo8P5BD23BK",
        "colab_type": "code",
        "colab": {}
      },
      "source": [
        "#Support vector Machine without polynomial kernel"
      ],
      "execution_count": 0,
      "outputs": []
    },
    {
      "cell_type": "code",
      "metadata": {
        "id": "C4y1M_EZ3khY",
        "colab_type": "code",
        "colab": {}
      },
      "source": [
        "tuned_parameters={\n",
        "    'C':[1,10,100,500,1000],'kernel':['linear','rbf'],\n",
        "    'C':[1,10,100,500,1000],'gamma':[1,0.1,0.01,0.001,0.0001],'kernel':['rbf'],\n",
        "    #'degree':[2,3,4,5,6],'C':[1,10,100,500,1000],'kernel':['poly']\n",
        "}"
      ],
      "execution_count": 0,
      "outputs": []
    },
    {
      "cell_type": "markdown",
      "metadata": {
        "id": "oQ7pWuYA4hP8",
        "colab_type": "text"
      },
      "source": [
        "The grid search provided by GridSearchCV exhaustively generates candidates from a grid of parameter values specified with the tuned_parameter**.The GridSearchCV instance implements the usual estimator API: when “fitting” it on a dataset all the possible combinations of parameter values are evaluated and the best combination is retained. But it is proving computationally expensive here.So I am opting for RandomizedSearchCV.\n",
        "\n",
        "RandomizedSearchCV implements a randomized search over parameters, where each setting is sampled from a distribution over possible parameter values. This has two main benefits over an exhaustive search: 1)A budget can be chosen independent of the number of parameters and possible values. 2)Adding parameters that do not influence the performance does not decrease efficiency."
      ]
    },
    {
      "cell_type": "code",
      "metadata": {
        "id": "2AdVh1fG4TCi",
        "colab_type": "code",
        "colab": {}
      },
      "source": [
        "#from sklearn.grid_search import RandomizedSearchCV\n",
        "from sklearn.model_selection import learning_curve, GridSearchCV,RandomizedSearchCV\n",
        "model_svm = RandomizedSearchCV(svm_model, tuned_parameters,cv=10,scoring='accuracy',n_iter=20)"
      ],
      "execution_count": 0,
      "outputs": []
    },
    {
      "cell_type": "code",
      "metadata": {
        "id": "0MnVqlsU4xMh",
        "colab_type": "code",
        "colab": {
          "base_uri": "https://localhost:8080/",
          "height": 34
        },
        "outputId": "4b84f16d-eb32-4584-e57d-04f9a31ef802"
      },
      "source": [
        "model_svm.fit(X_train, y_train)\n",
        "print(model_svm.best_score_)"
      ],
      "execution_count": 77,
      "outputs": [
        {
          "output_type": "stream",
          "text": [
            "1.0\n"
          ],
          "name": "stdout"
        }
      ]
    },
    {
      "cell_type": "code",
      "metadata": {
        "id": "d8sNXCm_5m5r",
        "colab_type": "code",
        "colab": {
          "base_uri": "https://localhost:8080/",
          "height": 1000
        },
        "outputId": "915cce7e-cfcb-422d-8f36-816927212400"
      },
      "source": [
        "print(model_svm.cv_results_)"
      ],
      "execution_count": 80,
      "outputs": [
        {
          "output_type": "stream",
          "text": [
            "{'mean_fit_time': array([0.51243486, 1.51068466, 3.469345  , 0.12742519, 0.33665257,\n",
            "       3.46428211, 0.14470909, 0.12800903, 0.55810702, 0.31342108,\n",
            "       0.33799236, 0.33539286, 3.4638912 , 0.2807142 , 3.46200924,\n",
            "       0.50352817, 0.33351312, 0.33993447, 0.75719814, 0.12904098]), 'std_fit_time': array([0.01242182, 0.02090094, 0.22126742, 0.00258948, 0.0059902 ,\n",
            "       0.22654635, 0.0024108 , 0.00294254, 0.01586435, 0.00467448,\n",
            "       0.0071393 , 0.00425768, 0.22691835, 0.01177797, 0.23549984,\n",
            "       0.01915157, 0.00240044, 0.00832524, 0.00660534, 0.00571862]), 'mean_score_time': array([0.02734122, 0.11692381, 0.13054171, 0.00466039, 0.02316947,\n",
            "       0.13071275, 0.00780725, 0.00478785, 0.02521496, 0.02464979,\n",
            "       0.0232512 , 0.02270639, 0.13226399, 0.00639007, 0.13111911,\n",
            "       0.03101556, 0.0227061 , 0.01971178, 0.05347815, 0.00470603]), 'std_score_time': array([1.72268171e-03, 6.17835893e-04, 8.97111900e-04, 1.05936297e-04,\n",
            "       8.21030716e-04, 7.29704318e-04, 1.12494921e-04, 1.56958650e-04,\n",
            "       3.23619244e-04, 2.25505943e-04, 2.57839221e-04, 2.50192718e-04,\n",
            "       5.05020575e-03, 8.64557481e-05, 1.25123120e-03, 6.18179295e-04,\n",
            "       2.18819711e-04, 3.40645784e-04, 4.96090070e-04, 1.57164191e-04]), 'param_kernel': masked_array(data=['rbf', 'rbf', 'rbf', 'rbf', 'rbf', 'rbf', 'rbf', 'rbf',\n",
            "                   'rbf', 'rbf', 'rbf', 'rbf', 'rbf', 'rbf', 'rbf', 'rbf',\n",
            "                   'rbf', 'rbf', 'rbf', 'rbf'],\n",
            "             mask=[False, False, False, False, False, False, False, False,\n",
            "                   False, False, False, False, False, False, False, False,\n",
            "                   False, False, False, False],\n",
            "       fill_value='?',\n",
            "            dtype=object), 'param_gamma': masked_array(data=[0.0001, 0.0001, 1, 0.01, 0.1, 1, 0.01, 0.01, 0.0001,\n",
            "                   0.01, 0.1, 0.1, 1, 0.001, 1, 0.0001, 0.1, 0.001,\n",
            "                   0.0001, 0.01],\n",
            "             mask=[False, False, False, False, False, False, False, False,\n",
            "                   False, False, False, False, False, False, False, False,\n",
            "                   False, False, False, False],\n",
            "       fill_value='?',\n",
            "            dtype=object), 'param_C': masked_array(data=[500, 1, 1000, 500, 10, 100, 10, 100, 1000, 1, 1, 100,\n",
            "                   10, 1000, 1, 100, 1000, 100, 10, 1000],\n",
            "             mask=[False, False, False, False, False, False, False, False,\n",
            "                   False, False, False, False, False, False, False, False,\n",
            "                   False, False, False, False],\n",
            "       fill_value='?',\n",
            "            dtype=object), 'params': [{'kernel': 'rbf', 'gamma': 0.0001, 'C': 500}, {'kernel': 'rbf', 'gamma': 0.0001, 'C': 1}, {'kernel': 'rbf', 'gamma': 1, 'C': 1000}, {'kernel': 'rbf', 'gamma': 0.01, 'C': 500}, {'kernel': 'rbf', 'gamma': 0.1, 'C': 10}, {'kernel': 'rbf', 'gamma': 1, 'C': 100}, {'kernel': 'rbf', 'gamma': 0.01, 'C': 10}, {'kernel': 'rbf', 'gamma': 0.01, 'C': 100}, {'kernel': 'rbf', 'gamma': 0.0001, 'C': 1000}, {'kernel': 'rbf', 'gamma': 0.01, 'C': 1}, {'kernel': 'rbf', 'gamma': 0.1, 'C': 1}, {'kernel': 'rbf', 'gamma': 0.1, 'C': 100}, {'kernel': 'rbf', 'gamma': 1, 'C': 10}, {'kernel': 'rbf', 'gamma': 0.001, 'C': 1000}, {'kernel': 'rbf', 'gamma': 1, 'C': 1}, {'kernel': 'rbf', 'gamma': 0.0001, 'C': 100}, {'kernel': 'rbf', 'gamma': 0.1, 'C': 1000}, {'kernel': 'rbf', 'gamma': 0.001, 'C': 100}, {'kernel': 'rbf', 'gamma': 0.0001, 'C': 10}, {'kernel': 'rbf', 'gamma': 0.01, 'C': 1000}], 'split0_test_score': array([0.95076923, 0.86153846, 1.        , 1.        , 1.        ,\n",
            "       1.        , 1.        , 1.        , 0.96769231, 0.98615385,\n",
            "       1.        , 1.        , 1.        , 1.        , 1.        ,\n",
            "       0.93076923, 1.        , 0.99076923, 0.92769231, 1.        ]), 'split1_test_score': array([0.96307692, 0.88      , 1.        , 1.        , 1.        ,\n",
            "       1.        , 1.        , 1.        , 0.97692308, 0.98615385,\n",
            "       1.        , 1.        , 1.        , 1.        , 1.        ,\n",
            "       0.94307692, 1.        , 0.98923077, 0.94461538, 1.        ]), 'split2_test_score': array([0.95692308, 0.88923077, 1.        , 1.        , 1.        ,\n",
            "       1.        , 1.        , 1.        , 0.96615385, 0.99230769,\n",
            "       1.        , 1.        , 1.        , 1.        , 1.        ,\n",
            "       0.94153846, 1.        , 0.99384615, 0.94      , 1.        ]), 'split3_test_score': array([0.97230769, 0.89538462, 1.        , 1.        , 1.        ,\n",
            "       1.        , 1.        , 1.        , 0.98      , 0.99076923,\n",
            "       1.        , 1.        , 1.        , 1.        , 1.        ,\n",
            "       0.96769231, 1.        , 0.99538462, 0.95230769, 1.        ]), 'split4_test_score': array([0.96615385, 0.89846154, 1.        , 1.        , 1.        ,\n",
            "       1.        , 1.        , 1.        , 0.98769231, 0.99076923,\n",
            "       1.        , 1.        , 1.        , 1.        , 1.        ,\n",
            "       0.94153846, 1.        , 0.99538462, 0.95692308, 1.        ]), 'split5_test_score': array([0.95538462, 0.87692308, 1.        , 1.        , 1.        ,\n",
            "       1.        , 1.        , 1.        , 0.97538462, 0.98923077,\n",
            "       1.        , 1.        , 1.        , 1.        , 1.        ,\n",
            "       0.95230769, 1.        , 0.99076923, 0.94153846, 1.        ]), 'split6_test_score': array([0.96461538, 0.90769231, 1.        , 1.        , 1.        ,\n",
            "       1.        , 1.        , 1.        , 0.98153846, 0.98769231,\n",
            "       1.        , 1.        , 1.        , 1.        , 1.        ,\n",
            "       0.95230769, 1.        , 0.98923077, 0.95538462, 1.        ]), 'split7_test_score': array([0.95692308, 0.88769231, 1.        , 1.        , 1.        ,\n",
            "       1.        , 1.        , 1.        , 0.97076923, 0.98307692,\n",
            "       1.        , 1.        , 1.        , 1.        , 1.        ,\n",
            "       0.93846154, 1.        , 0.98461538, 0.94307692, 1.        ]), 'split8_test_score': array([0.96307692, 0.88923077, 1.        , 1.        , 1.        ,\n",
            "       1.        , 1.        , 1.        , 0.97846154, 0.98153846,\n",
            "       1.        , 1.        , 1.        , 1.        , 1.        ,\n",
            "       0.95538462, 1.        , 0.98307692, 0.94461538, 1.        ]), 'split9_test_score': array([0.95531587, 0.89368259, 1.        , 1.        , 1.        ,\n",
            "       1.        , 1.        , 1.        , 0.97534669, 0.98613251,\n",
            "       1.        , 1.        , 1.        , 1.        , 1.        ,\n",
            "       0.94761171, 1.        , 0.98921418, 0.95531587, 1.        ]), 'mean_test_score': array([0.96045466, 0.88798364, 1.        , 1.        , 1.        ,\n",
            "       1.        , 1.        , 1.        , 0.97599621, 0.98738248,\n",
            "       1.        , 1.        , 1.        , 1.        , 1.        ,\n",
            "       0.94706886, 1.        , 0.99015219, 0.94614697, 1.        ]), 'std_test_score': array([0.00612294, 0.0121412 , 0.        , 0.        , 0.        ,\n",
            "       0.        , 0.        , 0.        , 0.00620022, 0.00328606,\n",
            "       0.        , 0.        , 0.        , 0.        , 0.        ,\n",
            "       0.00983125, 0.        , 0.00390457, 0.00858602, 0.        ]), 'rank_test_score': array([17, 20,  1,  1,  1,  1,  1,  1, 16, 15,  1,  1,  1,  1,  1, 18,  1,\n",
            "       14, 19,  1], dtype=int32)}\n"
          ],
          "name": "stdout"
        }
      ]
    },
    {
      "cell_type": "code",
      "metadata": {
        "id": "HGj81AVYO8S2",
        "colab_type": "code",
        "colab": {
          "base_uri": "https://localhost:8080/",
          "height": 34
        },
        "outputId": "63e70bb4-5610-4ee1-f3e1-e5e899545799"
      },
      "source": [
        "print(model_svm.best_params_)"
      ],
      "execution_count": 81,
      "outputs": [
        {
          "output_type": "stream",
          "text": [
            "{'kernel': 'rbf', 'gamma': 1, 'C': 1000}\n"
          ],
          "name": "stdout"
        }
      ]
    },
    {
      "cell_type": "code",
      "metadata": {
        "id": "akLEQUzHRKPj",
        "colab_type": "code",
        "colab": {
          "base_uri": "https://localhost:8080/",
          "height": 34
        },
        "outputId": "74864637-8b3d-41df-fa44-f2bcfc07dee1"
      },
      "source": [
        "y_pred=model_svm.predict(X_test)\n",
        "print(metrics.accuracy_score(y_pred,y_test))"
      ],
      "execution_count": 82,
      "outputs": [
        {
          "output_type": "stream",
          "text": [
            "1.0\n"
          ],
          "name": "stdout"
        }
      ]
    },
    {
      "cell_type": "code",
      "metadata": {
        "id": "_ncqbhk0RXg5",
        "colab_type": "code",
        "colab": {
          "base_uri": "https://localhost:8080/",
          "height": 51
        },
        "outputId": "da5494d4-d1f7-4ce5-e77f-0d2e9cbad4cc"
      },
      "source": [
        "confusion_matrix=metrics.confusion_matrix(y_test,y_pred)\n",
        "confusion_matrix"
      ],
      "execution_count": 83,
      "outputs": [
        {
          "output_type": "execute_result",
          "data": {
            "text/plain": [
              "array([[845,   0],\n",
              "       [  0, 780]])"
            ]
          },
          "metadata": {
            "tags": []
          },
          "execution_count": 83
        }
      ]
    },
    {
      "cell_type": "code",
      "metadata": {
        "id": "JLiCLJ5ZRg2A",
        "colab_type": "code",
        "colab": {
          "base_uri": "https://localhost:8080/",
          "height": 54
        },
        "outputId": "613e8e65-8e6b-49d0-9861-6375621b2428"
      },
      "source": [
        "auc_roc=metrics.classification_report(y_test,y_pred)\n",
        "auc_roc"
      ],
      "execution_count": 84,
      "outputs": [
        {
          "output_type": "execute_result",
          "data": {
            "text/plain": [
              "'              precision    recall  f1-score   support\\n\\n           0       1.00      1.00      1.00       845\\n           1       1.00      1.00      1.00       780\\n\\n    accuracy                           1.00      1625\\n   macro avg       1.00      1.00      1.00      1625\\nweighted avg       1.00      1.00      1.00      1625\\n'"
            ]
          },
          "metadata": {
            "tags": []
          },
          "execution_count": 84
        }
      ]
    },
    {
      "cell_type": "code",
      "metadata": {
        "id": "bZ3crg4mRpzx",
        "colab_type": "code",
        "colab": {
          "base_uri": "https://localhost:8080/",
          "height": 34
        },
        "outputId": "59d34a97-56e2-4ed6-a780-8eafc800dc92"
      },
      "source": [
        "from sklearn.metrics import roc_curve, auc\n",
        "false_positive_rate,true_positive_rate,thresholds=roc_curve(y_test,y_pred)\n",
        "roc_auc=auc(false_positive_rate,true_positive_rate)\n",
        "roc_auc"
      ],
      "execution_count": 85,
      "outputs": [
        {
          "output_type": "execute_result",
          "data": {
            "text/plain": [
              "1.0"
            ]
          },
          "metadata": {
            "tags": []
          },
          "execution_count": 85
        }
      ]
    },
    {
      "cell_type": "code",
      "metadata": {
        "id": "PHdYUIWPR-6x",
        "colab_type": "code",
        "colab": {
          "base_uri": "https://localhost:8080/",
          "height": 638
        },
        "outputId": "df72e6d9-ea0c-462b-e317-b29688327f4c"
      },
      "source": [
        "import matplotlib.pyplot as plt\n",
        "plt.figure(figsize=(10,10))\n",
        "plt.title('Receiver Operating Characteristic')\n",
        "plt.plot(false_positive_rate,true_positive_rate, color='red',label = 'AUC = %0.2f' % roc_auc)\n",
        "plt.legend(loc = 'lower right')\n",
        "plt.plot([0, 1], [0, 1],linestyle='--')\n",
        "plt.axis('tight')\n",
        "plt.ylabel('True Positive Rate')\n",
        "plt.xlabel('False Positive Rate')"
      ],
      "execution_count": 86,
      "outputs": [
        {
          "output_type": "execute_result",
          "data": {
            "text/plain": [
              "Text(0.5, 0, 'False Positive Rate')"
            ]
          },
          "metadata": {
            "tags": []
          },
          "execution_count": 86
        },
        {
          "output_type": "display_data",
          "data": {
            "image/png": "[encoded data removed]",
            "text/plain": [
              "<Figure size 720x720 with 1 Axes>"
            ]
          },
          "metadata": {
            "tags": []
          }
        }
      ]
    },
    {
      "cell_type": "code",
      "metadata": {
        "id": "Zd3ldCedSuML",
        "colab_type": "code",
        "colab": {}
      },
      "source": [
        "#suport vector machine with polynomial kernel"
      ],
      "execution_count": 0,
      "outputs": []
    },
    {
      "cell_type": "code",
      "metadata": {
        "id": "V6mLWTDzS3MI",
        "colab_type": "code",
        "colab": {}
      },
      "source": [
        "tuned_parameters={\n",
        "    'C':[1,10,100,500,1000],'kernel':['linear','rbf'],\n",
        "    'C':[1,10,100,500,1000],'gamma':[1,0.1,0.01,0.001,0.0001],'kernel':['rbf'],\n",
        "    'degree':[2,3,4,5,6],'C':[1,10,100,500,1000],'kernel':['poly']\n",
        "}"
      ],
      "execution_count": 0,
      "outputs": []
    },
    {
      "cell_type": "code",
      "metadata": {
        "id": "W8_JxsZfTcw2",
        "colab_type": "code",
        "colab": {}
      },
      "source": [
        "#from sklearn.grid_search import RandomizedSearchCV\n",
        "from sklearn.model_selection import learning_curve, GridSearchCV,RandomizedSearchCV\n",
        "model_svm = RandomizedSearchCV(svm_model, tuned_parameters,cv=10,scoring='accuracy',n_iter=20)"
      ],
      "execution_count": 0,
      "outputs": []
    },
    {
      "cell_type": "code",
      "metadata": {
        "id": "44bMJQwNTr4M",
        "colab_type": "code",
        "colab": {
          "base_uri": "https://localhost:8080/",
          "height": 34
        },
        "outputId": "8bc6959a-b1e8-4405-d3ef-bdeb8785f078"
      },
      "source": [
        "model_svm.fit(X_train,y_train)\n",
        "print(model_svm.best_score_)"
      ],
      "execution_count": 90,
      "outputs": [
        {
          "output_type": "stream",
          "text": [
            "1.0\n"
          ],
          "name": "stdout"
        }
      ]
    },
    {
      "cell_type": "code",
      "metadata": {
        "id": "NGkN9PjoUlZv",
        "colab_type": "code",
        "colab": {
          "base_uri": "https://localhost:8080/",
          "height": 1000
        },
        "outputId": "535ef6af-90e4-4700-bb12-eb3723637147"
      },
      "source": [
        "print(model_svm.cv_results_)"
      ],
      "execution_count": 91,
      "outputs": [
        {
          "output_type": "stream",
          "text": [
            "{'mean_fit_time': array([1.28026164, 1.4798975 , 1.47534518, 0.11411381, 0.13102386,\n",
            "       1.50805831, 0.13666232, 0.09001608, 1.51006303, 0.08996565,\n",
            "       0.08847637, 1.50631957, 0.77266309, 0.1112078 , 0.28596475,\n",
            "       0.40612152, 1.50122843, 1.47439888, 1.54290192, 0.09053013]), 'std_fit_time': array([0.00991182, 0.01108976, 0.00568363, 0.00241395, 0.00158801,\n",
            "       0.01081114, 0.00530665, 0.00202169, 0.01223816, 0.00185618,\n",
            "       0.00166553, 0.00958164, 0.01073979, 0.00247807, 0.01005014,\n",
            "       0.00535249, 0.01529036, 0.00871069, 0.01920612, 0.0021183 ]), 'mean_score_time': array([0.08692136, 0.10273421, 0.10250015, 0.00574627, 0.0084944 ,\n",
            "       0.10639589, 0.00718143, 0.00421722, 0.10631626, 0.00399683,\n",
            "       0.00405149, 0.10634623, 0.05482812, 0.00635149, 0.02121038,\n",
            "       0.03020642, 0.10570495, 0.10283673, 0.10702612, 0.00400474]), 'std_score_time': array([1.00908168e-03, 4.40983947e-04, 2.03715996e-04, 1.46037800e-04,\n",
            "       9.41905148e-05, 5.18368401e-04, 2.16494611e-04, 8.52573671e-05,\n",
            "       3.61462964e-04, 8.91575481e-05, 9.73888855e-05, 4.63731579e-04,\n",
            "       3.05511112e-04, 8.40667730e-05, 3.08177771e-04, 1.76400989e-04,\n",
            "       2.27133612e-04, 9.29668890e-04, 4.88123336e-04, 1.00743541e-04]), 'param_kernel': masked_array(data=['poly', 'poly', 'poly', 'poly', 'poly', 'poly', 'poly',\n",
            "                   'poly', 'poly', 'poly', 'poly', 'poly', 'poly', 'poly',\n",
            "                   'poly', 'poly', 'poly', 'poly', 'poly', 'poly'],\n",
            "             mask=[False, False, False, False, False, False, False, False,\n",
            "                   False, False, False, False, False, False, False, False,\n",
            "                   False, False, False, False],\n",
            "       fill_value='?',\n",
            "            dtype=object), 'param_gamma': masked_array(data=[0.0001, 0.0001, 0.0001, 0.1, 0.001, 0.001, 0.1, 0.01,\n",
            "                   0.0001, 1, 0.1, 0.0001, 0.01, 0.01, 0.01, 0.01, 0.0001,\n",
            "                   0.001, 0.0001, 1],\n",
            "             mask=[False, False, False, False, False, False, False, False,\n",
            "                   False, False, False, False, False, False, False, False,\n",
            "                   False, False, False, False],\n",
            "       fill_value='?',\n",
            "            dtype=object), 'param_degree': masked_array(data=[2, 3, 3, 5, 2, 5, 6, 3, 6, 3, 3, 5, 6, 3, 5, 5, 4, 3,\n",
            "                   6, 3],\n",
            "             mask=[False, False, False, False, False, False, False, False,\n",
            "                   False, False, False, False, False, False, False, False,\n",
            "                   False, False, False, False],\n",
            "       fill_value='?',\n",
            "            dtype=object), 'param_C': masked_array(data=[1000, 1, 500, 100, 1000, 10, 1000, 500, 1000, 1, 1, 10,\n",
            "                   1000, 100, 1000, 500, 100, 1, 10, 100],\n",
            "             mask=[False, False, False, False, False, False, False, False,\n",
            "                   False, False, False, False, False, False, False, False,\n",
            "                   False, False, False, False],\n",
            "       fill_value='?',\n",
            "            dtype=object), 'params': [{'kernel': 'poly', 'gamma': 0.0001, 'degree': 2, 'C': 1000}, {'kernel': 'poly', 'gamma': 0.0001, 'degree': 3, 'C': 1}, {'kernel': 'poly', 'gamma': 0.0001, 'degree': 3, 'C': 500}, {'kernel': 'poly', 'gamma': 0.1, 'degree': 5, 'C': 100}, {'kernel': 'poly', 'gamma': 0.001, 'degree': 2, 'C': 1000}, {'kernel': 'poly', 'gamma': 0.001, 'degree': 5, 'C': 10}, {'kernel': 'poly', 'gamma': 0.1, 'degree': 6, 'C': 1000}, {'kernel': 'poly', 'gamma': 0.01, 'degree': 3, 'C': 500}, {'kernel': 'poly', 'gamma': 0.0001, 'degree': 6, 'C': 1000}, {'kernel': 'poly', 'gamma': 1, 'degree': 3, 'C': 1}, {'kernel': 'poly', 'gamma': 0.1, 'degree': 3, 'C': 1}, {'kernel': 'poly', 'gamma': 0.0001, 'degree': 5, 'C': 10}, {'kernel': 'poly', 'gamma': 0.01, 'degree': 6, 'C': 1000}, {'kernel': 'poly', 'gamma': 0.01, 'degree': 3, 'C': 100}, {'kernel': 'poly', 'gamma': 0.01, 'degree': 5, 'C': 1000}, {'kernel': 'poly', 'gamma': 0.01, 'degree': 5, 'C': 500}, {'kernel': 'poly', 'gamma': 0.0001, 'degree': 4, 'C': 100}, {'kernel': 'poly', 'gamma': 0.001, 'degree': 3, 'C': 1}, {'kernel': 'poly', 'gamma': 0.0001, 'degree': 6, 'C': 10}, {'kernel': 'poly', 'gamma': 1, 'degree': 3, 'C': 100}], 'split0_test_score': array([0.88923077, 0.51692308, 0.51692308, 1.        , 0.98923077,\n",
            "       0.51692308, 1.        , 1.        , 0.51692308, 1.        ,\n",
            "       1.        , 0.51692308, 0.94307692, 1.        , 0.98769231,\n",
            "       0.98769231, 0.51692308, 0.51692308, 0.51692308, 1.        ]), 'split1_test_score': array([0.91230769, 0.51692308, 0.51692308, 1.        , 0.99846154,\n",
            "       0.51692308, 1.        , 1.        , 0.51692308, 1.        ,\n",
            "       1.        , 0.51692308, 0.95384615, 1.        , 0.99692308,\n",
            "       0.99538462, 0.51692308, 0.51692308, 0.51692308, 1.        ]), 'split2_test_score': array([0.92769231, 0.51692308, 0.51692308, 1.        , 1.        ,\n",
            "       0.51692308, 1.        , 1.        , 0.51692308, 1.        ,\n",
            "       1.        , 0.51692308, 0.95846154, 1.        , 0.99846154,\n",
            "       0.99846154, 0.51692308, 0.51692308, 0.51692308, 1.        ]), 'split3_test_score': array([0.92307692, 0.51692308, 0.51692308, 1.        , 0.99692308,\n",
            "       0.51692308, 1.        , 1.        , 0.51692308, 1.        ,\n",
            "       1.        , 0.51692308, 0.96      , 1.        , 0.99538462,\n",
            "       0.99538462, 0.51692308, 0.51692308, 0.51692308, 1.        ]), 'split4_test_score': array([0.89846154, 0.51692308, 0.51692308, 1.        , 0.99846154,\n",
            "       0.51692308, 1.        , 1.        , 0.51692308, 1.        ,\n",
            "       1.        , 0.51692308, 0.94153846, 1.        , 0.99692308,\n",
            "       0.99692308, 0.51692308, 0.51692308, 0.51692308, 1.        ]), 'split5_test_score': array([0.92      , 0.51692308, 0.51692308, 1.        , 0.99846154,\n",
            "       0.51692308, 1.        , 1.        , 0.51692308, 1.        ,\n",
            "       1.        , 0.51692308, 0.94      , 1.        , 0.99846154,\n",
            "       0.99846154, 0.51692308, 0.51692308, 0.51692308, 1.        ]), 'split6_test_score': array([0.91384615, 0.51846154, 0.51846154, 1.        , 0.99692308,\n",
            "       0.51846154, 1.        , 1.        , 0.51846154, 1.        ,\n",
            "       1.        , 0.51846154, 0.94461538, 1.        , 0.99538462,\n",
            "       0.99538462, 0.51846154, 0.51846154, 0.51846154, 1.        ]), 'split7_test_score': array([0.90461538, 0.51846154, 0.51846154, 1.        , 1.        ,\n",
            "       0.51846154, 1.        , 1.        , 0.51846154, 1.        ,\n",
            "       1.        , 0.51846154, 0.93230769, 1.        , 0.99846154,\n",
            "       0.99846154, 0.51846154, 0.51846154, 0.51846154, 1.        ]), 'split8_test_score': array([0.92461538, 0.51846154, 0.51846154, 1.        , 0.99846154,\n",
            "       0.51846154, 1.        , 1.        , 0.51846154, 1.        ,\n",
            "       1.        , 0.51846154, 0.95076923, 1.        , 0.99692308,\n",
            "       0.99692308, 0.51846154, 0.51846154, 0.51846154, 1.        ]), 'split9_test_score': array([0.90446841, 0.51771957, 0.51771957, 1.        , 0.9953775 ,\n",
            "       0.51771957, 1.        , 1.        , 0.51771957, 1.        ,\n",
            "       1.        , 0.51771957, 0.93682589, 1.        , 0.99383667,\n",
            "       0.99383667, 0.51771957, 0.51771957, 0.51771957, 1.        ]), 'mean_test_score': array([0.91183146, 0.51746426, 0.51746426, 1.        , 0.99723006,\n",
            "       0.51746426, 1.        , 1.        , 0.51746426, 1.        ,\n",
            "       1.        , 0.51746426, 0.94614413, 1.        , 0.99584521,\n",
            "       0.99569136, 0.51746426, 0.51746426, 0.51746426, 1.        ]), 'std_test_score': array([0.01186718, 0.00069326, 0.00069326, 0.        , 0.00298363,\n",
            "       0.00069326, 0.        , 0.        , 0.00069326, 0.        ,\n",
            "       0.        , 0.00069326, 0.00879432, 0.        , 0.00308138,\n",
            "       0.00306207, 0.00069326, 0.00069326, 0.00069326, 0.        ]), 'rank_test_score': array([12, 13, 13,  1,  8, 13,  1,  1, 13,  1,  1, 13, 11,  1,  9, 10, 13,\n",
            "       13, 13,  1], dtype=int32)}\n"
          ],
          "name": "stdout"
        }
      ]
    },
    {
      "cell_type": "code",
      "metadata": {
        "id": "CzkmaMELUoe3",
        "colab_type": "code",
        "colab": {
          "base_uri": "https://localhost:8080/",
          "height": 34
        },
        "outputId": "a086a50a-a33c-40ce-b21f-ff426704af1d"
      },
      "source": [
        "print(model_svm.best_params_)"
      ],
      "execution_count": 92,
      "outputs": [
        {
          "output_type": "stream",
          "text": [
            "{'kernel': 'poly', 'gamma': 0.1, 'degree': 5, 'C': 100}\n"
          ],
          "name": "stdout"
        }
      ]
    },
    {
      "cell_type": "code",
      "metadata": {
        "id": "HQl903rDX-0w",
        "colab_type": "code",
        "colab": {
          "base_uri": "https://localhost:8080/",
          "height": 34
        },
        "outputId": "90bcfdb1-22a2-49a3-dc43-01becea82484"
      },
      "source": [
        "y_pred=model_svm.predict(X_test)\n",
        "print(metrics.accuracy_score(y_pred,y_test))"
      ],
      "execution_count": 93,
      "outputs": [
        {
          "output_type": "stream",
          "text": [
            "1.0\n"
          ],
          "name": "stdout"
        }
      ]
    },
    {
      "cell_type": "code",
      "metadata": {
        "id": "j672I0EeYGic",
        "colab_type": "code",
        "colab": {
          "base_uri": "https://localhost:8080/",
          "height": 51
        },
        "outputId": "410c9c6a-08e5-4b2c-fcb6-bcfc9bf3794c"
      },
      "source": [
        "confusion_matrix=metrics.confusion_matrix(y_test,y_pred)\n",
        "confusion_matrix"
      ],
      "execution_count": 94,
      "outputs": [
        {
          "output_type": "execute_result",
          "data": {
            "text/plain": [
              "array([[845,   0],\n",
              "       [  0, 780]])"
            ]
          },
          "metadata": {
            "tags": []
          },
          "execution_count": 94
        }
      ]
    },
    {
      "cell_type": "code",
      "metadata": {
        "id": "rWJywkqOYNVq",
        "colab_type": "code",
        "colab": {
          "base_uri": "https://localhost:8080/",
          "height": 54
        },
        "outputId": "0cf56caa-9dc9-42b9-92f6-f57b3555ca31"
      },
      "source": [
        "auc_roc=metrics.classification_report(y_test,y_pred)\n",
        "auc_roc"
      ],
      "execution_count": 95,
      "outputs": [
        {
          "output_type": "execute_result",
          "data": {
            "text/plain": [
              "'              precision    recall  f1-score   support\\n\\n           0       1.00      1.00      1.00       845\\n           1       1.00      1.00      1.00       780\\n\\n    accuracy                           1.00      1625\\n   macro avg       1.00      1.00      1.00      1625\\nweighted avg       1.00      1.00      1.00      1625\\n'"
            ]
          },
          "metadata": {
            "tags": []
          },
          "execution_count": 95
        }
      ]
    },
    {
      "cell_type": "code",
      "metadata": {
        "id": "lH2EeIDJYVHb",
        "colab_type": "code",
        "colab": {
          "base_uri": "https://localhost:8080/",
          "height": 34
        },
        "outputId": "e71edf85-82e3-4747-e3c8-c7ed42ea8ca7"
      },
      "source": [
        "auc_roc=metrics.roc_auc_score(y_test,y_pred)\n",
        "auc_roc"
      ],
      "execution_count": 96,
      "outputs": [
        {
          "output_type": "execute_result",
          "data": {
            "text/plain": [
              "1.0"
            ]
          },
          "metadata": {
            "tags": []
          },
          "execution_count": 96
        }
      ]
    },
    {
      "cell_type": "code",
      "metadata": {
        "id": "4TOgxCg0YekV",
        "colab_type": "code",
        "colab": {
          "base_uri": "https://localhost:8080/",
          "height": 34
        },
        "outputId": "549985f4-b85e-4f12-d3b7-13c9819e9463"
      },
      "source": [
        "from sklearn.metrics import roc_curve,auc\n",
        "false_positive_rate,true_positive_rate,thresholds=roc_curve(y_test,y_pred)\n",
        "roc_auc=auc(false_positive_rate,true_positive_rate)\n",
        "roc_auc"
      ],
      "execution_count": 97,
      "outputs": [
        {
          "output_type": "execute_result",
          "data": {
            "text/plain": [
              "1.0"
            ]
          },
          "metadata": {
            "tags": []
          },
          "execution_count": 97
        }
      ]
    },
    {
      "cell_type": "code",
      "metadata": {
        "id": "MMVetQnUYxYV",
        "colab_type": "code",
        "colab": {
          "base_uri": "https://localhost:8080/",
          "height": 638
        },
        "outputId": "1c2c77fe-3aa6-41f7-dda7-c9c514cec1d5"
      },
      "source": [
        "import matplotlib.pyplot as plt\n",
        "plt.figure(figsize=(10,10))\n",
        "plt.title('Receiver Operating Characteristic')\n",
        "plt.plot(false_positive_rate,true_positive_rate,color='red',label='AUC=%0.2f' %roc_auc)\n",
        "plt.legend(loc='lower right')\n",
        "plt.plot([0,1],[0,1],linestyle='--')\n",
        "plt.axis('tight')\n",
        "plt.ylabel('True Positive Rate')\n",
        "plt.xlabel('False Positive Rate')"
      ],
      "execution_count": 98,
      "outputs": [
        {
          "output_type": "execute_result",
          "data": {
            "text/plain": [
              "Text(0.5, 0, 'False Positive Rate')"
            ]
          },
          "metadata": {
            "tags": []
          },
          "execution_count": 98
        },
        {
          "output_type": "display_data",
          "data": {
            "image/png": "[encoded data removed]",
            "text/plain": [
              "<Figure size 720x720 with 1 Axes>"
            ]
          },
          "metadata": {
            "tags": []
          }
        }
      ]
    },
    {
      "cell_type": "code",
      "metadata": {
        "id": "HtyWDZbsZdV5",
        "colab_type": "code",
        "colab": {
          "base_uri": "https://localhost:8080/",
          "height": 153
        },
        "outputId": "e9e9d050-e25e-4282-84d7-310afc724802"
      },
      "source": [
        "#trying default model\n",
        "from sklearn.ensemble import RandomForestClassifier\n",
        "model_RR=RandomForestClassifier()\n",
        "\n",
        "#tuned_parameters={'min_samples_leaf': range(5,10,5),'n_estimators':range(50,200,50),\n",
        "                  #'max_depth':range(5,15,5),'max_features':range(5,20,5)}\n",
        "\n",
        "model_RR.fit(X_train,y_train)"
      ],
      "execution_count": 99,
      "outputs": [
        {
          "output_type": "execute_result",
          "data": {
            "text/plain": [
              "RandomForestClassifier(bootstrap=True, ccp_alpha=0.0, class_weight=None,\n",
              "                       criterion='gini', max_depth=None, max_features='auto',\n",
              "                       max_leaf_nodes=None, max_samples=None,\n",
              "                       min_impurity_decrease=0.0, min_impurity_split=None,\n",
              "                       min_samples_leaf=1, min_samples_split=2,\n",
              "                       min_weight_fraction_leaf=0.0, n_estimators=100,\n",
              "                       n_jobs=None, oob_score=False, random_state=None,\n",
              "                       verbose=0, warm_start=False)"
            ]
          },
          "metadata": {
            "tags": []
          },
          "execution_count": 99
        }
      ]
    },
    {
      "cell_type": "code",
      "metadata": {
        "id": "2idfS3awaCkJ",
        "colab_type": "code",
        "colab": {
          "base_uri": "https://localhost:8080/",
          "height": 34
        },
        "outputId": "a6f5e979-be20-4caa-b186-1203fce5906c"
      },
      "source": [
        "y_prob=model_RR.predict_proba(X_test)[:,1]  #This will give you positive class prediction probabilities\n",
        "y_pred=np.where(y_prob>0.5,1,0) #This will threshold the probabilities to give class predictions.\n",
        "model_RR.score(X_test,y_pred)"
      ],
      "execution_count": 100,
      "outputs": [
        {
          "output_type": "execute_result",
          "data": {
            "text/plain": [
              "1.0"
            ]
          },
          "metadata": {
            "tags": []
          },
          "execution_count": 100
        }
      ]
    },
    {
      "cell_type": "code",
      "metadata": {
        "id": "c4CdP6MBadCt",
        "colab_type": "code",
        "colab": {
          "base_uri": "https://localhost:8080/",
          "height": 51
        },
        "outputId": "00667fa5-ffc2-4928-c5c5-19040be8e936"
      },
      "source": [
        "confusion_matrix=metrics.confusion_matrix(y_test,y_pred)\n",
        "confusion_matrix"
      ],
      "execution_count": 101,
      "outputs": [
        {
          "output_type": "execute_result",
          "data": {
            "text/plain": [
              "array([[845,   0],\n",
              "       [  0, 780]])"
            ]
          },
          "metadata": {
            "tags": []
          },
          "execution_count": 101
        }
      ]
    },
    {
      "cell_type": "code",
      "metadata": {
        "id": "iHqnW-Q7al_e",
        "colab_type": "code",
        "colab": {
          "base_uri": "https://localhost:8080/",
          "height": 54
        },
        "outputId": "4262c9e0-5e98-43ef-8890-d3982603a623"
      },
      "source": [
        "auc_roc=metrics.classification_report(y_test,y_pred)\n",
        "auc_roc"
      ],
      "execution_count": 102,
      "outputs": [
        {
          "output_type": "execute_result",
          "data": {
            "text/plain": [
              "'              precision    recall  f1-score   support\\n\\n           0       1.00      1.00      1.00       845\\n           1       1.00      1.00      1.00       780\\n\\n    accuracy                           1.00      1625\\n   macro avg       1.00      1.00      1.00      1625\\nweighted avg       1.00      1.00      1.00      1625\\n'"
            ]
          },
          "metadata": {
            "tags": []
          },
          "execution_count": 102
        }
      ]
    },
    {
      "cell_type": "code",
      "metadata": {
        "id": "HUe4JODIauRH",
        "colab_type": "code",
        "colab": {
          "base_uri": "https://localhost:8080/",
          "height": 34
        },
        "outputId": "c90a3097-c487-4f37-da65-0d871b23c0da"
      },
      "source": [
        "auc_roc=metrics.roc_auc_score(y_test,y_pred)\n",
        "auc_roc"
      ],
      "execution_count": 103,
      "outputs": [
        {
          "output_type": "execute_result",
          "data": {
            "text/plain": [
              "1.0"
            ]
          },
          "metadata": {
            "tags": []
          },
          "execution_count": 103
        }
      ]
    },
    {
      "cell_type": "code",
      "metadata": {
        "id": "4QR7x4sCa0Ku",
        "colab_type": "code",
        "colab": {}
      },
      "source": [
        "from sklearn.metrics import roc_curve, auc\n",
        "false_positive_rate, true_positive_rate, thresholds = roc_curve(y_test, y_prob)\n",
        "roc_auc = auc(false_positive_rate, true_positive_rate)"
      ],
      "execution_count": 0,
      "outputs": []
    },
    {
      "cell_type": "code",
      "metadata": {
        "id": "DZss2TU3bBKp",
        "colab_type": "code",
        "colab": {
          "base_uri": "https://localhost:8080/",
          "height": 638
        },
        "outputId": "cb2512db-f985-44a9-862c-37a48fe9cc34"
      },
      "source": [
        "import matplotlib.pyplot as plt\n",
        "plt.figure(figsize=(10,10))\n",
        "plt.title('Receiver Operating Characteristic')\n",
        "plt.plot(false_positive_rate,true_positive_rate, color='red',label = 'AUC = %0.2f' % roc_auc)\n",
        "plt.legend(loc = 'lower right')\n",
        "plt.plot([0, 1], [0, 1],linestyle='--')\n",
        "plt.axis('tight')\n",
        "plt.ylabel('True Positive Rate')\n",
        "plt.xlabel('False Positive Rate')"
      ],
      "execution_count": 105,
      "outputs": [
        {
          "output_type": "execute_result",
          "data": {
            "text/plain": [
              "Text(0.5, 0, 'False Positive Rate')"
            ]
          },
          "metadata": {
            "tags": []
          },
          "execution_count": 105
        },
        {
          "output_type": "display_data",
          "data": {
            "image/png": "[encoded data removed]",
            "text/plain": [
              "<Figure size 720x720 with 1 Axes>"
            ]
          },
          "metadata": {
            "tags": []
          }
        }
      ]
    },
    {
      "cell_type": "markdown",
      "metadata": {
        "id": "RunwC7I6hFfm",
        "colab_type": "text"
      },
      "source": [
        "Random forest model is giving us best accuracy\n",
        "\n",
        "tuend parameters of Random Forest just for the purpose of knowledge and demonstration\n",
        "\n",
        "3 features which can be tuned to improve the performace of Random Forest\n",
        "\n",
        "\n",
        "1.   max_features\n",
        "2.   n_estimators\n",
        "3.   min_sample_leaf\n",
        "\n",
        "A)max_features: These are the maximum number of features Random Forest is allowed to try in individual tree \n",
        "\n",
        "1)Auto: This will simply take all the features which make sense in every tree. Here we simply do not put any restrictions on the individual tree\n",
        "\n",
        "2)sqrt: This option will take square root of the total number of features in individual run. For instance, if the total number of variables are 100, we can only take 10 of them in individual tree\n",
        "\n",
        "3)log2: It is another option which takes log to the base 2 of the features input.\n",
        "\n",
        "**Increading max_features generally improves the performance of the model as at each node now we have a higher number of options to be considered. But, for sure, you decrease the speed of algorithm by increasing the max_features. Hence, you need to strike the right balance and choose the optimal max_features**\n",
        "\n",
        "B)n_estimators: This is the number of trees you want to build before taking the maximum voting or averages of predictions. Higher number of trees give you better performance but makes your code slower. You should choose as high vlaues as your processor can handle because this makes your predictions stronger and more stable.\n",
        "\n",
        "C) min_sample_leaf: Leaf is the end node of a decision tree. A smaller leaf makes more prone to capturing noise in train data. Hence it is important to try different values to get good estimate.\n"
      ]
    },
    {
      "cell_type": "code",
      "metadata": {
        "id": "ysN3KxiZbm-1",
        "colab_type": "code",
        "colab": {}
      },
      "source": [
        "from sklearn.ensemble import RandomForestClassifier\n",
        "model_RR=RandomForestClassifier()\n",
        "\n",
        "tuned_parameters={'min_samples_leaf':range(10,100,10),'n_estimators':range(10,100,10),'max_features':['auto','sqrt','log2']}"
      ],
      "execution_count": 0,
      "outputs": []
    },
    {
      "cell_type": "code",
      "metadata": {
        "id": "14bJxH8tjc0w",
        "colab_type": "code",
        "colab": {}
      },
      "source": [
        "#n_jobs"
      ],
      "execution_count": 0,
      "outputs": []
    },
    {
      "cell_type": "code",
      "metadata": {
        "id": "T8e91md-jfEC",
        "colab_type": "code",
        "colab": {}
      },
      "source": [
        "#This parameter tells the engine how many processors is it allowed to use. A value of \"-1\" means there is no restriction whereas a value of \"1\" means it can only use one processor."
      ],
      "execution_count": 0,
      "outputs": []
    },
    {
      "cell_type": "code",
      "metadata": {
        "id": "9z32LG3Zjqa8",
        "colab_type": "code",
        "colab": {}
      },
      "source": [
        "#from sklearn.model_selection import RandomizedSearchCV\n",
        "from sklearn.model_selection import GridSearchCV\n",
        "#from sklearn.grid_search import GridSearchCV\n",
        "RR_model=RandomizedSearchCV(model_RR,tuned_parameters,cv=10,scoring='accuracy',n_iter=20,n_jobs=-1)"
      ],
      "execution_count": 0,
      "outputs": []
    },
    {
      "cell_type": "code",
      "metadata": {
        "id": "q6TEdmKJjuLN",
        "colab_type": "code",
        "colab": {
          "base_uri": "https://localhost:8080/",
          "height": 476
        },
        "outputId": "cdf0393e-4b27-496e-c0f7-5abb637c797a"
      },
      "source": [
        "RR_model.fit(X_train,y_train)"
      ],
      "execution_count": 112,
      "outputs": [
        {
          "output_type": "execute_result",
          "data": {
            "text/plain": [
              "RandomizedSearchCV(cv=10, error_score=nan,\n",
              "                   estimator=RandomForestClassifier(bootstrap=True,\n",
              "                                                    ccp_alpha=0.0,\n",
              "                                                    class_weight=None,\n",
              "                                                    criterion='gini',\n",
              "                                                    max_depth=None,\n",
              "                                                    max_features='auto',\n",
              "                                                    max_leaf_nodes=None,\n",
              "                                                    max_samples=None,\n",
              "                                                    min_impurity_decrease=0.0,\n",
              "                                                    min_impurity_split=None,\n",
              "                                                    min_samples_leaf=1,\n",
              "                                                    min_samples_split=2,\n",
              "                                                    min_weight_fraction_leaf=0.0,\n",
              "                                                    n_estimators=100,\n",
              "                                                    n_jobs=None,\n",
              "                                                    oob_score=False,\n",
              "                                                    random_state=None,\n",
              "                                                    verbose=0,\n",
              "                                                    warm_start=False),\n",
              "                   iid='deprecated', n_iter=20, n_jobs=-1,\n",
              "                   param_distributions={'max_features': ['auto', 'sqrt',\n",
              "                                                         'log2'],\n",
              "                                        'min_samples_leaf': range(10, 100, 10),\n",
              "                                        'n_estimators': range(10, 100, 10)},\n",
              "                   pre_dispatch='2*n_jobs', random_state=None, refit=True,\n",
              "                   return_train_score=False, scoring='accuracy', verbose=0)"
            ]
          },
          "metadata": {
            "tags": []
          },
          "execution_count": 112
        }
      ]
    },
    {
      "cell_type": "code",
      "metadata": {
        "id": "OliIAs-MkJ3l",
        "colab_type": "code",
        "colab": {
          "base_uri": "https://localhost:8080/",
          "height": 1000
        },
        "outputId": "bca7e848-bf78-4830-adb2-a849e02d94a3"
      },
      "source": [
        "print(RR_model.cv_results_)"
      ],
      "execution_count": 113,
      "outputs": [
        {
          "output_type": "stream",
          "text": [
            "{'mean_fit_time': array([0.38294525, 0.38132248, 0.26001508, 0.34765148, 0.38288214,\n",
            "       0.04708037, 0.12962804, 0.25993042, 0.26043139, 0.04540141,\n",
            "       0.37556677, 0.32936909, 0.3728863 , 0.26113694, 0.37753131,\n",
            "       0.38842633, 0.30144906, 0.25869374, 0.30150177, 0.32195406]), 'std_fit_time': array([0.01689667, 0.00847495, 0.00363172, 0.00380857, 0.00841528,\n",
            "       0.00186428, 0.00274161, 0.01542492, 0.00316627, 0.00167082,\n",
            "       0.00607991, 0.00427349, 0.00582988, 0.00315445, 0.0086348 ,\n",
            "       0.0103458 , 0.00431783, 0.00571857, 0.00375366, 0.02745312]), 'mean_score_time': array([0.01987526, 0.01993697, 0.01372545, 0.01803193, 0.02002296,\n",
            "       0.00380335, 0.00802598, 0.01374633, 0.01384523, 0.00382171,\n",
            "       0.01991074, 0.01769385, 0.01984441, 0.01368911, 0.01979001,\n",
            "       0.01993454, 0.01596167, 0.01425464, 0.0157336 , 0.01692698]), 'std_score_time': array([0.00048979, 0.00029253, 0.00030534, 0.00037781, 0.00053248,\n",
            "       0.00069263, 0.00117943, 0.00013701, 0.00038783, 0.00028538,\n",
            "       0.0002711 , 0.0001621 , 0.0002747 , 0.00012732, 0.00026035,\n",
            "       0.00025825, 0.0002385 , 0.00131797, 0.00027433, 0.00228853]), 'param_n_estimators': masked_array(data=[90, 90, 60, 80, 90, 10, 30, 60, 60, 10, 90, 80, 90, 60,\n",
            "                   90, 90, 70, 60, 70, 80],\n",
            "             mask=[False, False, False, False, False, False, False, False,\n",
            "                   False, False, False, False, False, False, False, False,\n",
            "                   False, False, False, False],\n",
            "       fill_value='?',\n",
            "            dtype=object), 'param_min_samples_leaf': masked_array(data=[70, 60, 20, 10, 40, 30, 40, 40, 10, 90, 80, 90, 80, 10,\n",
            "                   70, 20, 10, 20, 10, 80],\n",
            "             mask=[False, False, False, False, False, False, False, False,\n",
            "                   False, False, False, False, False, False, False, False,\n",
            "                   False, False, False, False],\n",
            "       fill_value='?',\n",
            "            dtype=object), 'param_max_features': masked_array(data=['auto', 'sqrt', 'log2', 'log2', 'auto', 'log2', 'log2',\n",
            "                   'log2', 'log2', 'sqrt', 'log2', 'auto', 'auto', 'auto',\n",
            "                   'log2', 'log2', 'auto', 'sqrt', 'sqrt', 'log2'],\n",
            "             mask=[False, False, False, False, False, False, False, False,\n",
            "                   False, False, False, False, False, False, False, False,\n",
            "                   False, False, False, False],\n",
            "       fill_value='?',\n",
            "            dtype=object), 'params': [{'n_estimators': 90, 'min_samples_leaf': 70, 'max_features': 'auto'}, {'n_estimators': 90, 'min_samples_leaf': 60, 'max_features': 'sqrt'}, {'n_estimators': 60, 'min_samples_leaf': 20, 'max_features': 'log2'}, {'n_estimators': 80, 'min_samples_leaf': 10, 'max_features': 'log2'}, {'n_estimators': 90, 'min_samples_leaf': 40, 'max_features': 'auto'}, {'n_estimators': 10, 'min_samples_leaf': 30, 'max_features': 'log2'}, {'n_estimators': 30, 'min_samples_leaf': 40, 'max_features': 'log2'}, {'n_estimators': 60, 'min_samples_leaf': 40, 'max_features': 'log2'}, {'n_estimators': 60, 'min_samples_leaf': 10, 'max_features': 'log2'}, {'n_estimators': 10, 'min_samples_leaf': 90, 'max_features': 'sqrt'}, {'n_estimators': 90, 'min_samples_leaf': 80, 'max_features': 'log2'}, {'n_estimators': 80, 'min_samples_leaf': 90, 'max_features': 'auto'}, {'n_estimators': 90, 'min_samples_leaf': 80, 'max_features': 'auto'}, {'n_estimators': 60, 'min_samples_leaf': 10, 'max_features': 'auto'}, {'n_estimators': 90, 'min_samples_leaf': 70, 'max_features': 'log2'}, {'n_estimators': 90, 'min_samples_leaf': 20, 'max_features': 'log2'}, {'n_estimators': 70, 'min_samples_leaf': 10, 'max_features': 'auto'}, {'n_estimators': 60, 'min_samples_leaf': 20, 'max_features': 'sqrt'}, {'n_estimators': 70, 'min_samples_leaf': 10, 'max_features': 'sqrt'}, {'n_estimators': 80, 'min_samples_leaf': 80, 'max_features': 'log2'}], 'split0_test_score': array([0.98615385, 0.98615385, 0.99846154, 1.        , 0.99230769,\n",
            "       0.99846154, 0.98769231, 0.99230769, 1.        , 0.98      ,\n",
            "       0.98769231, 0.98307692, 0.97692308, 1.        , 0.98769231,\n",
            "       0.99846154, 1.        , 0.99846154, 1.        , 0.98615385]), 'split1_test_score': array([0.98769231, 0.97538462, 0.99846154, 1.        , 0.99076923,\n",
            "       0.99846154, 0.99076923, 0.98923077, 1.        , 0.96923077,\n",
            "       0.97538462, 0.97692308, 0.98153846, 1.        , 0.98307692,\n",
            "       1.        , 1.        , 1.        , 1.        , 0.97692308]), 'split2_test_score': array([0.98615385, 0.99230769, 0.99692308, 1.        , 0.99538462,\n",
            "       0.99384615, 0.99538462, 0.99692308, 0.99846154, 0.97230769,\n",
            "       0.98307692, 0.98923077, 0.98615385, 1.        , 0.99230769,\n",
            "       0.99692308, 1.        , 0.99846154, 1.        , 0.99076923]), 'split3_test_score': array([0.99692308, 0.99692308, 0.99846154, 1.        , 0.99692308,\n",
            "       0.99846154, 0.99538462, 0.99692308, 1.        , 0.99384615,\n",
            "       0.98615385, 0.99384615, 0.98307692, 1.        , 0.99538462,\n",
            "       0.99846154, 1.        , 0.99846154, 1.        , 0.99538462]), 'split4_test_score': array([0.98461538, 0.98461538, 1.        , 1.        , 0.98923077,\n",
            "       0.98923077, 0.99846154, 0.98615385, 1.        , 0.98307692,\n",
            "       0.98461538, 0.98153846, 0.98461538, 1.        , 0.98153846,\n",
            "       0.99692308, 0.99846154, 1.        , 0.99846154, 0.98307692]), 'split5_test_score': array([0.98      , 0.98461538, 0.99846154, 0.99846154, 0.98461538,\n",
            "       0.99076923, 0.98461538, 0.98461538, 1.        , 0.97692308,\n",
            "       0.97846154, 0.98307692, 0.98461538, 1.        , 0.98      ,\n",
            "       0.99846154, 1.        , 0.99846154, 1.        , 0.97692308]), 'split6_test_score': array([0.98461538, 0.98769231, 0.99846154, 0.99846154, 0.99230769,\n",
            "       0.99846154, 0.99384615, 0.99384615, 1.        , 0.98461538,\n",
            "       0.98461538, 0.98461538, 0.98615385, 0.99846154, 0.98461538,\n",
            "       0.99846154, 1.        , 0.99846154, 1.        , 0.98153846]), 'split7_test_score': array([0.96923077, 0.97538462, 0.99846154, 1.        , 0.98      ,\n",
            "       0.98307692, 0.97846154, 0.98      , 1.        , 0.95692308,\n",
            "       0.97230769, 0.97538462, 0.97538462, 1.        , 0.98      ,\n",
            "       0.99846154, 1.        , 0.99846154, 0.99846154, 0.97230769]), 'split8_test_score': array([0.98      , 0.98461538, 0.99538462, 0.99846154, 0.99076923,\n",
            "       0.98923077, 0.98769231, 0.99230769, 0.99692308, 0.98153846,\n",
            "       0.98615385, 0.98307692, 0.98615385, 1.        , 0.98615385,\n",
            "       0.99538462, 1.        , 0.99846154, 0.99538462, 0.97692308]), 'split9_test_score': array([0.98151002, 0.98459168, 1.        , 1.        , 0.99075501,\n",
            "       0.99229584, 0.99383667, 0.98767334, 1.        , 0.97534669,\n",
            "       0.97380586, 0.97226502, 0.98459168, 1.        , 0.98459168,\n",
            "       1.        , 1.        , 1.        , 1.        , 0.97842835]), 'mean_test_score': array([0.98368946, 0.9852284 , 0.99830769, 0.99953846, 0.99030627,\n",
            "       0.99322958, 0.99061444, 0.9899981 , 0.99953846, 0.97738082,\n",
            "       0.98122674, 0.98230343, 0.98292071, 0.99984615, 0.98553609,\n",
            "       0.99815385, 0.99984615, 0.99892308, 0.99923077, 0.98184284]), 'std_test_score': array([0.00667863, 0.00623813, 0.00127794, 0.00070501, 0.00466878,\n",
            "       0.00501853, 0.0057332 , 0.00520667, 0.0009851 , 0.00946078,\n",
            "       0.00541425, 0.00605422, 0.00366872, 0.00046154, 0.00482642,\n",
            "       0.0013412 , 0.00046154, 0.00070501, 0.00141839, 0.0067709 ]), 'rank_test_score': array([15, 14,  7,  3, 11,  9, 10, 12,  3, 20, 19, 17, 16,  1, 13,  8,  1,\n",
            "        6,  5, 18], dtype=int32)}\n"
          ],
          "name": "stdout"
        }
      ]
    },
    {
      "cell_type": "code",
      "metadata": {
        "id": "paOrMN3lkzlM",
        "colab_type": "code",
        "colab": {
          "base_uri": "https://localhost:8080/",
          "height": 34
        },
        "outputId": "a377d345-0b98-41ba-ea10-a23d466b3e0b"
      },
      "source": [
        "print(RR_model.best_score_)"
      ],
      "execution_count": 114,
      "outputs": [
        {
          "output_type": "stream",
          "text": [
            "0.9998461538461537\n"
          ],
          "name": "stdout"
        }
      ]
    },
    {
      "cell_type": "code",
      "metadata": {
        "id": "qTNKOkhOqGKB",
        "colab_type": "code",
        "colab": {
          "base_uri": "https://localhost:8080/",
          "height": 34
        },
        "outputId": "9c029bac-5f36-455e-9c72-7a0219a930c0"
      },
      "source": [
        "print(RR_model.best_params_)"
      ],
      "execution_count": 115,
      "outputs": [
        {
          "output_type": "stream",
          "text": [
            "{'n_estimators': 60, 'min_samples_leaf': 10, 'max_features': 'auto'}\n"
          ],
          "name": "stdout"
        }
      ]
    },
    {
      "cell_type": "code",
      "metadata": {
        "id": "rUgF4hcGqIe-",
        "colab_type": "code",
        "colab": {
          "base_uri": "https://localhost:8080/",
          "height": 34
        },
        "outputId": "fb6cddab-a703-48ed-eed0-1dff63286b68"
      },
      "source": [
        "y_prob=RR_model.predict_proba(X_test)[:,1] #This will give you positive class prediction probabilities\n",
        "y_pred=np.where(y_prob>0.5,1,0) #This will threshold the probabilities to give class predictions.\n",
        "RR_model.score(X_test,y_pred)"
      ],
      "execution_count": 116,
      "outputs": [
        {
          "output_type": "execute_result",
          "data": {
            "text/plain": [
              "1.0"
            ]
          },
          "metadata": {
            "tags": []
          },
          "execution_count": 116
        }
      ]
    },
    {
      "cell_type": "code",
      "metadata": {
        "id": "Id3NOscrqhDN",
        "colab_type": "code",
        "colab": {
          "base_uri": "https://localhost:8080/",
          "height": 51
        },
        "outputId": "349a7eee-b916-49fd-a125-383607846e18"
      },
      "source": [
        "confusion_matrix=metrics.confusion_matrix(y_test,y_pred)\n",
        "confusion_matrix"
      ],
      "execution_count": 117,
      "outputs": [
        {
          "output_type": "execute_result",
          "data": {
            "text/plain": [
              "array([[845,   0],\n",
              "       [  0, 780]])"
            ]
          },
          "metadata": {
            "tags": []
          },
          "execution_count": 117
        }
      ]
    },
    {
      "cell_type": "code",
      "metadata": {
        "id": "YrbTWmWVqpad",
        "colab_type": "code",
        "colab": {
          "base_uri": "https://localhost:8080/",
          "height": 54
        },
        "outputId": "8431126a-a2a0-41f9-88f5-c89d0b09df96"
      },
      "source": [
        "auc_roc=metrics.classification_report(y_test,y_pred)\n",
        "auc_roc"
      ],
      "execution_count": 118,
      "outputs": [
        {
          "output_type": "execute_result",
          "data": {
            "text/plain": [
              "'              precision    recall  f1-score   support\\n\\n           0       1.00      1.00      1.00       845\\n           1       1.00      1.00      1.00       780\\n\\n    accuracy                           1.00      1625\\n   macro avg       1.00      1.00      1.00      1625\\nweighted avg       1.00      1.00      1.00      1625\\n'"
            ]
          },
          "metadata": {
            "tags": []
          },
          "execution_count": 118
        }
      ]
    },
    {
      "cell_type": "code",
      "metadata": {
        "id": "tMv7u3yBquUZ",
        "colab_type": "code",
        "colab": {
          "base_uri": "https://localhost:8080/",
          "height": 34
        },
        "outputId": "691be0ee-66e0-4131-c387-23f20861f165"
      },
      "source": [
        "auc_roc=metrics.roc_auc_score(y_test,y_pred)\n",
        "auc_roc"
      ],
      "execution_count": 119,
      "outputs": [
        {
          "output_type": "execute_result",
          "data": {
            "text/plain": [
              "1.0"
            ]
          },
          "metadata": {
            "tags": []
          },
          "execution_count": 119
        }
      ]
    },
    {
      "cell_type": "code",
      "metadata": {
        "id": "1a93qTzUq1rP",
        "colab_type": "code",
        "colab": {
          "base_uri": "https://localhost:8080/",
          "height": 34
        },
        "outputId": "446a5cca-e99b-4b3e-92b3-2d3980b9873a"
      },
      "source": [
        "from sklearn.metrics import roc_curve,auc\n",
        "false_positive_rate,true_positive_rate,thresholds=roc_curve(y_test,y_prob)\n",
        "roc_auc=auc(false_positive_rate,true_positive_rate)\n",
        "roc_auc"
      ],
      "execution_count": 120,
      "outputs": [
        {
          "output_type": "execute_result",
          "data": {
            "text/plain": [
              "1.0"
            ]
          },
          "metadata": {
            "tags": []
          },
          "execution_count": 120
        }
      ]
    },
    {
      "cell_type": "code",
      "metadata": {
        "id": "B7mQ2cA6rEjj",
        "colab_type": "code",
        "colab": {
          "base_uri": "https://localhost:8080/",
          "height": 638
        },
        "outputId": "478b692c-cedb-4d2b-a045-e8d75b63b3b9"
      },
      "source": [
        "import matplotlib.pyplot as plt\n",
        "plt.figure(figsize=(10,10))\n",
        "plt.title('Receiver Operating Characteristic')\n",
        "plt.plot(false_positive_rate,true_positive_rate,color='red',label='AUC = %0.2f' %roc_auc)\n",
        "plt.legend(loc='lower right')\n",
        "plt.plot([0,1],[0,1],linestyle='--')\n",
        "plt.axis('tight')\n",
        "plt.ylabel('True Positive Rate')\n",
        "plt.xlabel('False Positive Rate')"
      ],
      "execution_count": 121,
      "outputs": [
        {
          "output_type": "execute_result",
          "data": {
            "text/plain": [
              "Text(0.5, 0, 'False Positive Rate')"
            ]
          },
          "metadata": {
            "tags": []
          },
          "execution_count": 121
        },
        {
          "output_type": "display_data",
          "data": {
            "image/png": "[encoded data removed]",
            "text/plain": [
              "<Figure size 720x720 with 1 Axes>"
            ]
          },
          "metadata": {
            "tags": []
          }
        }
      ]
    },
    {
      "cell_type": "markdown",
      "metadata": {
        "id": "fsb1ZkwrsG4D",
        "colab_type": "text"
      },
      "source": [
        "Default Decision Tree Model"
      ]
    },
    {
      "cell_type": "code",
      "metadata": {
        "id": "AYf_9Ar0rv6v",
        "colab_type": "code",
        "colab": {}
      },
      "source": [
        "from sklearn.tree import DecisionTreeClassifier\n",
        "\n",
        "model_tree=DecisionTreeClassifier()"
      ],
      "execution_count": 0,
      "outputs": []
    },
    {
      "cell_type": "code",
      "metadata": {
        "id": "HyLlNglnsSKw",
        "colab_type": "code",
        "colab": {
          "base_uri": "https://localhost:8080/",
          "height": 119
        },
        "outputId": "d8181212-6f9f-4365-90fc-dfcb2aa0fb76"
      },
      "source": [
        "model_tree.fit(X_train,y_train)"
      ],
      "execution_count": 123,
      "outputs": [
        {
          "output_type": "execute_result",
          "data": {
            "text/plain": [
              "DecisionTreeClassifier(ccp_alpha=0.0, class_weight=None, criterion='gini',\n",
              "                       max_depth=None, max_features=None, max_leaf_nodes=None,\n",
              "                       min_impurity_decrease=0.0, min_impurity_split=None,\n",
              "                       min_samples_leaf=1, min_samples_split=2,\n",
              "                       min_weight_fraction_leaf=0.0, presort='deprecated',\n",
              "                       random_state=None, splitter='best')"
            ]
          },
          "metadata": {
            "tags": []
          },
          "execution_count": 123
        }
      ]
    },
    {
      "cell_type": "code",
      "metadata": {
        "id": "1_Zan7s-sVGL",
        "colab_type": "code",
        "colab": {
          "base_uri": "https://localhost:8080/",
          "height": 34
        },
        "outputId": "a21b7270-f816-4116-d888-c2c5d1b4a368"
      },
      "source": [
        "y_prob=model_tree.predict_proba(X_test)[:,1] #This will give you positive class prediction probabilities\n",
        "y_pred=np.where(y_prob>0.5,1,0) #This will threshold the probabilities to give class predictions.\n",
        "model_tree.score(X_test,y_pred)"
      ],
      "execution_count": 124,
      "outputs": [
        {
          "output_type": "execute_result",
          "data": {
            "text/plain": [
              "1.0"
            ]
          },
          "metadata": {
            "tags": []
          },
          "execution_count": 124
        }
      ]
    },
    {
      "cell_type": "code",
      "metadata": {
        "id": "eSQH4JVEsqwG",
        "colab_type": "code",
        "colab": {
          "base_uri": "https://localhost:8080/",
          "height": 51
        },
        "outputId": "94351f6e-4d6b-4389-b6d7-e80c54cc29ae"
      },
      "source": [
        "confusion_matrix=metrics.confusion_matrix(y_test,y_pred)\n",
        "confusion_matrix"
      ],
      "execution_count": 125,
      "outputs": [
        {
          "output_type": "execute_result",
          "data": {
            "text/plain": [
              "array([[845,   0],\n",
              "       [  0, 780]])"
            ]
          },
          "metadata": {
            "tags": []
          },
          "execution_count": 125
        }
      ]
    },
    {
      "cell_type": "code",
      "metadata": {
        "id": "WAA8HYiysyry",
        "colab_type": "code",
        "colab": {
          "base_uri": "https://localhost:8080/",
          "height": 54
        },
        "outputId": "2d1c4872-3662-4005-b07c-9c8544c6857f"
      },
      "source": [
        "auc_roc=metrics.classification_report(y_test,y_pred)\n",
        "auc_roc"
      ],
      "execution_count": 126,
      "outputs": [
        {
          "output_type": "execute_result",
          "data": {
            "text/plain": [
              "'              precision    recall  f1-score   support\\n\\n           0       1.00      1.00      1.00       845\\n           1       1.00      1.00      1.00       780\\n\\n    accuracy                           1.00      1625\\n   macro avg       1.00      1.00      1.00      1625\\nweighted avg       1.00      1.00      1.00      1625\\n'"
            ]
          },
          "metadata": {
            "tags": []
          },
          "execution_count": 126
        }
      ]
    },
    {
      "cell_type": "code",
      "metadata": {
        "id": "KG8tLPMLs6Cx",
        "colab_type": "code",
        "colab": {
          "base_uri": "https://localhost:8080/",
          "height": 34
        },
        "outputId": "9362d924-5d9e-4333-df96-4f5fae59a3c5"
      },
      "source": [
        "auc_roc=metrics.roc_auc_score(y_test,y_pred)\n",
        "auc_roc"
      ],
      "execution_count": 127,
      "outputs": [
        {
          "output_type": "execute_result",
          "data": {
            "text/plain": [
              "1.0"
            ]
          },
          "metadata": {
            "tags": []
          },
          "execution_count": 127
        }
      ]
    },
    {
      "cell_type": "code",
      "metadata": {
        "id": "dQauEd2Ts_rz",
        "colab_type": "code",
        "colab": {}
      },
      "source": [
        "from sklearn.metrics import roc_curve,auc\n",
        "false_positive_rate,true_positive_rate,thresholds=roc_curve(y_test,y_prob)\n",
        "roc_auc=auc(false_positive_rate,true_positive_rate)"
      ],
      "execution_count": 0,
      "outputs": []
    },
    {
      "cell_type": "code",
      "metadata": {
        "id": "NQLcYwcitPPz",
        "colab_type": "code",
        "colab": {
          "base_uri": "https://localhost:8080/",
          "height": 638
        },
        "outputId": "6caea20c-b689-4a99-b742-aea3f96a8f95"
      },
      "source": [
        "import matplotlib.pyplot as plt\n",
        "plt.figure(figsize=(10,10))\n",
        "plt.title('Receiver Operating Characteristic')\n",
        "plt.plot(false_positive_rate,true_positive_rate,color='red',label='AUC = %0.2f' %roc_auc)\n",
        "plt.legend(loc='lower right')\n",
        "plt.plot([0,1],[0,1],linestyle='--')\n",
        "plt.axis('tight')\n",
        "plt.ylabel('True Positive Rate')\n",
        "plt.xlabel('False Positive Rate')"
      ],
      "execution_count": 129,
      "outputs": [
        {
          "output_type": "execute_result",
          "data": {
            "text/plain": [
              "Text(0.5, 0, 'False Positive Rate')"
            ]
          },
          "metadata": {
            "tags": []
          },
          "execution_count": 129
        },
        {
          "output_type": "display_data",
          "data": {
            "image/png": "[encoded data removed]",
            "text/plain": [
              "<Figure size 720x720 with 1 Axes>"
            ]
          },
          "metadata": {
            "tags": []
          }
        }
      ]
    },
    {
      "cell_type": "markdown",
      "metadata": {
        "id": "DlZbfeu8t1PH",
        "colab_type": "text"
      },
      "source": [
        "Tuning hyper parameters for decision tree\n",
        "\n",
        "1)Criterion: Decision trees use multiple algorithms to decide to split a node in two or more sub-nodes.Decision tree splits the nodes on all available variables and then selects the split which results in most homogeneous sub-nodes. The details of Gini and entropy needs detail explanation.\n",
        "\n",
        "2)max_depth(Maximum depth of tree (vertical depth)): Used to control over-fitting as higher depth will allow model to learn relations very specific to a particular sample.\n",
        "\n",
        "max_features and min_samples_leaf is same as Random Forest classifier"
      ]
    },
    {
      "cell_type": "code",
      "metadata": {
        "id": "vnwzoiLjtv4v",
        "colab_type": "code",
        "colab": {}
      },
      "source": [
        "from sklearn.tree import DecisionTreeClassifier\n",
        "model_DD=DecisionTreeClassifier()\n",
        "\n",
        "tuned_parameters= {'criterion': ['gini','entropy'], 'max_features': [\"auto\",\"sqrt\",\"log2\"],\n",
        "                   'min_samples_leaf': range(1,100,1) , 'max_depth': range(1,50,1)\n",
        "                  }"
      ],
      "execution_count": 0,
      "outputs": []
    },
    {
      "cell_type": "code",
      "metadata": {
        "id": "mebJKLrBuBMQ",
        "colab_type": "code",
        "colab": {}
      },
      "source": [
        "from sklearn.model_selection import GridSearchCV\n",
        "DD_model= RandomizedSearchCV(model_DD, tuned_parameters,cv=10,scoring='accuracy',n_iter=20,n_jobs= -1,random_state=5)"
      ],
      "execution_count": 0,
      "outputs": []
    },
    {
      "cell_type": "code",
      "metadata": {
        "id": "daim5azzu3ab",
        "colab_type": "code",
        "colab": {
          "base_uri": "https://localhost:8080/",
          "height": 408
        },
        "outputId": "3943cd6f-a9b7-4954-d760-8cb4da3d0016"
      },
      "source": [
        "DD_model.fit(X_train,y_train)"
      ],
      "execution_count": 136,
      "outputs": [
        {
          "output_type": "execute_result",
          "data": {
            "text/plain": [
              "RandomizedSearchCV(cv=10, error_score=nan,\n",
              "                   estimator=DecisionTreeClassifier(ccp_alpha=0.0,\n",
              "                                                    class_weight=None,\n",
              "                                                    criterion='gini',\n",
              "                                                    max_depth=None,\n",
              "                                                    max_features=None,\n",
              "                                                    max_leaf_nodes=None,\n",
              "                                                    min_impurity_decrease=0.0,\n",
              "                                                    min_impurity_split=None,\n",
              "                                                    min_samples_leaf=1,\n",
              "                                                    min_samples_split=2,\n",
              "                                                    min_weight_fraction_leaf=0.0,\n",
              "                                                    presort='deprecated',\n",
              "                                                    random_state=None,\n",
              "                                                    splitter='best'),\n",
              "                   iid='deprecated', n_iter=20, n_jobs=-1,\n",
              "                   param_distributions={'criterion': ['gini', 'entropy'],\n",
              "                                        'max_depth': range(1, 50),\n",
              "                                        'max_features': ['auto', 'sqrt',\n",
              "                                                         'log2'],\n",
              "                                        'min_samples_leaf': range(1, 100)},\n",
              "                   pre_dispatch='2*n_jobs', random_state=5, refit=True,\n",
              "                   return_train_score=False, scoring='accuracy', verbose=0)"
            ]
          },
          "metadata": {
            "tags": []
          },
          "execution_count": 136
        }
      ]
    },
    {
      "cell_type": "code",
      "metadata": {
        "id": "t1XHU3O2vI1f",
        "colab_type": "code",
        "colab": {
          "base_uri": "https://localhost:8080/",
          "height": 1000
        },
        "outputId": "50c7b252-3be9-4fd4-a8f2-98c8d3d65d32"
      },
      "source": [
        "print(DD_model.cv_results_)"
      ],
      "execution_count": 138,
      "outputs": [
        {
          "output_type": "stream",
          "text": [
            "{'mean_fit_time': array([0.0056736 , 0.00590911, 0.0053308 , 0.00587251, 0.00448329,\n",
            "       0.00458715, 0.00501959, 0.00556152, 0.00404477, 0.00382085,\n",
            "       0.00446548, 0.00464833, 0.00501652, 0.00464664, 0.00459077,\n",
            "       0.00476623, 0.00471509, 0.00495379, 0.00486708, 0.00457847]), 'std_fit_time': array([0.00121058, 0.00161424, 0.00129563, 0.00197843, 0.00038422,\n",
            "       0.00043775, 0.00136992, 0.00256531, 0.00019085, 0.00013083,\n",
            "       0.00031817, 0.00025836, 0.00156075, 0.00022451, 0.00041417,\n",
            "       0.00013942, 0.00033422, 0.0004369 , 0.00040415, 0.00037006]), 'mean_score_time': array([0.00108056, 0.0013324 , 0.0010221 , 0.00101941, 0.00092332,\n",
            "       0.0009737 , 0.00094409, 0.00095584, 0.00090864, 0.00102422,\n",
            "       0.00096388, 0.00087414, 0.00097799, 0.0009408 , 0.00096266,\n",
            "       0.00097234, 0.00097632, 0.00101516, 0.0010226 , 0.00092685]), 'std_score_time': array([1.72060985e-04, 9.60568585e-04, 5.87407449e-05, 7.14754127e-05,\n",
            "       7.22281638e-05, 6.21383953e-05, 8.97012192e-05, 1.05944989e-04,\n",
            "       5.36305569e-05, 3.36501291e-04, 7.62928128e-05, 2.98831226e-05,\n",
            "       7.78673035e-05, 3.89940857e-05, 4.61906140e-05, 5.76514710e-05,\n",
            "       4.85703764e-05, 5.86875408e-05, 7.48300516e-05, 1.03772094e-04]), 'param_min_samples_leaf': masked_array(data=[45, 27, 70, 67, 77, 10, 76, 67, 43, 48, 66, 3, 84, 49,\n",
            "                   46, 80, 65, 68, 18, 37],\n",
            "             mask=[False, False, False, False, False, False, False, False,\n",
            "                   False, False, False, False, False, False, False, False,\n",
            "                   False, False, False, False],\n",
            "       fill_value='?',\n",
            "            dtype=object), 'param_max_features': masked_array(data=['log2', 'log2', 'log2', 'sqrt', 'auto', 'log2', 'sqrt',\n",
            "                   'log2', 'sqrt', 'sqrt', 'auto', 'log2', 'auto', 'auto',\n",
            "                   'auto', 'log2', 'log2', 'auto', 'log2', 'sqrt'],\n",
            "             mask=[False, False, False, False, False, False, False, False,\n",
            "                   False, False, False, False, False, False, False, False,\n",
            "                   False, False, False, False],\n",
            "       fill_value='?',\n",
            "            dtype=object), 'param_max_depth': masked_array(data=[10, 14, 20, 40, 11, 31, 19, 41, 4, 3, 6, 7, 9, 16, 10,\n",
            "                   19, 26, 49, 11, 48],\n",
            "             mask=[False, False, False, False, False, False, False, False,\n",
            "                   False, False, False, False, False, False, False, False,\n",
            "                   False, False, False, False],\n",
            "       fill_value='?',\n",
            "            dtype=object), 'param_criterion': masked_array(data=['gini', 'entropy', 'entropy', 'entropy', 'gini',\n",
            "                   'entropy', 'gini', 'entropy', 'gini', 'gini',\n",
            "                   'entropy', 'gini', 'gini', 'entropy', 'gini',\n",
            "                   'entropy', 'gini', 'entropy', 'gini', 'entropy'],\n",
            "             mask=[False, False, False, False, False, False, False, False,\n",
            "                   False, False, False, False, False, False, False, False,\n",
            "                   False, False, False, False],\n",
            "       fill_value='?',\n",
            "            dtype=object), 'params': [{'min_samples_leaf': 45, 'max_features': 'log2', 'max_depth': 10, 'criterion': 'gini'}, {'min_samples_leaf': 27, 'max_features': 'log2', 'max_depth': 14, 'criterion': 'entropy'}, {'min_samples_leaf': 70, 'max_features': 'log2', 'max_depth': 20, 'criterion': 'entropy'}, {'min_samples_leaf': 67, 'max_features': 'sqrt', 'max_depth': 40, 'criterion': 'entropy'}, {'min_samples_leaf': 77, 'max_features': 'auto', 'max_depth': 11, 'criterion': 'gini'}, {'min_samples_leaf': 10, 'max_features': 'log2', 'max_depth': 31, 'criterion': 'entropy'}, {'min_samples_leaf': 76, 'max_features': 'sqrt', 'max_depth': 19, 'criterion': 'gini'}, {'min_samples_leaf': 67, 'max_features': 'log2', 'max_depth': 41, 'criterion': 'entropy'}, {'min_samples_leaf': 43, 'max_features': 'sqrt', 'max_depth': 4, 'criterion': 'gini'}, {'min_samples_leaf': 48, 'max_features': 'sqrt', 'max_depth': 3, 'criterion': 'gini'}, {'min_samples_leaf': 66, 'max_features': 'auto', 'max_depth': 6, 'criterion': 'entropy'}, {'min_samples_leaf': 3, 'max_features': 'log2', 'max_depth': 7, 'criterion': 'gini'}, {'min_samples_leaf': 84, 'max_features': 'auto', 'max_depth': 9, 'criterion': 'gini'}, {'min_samples_leaf': 49, 'max_features': 'auto', 'max_depth': 16, 'criterion': 'entropy'}, {'min_samples_leaf': 46, 'max_features': 'auto', 'max_depth': 10, 'criterion': 'gini'}, {'min_samples_leaf': 80, 'max_features': 'log2', 'max_depth': 19, 'criterion': 'entropy'}, {'min_samples_leaf': 65, 'max_features': 'log2', 'max_depth': 26, 'criterion': 'gini'}, {'min_samples_leaf': 68, 'max_features': 'auto', 'max_depth': 49, 'criterion': 'entropy'}, {'min_samples_leaf': 18, 'max_features': 'log2', 'max_depth': 11, 'criterion': 'gini'}, {'min_samples_leaf': 37, 'max_features': 'sqrt', 'max_depth': 48, 'criterion': 'entropy'}], 'split0_test_score': array([0.96461538, 0.98153846, 0.97384615, 0.97846154, 0.92923077,\n",
            "       0.99538462, 0.93692308, 0.94615385, 0.91230769, 0.90461538,\n",
            "       0.94923077, 0.98615385, 0.96153846, 0.94153846, 0.99384615,\n",
            "       0.96461538, 0.98      , 0.96      , 0.99230769, 0.97384615]), 'split1_test_score': array([0.97384615, 0.99384615, 0.97692308, 0.96      , 0.96923077,\n",
            "       0.99384615, 0.97076923, 0.96615385, 0.88461538, 0.93538462,\n",
            "       0.94153846, 0.99076923, 0.94153846, 0.98153846, 0.97384615,\n",
            "       0.97538462, 0.96307692, 0.96153846, 0.99076923, 0.98153846]), 'split2_test_score': array([0.96461538, 0.98769231, 0.99230769, 0.95384615, 0.93076923,\n",
            "       0.99538462, 0.96769231, 0.98307692, 0.99076923, 0.93846154,\n",
            "       0.98      , 0.99076923, 0.95076923, 0.98153846, 0.97230769,\n",
            "       0.96      , 0.98153846, 0.96615385, 0.99538462, 0.97230769]), 'split3_test_score': array([0.99384615, 0.99692308, 0.97538462, 0.97230769, 0.96      ,\n",
            "       0.99538462, 0.95076923, 0.97538462, 0.93076923, 0.95692308,\n",
            "       0.98615385, 0.99384615, 0.93846154, 0.96153846, 0.96307692,\n",
            "       0.93384615, 0.96307692, 0.96      , 0.99538462, 0.98153846]), 'split4_test_score': array([0.97692308, 0.99076923, 0.97538462, 0.98      , 0.94923077,\n",
            "       0.99076923, 0.96769231, 0.96153846, 0.93076923, 0.90153846,\n",
            "       0.96      , 0.98615385, 0.95846154, 0.96307692, 0.98461538,\n",
            "       0.96      , 0.94769231, 0.95692308, 0.99384615, 0.98615385]), 'split5_test_score': array([0.98307692, 0.99846154, 0.94615385, 0.95692308, 0.95692308,\n",
            "       0.99846154, 0.94923077, 0.95230769, 0.90769231, 0.91384615,\n",
            "       0.92307692, 0.98769231, 0.95846154, 0.97692308, 0.98461538,\n",
            "       0.98307692, 0.98153846, 0.97538462, 0.99384615, 0.99230769]), 'split6_test_score': array([0.98      , 0.99692308, 0.94461538, 0.98615385, 0.97230769,\n",
            "       0.99230769, 0.97076923, 0.96      , 0.92307692, 0.92153846,\n",
            "       0.95230769, 1.        , 0.96923077, 0.96615385, 0.99384615,\n",
            "       0.96769231, 0.98769231, 0.95230769, 0.99538462, 0.98615385]), 'split7_test_score': array([0.95384615, 0.99230769, 0.94153846, 0.94      , 0.93846154,\n",
            "       0.99846154, 0.95692308, 0.93076923, 0.91692308, 0.94      ,\n",
            "       0.94615385, 0.96      , 0.92615385, 0.96153846, 0.95384615,\n",
            "       0.93076923, 0.96769231, 0.91692308, 0.99538462, 0.98153846]), 'split8_test_score': array([0.98461538, 0.98923077, 0.97692308, 0.98461538, 0.96      ,\n",
            "       0.99692308, 0.97384615, 0.96923077, 0.91384615, 0.88153846,\n",
            "       0.96615385, 0.98769231, 0.98615385, 0.96307692, 0.97076923,\n",
            "       0.96307692, 0.96461538, 0.97538462, 0.95230769, 0.97846154]), 'split9_test_score': array([0.97688752, 0.98459168, 0.96764253, 0.96456086, 0.95223421,\n",
            "       1.        , 0.97380586, 0.96610169, 0.95223421, 0.92449923,\n",
            "       0.96610169, 0.99229584, 0.98459168, 0.98613251, 0.97688752,\n",
            "       0.96610169, 0.97380586, 0.96764253, 0.99691834, 0.97688752]), 'mean_test_score': array([0.97522721, 0.9912284 , 0.96707195, 0.96768686, 0.95183881,\n",
            "       0.99569231, 0.96184212, 0.96107171, 0.92630034, 0.92183454,\n",
            "       0.95707171, 0.98753728, 0.95753609, 0.96830556, 0.97676568,\n",
            "       0.96045632, 0.97107289, 0.95922579, 0.99015337, 0.98107337]), 'std_test_score': array([0.01099596, 0.00529   , 0.01615293, 0.01435099, 0.01421786,\n",
            "       0.00273483, 0.01200781, 0.01423287, 0.02720637, 0.02103439,\n",
            "       0.0177324 , 0.01000417, 0.01831905, 0.01268721, 0.01218104,\n",
            "       0.01559738, 0.01144585, 0.01578063, 0.01272721, 0.00576103]), 'rank_test_score': array([ 7,  2, 11, 10, 18,  1, 12, 13, 19, 20, 17,  4, 16,  9,  6, 14,  8,\n",
            "       15,  3,  5], dtype=int32)}\n"
          ],
          "name": "stdout"
        }
      ]
    },
    {
      "cell_type": "code",
      "metadata": {
        "id": "1ZOlRhckvNQs",
        "colab_type": "code",
        "colab": {
          "base_uri": "https://localhost:8080/",
          "height": 34
        },
        "outputId": "051dbe5b-cb75-4692-a5bd-d1fa20744f69"
      },
      "source": [
        "print(DD_model.best_score_)"
      ],
      "execution_count": 139,
      "outputs": [
        {
          "output_type": "stream",
          "text": [
            "0.9956923076923078\n"
          ],
          "name": "stdout"
        }
      ]
    },
    {
      "cell_type": "code",
      "metadata": {
        "id": "YEObe72TvXmM",
        "colab_type": "code",
        "colab": {
          "base_uri": "https://localhost:8080/",
          "height": 34
        },
        "outputId": "40f5a7eb-56fe-4c61-dc56-db828675dbc2"
      },
      "source": [
        "print(DD_model.best_params_)"
      ],
      "execution_count": 141,
      "outputs": [
        {
          "output_type": "stream",
          "text": [
            "{'min_samples_leaf': 10, 'max_features': 'log2', 'max_depth': 31, 'criterion': 'entropy'}\n"
          ],
          "name": "stdout"
        }
      ]
    },
    {
      "cell_type": "code",
      "metadata": {
        "id": "3B1Luo3kvblP",
        "colab_type": "code",
        "colab": {
          "base_uri": "https://localhost:8080/",
          "height": 34
        },
        "outputId": "3de4a45f-4e92-4b64-a6b0-1a46e381a621"
      },
      "source": [
        "y_prob=DD_model.predict_proba(X_test)[:,1] #This will give you positive class prediction probabilities\n",
        "y_pred=np.where(y_prob>0.5,1,0) #This will threshold the probabilities to give class predictions\n",
        "DD_model.score(X_test,y_pred)"
      ],
      "execution_count": 142,
      "outputs": [
        {
          "output_type": "execute_result",
          "data": {
            "text/plain": [
              "1.0"
            ]
          },
          "metadata": {
            "tags": []
          },
          "execution_count": 142
        }
      ]
    },
    {
      "cell_type": "code",
      "metadata": {
        "id": "MFp-16Tqv2LS",
        "colab_type": "code",
        "colab": {
          "base_uri": "https://localhost:8080/",
          "height": 51
        },
        "outputId": "67275bcf-1d62-42c7-9636-54070685c7f6"
      },
      "source": [
        "confusion_matrix=metrics.confusion_matrix(y_test,y_pred)\n",
        "confusion_matrix"
      ],
      "execution_count": 144,
      "outputs": [
        {
          "output_type": "execute_result",
          "data": {
            "text/plain": [
              "array([[845,   0],\n",
              "       [  2, 778]])"
            ]
          },
          "metadata": {
            "tags": []
          },
          "execution_count": 144
        }
      ]
    },
    {
      "cell_type": "code",
      "metadata": {
        "id": "ZsGW7j69v8z2",
        "colab_type": "code",
        "colab": {
          "base_uri": "https://localhost:8080/",
          "height": 54
        },
        "outputId": "c32cb171-b7d1-47ee-9c32-94e9bacc5b1a"
      },
      "source": [
        "auc_roc=metrics.classification_report(y_test,y_pred)\n",
        "auc_roc"
      ],
      "execution_count": 145,
      "outputs": [
        {
          "output_type": "execute_result",
          "data": {
            "text/plain": [
              "'              precision    recall  f1-score   support\\n\\n           0       1.00      1.00      1.00       845\\n           1       1.00      1.00      1.00       780\\n\\n    accuracy                           1.00      1625\\n   macro avg       1.00      1.00      1.00      1625\\nweighted avg       1.00      1.00      1.00      1625\\n'"
            ]
          },
          "metadata": {
            "tags": []
          },
          "execution_count": 145
        }
      ]
    },
    {
      "cell_type": "code",
      "metadata": {
        "id": "e1E6wbNvwLs3",
        "colab_type": "code",
        "colab": {
          "base_uri": "https://localhost:8080/",
          "height": 34
        },
        "outputId": "0983a7c8-93cb-4fb6-a823-6b9663eae62f"
      },
      "source": [
        "auc_roc=metrics.roc_auc_score(y_test,y_pred)\n",
        "auc_roc"
      ],
      "execution_count": 146,
      "outputs": [
        {
          "output_type": "execute_result",
          "data": {
            "text/plain": [
              "0.9987179487179487"
            ]
          },
          "metadata": {
            "tags": []
          },
          "execution_count": 146
        }
      ]
    },
    {
      "cell_type": "code",
      "metadata": {
        "id": "BuQ_9H5cwRze",
        "colab_type": "code",
        "colab": {
          "base_uri": "https://localhost:8080/",
          "height": 34
        },
        "outputId": "362caa3d-5443-403f-cdaa-86faf960aedc"
      },
      "source": [
        "from sklearn.metrics import roc_curve,auc\n",
        "false_positive_rate,true_positive_rate,thresholds=roc_curve(y_test,y_prob)\n",
        "roc_auc=auc(false_positive_rate,true_positive_rate)\n",
        "roc_auc"
      ],
      "execution_count": 147,
      "outputs": [
        {
          "output_type": "execute_result",
          "data": {
            "text/plain": [
              "0.9999969655590957"
            ]
          },
          "metadata": {
            "tags": []
          },
          "execution_count": 147
        }
      ]
    },
    {
      "cell_type": "code",
      "metadata": {
        "id": "VjxU0qmBweQC",
        "colab_type": "code",
        "colab": {
          "base_uri": "https://localhost:8080/",
          "height": 638
        },
        "outputId": "65b6652e-e381-4f33-a4cf-defeae37cf46"
      },
      "source": [
        "import matplotlib.pyplot as plt\n",
        "plt.figure(figsize=(10,10))\n",
        "plt.title('Receiver Operating Characteristic')\n",
        "plt.plot(false_positive_rate,true_positive_rate, color='red',label = 'AUC = %0.2f' % roc_auc)\n",
        "plt.legend(loc = 'lower right')\n",
        "plt.plot([0, 1], [0, 1],linestyle='--')\n",
        "plt.axis('tight')\n",
        "plt.ylabel('True Positive Rate')\n",
        "plt.xlabel('False Positive Rate')"
      ],
      "execution_count": 148,
      "outputs": [
        {
          "output_type": "execute_result",
          "data": {
            "text/plain": [
              "Text(0.5, 0, 'False Positive Rate')"
            ]
          },
          "metadata": {
            "tags": []
          },
          "execution_count": 148
        },
        {
          "output_type": "display_data",
          "data": {
            "image/png": "[encoded data removed]",
            "text/plain": [
              "<Figure size 720x720 with 1 Axes>"
            ]
          },
          "metadata": {
            "tags": []
          }
        }
      ]
    },
    {
      "cell_type": "markdown",
      "metadata": {
        "id": "zg0HoU68wjKB",
        "colab_type": "text"
      },
      "source": [
        "Neural Network\n",
        "\n",
        "Applying default Neural Network Model"
      ]
    },
    {
      "cell_type": "code",
      "metadata": {
        "id": "IBeDI-ifwg1n",
        "colab_type": "code",
        "colab": {
          "base_uri": "https://localhost:8080/",
          "height": 153
        },
        "outputId": "d8d88395-97ea-43b2-b5d8-2c84ea1c7b69"
      },
      "source": [
        "from sklearn.neural_network import MLPClassifier\n",
        "mlp=MLPClassifier()\n",
        "mlp.fit(X_train,y_train)"
      ],
      "execution_count": 149,
      "outputs": [
        {
          "output_type": "execute_result",
          "data": {
            "text/plain": [
              "MLPClassifier(activation='relu', alpha=0.0001, batch_size='auto', beta_1=0.9,\n",
              "              beta_2=0.999, early_stopping=False, epsilon=1e-08,\n",
              "              hidden_layer_sizes=(100,), learning_rate='constant',\n",
              "              learning_rate_init=0.001, max_fun=15000, max_iter=200,\n",
              "              momentum=0.9, n_iter_no_change=10, nesterovs_momentum=True,\n",
              "              power_t=0.5, random_state=None, shuffle=True, solver='adam',\n",
              "              tol=0.0001, validation_fraction=0.1, verbose=False,\n",
              "              warm_start=False)"
            ]
          },
          "metadata": {
            "tags": []
          },
          "execution_count": 149
        }
      ]
    },
    {
      "cell_type": "code",
      "metadata": {
        "id": "AxZr8h-hwy9t",
        "colab_type": "code",
        "colab": {
          "base_uri": "https://localhost:8080/",
          "height": 34
        },
        "outputId": "cfba2715-0c67-426c-8216-8c3948d30220"
      },
      "source": [
        "y_prob = mlp.predict_proba(X_test)[:,1] # This will give you positive class prediction probabilities  \n",
        "y_pred = np.where(y_prob > 0.5, 1, 0) # This will threshold the probabilities to give class predictions.\n",
        "mlp.score(X_test, y_pred)"
      ],
      "execution_count": 150,
      "outputs": [
        {
          "output_type": "execute_result",
          "data": {
            "text/plain": [
              "1.0"
            ]
          },
          "metadata": {
            "tags": []
          },
          "execution_count": 150
        }
      ]
    },
    {
      "cell_type": "code",
      "metadata": {
        "id": "tnxGvrIHw1fj",
        "colab_type": "code",
        "colab": {
          "base_uri": "https://localhost:8080/",
          "height": 51
        },
        "outputId": "954dc5b1-f170-408c-eef1-8b73d49c94c6"
      },
      "source": [
        "confusion_matrix=metrics.confusion_matrix(y_test,y_pred)\n",
        "confusion_matrix"
      ],
      "execution_count": 151,
      "outputs": [
        {
          "output_type": "execute_result",
          "data": {
            "text/plain": [
              "array([[845,   0],\n",
              "       [  0, 780]])"
            ]
          },
          "metadata": {
            "tags": []
          },
          "execution_count": 151
        }
      ]
    },
    {
      "cell_type": "code",
      "metadata": {
        "id": "Ln0Tg6l4w3za",
        "colab_type": "code",
        "colab": {
          "base_uri": "https://localhost:8080/",
          "height": 54
        },
        "outputId": "c8a01255-8260-4a1c-8570-2866013a97e4"
      },
      "source": [
        "auc_roc=metrics.classification_report(y_test,y_pred)\n",
        "auc_roc"
      ],
      "execution_count": 153,
      "outputs": [
        {
          "output_type": "execute_result",
          "data": {
            "text/plain": [
              "'              precision    recall  f1-score   support\\n\\n           0       1.00      1.00      1.00       845\\n           1       1.00      1.00      1.00       780\\n\\n    accuracy                           1.00      1625\\n   macro avg       1.00      1.00      1.00      1625\\nweighted avg       1.00      1.00      1.00      1625\\n'"
            ]
          },
          "metadata": {
            "tags": []
          },
          "execution_count": 153
        }
      ]
    },
    {
      "cell_type": "code",
      "metadata": {
        "id": "bsUsjkSgw555",
        "colab_type": "code",
        "colab": {
          "base_uri": "https://localhost:8080/",
          "height": 34
        },
        "outputId": "deae3ba3-de2a-4dc5-f849-a415801f96d1"
      },
      "source": [
        "auc_roc=metrics.roc_auc_score(y_test,y_pred)\n",
        "auc_roc"
      ],
      "execution_count": 154,
      "outputs": [
        {
          "output_type": "execute_result",
          "data": {
            "text/plain": [
              "1.0"
            ]
          },
          "metadata": {
            "tags": []
          },
          "execution_count": 154
        }
      ]
    },
    {
      "cell_type": "code",
      "metadata": {
        "id": "IVSJODLRw8aB",
        "colab_type": "code",
        "colab": {
          "base_uri": "https://localhost:8080/",
          "height": 34
        },
        "outputId": "db1ffeb7-454d-41af-af5b-bc50df1e35a0"
      },
      "source": [
        "from sklearn.metrics import roc_curve, auc\n",
        "false_positive_rate, true_positive_rate, thresholds = roc_curve(y_test, y_prob)\n",
        "roc_auc = auc(false_positive_rate, true_positive_rate)\n",
        "roc_auc"
      ],
      "execution_count": 155,
      "outputs": [
        {
          "output_type": "execute_result",
          "data": {
            "text/plain": [
              "1.0"
            ]
          },
          "metadata": {
            "tags": []
          },
          "execution_count": 155
        }
      ]
    },
    {
      "cell_type": "code",
      "metadata": {
        "id": "J9IZ58B6w-hR",
        "colab_type": "code",
        "colab": {
          "base_uri": "https://localhost:8080/",
          "height": 638
        },
        "outputId": "ad54ab6a-2160-4843-a5a9-b49ec42f10cc"
      },
      "source": [
        "import matplotlib.pyplot as plt\n",
        "plt.figure(figsize=(10,10))\n",
        "plt.title('Receiver Operating Characteristic')\n",
        "plt.plot(false_positive_rate,true_positive_rate, color='red',label = 'AUC = %0.2f' % roc_auc)\n",
        "plt.legend(loc = 'lower right')\n",
        "plt.plot([0, 1], [0, 1],linestyle='--')\n",
        "plt.axis('tight')\n",
        "plt.ylabel('True Positive Rate')\n",
        "plt.xlabel('False Positive Rate')"
      ],
      "execution_count": 156,
      "outputs": [
        {
          "output_type": "execute_result",
          "data": {
            "text/plain": [
              "Text(0.5, 0, 'False Positive Rate')"
            ]
          },
          "metadata": {
            "tags": []
          },
          "execution_count": 156
        },
        {
          "output_type": "display_data",
          "data": {
            "image/png": "[encoded data removed]",
            "text/plain": [
              "<Figure size 720x720 with 1 Axes>"
            ]
          },
          "metadata": {
            "tags": []
          }
        }
      ]
    },
    {
      "cell_type": "markdown",
      "metadata": {
        "id": "rlBvNXhQxDgW",
        "colab_type": "text"
      },
      "source": [
        "Tuning the hyperparameters of the neural network\n",
        "It is turning out to be computationally expensive for me with tuned model. Hence I am not running this. Also any suggestion to improvise it is welcome. :)\n",
        "\n",
        "1) hidden_layer_sizes : Number of hidden layers in the network.(default is 100).Large number may overfit the data.\n",
        "\n",
        "2)activation: Activation function for the hidden layer. A)‘logistic’, the logistic sigmoid function, returns f(x) = 1 / (1 + exp(-x)). B)‘tanh’, the hyperbolic tan function, returns f(x) = tanh(x). C)‘relu’, the rectified linear unit function, returns f(x) = max(0, x)\n",
        "\n",
        "3)alpha: L2 penalty (regularization term) parameter.(default 0.0001)\n",
        "\n",
        "4)max_iter: Maximum number of iterations. The solver iterates until convergence (determined by ‘tol’) or this number of iterations.(default 200)"
      ]
    },
    {
      "cell_type": "code",
      "metadata": {
        "id": "6FyYPfBcxAJA",
        "colab_type": "code",
        "colab": {
          "base_uri": "https://localhost:8080/",
          "height": 54
        },
        "outputId": "cb6f3e9b-05dd-45e3-bb53-0a5494184026"
      },
      "source": [
        "'''\n",
        "from sklearn.neural_network import MLPClassifier\n",
        "\n",
        "mlp = MLPClassifier()\n",
        "\n",
        "tuned_parameters={'hidden_layer_sizes': range(1,200,10) , 'activation': ['tanh','logistic','relu'],\n",
        "                  'alpha':[0.0001,0.001,0.01,0.1,1,10], 'max_iter': range(50,200,50)\n",
        "    \n",
        "}\n",
        "'''"
      ],
      "execution_count": 157,
      "outputs": [
        {
          "output_type": "execute_result",
          "data": {
            "text/plain": [
              "\"\\nfrom sklearn.neural_network import MLPClassifier\\n\\nmlp = MLPClassifier()\\n\\ntuned_parameters={'hidden_layer_sizes': range(1,200,10) , 'activation': ['tanh','logistic','relu'],\\n                  'alpha':[0.0001,0.001,0.01,0.1,1,10], 'max_iter': range(50,200,50)\\n    \\n}\\n\""
            ]
          },
          "metadata": {
            "tags": []
          },
          "execution_count": 157
        }
      ]
    },
    {
      "cell_type": "code",
      "metadata": {
        "id": "NeaCblDSxGAZ",
        "colab_type": "code",
        "colab": {}
      },
      "source": [
        "#from sklearn.grid_search import RandomizedSearchCV\n",
        "#model_mlp= RandomizedSearchCV(mlp_model, tuned_parameters,cv=10,scoring='accuracy',n_iter=5,n_jobs= -1,random_state=5)"
      ],
      "execution_count": 0,
      "outputs": []
    },
    {
      "cell_type": "code",
      "metadata": {
        "id": "ekUjfn4CxIni",
        "colab_type": "code",
        "colab": {}
      },
      "source": [
        "#model_mlp.fit(X_train, y_train)"
      ],
      "execution_count": 0,
      "outputs": []
    },
    {
      "cell_type": "code",
      "metadata": {
        "id": "9gdznRThxJ_z",
        "colab_type": "code",
        "colab": {}
      },
      "source": [
        "#print(model_mlp.grid_scores_)"
      ],
      "execution_count": 0,
      "outputs": []
    },
    {
      "cell_type": "code",
      "metadata": {
        "id": "jVNGC3Z9xLv0",
        "colab_type": "code",
        "colab": {}
      },
      "source": [
        "#print(model_mlp.best_score_)"
      ],
      "execution_count": 0,
      "outputs": []
    },
    {
      "cell_type": "code",
      "metadata": {
        "id": "8pIgdneJxNBw",
        "colab_type": "code",
        "colab": {}
      },
      "source": [
        "#print(model_mlp.best_params_)"
      ],
      "execution_count": 0,
      "outputs": []
    },
    {
      "cell_type": "code",
      "metadata": {
        "id": "KfXW-RquxOPN",
        "colab_type": "code",
        "colab": {
          "base_uri": "https://localhost:8080/",
          "height": 54
        },
        "outputId": "fcba22a7-2b56-4e0a-f943-8a7eeb18bcfb"
      },
      "source": [
        "'''\n",
        "y_prob = model_LR.predict_proba(X_test)[:,1] # This will give you positive class prediction probabilities  \n",
        "y_pred = np.where(y_prob > 0.5, 1, 0) # This will threshold the probabilities to give class predictions.\n",
        "model_LR.score(X_test, y_pred)\n",
        "'''"
      ],
      "execution_count": 163,
      "outputs": [
        {
          "output_type": "execute_result",
          "data": {
            "text/plain": [
              "'\\ny_prob = model_LR.predict_proba(X_test)[:,1] # This will give you positive class prediction probabilities  \\ny_pred = np.where(y_prob > 0.5, 1, 0) # This will threshold the probabilities to give class predictions.\\nmodel_LR.score(X_test, y_pred)\\n'"
            ]
          },
          "metadata": {
            "tags": []
          },
          "execution_count": 163
        }
      ]
    },
    {
      "cell_type": "code",
      "metadata": {
        "id": "6p7enAZXxPlR",
        "colab_type": "code",
        "colab": {}
      },
      "source": [
        "#confusion_matrix=metrics.confusion_matrix(y_test,y_pred)\n",
        "#confusion_matrix"
      ],
      "execution_count": 0,
      "outputs": []
    },
    {
      "cell_type": "code",
      "metadata": {
        "id": "-ZzoJtfHxRQo",
        "colab_type": "code",
        "colab": {}
      },
      "source": [
        "#auc_roc=metrics.classification_report(y_test,y_pred)\n",
        "#auc_roc"
      ],
      "execution_count": 0,
      "outputs": []
    },
    {
      "cell_type": "code",
      "metadata": {
        "id": "fhegYCIoxSYn",
        "colab_type": "code",
        "colab": {}
      },
      "source": [
        "#auc_roc=metrics.roc_auc_score(y_test,y_pred)\n",
        "#auc_roc"
      ],
      "execution_count": 0,
      "outputs": []
    },
    {
      "cell_type": "code",
      "metadata": {
        "id": "GCVSOKfgxUA_",
        "colab_type": "code",
        "colab": {
          "base_uri": "https://localhost:8080/",
          "height": 54
        },
        "outputId": "5fc74aaa-f8c1-4566-8fd2-a45e897e5adb"
      },
      "source": [
        "'''\n",
        "from sklearn.metrics import roc_curve, auc\n",
        "false_positive_rate, true_positive_rate, thresholds = roc_curve(y_test, y_prob)\n",
        "roc_auc = auc(false_positive_rate, true_positive_rate)\n",
        "'''"
      ],
      "execution_count": 167,
      "outputs": [
        {
          "output_type": "execute_result",
          "data": {
            "text/plain": [
              "'\\nfrom sklearn.metrics import roc_curve, auc\\nfalse_positive_rate, true_positive_rate, thresholds = roc_curve(y_test, y_prob)\\nroc_auc = auc(false_positive_rate, true_positive_rate)\\n'"
            ]
          },
          "metadata": {
            "tags": []
          },
          "execution_count": 167
        }
      ]
    },
    {
      "cell_type": "code",
      "metadata": {
        "id": "HPW5Wp13xVS8",
        "colab_type": "code",
        "colab": {
          "base_uri": "https://localhost:8080/",
          "height": 54
        },
        "outputId": "6de9a0a0-153f-4a3d-8a0a-5c59ddc4b4dd"
      },
      "source": [
        "'''\n",
        "import matplotlib.pyplot as plt\n",
        "plt.figure(figsize=(10,10))\n",
        "plt.title('Receiver Operating Characteristic')\n",
        "plt.plot(false_positive_rate,true_positive_rate, color='red',label = 'AUC = %0.2f' % roc_auc)\n",
        "plt.legend(loc = 'lower right')\n",
        "plt.plot([0, 1], [0, 1],linestyle='--')\n",
        "plt.axis('tight')\n",
        "plt.ylabel('True Positive Rate')\n",
        "plt.xlabel('False Positive Rate')\n",
        "'''"
      ],
      "execution_count": 168,
      "outputs": [
        {
          "output_type": "execute_result",
          "data": {
            "text/plain": [
              "\"\\nimport matplotlib.pyplot as plt\\nplt.figure(figsize=(10,10))\\nplt.title('Receiver Operating Characteristic')\\nplt.plot(false_positive_rate,true_positive_rate, color='red',label = 'AUC = %0.2f' % roc_auc)\\nplt.legend(loc = 'lower right')\\nplt.plot([0, 1], [0, 1],linestyle='--')\\nplt.axis('tight')\\nplt.ylabel('True Positive Rate')\\nplt.xlabel('False Positive Rate')\\n\""
            ]
          },
          "metadata": {
            "tags": []
          },
          "execution_count": 168
        }
      ]
    },
    {
      "cell_type": "code",
      "metadata": {
        "id": "YKH_iv7QxXGd",
        "colab_type": "code",
        "colab": {}
      },
      "source": [
        ""
      ],
      "execution_count": 0,
      "outputs": []
    }
  ]
}