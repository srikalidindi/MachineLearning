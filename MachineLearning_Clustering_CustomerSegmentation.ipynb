{
  "nbformat": 4,
  "nbformat_minor": 0,
  "metadata": {
    "colab": {
      "name": "MachineLearning-Clustering-CustomerSegmentation.ipynb",
      "provenance": [],
      "collapsed_sections": []
    },
    "kernelspec": {
      "name": "python3",
      "display_name": "Python 3"
    }
  },
  "cells": [
    {
      "cell_type": "code",
      "metadata": {
        "id": "t67ltrJjV5TF",
        "colab_type": "code",
        "colab": {}
      },
      "source": [
        "#Customer Segmentation"
      ],
      "execution_count": 0,
      "outputs": []
    },
    {
      "cell_type": "code",
      "metadata": {
        "id": "jVsuR-zKWPgX",
        "colab_type": "code",
        "outputId": "a4251443-7eae-4b46-8878-6388f7cd5560",
        "colab": {
          "base_uri": "https://localhost:8080/",
          "height": 17
        }
      },
      "source": [
        "#imports\n",
        "import pandas as pd\n",
        "import numpy as np\n",
        "import matplotlib as mpl\n",
        "import matplotlib.pyplot as plt\n",
        "import seaborn as sns\n",
        "import datetime,nltk,warnings\n",
        "import matplotlib.cm as cm\n",
        "import itertools\n",
        "from pathlib import Path\n",
        "from sklearn.preprocessing import StandardScaler\n",
        "from sklearn.cluster import KMeans\n",
        "from sklearn.metrics import silhouette_samples,silhouette_score\n",
        "from sklearn import preprocessing,model_selection,metrics,feature_selection\n",
        "from sklearn.model_selection import GridSearchCV,learning_curve\n",
        "from sklearn.svm import SVC\n",
        "from sklearn.metrics import confusion_matrix\n",
        "from sklearn import neighbors, linear_model,svm,tree,ensemble\n",
        "from wordcloud import WordCloud,STOPWORDS\n",
        "from sklearn.ensemble import AdaBoostClassifier\n",
        "from sklearn.decomposition import PCA\n",
        "from IPython.display import display,HTML\n",
        "import plotly.graph_objs as go\n",
        "from plotly.offline import init_notebook_mode,iplot\n",
        "init_notebook_mode(connected=True)\n",
        "warnings.filterwarnings(\"ignore\")\n",
        "plt.rcParams[\"patch.force_edgecolor\"]=True\n",
        "plt.style.use('fivethirtyeight')\n",
        "mpl.rc('patch',edgecolor='dimgray',linewidth=1)\n",
        "%matplotlib inline"
      ],
      "execution_count": 18,
      "outputs": [
        {
          "output_type": "display_data",
          "data": {
            "text/html": [
              "        <script type=\"text/javascript\">\n",
              "        window.PlotlyConfig = {MathJaxConfig: 'local'};\n",
              "        if (window.MathJax) {MathJax.Hub.Config({SVG: {font: \"STIX-Web\"}});}\n",
              "        if (typeof require !== 'undefined') {\n",
              "        require.undef(\"plotly\");\n",
              "        requirejs.config({\n",
              "            paths: {\n",
              "                'plotly': ['https://cdn.plot.ly/plotly-latest.min']\n",
              "            }\n",
              "        });\n",
              "        require(['plotly'], function(Plotly) {\n",
              "            window._Plotly = Plotly;\n",
              "        });\n",
              "        }\n",
              "        </script>\n",
              "        "
            ]
          },
          "metadata": {
            "tags": []
          }
        }
      ]
    },
    {
      "cell_type": "code",
      "metadata": {
        "id": "M6er0SO0rFv0",
        "colab_type": "code",
        "outputId": "c271ce60-2ad5-40ac-c083-4a9e3a3f233c",
        "colab": {
          "resources": {
            "http://localhost:8080/nbextensions/google.colab/files.js": {
              "data": "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",
              "ok": true,
              "headers": [
                [
                  "content-type",
                  "application/javascript"
                ]
              ],
              "status": 200,
              "status_text": ""
            }
          },
          "base_uri": "https://localhost:8080/",
          "height": 74
        }
      },
      "source": [
        "from google.colab import files\n",
        "uploaded = files.upload()"
      ],
      "execution_count": 11,
      "outputs": [
        {
          "output_type": "display_data",
          "data": {
            "text/html": [
              "\n",
              "     <input type=\"file\" id=\"files-e0a9d468-bfd3-4d3e-8545-9f95ef12801c\" name=\"files[]\" multiple disabled />\n",
              "     <output id=\"result-e0a9d468-bfd3-4d3e-8545-9f95ef12801c\">\n",
              "      Upload widget is only available when the cell has been executed in the\n",
              "      current browser session. Please rerun this cell to enable.\n",
              "      </output>\n",
              "      <script src=\"/nbextensions/google.colab/files.js\"></script> "
            ],
            "text/plain": [
              "<IPython.core.display.HTML object>"
            ]
          },
          "metadata": {
            "tags": []
          }
        },
        {
          "output_type": "stream",
          "text": [
            "Saving data.csv.zip to data.csv (1).zip\n"
          ],
          "name": "stdout"
        }
      ]
    },
    {
      "cell_type": "code",
      "metadata": {
        "id": "ERWJXibvqFO9",
        "colab_type": "code",
        "colab": {}
      },
      "source": [
        "import zipfile\n",
        "zip_ref=zipfile.ZipFile(\"data.csv (1).zip\",'r')\n",
        "zip_ref.extractall(\"/tmp\")\n",
        "zip_ref.close()"
      ],
      "execution_count": 0,
      "outputs": []
    },
    {
      "cell_type": "code",
      "metadata": {
        "id": "cylGdNYGX2Sa",
        "colab_type": "code",
        "outputId": "edb4593b-66d2-4a37-bd8e-499ba3036003",
        "colab": {
          "base_uri": "https://localhost:8080/",
          "height": 431
        }
      },
      "source": [
        "#reading Data\n",
        "df_initial = pd.read_csv('/tmp/data.csv',encoding=\"ISO-8859-1\",\n",
        "                         dtype={'CustomerID': str,'InvoiceID': str})\n",
        "print('Dataframe dimensions:', df_initial.shape)\n",
        "#______\n",
        "df_initial['InvoiceDate'] = pd.to_datetime(df_initial['InvoiceDate'])\n",
        "#____________________________________________________________\n",
        "# gives some infos on columns types and numer of null values\n",
        "tab_info=pd.DataFrame(df_initial.dtypes).T.rename(index={0:'column type'})\n",
        "tab_info=tab_info.append(pd.DataFrame(df_initial.isnull().sum()).T.rename(index={0:'null values (nb)'}))\n",
        "tab_info=tab_info.append(pd.DataFrame(df_initial.isnull().sum()/df_initial.shape[0]*100).T.\n",
        "                         rename(index={0:'null values (%)'}))\n",
        "display(tab_info)\n",
        "#__________________\n",
        "# show first lines\n",
        "display(df_initial[:5])"
      ],
      "execution_count": 19,
      "outputs": [
        {
          "output_type": "stream",
          "text": [
            "Dataframe dimensions: (541909, 8)\n"
          ],
          "name": "stdout"
        },
        {
          "output_type": "display_data",
          "data": {
            "text/html": [
              "<div>\n",
              "<style scoped>\n",
              "    .dataframe tbody tr th:only-of-type {\n",
              "        vertical-align: middle;\n",
              "    }\n",
              "\n",
              "    .dataframe tbody tr th {\n",
              "        vertical-align: top;\n",
              "    }\n",
              "\n",
              "    .dataframe thead th {\n",
              "        text-align: right;\n",
              "    }\n",
              "</style>\n",
              "<table border=\"1\" class=\"dataframe\">\n",
              "  <thead>\n",
              "    <tr style=\"text-align: right;\">\n",
              "      <th></th>\n",
              "      <th>InvoiceNo</th>\n",
              "      <th>StockCode</th>\n",
              "      <th>Description</th>\n",
              "      <th>Quantity</th>\n",
              "      <th>InvoiceDate</th>\n",
              "      <th>UnitPrice</th>\n",
              "      <th>CustomerID</th>\n",
              "      <th>Country</th>\n",
              "    </tr>\n",
              "  </thead>\n",
              "  <tbody>\n",
              "    <tr>\n",
              "      <th>column type</th>\n",
              "      <td>object</td>\n",
              "      <td>object</td>\n",
              "      <td>object</td>\n",
              "      <td>int64</td>\n",
              "      <td>datetime64[ns]</td>\n",
              "      <td>float64</td>\n",
              "      <td>object</td>\n",
              "      <td>object</td>\n",
              "    </tr>\n",
              "    <tr>\n",
              "      <th>null values (nb)</th>\n",
              "      <td>0</td>\n",
              "      <td>0</td>\n",
              "      <td>1454</td>\n",
              "      <td>0</td>\n",
              "      <td>0</td>\n",
              "      <td>0</td>\n",
              "      <td>135080</td>\n",
              "      <td>0</td>\n",
              "    </tr>\n",
              "    <tr>\n",
              "      <th>null values (%)</th>\n",
              "      <td>0</td>\n",
              "      <td>0</td>\n",
              "      <td>0.268311</td>\n",
              "      <td>0</td>\n",
              "      <td>0</td>\n",
              "      <td>0</td>\n",
              "      <td>24.9267</td>\n",
              "      <td>0</td>\n",
              "    </tr>\n",
              "  </tbody>\n",
              "</table>\n",
              "</div>"
            ],
            "text/plain": [
              "                 InvoiceNo StockCode Description  ... UnitPrice CustomerID Country\n",
              "column type         object    object      object  ...   float64     object  object\n",
              "null values (nb)         0         0        1454  ...         0     135080       0\n",
              "null values (%)          0         0    0.268311  ...         0    24.9267       0\n",
              "\n",
              "[3 rows x 8 columns]"
            ]
          },
          "metadata": {
            "tags": []
          }
        },
        {
          "output_type": "display_data",
          "data": {
            "text/html": [
              "<div>\n",
              "<style scoped>\n",
              "    .dataframe tbody tr th:only-of-type {\n",
              "        vertical-align: middle;\n",
              "    }\n",
              "\n",
              "    .dataframe tbody tr th {\n",
              "        vertical-align: top;\n",
              "    }\n",
              "\n",
              "    .dataframe thead th {\n",
              "        text-align: right;\n",
              "    }\n",
              "</style>\n",
              "<table border=\"1\" class=\"dataframe\">\n",
              "  <thead>\n",
              "    <tr style=\"text-align: right;\">\n",
              "      <th></th>\n",
              "      <th>InvoiceNo</th>\n",
              "      <th>StockCode</th>\n",
              "      <th>Description</th>\n",
              "      <th>Quantity</th>\n",
              "      <th>InvoiceDate</th>\n",
              "      <th>UnitPrice</th>\n",
              "      <th>CustomerID</th>\n",
              "      <th>Country</th>\n",
              "    </tr>\n",
              "  </thead>\n",
              "  <tbody>\n",
              "    <tr>\n",
              "      <th>0</th>\n",
              "      <td>536365</td>\n",
              "      <td>85123A</td>\n",
              "      <td>WHITE HANGING HEART T-LIGHT HOLDER</td>\n",
              "      <td>6</td>\n",
              "      <td>2010-12-01 08:26:00</td>\n",
              "      <td>2.55</td>\n",
              "      <td>17850</td>\n",
              "      <td>United Kingdom</td>\n",
              "    </tr>\n",
              "    <tr>\n",
              "      <th>1</th>\n",
              "      <td>536365</td>\n",
              "      <td>71053</td>\n",
              "      <td>WHITE METAL LANTERN</td>\n",
              "      <td>6</td>\n",
              "      <td>2010-12-01 08:26:00</td>\n",
              "      <td>3.39</td>\n",
              "      <td>17850</td>\n",
              "      <td>United Kingdom</td>\n",
              "    </tr>\n",
              "    <tr>\n",
              "      <th>2</th>\n",
              "      <td>536365</td>\n",
              "      <td>84406B</td>\n",
              "      <td>CREAM CUPID HEARTS COAT HANGER</td>\n",
              "      <td>8</td>\n",
              "      <td>2010-12-01 08:26:00</td>\n",
              "      <td>2.75</td>\n",
              "      <td>17850</td>\n",
              "      <td>United Kingdom</td>\n",
              "    </tr>\n",
              "    <tr>\n",
              "      <th>3</th>\n",
              "      <td>536365</td>\n",
              "      <td>84029G</td>\n",
              "      <td>KNITTED UNION FLAG HOT WATER BOTTLE</td>\n",
              "      <td>6</td>\n",
              "      <td>2010-12-01 08:26:00</td>\n",
              "      <td>3.39</td>\n",
              "      <td>17850</td>\n",
              "      <td>United Kingdom</td>\n",
              "    </tr>\n",
              "    <tr>\n",
              "      <th>4</th>\n",
              "      <td>536365</td>\n",
              "      <td>84029E</td>\n",
              "      <td>RED WOOLLY HOTTIE WHITE HEART.</td>\n",
              "      <td>6</td>\n",
              "      <td>2010-12-01 08:26:00</td>\n",
              "      <td>3.39</td>\n",
              "      <td>17850</td>\n",
              "      <td>United Kingdom</td>\n",
              "    </tr>\n",
              "  </tbody>\n",
              "</table>\n",
              "</div>"
            ],
            "text/plain": [
              "  InvoiceNo StockCode  ... CustomerID         Country\n",
              "0    536365    85123A  ...      17850  United Kingdom\n",
              "1    536365     71053  ...      17850  United Kingdom\n",
              "2    536365    84406B  ...      17850  United Kingdom\n",
              "3    536365    84029G  ...      17850  United Kingdom\n",
              "4    536365    84029E  ...      17850  United Kingdom\n",
              "\n",
              "[5 rows x 8 columns]"
            ]
          },
          "metadata": {
            "tags": []
          }
        }
      ]
    },
    {
      "cell_type": "code",
      "metadata": {
        "id": "MnKXUhcean7N",
        "colab_type": "code",
        "colab": {}
      },
      "source": [
        "#25% of the entries are not assigned to a particular customer."
      ],
      "execution_count": 0,
      "outputs": []
    },
    {
      "cell_type": "code",
      "metadata": {
        "id": "TuWf-Pw5aIUy",
        "colab_type": "code",
        "outputId": "87c54f58-f7d1-4cd2-a670-7be6c348ddbd",
        "colab": {
          "base_uri": "https://localhost:8080/",
          "height": 430
        }
      },
      "source": [
        "df_initial.dropna(axis=0,subset=['CustomerID'],inplace=True)\n",
        "print('Dataframe dimensions:',df_initial.shape)\n",
        "#___________________________________________________________\n",
        "#gives some infos on columns types and number of null values\n",
        "tab_info=pd.DataFrame(df_initial.dtypes).T.rename(index={0:'column type'})\n",
        "tab_info=tab_info.append(pd.DataFrame(df_initial.isnull().sum().T.rename(index={0:'null values (nb)'})))\n",
        "tab_info=tab_info.append(pd.DataFrame(df_initial.isnull().sum()/df_initial.shape[0]*100).T.rename(index={0:'null values(%)'}))\n",
        "display(tab_info)"
      ],
      "execution_count": 21,
      "outputs": [
        {
          "output_type": "stream",
          "text": [
            "Dataframe dimensions: (406829, 8)\n"
          ],
          "name": "stdout"
        },
        {
          "output_type": "display_data",
          "data": {
            "text/html": [
              "<div>\n",
              "<style scoped>\n",
              "    .dataframe tbody tr th:only-of-type {\n",
              "        vertical-align: middle;\n",
              "    }\n",
              "\n",
              "    .dataframe tbody tr th {\n",
              "        vertical-align: top;\n",
              "    }\n",
              "\n",
              "    .dataframe thead th {\n",
              "        text-align: right;\n",
              "    }\n",
              "</style>\n",
              "<table border=\"1\" class=\"dataframe\">\n",
              "  <thead>\n",
              "    <tr style=\"text-align: right;\">\n",
              "      <th></th>\n",
              "      <th>0</th>\n",
              "      <th>Country</th>\n",
              "      <th>CustomerID</th>\n",
              "      <th>Description</th>\n",
              "      <th>InvoiceDate</th>\n",
              "      <th>InvoiceNo</th>\n",
              "      <th>Quantity</th>\n",
              "      <th>StockCode</th>\n",
              "      <th>UnitPrice</th>\n",
              "    </tr>\n",
              "  </thead>\n",
              "  <tbody>\n",
              "    <tr>\n",
              "      <th>column type</th>\n",
              "      <td>NaN</td>\n",
              "      <td>object</td>\n",
              "      <td>object</td>\n",
              "      <td>object</td>\n",
              "      <td>datetime64[ns]</td>\n",
              "      <td>object</td>\n",
              "      <td>int64</td>\n",
              "      <td>object</td>\n",
              "      <td>float64</td>\n",
              "    </tr>\n",
              "    <tr>\n",
              "      <th>InvoiceNo</th>\n",
              "      <td>0.0</td>\n",
              "      <td>NaN</td>\n",
              "      <td>NaN</td>\n",
              "      <td>NaN</td>\n",
              "      <td>NaN</td>\n",
              "      <td>NaN</td>\n",
              "      <td>NaN</td>\n",
              "      <td>NaN</td>\n",
              "      <td>NaN</td>\n",
              "    </tr>\n",
              "    <tr>\n",
              "      <th>StockCode</th>\n",
              "      <td>0.0</td>\n",
              "      <td>NaN</td>\n",
              "      <td>NaN</td>\n",
              "      <td>NaN</td>\n",
              "      <td>NaN</td>\n",
              "      <td>NaN</td>\n",
              "      <td>NaN</td>\n",
              "      <td>NaN</td>\n",
              "      <td>NaN</td>\n",
              "    </tr>\n",
              "    <tr>\n",
              "      <th>Description</th>\n",
              "      <td>0.0</td>\n",
              "      <td>NaN</td>\n",
              "      <td>NaN</td>\n",
              "      <td>NaN</td>\n",
              "      <td>NaN</td>\n",
              "      <td>NaN</td>\n",
              "      <td>NaN</td>\n",
              "      <td>NaN</td>\n",
              "      <td>NaN</td>\n",
              "    </tr>\n",
              "    <tr>\n",
              "      <th>Quantity</th>\n",
              "      <td>0.0</td>\n",
              "      <td>NaN</td>\n",
              "      <td>NaN</td>\n",
              "      <td>NaN</td>\n",
              "      <td>NaN</td>\n",
              "      <td>NaN</td>\n",
              "      <td>NaN</td>\n",
              "      <td>NaN</td>\n",
              "      <td>NaN</td>\n",
              "    </tr>\n",
              "    <tr>\n",
              "      <th>InvoiceDate</th>\n",
              "      <td>0.0</td>\n",
              "      <td>NaN</td>\n",
              "      <td>NaN</td>\n",
              "      <td>NaN</td>\n",
              "      <td>NaN</td>\n",
              "      <td>NaN</td>\n",
              "      <td>NaN</td>\n",
              "      <td>NaN</td>\n",
              "      <td>NaN</td>\n",
              "    </tr>\n",
              "    <tr>\n",
              "      <th>UnitPrice</th>\n",
              "      <td>0.0</td>\n",
              "      <td>NaN</td>\n",
              "      <td>NaN</td>\n",
              "      <td>NaN</td>\n",
              "      <td>NaN</td>\n",
              "      <td>NaN</td>\n",
              "      <td>NaN</td>\n",
              "      <td>NaN</td>\n",
              "      <td>NaN</td>\n",
              "    </tr>\n",
              "    <tr>\n",
              "      <th>CustomerID</th>\n",
              "      <td>0.0</td>\n",
              "      <td>NaN</td>\n",
              "      <td>NaN</td>\n",
              "      <td>NaN</td>\n",
              "      <td>NaN</td>\n",
              "      <td>NaN</td>\n",
              "      <td>NaN</td>\n",
              "      <td>NaN</td>\n",
              "      <td>NaN</td>\n",
              "    </tr>\n",
              "    <tr>\n",
              "      <th>Country</th>\n",
              "      <td>0.0</td>\n",
              "      <td>NaN</td>\n",
              "      <td>NaN</td>\n",
              "      <td>NaN</td>\n",
              "      <td>NaN</td>\n",
              "      <td>NaN</td>\n",
              "      <td>NaN</td>\n",
              "      <td>NaN</td>\n",
              "      <td>NaN</td>\n",
              "    </tr>\n",
              "    <tr>\n",
              "      <th>null values(%)</th>\n",
              "      <td>NaN</td>\n",
              "      <td>0</td>\n",
              "      <td>0</td>\n",
              "      <td>0</td>\n",
              "      <td>0</td>\n",
              "      <td>0</td>\n",
              "      <td>0</td>\n",
              "      <td>0</td>\n",
              "      <td>0</td>\n",
              "    </tr>\n",
              "  </tbody>\n",
              "</table>\n",
              "</div>"
            ],
            "text/plain": [
              "                  0 Country CustomerID  ... Quantity StockCode UnitPrice\n",
              "column type     NaN  object     object  ...    int64    object   float64\n",
              "InvoiceNo       0.0     NaN        NaN  ...      NaN       NaN       NaN\n",
              "StockCode       0.0     NaN        NaN  ...      NaN       NaN       NaN\n",
              "Description     0.0     NaN        NaN  ...      NaN       NaN       NaN\n",
              "Quantity        0.0     NaN        NaN  ...      NaN       NaN       NaN\n",
              "InvoiceDate     0.0     NaN        NaN  ...      NaN       NaN       NaN\n",
              "UnitPrice       0.0     NaN        NaN  ...      NaN       NaN       NaN\n",
              "CustomerID      0.0     NaN        NaN  ...      NaN       NaN       NaN\n",
              "Country         0.0     NaN        NaN  ...      NaN       NaN       NaN\n",
              "null values(%)  NaN       0          0  ...        0         0         0\n",
              "\n",
              "[10 rows x 9 columns]"
            ]
          },
          "metadata": {
            "tags": []
          }
        }
      ]
    },
    {
      "cell_type": "code",
      "metadata": {
        "id": "emTl7OTuuuTV",
        "colab_type": "code",
        "outputId": "4a11dbbc-e4a6-4adb-d891-b4c30ef1d33a",
        "colab": {
          "base_uri": "https://localhost:8080/",
          "height": 34
        }
      },
      "source": [
        "print('Entries duplicates:{}'.format(df_initial.duplicated().sum()))\n",
        "df_initial.drop_duplicates(inplace=True)"
      ],
      "execution_count": 22,
      "outputs": [
        {
          "output_type": "stream",
          "text": [
            "Entries duplicates:5225\n"
          ],
          "name": "stdout"
        }
      ]
    },
    {
      "cell_type": "markdown",
      "metadata": {
        "id": "HKeld3bHvE6u",
        "colab_type": "text"
      },
      "source": [
        "Data Exploration\n",
        "\n",
        "Invoice No: Invoice number. Nominal,a 6-digit intergral number unniquely assigned to each transaction.If this code starts with letter 'c', it indicates a cancellation.\n",
        "\n",
        "StockCode: Product(Item)code.Nomical,a 5-digit integral number uniquely assigned to each distinct product.\n",
        "\n",
        "Description: Product(item) name. Nominal.\n",
        "\n",
        "Quantity: The quantities of each product(item) per transaction. Numeric.\n",
        "\n",
        "InvoiceDate: Invice Date and time. Numeric, the day and time when each transaction was generated.\n",
        "\n",
        "UnitPrice: Unit price.Numeric, Product price per unit in sterling\n",
        "\n",
        "CustomerID: Customer number. Nominal, a 5-digit integral number uniquely assigned to each customer\n",
        "\n",
        "Country: Country name. Nominal, the name of the country where each customer resides."
      ]
    },
    {
      "cell_type": "markdown",
      "metadata": {
        "id": "VWYHHbV1wEma",
        "colab_type": "text"
      },
      "source": [
        "2.1 Countries\n",
        "\n",
        "Here, I quickly look at the countries from which orders were made:"
      ]
    },
    {
      "cell_type": "code",
      "metadata": {
        "id": "b096tdXMu_s0",
        "colab_type": "code",
        "outputId": "592b64dd-8a1d-44c7-c288-78a4d4e86633",
        "colab": {
          "base_uri": "https://localhost:8080/",
          "height": 34
        }
      },
      "source": [
        "temp=df_initial[['CustomerID','InvoiceNo','Country']].groupby(['CustomerID','InvoiceNo','Country']).count()\n",
        "temp=temp.reset_index(drop=False)\n",
        "countries=temp['Country'].value_counts()\n",
        "print('Nb. of pays in the dataframe: {}'.format(len(countries)))"
      ],
      "execution_count": 23,
      "outputs": [
        {
          "output_type": "stream",
          "text": [
            "Nb. of pays in the dataframe: 37\n"
          ],
          "name": "stdout"
        }
      ]
    },
    {
      "cell_type": "code",
      "metadata": {
        "id": "NSa_JZp9wm2i",
        "colab_type": "code",
        "outputId": "e5662959-7259-4ddb-9ede-891bcf2d5b3f",
        "colab": {
          "base_uri": "https://localhost:8080/",
          "height": 542
        }
      },
      "source": [
        "#mapping\n",
        "\n",
        "data = dict(type='choropleth',\n",
        "locations = countries.index,\n",
        "locationmode = 'country names', z = countries,\n",
        "text = countries.index, colorbar = {'title':'Order nb.'},\n",
        "colorscale=[[0, 'rgb(224,255,255)'],\n",
        "            [0.01, 'rgb(166,206,227)'], [0.02, 'rgb(31,120,180)'],\n",
        "            [0.03, 'rgb(178,223,138)'], [0.05, 'rgb(51,160,44)'],\n",
        "            [0.10, 'rgb(251,154,153)'], [0.20, 'rgb(255,255,0)'],\n",
        "            [1, 'rgb(227,26,28)']],    \n",
        "reversescale = False)\n",
        "#_______________________\n",
        "layout = dict(title='Number of orders per country',\n",
        "geo = dict(showframe = True, projection={'type':'mercator'}))\n",
        "#______________\n",
        "choromap = go.Figure(data = [data], layout = layout)\n",
        "iplot(choromap, validate=False)\n"
      ],
      "execution_count": 24,
      "outputs": [
        {
          "output_type": "display_data",
          "data": {
            "text/html": [
              "<div>\n",
              "        \n",
              "        \n",
              "            <div id=\"65cbc95b-9c11-44a4-9d21-f47ac0e39ff7\" class=\"plotly-graph-div\" style=\"height:525px; width:100%;\"></div>\n",
              "            <script type=\"text/javascript\">\n",
              "                require([\"plotly\"], function(Plotly) {\n",
              "                    window.PLOTLYENV=window.PLOTLYENV || {};\n",
              "                    \n",
              "                if (document.getElementById(\"65cbc95b-9c11-44a4-9d21-f47ac0e39ff7\")) {\n",
              "                    Plotly.newPlot(\n",
              "                        '65cbc95b-9c11-44a4-9d21-f47ac0e39ff7',\n",
              "                        [{\"colorbar\": {\"title\": {\"text\": \"Order nb.\"}}, \"colorscale\": [[0, \"rgb(224,255,255)\"], [0.01, \"rgb(166,206,227)\"], [0.02, \"rgb(31,120,180)\"], [0.03, \"rgb(178,223,138)\"], [0.05, \"rgb(51,160,44)\"], [0.1, \"rgb(251,154,153)\"], [0.2, \"rgb(255,255,0)\"], [1, \"rgb(227,26,28)\"]], \"locationmode\": \"country names\", \"locations\": [\"United Kingdom\", \"Germany\", \"France\", \"EIRE\", \"Belgium\", \"Spain\", \"Netherlands\", \"Switzerland\", \"Portugal\", \"Australia\", \"Italy\", \"Finland\", \"Sweden\", \"Norway\", \"Channel Islands\", \"Japan\", \"Poland\", \"Denmark\", \"Cyprus\", \"Austria\", \"Malta\", \"Singapore\", \"Unspecified\", \"USA\", \"Iceland\", \"Israel\", \"Canada\", \"Greece\", \"Czech Republic\", \"European Community\", \"Lithuania\", \"United Arab Emirates\", \"Bahrain\", \"Saudi Arabia\", \"Lebanon\", \"Brazil\", \"RSA\"], \"reversescale\": false, \"text\": [\"United Kingdom\", \"Germany\", \"France\", \"EIRE\", \"Belgium\", \"Spain\", \"Netherlands\", \"Switzerland\", \"Portugal\", \"Australia\", \"Italy\", \"Finland\", \"Sweden\", \"Norway\", \"Channel Islands\", \"Japan\", \"Poland\", \"Denmark\", \"Cyprus\", \"Austria\", \"Malta\", \"Singapore\", \"Unspecified\", \"USA\", \"Iceland\", \"Israel\", \"Canada\", \"Greece\", \"Czech Republic\", \"European Community\", \"Lithuania\", \"United Arab Emirates\", \"Bahrain\", \"Saudi Arabia\", \"Lebanon\", \"Brazil\", \"RSA\"], \"type\": \"choropleth\", \"z\": [19857, 603, 458, 319, 119, 105, 101, 71, 70, 69, 55, 48, 46, 40, 33, 28, 24, 21, 20, 19, 10, 10, 8, 7, 7, 6, 6, 6, 5, 5, 4, 3, 2, 2, 1, 1, 1]}],\n",
              "                        {\"geo\": {\"projection\": {\"type\": \"mercator\"}, \"showframe\": true}, \"template\": {\"data\": {\"bar\": [{\"error_x\": {\"color\": \"#2a3f5f\"}, \"error_y\": {\"color\": \"#2a3f5f\"}, \"marker\": {\"line\": {\"color\": \"#E5ECF6\", \"width\": 0.5}}, \"type\": \"bar\"}], \"barpolar\": [{\"marker\": {\"line\": {\"color\": \"#E5ECF6\", \"width\": 0.5}}, \"type\": \"barpolar\"}], \"carpet\": [{\"aaxis\": {\"endlinecolor\": \"#2a3f5f\", \"gridcolor\": \"white\", \"linecolor\": \"white\", \"minorgridcolor\": \"white\", \"startlinecolor\": \"#2a3f5f\"}, \"baxis\": {\"endlinecolor\": \"#2a3f5f\", \"gridcolor\": \"white\", \"linecolor\": \"white\", \"minorgridcolor\": \"white\", \"startlinecolor\": \"#2a3f5f\"}, \"type\": \"carpet\"}], \"choropleth\": [{\"colorbar\": {\"outlinewidth\": 0, \"ticks\": \"\"}, \"type\": \"choropleth\"}], \"contour\": [{\"colorbar\": {\"outlinewidth\": 0, \"ticks\": \"\"}, \"colorscale\": [[0.0, \"#0d0887\"], [0.1111111111111111, \"#46039f\"], [0.2222222222222222, \"#7201a8\"], [0.3333333333333333, \"#9c179e\"], [0.4444444444444444, \"#bd3786\"], [0.5555555555555556, \"#d8576b\"], [0.6666666666666666, \"#ed7953\"], [0.7777777777777778, \"#fb9f3a\"], [0.8888888888888888, \"#fdca26\"], [1.0, \"#f0f921\"]], \"type\": \"contour\"}], \"contourcarpet\": [{\"colorbar\": {\"outlinewidth\": 0, \"ticks\": \"\"}, \"type\": \"contourcarpet\"}], \"heatmap\": [{\"colorbar\": {\"outlinewidth\": 0, \"ticks\": \"\"}, \"colorscale\": [[0.0, \"#0d0887\"], [0.1111111111111111, \"#46039f\"], [0.2222222222222222, \"#7201a8\"], [0.3333333333333333, \"#9c179e\"], [0.4444444444444444, \"#bd3786\"], [0.5555555555555556, \"#d8576b\"], [0.6666666666666666, \"#ed7953\"], [0.7777777777777778, \"#fb9f3a\"], [0.8888888888888888, \"#fdca26\"], [1.0, \"#f0f921\"]], \"type\": \"heatmap\"}], \"heatmapgl\": [{\"colorbar\": {\"outlinewidth\": 0, \"ticks\": \"\"}, \"colorscale\": [[0.0, \"#0d0887\"], [0.1111111111111111, \"#46039f\"], [0.2222222222222222, \"#7201a8\"], [0.3333333333333333, \"#9c179e\"], [0.4444444444444444, \"#bd3786\"], [0.5555555555555556, \"#d8576b\"], [0.6666666666666666, \"#ed7953\"], [0.7777777777777778, \"#fb9f3a\"], [0.8888888888888888, \"#fdca26\"], [1.0, \"#f0f921\"]], \"type\": \"heatmapgl\"}], \"histogram\": [{\"marker\": {\"colorbar\": {\"outlinewidth\": 0, \"ticks\": \"\"}}, \"type\": \"histogram\"}], \"histogram2d\": [{\"colorbar\": {\"outlinewidth\": 0, \"ticks\": \"\"}, \"colorscale\": [[0.0, \"#0d0887\"], [0.1111111111111111, \"#46039f\"], [0.2222222222222222, \"#7201a8\"], [0.3333333333333333, \"#9c179e\"], [0.4444444444444444, \"#bd3786\"], [0.5555555555555556, \"#d8576b\"], [0.6666666666666666, \"#ed7953\"], [0.7777777777777778, \"#fb9f3a\"], [0.8888888888888888, \"#fdca26\"], [1.0, \"#f0f921\"]], \"type\": \"histogram2d\"}], \"histogram2dcontour\": [{\"colorbar\": {\"outlinewidth\": 0, \"ticks\": \"\"}, \"colorscale\": [[0.0, \"#0d0887\"], [0.1111111111111111, \"#46039f\"], [0.2222222222222222, \"#7201a8\"], [0.3333333333333333, \"#9c179e\"], [0.4444444444444444, \"#bd3786\"], [0.5555555555555556, \"#d8576b\"], [0.6666666666666666, \"#ed7953\"], [0.7777777777777778, \"#fb9f3a\"], [0.8888888888888888, \"#fdca26\"], [1.0, \"#f0f921\"]], \"type\": \"histogram2dcontour\"}], \"mesh3d\": [{\"colorbar\": {\"outlinewidth\": 0, \"ticks\": \"\"}, \"type\": \"mesh3d\"}], \"parcoords\": [{\"line\": {\"colorbar\": {\"outlinewidth\": 0, \"ticks\": \"\"}}, \"type\": \"parcoords\"}], \"scatter\": [{\"marker\": {\"colorbar\": {\"outlinewidth\": 0, \"ticks\": \"\"}}, \"type\": \"scatter\"}], \"scatter3d\": [{\"line\": {\"colorbar\": {\"outlinewidth\": 0, \"ticks\": \"\"}}, \"marker\": {\"colorbar\": {\"outlinewidth\": 0, \"ticks\": \"\"}}, \"type\": \"scatter3d\"}], \"scattercarpet\": [{\"marker\": {\"colorbar\": {\"outlinewidth\": 0, \"ticks\": \"\"}}, \"type\": \"scattercarpet\"}], \"scattergeo\": [{\"marker\": {\"colorbar\": {\"outlinewidth\": 0, \"ticks\": \"\"}}, \"type\": \"scattergeo\"}], \"scattergl\": [{\"marker\": {\"colorbar\": {\"outlinewidth\": 0, \"ticks\": \"\"}}, \"type\": \"scattergl\"}], \"scattermapbox\": [{\"marker\": {\"colorbar\": {\"outlinewidth\": 0, \"ticks\": \"\"}}, \"type\": \"scattermapbox\"}], \"scatterpolar\": [{\"marker\": {\"colorbar\": {\"outlinewidth\": 0, \"ticks\": \"\"}}, \"type\": \"scatterpolar\"}], \"scatterpolargl\": [{\"marker\": {\"colorbar\": {\"outlinewidth\": 0, \"ticks\": \"\"}}, \"type\": \"scatterpolargl\"}], \"scatterternary\": [{\"marker\": {\"colorbar\": {\"outlinewidth\": 0, \"ticks\": \"\"}}, \"type\": \"scatterternary\"}], \"surface\": [{\"colorbar\": {\"outlinewidth\": 0, \"ticks\": \"\"}, \"colorscale\": [[0.0, \"#0d0887\"], [0.1111111111111111, \"#46039f\"], [0.2222222222222222, \"#7201a8\"], [0.3333333333333333, \"#9c179e\"], [0.4444444444444444, \"#bd3786\"], [0.5555555555555556, \"#d8576b\"], [0.6666666666666666, \"#ed7953\"], [0.7777777777777778, \"#fb9f3a\"], [0.8888888888888888, \"#fdca26\"], [1.0, \"#f0f921\"]], \"type\": \"surface\"}], \"table\": [{\"cells\": {\"fill\": {\"color\": \"#EBF0F8\"}, \"line\": {\"color\": \"white\"}}, \"header\": {\"fill\": {\"color\": \"#C8D4E3\"}, \"line\": {\"color\": \"white\"}}, \"type\": \"table\"}]}, \"layout\": {\"annotationdefaults\": {\"arrowcolor\": \"#2a3f5f\", \"arrowhead\": 0, \"arrowwidth\": 1}, \"colorscale\": {\"diverging\": [[0, \"#8e0152\"], [0.1, \"#c51b7d\"], [0.2, \"#de77ae\"], [0.3, \"#f1b6da\"], [0.4, \"#fde0ef\"], [0.5, \"#f7f7f7\"], [0.6, \"#e6f5d0\"], [0.7, \"#b8e186\"], [0.8, \"#7fbc41\"], [0.9, \"#4d9221\"], [1, \"#276419\"]], \"sequential\": [[0.0, \"#0d0887\"], [0.1111111111111111, \"#46039f\"], [0.2222222222222222, \"#7201a8\"], [0.3333333333333333, \"#9c179e\"], [0.4444444444444444, \"#bd3786\"], [0.5555555555555556, \"#d8576b\"], [0.6666666666666666, \"#ed7953\"], [0.7777777777777778, \"#fb9f3a\"], [0.8888888888888888, \"#fdca26\"], [1.0, \"#f0f921\"]], \"sequentialminus\": [[0.0, \"#0d0887\"], [0.1111111111111111, \"#46039f\"], [0.2222222222222222, \"#7201a8\"], [0.3333333333333333, \"#9c179e\"], [0.4444444444444444, \"#bd3786\"], [0.5555555555555556, \"#d8576b\"], [0.6666666666666666, \"#ed7953\"], [0.7777777777777778, \"#fb9f3a\"], [0.8888888888888888, \"#fdca26\"], [1.0, \"#f0f921\"]]}, \"colorway\": [\"#636efa\", \"#EF553B\", \"#00cc96\", \"#ab63fa\", \"#FFA15A\", \"#19d3f3\", \"#FF6692\", \"#B6E880\", \"#FF97FF\", \"#FECB52\"], \"font\": {\"color\": \"#2a3f5f\"}, \"geo\": {\"bgcolor\": \"white\", \"lakecolor\": \"white\", \"landcolor\": \"#E5ECF6\", \"showlakes\": true, \"showland\": true, \"subunitcolor\": \"white\"}, \"hoverlabel\": {\"align\": \"left\"}, \"hovermode\": \"closest\", \"mapbox\": {\"style\": \"light\"}, \"paper_bgcolor\": \"white\", \"plot_bgcolor\": \"#E5ECF6\", \"polar\": {\"angularaxis\": {\"gridcolor\": \"white\", \"linecolor\": \"white\", \"ticks\": \"\"}, \"bgcolor\": \"#E5ECF6\", \"radialaxis\": {\"gridcolor\": \"white\", \"linecolor\": \"white\", \"ticks\": \"\"}}, \"scene\": {\"xaxis\": {\"backgroundcolor\": \"#E5ECF6\", \"gridcolor\": \"white\", \"gridwidth\": 2, \"linecolor\": \"white\", \"showbackground\": true, \"ticks\": \"\", \"zerolinecolor\": \"white\"}, \"yaxis\": {\"backgroundcolor\": \"#E5ECF6\", \"gridcolor\": \"white\", \"gridwidth\": 2, \"linecolor\": \"white\", \"showbackground\": true, \"ticks\": \"\", \"zerolinecolor\": \"white\"}, \"zaxis\": {\"backgroundcolor\": \"#E5ECF6\", \"gridcolor\": \"white\", \"gridwidth\": 2, \"linecolor\": \"white\", \"showbackground\": true, \"ticks\": \"\", \"zerolinecolor\": \"white\"}}, \"shapedefaults\": {\"line\": {\"color\": \"#2a3f5f\"}}, \"ternary\": {\"aaxis\": {\"gridcolor\": \"white\", \"linecolor\": \"white\", \"ticks\": \"\"}, \"baxis\": {\"gridcolor\": \"white\", \"linecolor\": \"white\", \"ticks\": \"\"}, \"bgcolor\": \"#E5ECF6\", \"caxis\": {\"gridcolor\": \"white\", \"linecolor\": \"white\", \"ticks\": \"\"}}, \"title\": {\"x\": 0.05}, \"xaxis\": {\"automargin\": true, \"gridcolor\": \"white\", \"linecolor\": \"white\", \"ticks\": \"\", \"zerolinecolor\": \"white\", \"zerolinewidth\": 2}, \"yaxis\": {\"automargin\": true, \"gridcolor\": \"white\", \"linecolor\": \"white\", \"ticks\": \"\", \"zerolinecolor\": \"white\", \"zerolinewidth\": 2}}}, \"title\": {\"text\": \"Number of orders per country\"}},\n",
              "                        {\"responsive\": true}\n",
              "                    ).then(function(){\n",
              "                            \n",
              "var gd = document.getElementById('65cbc95b-9c11-44a4-9d21-f47ac0e39ff7');\n",
              "var x = new MutationObserver(function (mutations, observer) {{\n",
              "        var display = window.getComputedStyle(gd).display;\n",
              "        if (!display || display === 'none') {{\n",
              "            console.log([gd, 'removed!']);\n",
              "            Plotly.purge(gd);\n",
              "            observer.disconnect();\n",
              "        }}\n",
              "}});\n",
              "\n",
              "// Listen for the removal of the full notebook cells\n",
              "var notebookContainer = gd.closest('#notebook-container');\n",
              "if (notebookContainer) {{\n",
              "    x.observe(notebookContainer, {childList: true});\n",
              "}}\n",
              "\n",
              "// Listen for the clearing of the current output cell\n",
              "var outputEl = gd.closest('.output');\n",
              "if (outputEl) {{\n",
              "    x.observe(outputEl, {childList: true});\n",
              "}}\n",
              "\n",
              "                        })\n",
              "                };\n",
              "                });\n",
              "            </script>\n",
              "        </div>"
            ],
            "application/vnd.plotly.v1+json": {
              "data": [
                {
                  "reversescale": false,
                  "colorscale": [
                    [
                      0,
                      "rgb(224,255,255)"
                    ],
                    [
                      0.01,
                      "rgb(166,206,227)"
                    ],
                    [
                      0.02,
                      "rgb(31,120,180)"
                    ],
                    [
                      0.03,
                      "rgb(178,223,138)"
                    ],
                    [
                      0.05,
                      "rgb(51,160,44)"
                    ],
                    [
                      0.1,
                      "rgb(251,154,153)"
                    ],
                    [
                      0.2,
                      "rgb(255,255,0)"
                    ],
                    [
                      1,
                      "rgb(227,26,28)"
                    ]
                  ],
                  "text": [
                    "United Kingdom",
                    "Germany",
                    "France",
                    "EIRE",
                    "Belgium",
                    "Spain",
                    "Netherlands",
                    "Switzerland",
                    "Portugal",
                    "Australia",
                    "Italy",
                    "Finland",
                    "Sweden",
                    "Norway",
                    "Channel Islands",
                    "Japan",
                    "Poland",
                    "Denmark",
                    "Cyprus",
                    "Austria",
                    "Malta",
                    "Singapore",
                    "Unspecified",
                    "USA",
                    "Iceland",
                    "Israel",
                    "Canada",
                    "Greece",
                    "Czech Republic",
                    "European Community",
                    "Lithuania",
                    "United Arab Emirates",
                    "Bahrain",
                    "Saudi Arabia",
                    "Lebanon",
                    "Brazil",
                    "RSA"
                  ],
                  "locations": [
                    "United Kingdom",
                    "Germany",
                    "France",
                    "EIRE",
                    "Belgium",
                    "Spain",
                    "Netherlands",
                    "Switzerland",
                    "Portugal",
                    "Australia",
                    "Italy",
                    "Finland",
                    "Sweden",
                    "Norway",
                    "Channel Islands",
                    "Japan",
                    "Poland",
                    "Denmark",
                    "Cyprus",
                    "Austria",
                    "Malta",
                    "Singapore",
                    "Unspecified",
                    "USA",
                    "Iceland",
                    "Israel",
                    "Canada",
                    "Greece",
                    "Czech Republic",
                    "European Community",
                    "Lithuania",
                    "United Arab Emirates",
                    "Bahrain",
                    "Saudi Arabia",
                    "Lebanon",
                    "Brazil",
                    "RSA"
                  ],
                  "colorbar": {
                    "title": {
                      "text": "Order nb."
                    }
                  },
                  "type": "choropleth",
                  "z": [
                    19857,
                    603,
                    458,
                    319,
                    119,
                    105,
                    101,
                    71,
                    70,
                    69,
                    55,
                    48,
                    46,
                    40,
                    33,
                    28,
                    24,
                    21,
                    20,
                    19,
                    10,
                    10,
                    8,
                    7,
                    7,
                    6,
                    6,
                    6,
                    5,
                    5,
                    4,
                    3,
                    2,
                    2,
                    1,
                    1,
                    1
                  ],
                  "locationmode": "country names"
                }
              ],
              "config": {
                "plotlyServerURL": "https://plot.ly",
                "linkText": "Export to plot.ly",
                "showLink": false
              },
              "layout": {
                "geo": {
                  "projection": {
                    "type": "mercator"
                  },
                  "showframe": true
                },
                "template": {
                  "layout": {
                    "shapedefaults": {
                      "line": {
                        "color": "#2a3f5f"
                      }
                    },
                    "polar": {
                      "radialaxis": {
                        "ticks": "",
                        "gridcolor": "white",
                        "linecolor": "white"
                      },
                      "bgcolor": "#E5ECF6",
                      "angularaxis": {
                        "ticks": "",
                        "gridcolor": "white",
                        "linecolor": "white"
                      }
                    },
                    "colorway": [
                      "#636efa",
                      "#EF553B",
                      "#00cc96",
                      "#ab63fa",
                      "#FFA15A",
                      "#19d3f3",
                      "#FF6692",
                      "#B6E880",
                      "#FF97FF",
                      "#FECB52"
                    ],
                    "xaxis": {
                      "automargin": true,
                      "zerolinewidth": 2,
                      "ticks": "",
                      "zerolinecolor": "white",
                      "gridcolor": "white",
                      "linecolor": "white"
                    },
                    "colorscale": {
                      "diverging": [
                        [
                          0,
                          "#8e0152"
                        ],
                        [
                          0.1,
                          "#c51b7d"
                        ],
                        [
                          0.2,
                          "#de77ae"
                        ],
                        [
                          0.3,
                          "#f1b6da"
                        ],
                        [
                          0.4,
                          "#fde0ef"
                        ],
                        [
                          0.5,
                          "#f7f7f7"
                        ],
                        [
                          0.6,
                          "#e6f5d0"
                        ],
                        [
                          0.7,
                          "#b8e186"
                        ],
                        [
                          0.8,
                          "#7fbc41"
                        ],
                        [
                          0.9,
                          "#4d9221"
                        ],
                        [
                          1,
                          "#276419"
                        ]
                      ],
                      "sequential": [
                        [
                          0,
                          "#0d0887"
                        ],
                        [
                          0.1111111111111111,
                          "#46039f"
                        ],
                        [
                          0.2222222222222222,
                          "#7201a8"
                        ],
                        [
                          0.3333333333333333,
                          "#9c179e"
                        ],
                        [
                          0.4444444444444444,
                          "#bd3786"
                        ],
                        [
                          0.5555555555555556,
                          "#d8576b"
                        ],
                        [
                          0.6666666666666666,
                          "#ed7953"
                        ],
                        [
                          0.7777777777777778,
                          "#fb9f3a"
                        ],
                        [
                          0.8888888888888888,
                          "#fdca26"
                        ],
                        [
                          1,
                          "#f0f921"
                        ]
                      ],
                      "sequentialminus": [
                        [
                          0,
                          "#0d0887"
                        ],
                        [
                          0.1111111111111111,
                          "#46039f"
                        ],
                        [
                          0.2222222222222222,
                          "#7201a8"
                        ],
                        [
                          0.3333333333333333,
                          "#9c179e"
                        ],
                        [
                          0.4444444444444444,
                          "#bd3786"
                        ],
                        [
                          0.5555555555555556,
                          "#d8576b"
                        ],
                        [
                          0.6666666666666666,
                          "#ed7953"
                        ],
                        [
                          0.7777777777777778,
                          "#fb9f3a"
                        ],
                        [
                          0.8888888888888888,
                          "#fdca26"
                        ],
                        [
                          1,
                          "#f0f921"
                        ]
                      ]
                    },
                    "paper_bgcolor": "white",
                    "plot_bgcolor": "#E5ECF6",
                    "title": {
                      "x": 0.05
                    },
                    "scene": {
                      "zaxis": {
                        "backgroundcolor": "#E5ECF6",
                        "ticks": "",
                        "gridwidth": 2,
                        "showbackground": true,
                        "zerolinecolor": "white",
                        "gridcolor": "white",
                        "linecolor": "white"
                      },
                      "xaxis": {
                        "backgroundcolor": "#E5ECF6",
                        "ticks": "",
                        "gridwidth": 2,
                        "showbackground": true,
                        "zerolinecolor": "white",
                        "gridcolor": "white",
                        "linecolor": "white"
                      },
                      "yaxis": {
                        "backgroundcolor": "#E5ECF6",
                        "ticks": "",
                        "gridwidth": 2,
                        "showbackground": true,
                        "zerolinecolor": "white",
                        "gridcolor": "white",
                        "linecolor": "white"
                      }
                    },
                    "yaxis": {
                      "automargin": true,
                      "zerolinewidth": 2,
                      "ticks": "",
                      "zerolinecolor": "white",
                      "gridcolor": "white",
                      "linecolor": "white"
                    },
                    "hoverlabel": {
                      "align": "left"
                    },
                    "ternary": {
                      "bgcolor": "#E5ECF6",
                      "baxis": {
                        "ticks": "",
                        "gridcolor": "white",
                        "linecolor": "white"
                      },
                      "caxis": {
                        "ticks": "",
                        "gridcolor": "white",
                        "linecolor": "white"
                      },
                      "aaxis": {
                        "ticks": "",
                        "gridcolor": "white",
                        "linecolor": "white"
                      }
                    },
                    "mapbox": {
                      "style": "light"
                    },
                    "hovermode": "closest",
                    "font": {
                      "color": "#2a3f5f"
                    },
                    "geo": {
                      "showland": true,
                      "landcolor": "#E5ECF6",
                      "showlakes": true,
                      "bgcolor": "white",
                      "subunitcolor": "white",
                      "lakecolor": "white"
                    },
                    "annotationdefaults": {
                      "arrowwidth": 1,
                      "arrowhead": 0,
                      "arrowcolor": "#2a3f5f"
                    }
                  },
                  "data": {
                    "mesh3d": [
                      {
                        "colorbar": {
                          "outlinewidth": 0,
                          "ticks": ""
                        },
                        "type": "mesh3d"
                      }
                    ],
                    "scattercarpet": [
                      {
                        "marker": {
                          "colorbar": {
                            "outlinewidth": 0,
                            "ticks": ""
                          }
                        },
                        "type": "scattercarpet"
                      }
                    ],
                    "scatterternary": [
                      {
                        "marker": {
                          "colorbar": {
                            "outlinewidth": 0,
                            "ticks": ""
                          }
                        },
                        "type": "scatterternary"
                      }
                    ],
                    "surface": [
                      {
                        "colorbar": {
                          "outlinewidth": 0,
                          "ticks": ""
                        },
                        "type": "surface",
                        "colorscale": [
                          [
                            0,
                            "#0d0887"
                          ],
                          [
                            0.1111111111111111,
                            "#46039f"
                          ],
                          [
                            0.2222222222222222,
                            "#7201a8"
                          ],
                          [
                            0.3333333333333333,
                            "#9c179e"
                          ],
                          [
                            0.4444444444444444,
                            "#bd3786"
                          ],
                          [
                            0.5555555555555556,
                            "#d8576b"
                          ],
                          [
                            0.6666666666666666,
                            "#ed7953"
                          ],
                          [
                            0.7777777777777778,
                            "#fb9f3a"
                          ],
                          [
                            0.8888888888888888,
                            "#fdca26"
                          ],
                          [
                            1,
                            "#f0f921"
                          ]
                        ]
                      }
                    ],
                    "table": [
                      {
                        "header": {
                          "line": {
                            "color": "white"
                          },
                          "fill": {
                            "color": "#C8D4E3"
                          }
                        },
                        "cells": {
                          "line": {
                            "color": "white"
                          },
                          "fill": {
                            "color": "#EBF0F8"
                          }
                        },
                        "type": "table"
                      }
                    ],
                    "scatterpolargl": [
                      {
                        "marker": {
                          "colorbar": {
                            "outlinewidth": 0,
                            "ticks": ""
                          }
                        },
                        "type": "scatterpolargl"
                      }
                    ],
                    "contour": [
                      {
                        "colorbar": {
                          "outlinewidth": 0,
                          "ticks": ""
                        },
                        "type": "contour",
                        "colorscale": [
                          [
                            0,
                            "#0d0887"
                          ],
                          [
                            0.1111111111111111,
                            "#46039f"
                          ],
                          [
                            0.2222222222222222,
                            "#7201a8"
                          ],
                          [
                            0.3333333333333333,
                            "#9c179e"
                          ],
                          [
                            0.4444444444444444,
                            "#bd3786"
                          ],
                          [
                            0.5555555555555556,
                            "#d8576b"
                          ],
                          [
                            0.6666666666666666,
                            "#ed7953"
                          ],
                          [
                            0.7777777777777778,
                            "#fb9f3a"
                          ],
                          [
                            0.8888888888888888,
                            "#fdca26"
                          ],
                          [
                            1,
                            "#f0f921"
                          ]
                        ]
                      }
                    ],
                    "carpet": [
                      {
                        "type": "carpet",
                        "baxis": {
                          "minorgridcolor": "white",
                          "gridcolor": "white",
                          "linecolor": "white",
                          "endlinecolor": "#2a3f5f",
                          "startlinecolor": "#2a3f5f"
                        },
                        "aaxis": {
                          "minorgridcolor": "white",
                          "gridcolor": "white",
                          "linecolor": "white",
                          "endlinecolor": "#2a3f5f",
                          "startlinecolor": "#2a3f5f"
                        }
                      }
                    ],
                    "contourcarpet": [
                      {
                        "colorbar": {
                          "outlinewidth": 0,
                          "ticks": ""
                        },
                        "type": "contourcarpet"
                      }
                    ],
                    "heatmap": [
                      {
                        "colorbar": {
                          "outlinewidth": 0,
                          "ticks": ""
                        },
                        "type": "heatmap",
                        "colorscale": [
                          [
                            0,
                            "#0d0887"
                          ],
                          [
                            0.1111111111111111,
                            "#46039f"
                          ],
                          [
                            0.2222222222222222,
                            "#7201a8"
                          ],
                          [
                            0.3333333333333333,
                            "#9c179e"
                          ],
                          [
                            0.4444444444444444,
                            "#bd3786"
                          ],
                          [
                            0.5555555555555556,
                            "#d8576b"
                          ],
                          [
                            0.6666666666666666,
                            "#ed7953"
                          ],
                          [
                            0.7777777777777778,
                            "#fb9f3a"
                          ],
                          [
                            0.8888888888888888,
                            "#fdca26"
                          ],
                          [
                            1,
                            "#f0f921"
                          ]
                        ]
                      }
                    ],
                    "scattermapbox": [
                      {
                        "marker": {
                          "colorbar": {
                            "outlinewidth": 0,
                            "ticks": ""
                          }
                        },
                        "type": "scattermapbox"
                      }
                    ],
                    "scatter3d": [
                      {
                        "marker": {
                          "colorbar": {
                            "outlinewidth": 0,
                            "ticks": ""
                          }
                        },
                        "line": {
                          "colorbar": {
                            "outlinewidth": 0,
                            "ticks": ""
                          }
                        },
                        "type": "scatter3d"
                      }
                    ],
                    "scattergl": [
                      {
                        "marker": {
                          "colorbar": {
                            "outlinewidth": 0,
                            "ticks": ""
                          }
                        },
                        "type": "scattergl"
                      }
                    ],
                    "histogram": [
                      {
                        "marker": {
                          "colorbar": {
                            "outlinewidth": 0,
                            "ticks": ""
                          }
                        },
                        "type": "histogram"
                      }
                    ],
                    "heatmapgl": [
                      {
                        "colorbar": {
                          "outlinewidth": 0,
                          "ticks": ""
                        },
                        "type": "heatmapgl",
                        "colorscale": [
                          [
                            0,
                            "#0d0887"
                          ],
                          [
                            0.1111111111111111,
                            "#46039f"
                          ],
                          [
                            0.2222222222222222,
                            "#7201a8"
                          ],
                          [
                            0.3333333333333333,
                            "#9c179e"
                          ],
                          [
                            0.4444444444444444,
                            "#bd3786"
                          ],
                          [
                            0.5555555555555556,
                            "#d8576b"
                          ],
                          [
                            0.6666666666666666,
                            "#ed7953"
                          ],
                          [
                            0.7777777777777778,
                            "#fb9f3a"
                          ],
                          [
                            0.8888888888888888,
                            "#fdca26"
                          ],
                          [
                            1,
                            "#f0f921"
                          ]
                        ]
                      }
                    ],
                    "scatterpolar": [
                      {
                        "marker": {
                          "colorbar": {
                            "outlinewidth": 0,
                            "ticks": ""
                          }
                        },
                        "type": "scatterpolar"
                      }
                    ],
                    "histogram2d": [
                      {
                        "colorbar": {
                          "outlinewidth": 0,
                          "ticks": ""
                        },
                        "type": "histogram2d",
                        "colorscale": [
                          [
                            0,
                            "#0d0887"
                          ],
                          [
                            0.1111111111111111,
                            "#46039f"
                          ],
                          [
                            0.2222222222222222,
                            "#7201a8"
                          ],
                          [
                            0.3333333333333333,
                            "#9c179e"
                          ],
                          [
                            0.4444444444444444,
                            "#bd3786"
                          ],
                          [
                            0.5555555555555556,
                            "#d8576b"
                          ],
                          [
                            0.6666666666666666,
                            "#ed7953"
                          ],
                          [
                            0.7777777777777778,
                            "#fb9f3a"
                          ],
                          [
                            0.8888888888888888,
                            "#fdca26"
                          ],
                          [
                            1,
                            "#f0f921"
                          ]
                        ]
                      }
                    ],
                    "scattergeo": [
                      {
                        "marker": {
                          "colorbar": {
                            "outlinewidth": 0,
                            "ticks": ""
                          }
                        },
                        "type": "scattergeo"
                      }
                    ],
                    "bar": [
                      {
                        "marker": {
                          "line": {
                            "color": "#E5ECF6",
                            "width": 0.5
                          }
                        },
                        "type": "bar",
                        "error_x": {
                          "color": "#2a3f5f"
                        },
                        "error_y": {
                          "color": "#2a3f5f"
                        }
                      }
                    ],
                    "choropleth": [
                      {
                        "colorbar": {
                          "outlinewidth": 0,
                          "ticks": ""
                        },
                        "type": "choropleth"
                      }
                    ],
                    "parcoords": [
                      {
                        "line": {
                          "colorbar": {
                            "outlinewidth": 0,
                            "ticks": ""
                          }
                        },
                        "type": "parcoords"
                      }
                    ],
                    "barpolar": [
                      {
                        "marker": {
                          "line": {
                            "color": "#E5ECF6",
                            "width": 0.5
                          }
                        },
                        "type": "barpolar"
                      }
                    ],
                    "histogram2dcontour": [
                      {
                        "colorbar": {
                          "outlinewidth": 0,
                          "ticks": ""
                        },
                        "type": "histogram2dcontour",
                        "colorscale": [
                          [
                            0,
                            "#0d0887"
                          ],
                          [
                            0.1111111111111111,
                            "#46039f"
                          ],
                          [
                            0.2222222222222222,
                            "#7201a8"
                          ],
                          [
                            0.3333333333333333,
                            "#9c179e"
                          ],
                          [
                            0.4444444444444444,
                            "#bd3786"
                          ],
                          [
                            0.5555555555555556,
                            "#d8576b"
                          ],
                          [
                            0.6666666666666666,
                            "#ed7953"
                          ],
                          [
                            0.7777777777777778,
                            "#fb9f3a"
                          ],
                          [
                            0.8888888888888888,
                            "#fdca26"
                          ],
                          [
                            1,
                            "#f0f921"
                          ]
                        ]
                      }
                    ],
                    "scatter": [
                      {
                        "marker": {
                          "colorbar": {
                            "outlinewidth": 0,
                            "ticks": ""
                          }
                        },
                        "type": "scatter"
                      }
                    ]
                  }
                },
                "title": {
                  "text": "Number of orders per country"
                }
              }
            }
          },
          "metadata": {
            "tags": []
          }
        }
      ]
    },
    {
      "cell_type": "markdown",
      "metadata": {
        "id": "rz0mEzmPxprH",
        "colab_type": "text"
      },
      "source": [
        "We can see that dataset is largely dominated trough UK"
      ]
    },
    {
      "cell_type": "markdown",
      "metadata": {
        "id": "Wg_8lGurxu53",
        "colab_type": "text"
      },
      "source": [
        "2.2 Customers and products\n",
        "\n",
        "The dataframe contains ~400,000 entries, what are the number of users and products in these entries?"
      ]
    },
    {
      "cell_type": "code",
      "metadata": {
        "id": "WkyKD2GBxYWs",
        "colab_type": "code",
        "outputId": "d1f82a59-6014-4202-a2fa-3c044929fc0e",
        "colab": {
          "base_uri": "https://localhost:8080/",
          "height": 80
        }
      },
      "source": [
        "pd.DataFrame([{'products':len(df_initial['StockCode'].value_counts()),'transactions':len(df_initial['InvoiceNo'].value_counts()),'customers':len(df_initial['CustomerID'].value_counts()),}],columns=['products','transactions','customers'],index=['quantity'])"
      ],
      "execution_count": 25,
      "outputs": [
        {
          "output_type": "execute_result",
          "data": {
            "text/html": [
              "<div>\n",
              "<style scoped>\n",
              "    .dataframe tbody tr th:only-of-type {\n",
              "        vertical-align: middle;\n",
              "    }\n",
              "\n",
              "    .dataframe tbody tr th {\n",
              "        vertical-align: top;\n",
              "    }\n",
              "\n",
              "    .dataframe thead th {\n",
              "        text-align: right;\n",
              "    }\n",
              "</style>\n",
              "<table border=\"1\" class=\"dataframe\">\n",
              "  <thead>\n",
              "    <tr style=\"text-align: right;\">\n",
              "      <th></th>\n",
              "      <th>products</th>\n",
              "      <th>transactions</th>\n",
              "      <th>customers</th>\n",
              "    </tr>\n",
              "  </thead>\n",
              "  <tbody>\n",
              "    <tr>\n",
              "      <th>quantity</th>\n",
              "      <td>3684</td>\n",
              "      <td>22190</td>\n",
              "      <td>4372</td>\n",
              "    </tr>\n",
              "  </tbody>\n",
              "</table>\n",
              "</div>"
            ],
            "text/plain": [
              "          products  transactions  customers\n",
              "quantity      3684         22190       4372"
            ]
          },
          "metadata": {
            "tags": []
          },
          "execution_count": 25
        }
      ]
    },
    {
      "cell_type": "markdown",
      "metadata": {
        "id": "207AaDEHyrLC",
        "colab_type": "text"
      },
      "source": [
        "4372 Users bought 3684 different products. The total number of transactions carried out is of order of ~22,000"
      ]
    },
    {
      "cell_type": "code",
      "metadata": {
        "id": "OXoS9kvZyeWU",
        "colab_type": "code",
        "outputId": "614da78f-0de5-457e-fe71-c1100f7d4f20",
        "colab": {
          "base_uri": "https://localhost:8080/",
          "height": 359
        }
      },
      "source": [
        "#number of products purchased in every transaction.\n",
        "temp=df_initial.groupby(by=['CustomerID','InvoiceNo'],as_index=False)['InvoiceDate'].count()\n",
        "nb_products_per_basket=temp.rename(columns={'InvoiceDate':'Number of products'})\n",
        "nb_products_per_basket[:10].sort_values('CustomerID')"
      ],
      "execution_count": 37,
      "outputs": [
        {
          "output_type": "execute_result",
          "data": {
            "text/html": [
              "<div>\n",
              "<style scoped>\n",
              "    .dataframe tbody tr th:only-of-type {\n",
              "        vertical-align: middle;\n",
              "    }\n",
              "\n",
              "    .dataframe tbody tr th {\n",
              "        vertical-align: top;\n",
              "    }\n",
              "\n",
              "    .dataframe thead th {\n",
              "        text-align: right;\n",
              "    }\n",
              "</style>\n",
              "<table border=\"1\" class=\"dataframe\">\n",
              "  <thead>\n",
              "    <tr style=\"text-align: right;\">\n",
              "      <th></th>\n",
              "      <th>CustomerID</th>\n",
              "      <th>InvoiceNo</th>\n",
              "      <th>Number of products</th>\n",
              "    </tr>\n",
              "  </thead>\n",
              "  <tbody>\n",
              "    <tr>\n",
              "      <th>0</th>\n",
              "      <td>12346</td>\n",
              "      <td>541431</td>\n",
              "      <td>1</td>\n",
              "    </tr>\n",
              "    <tr>\n",
              "      <th>1</th>\n",
              "      <td>12346</td>\n",
              "      <td>C541433</td>\n",
              "      <td>1</td>\n",
              "    </tr>\n",
              "    <tr>\n",
              "      <th>2</th>\n",
              "      <td>12347</td>\n",
              "      <td>537626</td>\n",
              "      <td>31</td>\n",
              "    </tr>\n",
              "    <tr>\n",
              "      <th>3</th>\n",
              "      <td>12347</td>\n",
              "      <td>542237</td>\n",
              "      <td>29</td>\n",
              "    </tr>\n",
              "    <tr>\n",
              "      <th>4</th>\n",
              "      <td>12347</td>\n",
              "      <td>549222</td>\n",
              "      <td>24</td>\n",
              "    </tr>\n",
              "    <tr>\n",
              "      <th>5</th>\n",
              "      <td>12347</td>\n",
              "      <td>556201</td>\n",
              "      <td>18</td>\n",
              "    </tr>\n",
              "    <tr>\n",
              "      <th>6</th>\n",
              "      <td>12347</td>\n",
              "      <td>562032</td>\n",
              "      <td>22</td>\n",
              "    </tr>\n",
              "    <tr>\n",
              "      <th>7</th>\n",
              "      <td>12347</td>\n",
              "      <td>573511</td>\n",
              "      <td>47</td>\n",
              "    </tr>\n",
              "    <tr>\n",
              "      <th>8</th>\n",
              "      <td>12347</td>\n",
              "      <td>581180</td>\n",
              "      <td>11</td>\n",
              "    </tr>\n",
              "    <tr>\n",
              "      <th>9</th>\n",
              "      <td>12348</td>\n",
              "      <td>539318</td>\n",
              "      <td>17</td>\n",
              "    </tr>\n",
              "  </tbody>\n",
              "</table>\n",
              "</div>"
            ],
            "text/plain": [
              "  CustomerID InvoiceNo  Number of products\n",
              "0      12346    541431                   1\n",
              "1      12346   C541433                   1\n",
              "2      12347    537626                  31\n",
              "3      12347    542237                  29\n",
              "4      12347    549222                  24\n",
              "5      12347    556201                  18\n",
              "6      12347    562032                  22\n",
              "7      12347    573511                  47\n",
              "8      12347    581180                  11\n",
              "9      12348    539318                  17"
            ]
          },
          "metadata": {
            "tags": []
          },
          "execution_count": 37
        }
      ]
    },
    {
      "cell_type": "markdown",
      "metadata": {
        "id": "apPiejiszNq1",
        "colab_type": "text"
      },
      "source": [
        "The first lines of this list shows several things worthy of Interest:\n",
        "\n",
        "\n",
        "\n",
        "*   The existence of entries with the prefix C for the InvoiceNo variable: this indicated that have been canceled\n",
        "*   The existence of users who only came once ond only purchased one product(e.g. ndegree12346)\n",
        "*   The existence of frequent users that but a large number of items at each order\n",
        "\n",
        "\n"
      ]
    },
    {
      "cell_type": "markdown",
      "metadata": {
        "id": "j7r9gnJIz0Hf",
        "colab_type": "text"
      },
      "source": [
        "2.2.1 Cancelling orders\n",
        "\n",
        "First of all, I count the number of transactions corresponding to canceled orders\n"
      ]
    },
    {
      "cell_type": "code",
      "metadata": {
        "id": "gdvqYJiAzMNd",
        "colab_type": "code",
        "outputId": "e416198f-ffd1-4c24-d417-87c4ec41e7f1",
        "colab": {
          "base_uri": "https://localhost:8080/",
          "height": 221
        }
      },
      "source": [
        "nb_products_per_basket['order_canceled']=nb_products_per_basket['InvoiceNo'].apply(lambda x: int('C' in x))\n",
        "display(nb_products_per_basket[:5])\n",
        "#----------------------------------------------------------------------------------------------------------\n",
        "n1=nb_products_per_basket['order_canceled'].sum()\n",
        "n2=nb_products_per_basket.shape[0]\n",
        "print('Number of orders canceled: {}/{} ({:.2f}%)'.format(n1,n2,n1/n2*100))"
      ],
      "execution_count": 38,
      "outputs": [
        {
          "output_type": "display_data",
          "data": {
            "text/html": [
              "<div>\n",
              "<style scoped>\n",
              "    .dataframe tbody tr th:only-of-type {\n",
              "        vertical-align: middle;\n",
              "    }\n",
              "\n",
              "    .dataframe tbody tr th {\n",
              "        vertical-align: top;\n",
              "    }\n",
              "\n",
              "    .dataframe thead th {\n",
              "        text-align: right;\n",
              "    }\n",
              "</style>\n",
              "<table border=\"1\" class=\"dataframe\">\n",
              "  <thead>\n",
              "    <tr style=\"text-align: right;\">\n",
              "      <th></th>\n",
              "      <th>CustomerID</th>\n",
              "      <th>InvoiceNo</th>\n",
              "      <th>Number of products</th>\n",
              "      <th>order_canceled</th>\n",
              "    </tr>\n",
              "  </thead>\n",
              "  <tbody>\n",
              "    <tr>\n",
              "      <th>0</th>\n",
              "      <td>12346</td>\n",
              "      <td>541431</td>\n",
              "      <td>1</td>\n",
              "      <td>0</td>\n",
              "    </tr>\n",
              "    <tr>\n",
              "      <th>1</th>\n",
              "      <td>12346</td>\n",
              "      <td>C541433</td>\n",
              "      <td>1</td>\n",
              "      <td>1</td>\n",
              "    </tr>\n",
              "    <tr>\n",
              "      <th>2</th>\n",
              "      <td>12347</td>\n",
              "      <td>537626</td>\n",
              "      <td>31</td>\n",
              "      <td>0</td>\n",
              "    </tr>\n",
              "    <tr>\n",
              "      <th>3</th>\n",
              "      <td>12347</td>\n",
              "      <td>542237</td>\n",
              "      <td>29</td>\n",
              "      <td>0</td>\n",
              "    </tr>\n",
              "    <tr>\n",
              "      <th>4</th>\n",
              "      <td>12347</td>\n",
              "      <td>549222</td>\n",
              "      <td>24</td>\n",
              "      <td>0</td>\n",
              "    </tr>\n",
              "  </tbody>\n",
              "</table>\n",
              "</div>"
            ],
            "text/plain": [
              "  CustomerID InvoiceNo  Number of products  order_canceled\n",
              "0      12346    541431                   1               0\n",
              "1      12346   C541433                   1               1\n",
              "2      12347    537626                  31               0\n",
              "3      12347    542237                  29               0\n",
              "4      12347    549222                  24               0"
            ]
          },
          "metadata": {
            "tags": []
          }
        },
        {
          "output_type": "stream",
          "text": [
            "Number of orders canceled: 3654/22190 (16.47%)\n"
          ],
          "name": "stdout"
        }
      ]
    },
    {
      "cell_type": "markdown",
      "metadata": {
        "id": "seiKoN6t064D",
        "colab_type": "text"
      },
      "source": [
        "Cancellations orders are around 16% of the total number of transactions).Now,let's look at the first lines of the dataframe:"
      ]
    },
    {
      "cell_type": "code",
      "metadata": {
        "id": "5VwvO_wO0mFz",
        "colab_type": "code",
        "outputId": "a58cd7bc-f14e-49e5-f259-1ab3edbb31db",
        "colab": {
          "base_uri": "https://localhost:8080/",
          "height": 289
        }
      },
      "source": [
        "display(df_initial.sort_values('CustomerID')[:5])"
      ],
      "execution_count": 39,
      "outputs": [
        {
          "output_type": "display_data",
          "data": {
            "text/html": [
              "<div>\n",
              "<style scoped>\n",
              "    .dataframe tbody tr th:only-of-type {\n",
              "        vertical-align: middle;\n",
              "    }\n",
              "\n",
              "    .dataframe tbody tr th {\n",
              "        vertical-align: top;\n",
              "    }\n",
              "\n",
              "    .dataframe thead th {\n",
              "        text-align: right;\n",
              "    }\n",
              "</style>\n",
              "<table border=\"1\" class=\"dataframe\">\n",
              "  <thead>\n",
              "    <tr style=\"text-align: right;\">\n",
              "      <th></th>\n",
              "      <th>InvoiceNo</th>\n",
              "      <th>StockCode</th>\n",
              "      <th>Description</th>\n",
              "      <th>Quantity</th>\n",
              "      <th>InvoiceDate</th>\n",
              "      <th>UnitPrice</th>\n",
              "      <th>CustomerID</th>\n",
              "      <th>Country</th>\n",
              "    </tr>\n",
              "  </thead>\n",
              "  <tbody>\n",
              "    <tr>\n",
              "      <th>61619</th>\n",
              "      <td>541431</td>\n",
              "      <td>23166</td>\n",
              "      <td>MEDIUM CERAMIC TOP STORAGE JAR</td>\n",
              "      <td>74215</td>\n",
              "      <td>2011-01-18 10:01:00</td>\n",
              "      <td>1.04</td>\n",
              "      <td>12346</td>\n",
              "      <td>United Kingdom</td>\n",
              "    </tr>\n",
              "    <tr>\n",
              "      <th>61624</th>\n",
              "      <td>C541433</td>\n",
              "      <td>23166</td>\n",
              "      <td>MEDIUM CERAMIC TOP STORAGE JAR</td>\n",
              "      <td>-74215</td>\n",
              "      <td>2011-01-18 10:17:00</td>\n",
              "      <td>1.04</td>\n",
              "      <td>12346</td>\n",
              "      <td>United Kingdom</td>\n",
              "    </tr>\n",
              "    <tr>\n",
              "      <th>286623</th>\n",
              "      <td>562032</td>\n",
              "      <td>22375</td>\n",
              "      <td>AIRLINE BAG VINTAGE JET SET BROWN</td>\n",
              "      <td>4</td>\n",
              "      <td>2011-08-02 08:48:00</td>\n",
              "      <td>4.25</td>\n",
              "      <td>12347</td>\n",
              "      <td>Iceland</td>\n",
              "    </tr>\n",
              "    <tr>\n",
              "      <th>72260</th>\n",
              "      <td>542237</td>\n",
              "      <td>84991</td>\n",
              "      <td>60 TEATIME FAIRY CAKE CASES</td>\n",
              "      <td>24</td>\n",
              "      <td>2011-01-26 14:30:00</td>\n",
              "      <td>0.55</td>\n",
              "      <td>12347</td>\n",
              "      <td>Iceland</td>\n",
              "    </tr>\n",
              "    <tr>\n",
              "      <th>14943</th>\n",
              "      <td>537626</td>\n",
              "      <td>22772</td>\n",
              "      <td>PINK DRAWER KNOB ACRYLIC EDWARDIAN</td>\n",
              "      <td>12</td>\n",
              "      <td>2010-12-07 14:57:00</td>\n",
              "      <td>1.25</td>\n",
              "      <td>12347</td>\n",
              "      <td>Iceland</td>\n",
              "    </tr>\n",
              "  </tbody>\n",
              "</table>\n",
              "</div>"
            ],
            "text/plain": [
              "       InvoiceNo StockCode  ... CustomerID         Country\n",
              "61619     541431     23166  ...      12346  United Kingdom\n",
              "61624    C541433     23166  ...      12346  United Kingdom\n",
              "286623    562032     22375  ...      12347         Iceland\n",
              "72260     542237     84991  ...      12347         Iceland\n",
              "14943     537626     22772  ...      12347         Iceland\n",
              "\n",
              "[5 rows x 8 columns]"
            ]
          },
          "metadata": {
            "tags": []
          }
        }
      ]
    },
    {
      "cell_type": "markdown",
      "metadata": {
        "id": "BkZ5pxrH1Dsl",
        "colab_type": "text"
      },
      "source": [
        "We see that when an order is canceled,, we have another transactions in the dataframe, mostly identical except for the Quantity and InvoiceDate variables. I decide to tcheck if this is true for all the entries. To do this, I decide to locate the entries that indicate a negative quantity and check if ther eis systematically an order indicating the same quantity(but positive),with the sam description(CustomerID,Description and UnitPrice):"
      ]
    },
    {
      "cell_type": "code",
      "metadata": {
        "id": "8TZ-yUjt1CAr",
        "colab_type": "code",
        "outputId": "6ac29329-3300-4492-f154-714211dfbc99",
        "colab": {
          "base_uri": "https://localhost:8080/",
          "height": 136
        }
      },
      "source": [
        "df_check=df_initial[df_initial['Quantity']<0][['CustomerID','Quantity','StockCode','Description','UnitPrice']]\n",
        "\n",
        "for index,col in df_check.iterrows():\n",
        "  if df_initial[(df_initial['CustomerID']==col[0])&(df_initial['Quantity']==-col[1])&(df_initial['Description']==col[2])].shape[0]==0:\n",
        "    print(df_check.loc[index])\n",
        "    print(15*'-'+'>'+'HYPOTHESIS NOT FULFILLED')\n",
        "    break"
      ],
      "execution_count": 40,
      "outputs": [
        {
          "output_type": "stream",
          "text": [
            "CustomerID        14527\n",
            "Quantity             -1\n",
            "StockCode             D\n",
            "Description    Discount\n",
            "UnitPrice          27.5\n",
            "Name: 141, dtype: object\n",
            "--------------->HYPOTHESIS NOT FULFILLED\n"
          ],
          "name": "stdout"
        }
      ]
    },
    {
      "cell_type": "code",
      "metadata": {
        "id": "vc-sSUPO2SJO",
        "colab_type": "code",
        "colab": {}
      },
      "source": [
        "#We see that initial hypothesis is not fulfilled because existance of a 'Discount' entry. I check again the hypothesis but this time discarding the 'Discount' entries:"
      ],
      "execution_count": 0,
      "outputs": []
    },
    {
      "cell_type": "code",
      "metadata": {
        "id": "46q36JXx2gqO",
        "colab_type": "code",
        "outputId": "6baae073-a915-4d27-ad0b-68aa41b5bf34",
        "colab": {
          "base_uri": "https://localhost:8080/",
          "height": 136
        }
      },
      "source": [
        "df_check = df_initial[(df_initial['Quantity'] < 0) & (df_initial['Description'] != 'Discount')][\n",
        "                                 ['CustomerID','Quantity','StockCode',\n",
        "                                  'Description','UnitPrice']]\n",
        "\n",
        "for index, col in  df_check.iterrows():\n",
        "    if df_initial[(df_initial['CustomerID'] == col[0]) & (df_initial['Quantity'] == -col[1]) \n",
        "                & (df_initial['Description'] == col[2])].shape[0] == 0: \n",
        "        print(index, df_check.loc[index])\n",
        "        print(15*'-'+'>'+' HYPOTHESIS NOT FULFILLED')\n",
        "        break"
      ],
      "execution_count": 41,
      "outputs": [
        {
          "output_type": "stream",
          "text": [
            "154 CustomerID                               15311\n",
            "Quantity                                    -1\n",
            "StockCode                               35004C\n",
            "Description    SET OF 3 COLOURED  FLYING DUCKS\n",
            "UnitPrice                                 4.65\n",
            "Name: 154, dtype: object\n",
            "---------------> HYPOTHESIS NOT FULFILLED\n"
          ],
          "name": "stdout"
        }
      ]
    },
    {
      "cell_type": "markdown",
      "metadata": {
        "id": "htQ5eTib3u0b",
        "colab_type": "text"
      },
      "source": [
        "Once again, we find that the initial hypothesis is not verified. Hence, cancellations are not necessarily correspond to orders that would have been made beforehand.\n",
        "\n",
        "At this point, I decide to create a new variable in the dataframe that indicate if part of the command has been canceled.For the cancellations without conterparts, a few of them are probably due to the fac that the buy orders were performed before December 2010(the point of entry of the database). Below, I make a census of the cancel orders and check for the existence of counterparts:\n",
        "\n",
        "\n"
      ]
    },
    {
      "cell_type": "code",
      "metadata": {
        "id": "_jo6xisX456u",
        "colab_type": "code",
        "colab": {}
      },
      "source": [
        "df_cleaned = df_initial.copy(deep = True)\n",
        "df_cleaned['QuantityCanceled'] = 0\n",
        "\n",
        "entry_to_remove = [] ; doubtfull_entry = []\n",
        "\n",
        "for index, col in  df_initial.iterrows():\n",
        "    if (col['Quantity'] > 0) or col['Description'] == 'Discount': continue        \n",
        "    df_test = df_initial[(df_initial['CustomerID'] == col['CustomerID']) &\n",
        "                         (df_initial['StockCode']  == col['StockCode']) & \n",
        "                         (df_initial['InvoiceDate'] < col['InvoiceDate']) & \n",
        "                         (df_initial['Quantity']   > 0)].copy()\n",
        "    #_________________________________\n",
        "    # Cancelation WITHOUT counterpart\n",
        "    if (df_test.shape[0] == 0): \n",
        "        doubtfull_entry.append(index)\n",
        "    #________________________________\n",
        "    # Cancelation WITH a counterpart\n",
        "    elif (df_test.shape[0] == 1): \n",
        "        index_order = df_test.index[0]\n",
        "        df_cleaned.loc[index_order, 'QuantityCanceled'] = -col['Quantity']\n",
        "        entry_to_remove.append(index)        \n",
        "    #______________________________________________________________\n",
        "    # Various counterparts exist in orders: we delete the last one\n",
        "    elif (df_test.shape[0] > 1): \n",
        "        df_test.sort_index(axis=0 ,ascending=False, inplace = True)        \n",
        "        for ind, val in df_test.iterrows():\n",
        "            if val['Quantity'] < -col['Quantity']: continue\n",
        "            df_cleaned.loc[ind, 'QuantityCanceled'] = -col['Quantity']\n",
        "            entry_to_remove.append(index) \n",
        "            break          "
      ],
      "execution_count": 0,
      "outputs": []
    },
    {
      "cell_type": "markdown",
      "metadata": {
        "id": "zb_VtYrR46Qx",
        "colab_type": "text"
      },
      "source": [
        "In the above fuction, I checked the two cases:\n",
        "\n",
        "1.a cancel order exists without counterpart\n",
        "2.there's at least one counterpart with the exact same quantity.\n",
        "\n",
        "The index of the corresponding cancel order are respectively kep in the dounbtfull_entry and entry_to_remove lists whose sizes are as below:"
      ]
    },
    {
      "cell_type": "code",
      "metadata": {
        "id": "2SDA_lP_3fV4",
        "colab_type": "code",
        "outputId": "9f04db10-341f-4101-f34f-0e828dea502e",
        "colab": {
          "base_uri": "https://localhost:8080/",
          "height": 51
        }
      },
      "source": [
        "print(\"entry_to_remove:{}\".format(len(entry_to_remove)))\n",
        "print(\"doubtfull_entry:{}\".format(len(doubtfull_entry)))"
      ],
      "execution_count": 50,
      "outputs": [
        {
          "output_type": "stream",
          "text": [
            "entry_to_remove:7521\n",
            "doubtfull_entry:1226\n"
          ],
          "name": "stdout"
        }
      ]
    },
    {
      "cell_type": "markdown",
      "metadata": {
        "id": "AbKUm8CUZJEe",
        "colab_type": "text"
      },
      "source": [
        "Among the entries, the lines lised in the doubfull_entry list correspond to the entries indicating a cancellation but for which there is no command beforehand. In practice, I decide to delete all of these entries, which count respectively for ~1.4% and 0.2% of the datafram entries.\n",
        "\n",
        "Now I check the number of entries that correspond to cancellations and that have not been deleted with the previous filter:"
      ]
    },
    {
      "cell_type": "code",
      "metadata": {
        "id": "ppct1aK04yXs",
        "colab_type": "code",
        "colab": {
          "base_uri": "https://localhost:8080/",
          "height": 445
        },
        "outputId": "1eec28fc-30ac-4c0d-c976-8c10b71eda4f"
      },
      "source": [
        "df_cleaned.drop(entry_to_remove, axis = 0, inplace = True)\n",
        "df_cleaned.drop(doubtfull_entry, axis = 0, inplace = True)\n",
        "remaining_entries = df_cleaned[(df_cleaned['Quantity'] < 0) & (df_cleaned['StockCode'] != 'D')]\n",
        "print(\"nb of entries to delete: {}\".format(remaining_entries.shape[0]))\n",
        "remaining_entries[:5]"
      ],
      "execution_count": 51,
      "outputs": [
        {
          "output_type": "stream",
          "text": [
            "nb of entries to delete: 48\n"
          ],
          "name": "stdout"
        },
        {
          "output_type": "execute_result",
          "data": {
            "text/html": [
              "<div>\n",
              "<style scoped>\n",
              "    .dataframe tbody tr th:only-of-type {\n",
              "        vertical-align: middle;\n",
              "    }\n",
              "\n",
              "    .dataframe tbody tr th {\n",
              "        vertical-align: top;\n",
              "    }\n",
              "\n",
              "    .dataframe thead th {\n",
              "        text-align: right;\n",
              "    }\n",
              "</style>\n",
              "<table border=\"1\" class=\"dataframe\">\n",
              "  <thead>\n",
              "    <tr style=\"text-align: right;\">\n",
              "      <th></th>\n",
              "      <th>InvoiceNo</th>\n",
              "      <th>StockCode</th>\n",
              "      <th>Description</th>\n",
              "      <th>Quantity</th>\n",
              "      <th>InvoiceDate</th>\n",
              "      <th>UnitPrice</th>\n",
              "      <th>CustomerID</th>\n",
              "      <th>Country</th>\n",
              "      <th>QuantityCanceled</th>\n",
              "    </tr>\n",
              "  </thead>\n",
              "  <tbody>\n",
              "    <tr>\n",
              "      <th>77598</th>\n",
              "      <td>C542742</td>\n",
              "      <td>84535B</td>\n",
              "      <td>FAIRY CAKES NOTEBOOK A6 SIZE</td>\n",
              "      <td>-94</td>\n",
              "      <td>2011-01-31 16:26:00</td>\n",
              "      <td>0.65</td>\n",
              "      <td>15358</td>\n",
              "      <td>United Kingdom</td>\n",
              "      <td>0</td>\n",
              "    </tr>\n",
              "    <tr>\n",
              "      <th>90444</th>\n",
              "      <td>C544038</td>\n",
              "      <td>22784</td>\n",
              "      <td>LANTERN CREAM GAZEBO</td>\n",
              "      <td>-4</td>\n",
              "      <td>2011-02-15 11:32:00</td>\n",
              "      <td>4.95</td>\n",
              "      <td>14659</td>\n",
              "      <td>United Kingdom</td>\n",
              "      <td>0</td>\n",
              "    </tr>\n",
              "    <tr>\n",
              "      <th>111968</th>\n",
              "      <td>C545852</td>\n",
              "      <td>22464</td>\n",
              "      <td>HANGING METAL HEART LANTERN</td>\n",
              "      <td>-5</td>\n",
              "      <td>2011-03-07 13:49:00</td>\n",
              "      <td>1.65</td>\n",
              "      <td>14048</td>\n",
              "      <td>United Kingdom</td>\n",
              "      <td>0</td>\n",
              "    </tr>\n",
              "    <tr>\n",
              "      <th>116064</th>\n",
              "      <td>C546191</td>\n",
              "      <td>47566B</td>\n",
              "      <td>TEA TIME PARTY BUNTING</td>\n",
              "      <td>-35</td>\n",
              "      <td>2011-03-10 10:57:00</td>\n",
              "      <td>0.70</td>\n",
              "      <td>16422</td>\n",
              "      <td>United Kingdom</td>\n",
              "      <td>0</td>\n",
              "    </tr>\n",
              "    <tr>\n",
              "      <th>132642</th>\n",
              "      <td>C547675</td>\n",
              "      <td>22263</td>\n",
              "      <td>FELT EGG COSY LADYBIRD</td>\n",
              "      <td>-49</td>\n",
              "      <td>2011-03-24 14:07:00</td>\n",
              "      <td>0.66</td>\n",
              "      <td>17754</td>\n",
              "      <td>United Kingdom</td>\n",
              "      <td>0</td>\n",
              "    </tr>\n",
              "  </tbody>\n",
              "</table>\n",
              "</div>"
            ],
            "text/plain": [
              "       InvoiceNo StockCode  ...         Country  QuantityCanceled\n",
              "77598    C542742    84535B  ...  United Kingdom                 0\n",
              "90444    C544038     22784  ...  United Kingdom                 0\n",
              "111968   C545852     22464  ...  United Kingdom                 0\n",
              "116064   C546191    47566B  ...  United Kingdom                 0\n",
              "132642   C547675     22263  ...  United Kingdom                 0\n",
              "\n",
              "[5 rows x 9 columns]"
            ]
          },
          "metadata": {
            "tags": []
          },
          "execution_count": 51
        }
      ]
    },
    {
      "cell_type": "code",
      "metadata": {
        "id": "TI4Cv22WaDmW",
        "colab_type": "code",
        "colab": {
          "base_uri": "https://localhost:8080/",
          "height": 69
        },
        "outputId": "8551f359-d02a-49ad-bf4f-0fa5557332c0"
      },
      "source": [
        "df_cleaned[(df_cleaned['CustomerID'] == 14048) & (df_cleaned['StockCode'] == '22464')]"
      ],
      "execution_count": 52,
      "outputs": [
        {
          "output_type": "execute_result",
          "data": {
            "text/html": [
              "<div>\n",
              "<style scoped>\n",
              "    .dataframe tbody tr th:only-of-type {\n",
              "        vertical-align: middle;\n",
              "    }\n",
              "\n",
              "    .dataframe tbody tr th {\n",
              "        vertical-align: top;\n",
              "    }\n",
              "\n",
              "    .dataframe thead th {\n",
              "        text-align: right;\n",
              "    }\n",
              "</style>\n",
              "<table border=\"1\" class=\"dataframe\">\n",
              "  <thead>\n",
              "    <tr style=\"text-align: right;\">\n",
              "      <th></th>\n",
              "      <th>InvoiceNo</th>\n",
              "      <th>StockCode</th>\n",
              "      <th>Description</th>\n",
              "      <th>Quantity</th>\n",
              "      <th>InvoiceDate</th>\n",
              "      <th>UnitPrice</th>\n",
              "      <th>CustomerID</th>\n",
              "      <th>Country</th>\n",
              "      <th>QuantityCanceled</th>\n",
              "    </tr>\n",
              "  </thead>\n",
              "  <tbody>\n",
              "  </tbody>\n",
              "</table>\n",
              "</div>"
            ],
            "text/plain": [
              "Empty DataFrame\n",
              "Columns: [InvoiceNo, StockCode, Description, Quantity, InvoiceDate, UnitPrice, CustomerID, Country, QuantityCanceled]\n",
              "Index: []"
            ]
          },
          "metadata": {
            "tags": []
          },
          "execution_count": 52
        }
      ]
    },
    {
      "cell_type": "markdown",
      "metadata": {
        "id": "85sTaAy6eFO1",
        "colab_type": "text"
      },
      "source": [
        "We observed that quanitty canceled is greater than the sum of the previous purchases.\n",
        "\n",
        "\n",
        "2.2.2 StockCode\n",
        "Above,it has been seen that some values of the StockCode variable indicate a particular transaction (i.e. D for Discount). I check the contents of this variable by looking by looking for the set of codes that would contain only letters."
      ]
    },
    {
      "cell_type": "code",
      "metadata": {
        "id": "gqkbd2SXcefd",
        "colab_type": "code",
        "colab": {
          "base_uri": "https://localhost:8080/",
          "height": 51
        },
        "outputId": "8c68dda0-c002-4ba3-e4a8-29f987704b89"
      },
      "source": [
        "list_special_codes = df_cleaned[df_cleaned['StockCode'].str.contains('^[a-zA-Z]+', regex=True)]['StockCode'].unique()\n",
        "list_special_codes"
      ],
      "execution_count": 54,
      "outputs": [
        {
          "output_type": "execute_result",
          "data": {
            "text/plain": [
              "array(['POST', 'D', 'C2', 'M', 'BANK CHARGES', 'PADS', 'DOT'],\n",
              "      dtype=object)"
            ]
          },
          "metadata": {
            "tags": []
          },
          "execution_count": 54
        }
      ]
    },
    {
      "cell_type": "code",
      "metadata": {
        "id": "XqN7xgkCew-W",
        "colab_type": "code",
        "colab": {
          "base_uri": "https://localhost:8080/",
          "height": 136
        },
        "outputId": "e917174a-70de-4129-8a5a-f2826392de9a"
      },
      "source": [
        "for code in list_special_codes:\n",
        "  print(\"{:<15} -> {:<30}\".format(code,df_cleaned[df_cleaned['StockCode']==code]['Description'].unique()[0]))"
      ],
      "execution_count": 55,
      "outputs": [
        {
          "output_type": "stream",
          "text": [
            "POST            -> POSTAGE                       \n",
            "D               -> Discount                      \n",
            "C2              -> CARRIAGE                      \n",
            "M               -> Manual                        \n",
            "BANK CHARGES    -> Bank Charges                  \n",
            "PADS            -> PADS TO MATCH ALL CUSHIONS    \n",
            "DOT             -> DOTCOM POSTAGE                \n"
          ],
          "name": "stdout"
        }
      ]
    },
    {
      "cell_type": "markdown",
      "metadata": {
        "id": "Qr7ddiYUfMRS",
        "colab_type": "text"
      },
      "source": [
        "We see that there are several types of peculiar transaction, connected"
      ]
    },
    {
      "cell_type": "markdown",
      "metadata": {
        "id": "oVl5kqP6fT66",
        "colab_type": "text"
      },
      "source": [
        "2.2.3 Basket Price\n",
        "\n",
        "I create a new variable that indicates tht total price of every purchase:"
      ]
    },
    {
      "cell_type": "code",
      "metadata": {
        "id": "JbpQ9CIWfLRu",
        "colab_type": "code",
        "colab": {
          "base_uri": "https://localhost:8080/",
          "height": 496
        },
        "outputId": "9f4b055a-5c44-4139-c9e5-15640f0695ba"
      },
      "source": [
        "df_cleaned['TotalPrice']=df_cleaned['UnitPrice']*(df_cleaned['Quantity']-df_cleaned['QuantityCanceled'])\n",
        "df_cleaned.sort_values('CustomerID')[:5]"
      ],
      "execution_count": 56,
      "outputs": [
        {
          "output_type": "execute_result",
          "data": {
            "text/html": [
              "<div>\n",
              "<style scoped>\n",
              "    .dataframe tbody tr th:only-of-type {\n",
              "        vertical-align: middle;\n",
              "    }\n",
              "\n",
              "    .dataframe tbody tr th {\n",
              "        vertical-align: top;\n",
              "    }\n",
              "\n",
              "    .dataframe thead th {\n",
              "        text-align: right;\n",
              "    }\n",
              "</style>\n",
              "<table border=\"1\" class=\"dataframe\">\n",
              "  <thead>\n",
              "    <tr style=\"text-align: right;\">\n",
              "      <th></th>\n",
              "      <th>InvoiceNo</th>\n",
              "      <th>StockCode</th>\n",
              "      <th>Description</th>\n",
              "      <th>Quantity</th>\n",
              "      <th>InvoiceDate</th>\n",
              "      <th>UnitPrice</th>\n",
              "      <th>CustomerID</th>\n",
              "      <th>Country</th>\n",
              "      <th>QuantityCanceled</th>\n",
              "      <th>TotalPrice</th>\n",
              "    </tr>\n",
              "  </thead>\n",
              "  <tbody>\n",
              "    <tr>\n",
              "      <th>61619</th>\n",
              "      <td>541431</td>\n",
              "      <td>23166</td>\n",
              "      <td>MEDIUM CERAMIC TOP STORAGE JAR</td>\n",
              "      <td>74215</td>\n",
              "      <td>2011-01-18 10:01:00</td>\n",
              "      <td>1.04</td>\n",
              "      <td>12346</td>\n",
              "      <td>United Kingdom</td>\n",
              "      <td>74215</td>\n",
              "      <td>0.0</td>\n",
              "    </tr>\n",
              "    <tr>\n",
              "      <th>148288</th>\n",
              "      <td>549222</td>\n",
              "      <td>22375</td>\n",
              "      <td>AIRLINE BAG VINTAGE JET SET BROWN</td>\n",
              "      <td>4</td>\n",
              "      <td>2011-04-07 10:43:00</td>\n",
              "      <td>4.25</td>\n",
              "      <td>12347</td>\n",
              "      <td>Iceland</td>\n",
              "      <td>0</td>\n",
              "      <td>17.0</td>\n",
              "    </tr>\n",
              "    <tr>\n",
              "      <th>428971</th>\n",
              "      <td>573511</td>\n",
              "      <td>22698</td>\n",
              "      <td>PINK REGENCY TEACUP AND SAUCER</td>\n",
              "      <td>12</td>\n",
              "      <td>2011-10-31 12:25:00</td>\n",
              "      <td>2.95</td>\n",
              "      <td>12347</td>\n",
              "      <td>Iceland</td>\n",
              "      <td>0</td>\n",
              "      <td>35.4</td>\n",
              "    </tr>\n",
              "    <tr>\n",
              "      <th>428970</th>\n",
              "      <td>573511</td>\n",
              "      <td>47559B</td>\n",
              "      <td>TEA TIME OVEN GLOVE</td>\n",
              "      <td>10</td>\n",
              "      <td>2011-10-31 12:25:00</td>\n",
              "      <td>1.25</td>\n",
              "      <td>12347</td>\n",
              "      <td>Iceland</td>\n",
              "      <td>0</td>\n",
              "      <td>12.5</td>\n",
              "    </tr>\n",
              "    <tr>\n",
              "      <th>428969</th>\n",
              "      <td>573511</td>\n",
              "      <td>47567B</td>\n",
              "      <td>TEA TIME KITCHEN APRON</td>\n",
              "      <td>6</td>\n",
              "      <td>2011-10-31 12:25:00</td>\n",
              "      <td>5.95</td>\n",
              "      <td>12347</td>\n",
              "      <td>Iceland</td>\n",
              "      <td>0</td>\n",
              "      <td>35.7</td>\n",
              "    </tr>\n",
              "  </tbody>\n",
              "</table>\n",
              "</div>"
            ],
            "text/plain": [
              "       InvoiceNo StockCode  ... QuantityCanceled  TotalPrice\n",
              "61619     541431     23166  ...            74215         0.0\n",
              "148288    549222     22375  ...                0        17.0\n",
              "428971    573511     22698  ...                0        35.4\n",
              "428970    573511    47559B  ...                0        12.5\n",
              "428969    573511    47567B  ...                0        35.7\n",
              "\n",
              "[5 rows x 10 columns]"
            ]
          },
          "metadata": {
            "tags": []
          },
          "execution_count": 56
        }
      ]
    },
    {
      "cell_type": "markdown",
      "metadata": {
        "id": "wAqLFThOfpOE",
        "colab_type": "text"
      },
      "source": [
        "Each entry of the data frame indicates prizes for a single kind of product. Hence, orders are split on several lines. I collect all the purchases made during a single order to recover the total order prize:\n"
      ]
    },
    {
      "cell_type": "code",
      "metadata": {
        "id": "-OzN3TuQfnyy",
        "colab_type": "code",
        "colab": {
          "base_uri": "https://localhost:8080/",
          "height": 235
        },
        "outputId": "93ab35d3-f26a-4138-9b36-e852d805ca2e"
      },
      "source": [
        "#________________________________\n",
        "# Somme des achats / utilisateur & commande\n",
        "temp=df_cleaned.groupby(by=['CustomerID','InvoiceNo'],as_index=False)['TotalPrice'].sum()\n",
        "basket_price=temp.rename(columns={'TotalPrice':'Basket Price'})\n",
        "#________________________________\n",
        "#date de la commande\n",
        "df_cleaned['InvoiceDate_int']=df_cleaned['InvoiceDate'].astype('int64')\n",
        "temp=df_cleaned.groupby(by=['CustomerID','InvoiceNo'],as_index=False)['InvoiceDate_int'].mean()\n",
        "df_cleaned.drop('InvoiceDate_int',axis=1,inplace=True)\n",
        "basket_price.loc[:,'InvoiceDate']=pd.to_datetime(temp['InvoiceDate_int'])\n",
        "#________________________________\n",
        "# Selection des entrees significatives:\n",
        "basket_price=basket_price[basket_price['Basket Price']>0]\n",
        "basket_price.sort_values('CustomerID')[:6]"
      ],
      "execution_count": 57,
      "outputs": [
        {
          "output_type": "execute_result",
          "data": {
            "text/html": [
              "<div>\n",
              "<style scoped>\n",
              "    .dataframe tbody tr th:only-of-type {\n",
              "        vertical-align: middle;\n",
              "    }\n",
              "\n",
              "    .dataframe tbody tr th {\n",
              "        vertical-align: top;\n",
              "    }\n",
              "\n",
              "    .dataframe thead th {\n",
              "        text-align: right;\n",
              "    }\n",
              "</style>\n",
              "<table border=\"1\" class=\"dataframe\">\n",
              "  <thead>\n",
              "    <tr style=\"text-align: right;\">\n",
              "      <th></th>\n",
              "      <th>CustomerID</th>\n",
              "      <th>InvoiceNo</th>\n",
              "      <th>Basket Price</th>\n",
              "      <th>InvoiceDate</th>\n",
              "    </tr>\n",
              "  </thead>\n",
              "  <tbody>\n",
              "    <tr>\n",
              "      <th>1</th>\n",
              "      <td>12347</td>\n",
              "      <td>537626</td>\n",
              "      <td>711.79</td>\n",
              "      <td>2010-12-07 14:57:00.000001024</td>\n",
              "    </tr>\n",
              "    <tr>\n",
              "      <th>2</th>\n",
              "      <td>12347</td>\n",
              "      <td>542237</td>\n",
              "      <td>475.39</td>\n",
              "      <td>2011-01-26 14:29:59.999999744</td>\n",
              "    </tr>\n",
              "    <tr>\n",
              "      <th>3</th>\n",
              "      <td>12347</td>\n",
              "      <td>549222</td>\n",
              "      <td>636.25</td>\n",
              "      <td>2011-04-07 10:42:59.999999232</td>\n",
              "    </tr>\n",
              "    <tr>\n",
              "      <th>4</th>\n",
              "      <td>12347</td>\n",
              "      <td>556201</td>\n",
              "      <td>382.52</td>\n",
              "      <td>2011-06-09 13:01:00.000000256</td>\n",
              "    </tr>\n",
              "    <tr>\n",
              "      <th>5</th>\n",
              "      <td>12347</td>\n",
              "      <td>562032</td>\n",
              "      <td>584.91</td>\n",
              "      <td>2011-08-02 08:48:00.000000000</td>\n",
              "    </tr>\n",
              "    <tr>\n",
              "      <th>6</th>\n",
              "      <td>12347</td>\n",
              "      <td>573511</td>\n",
              "      <td>1294.32</td>\n",
              "      <td>2011-10-31 12:25:00.000001280</td>\n",
              "    </tr>\n",
              "  </tbody>\n",
              "</table>\n",
              "</div>"
            ],
            "text/plain": [
              "  CustomerID InvoiceNo  Basket Price                   InvoiceDate\n",
              "1      12347    537626        711.79 2010-12-07 14:57:00.000001024\n",
              "2      12347    542237        475.39 2011-01-26 14:29:59.999999744\n",
              "3      12347    549222        636.25 2011-04-07 10:42:59.999999232\n",
              "4      12347    556201        382.52 2011-06-09 13:01:00.000000256\n",
              "5      12347    562032        584.91 2011-08-02 08:48:00.000000000\n",
              "6      12347    573511       1294.32 2011-10-31 12:25:00.000001280"
            ]
          },
          "metadata": {
            "tags": []
          },
          "execution_count": 57
        }
      ]
    },
    {
      "cell_type": "code",
      "metadata": {
        "id": "zhi85AQEg_Fs",
        "colab_type": "code",
        "colab": {}
      },
      "source": [
        "#In order to have a global view of the type of order performed in thid dataset, I determine how tht purchases are divided according to total prizes:"
      ],
      "execution_count": 0,
      "outputs": []
    },
    {
      "cell_type": "code",
      "metadata": {
        "id": "_VOOlGTKhJr3",
        "colab_type": "code",
        "colab": {}
      },
      "source": [
        "#____________________\n",
        "# Décompte des achats\n",
        "price_range = [0, 50, 100, 200, 500, 1000, 5000, 50000]\n",
        "count_price = []\n",
        "for i, price in enumerate(price_range):\n",
        "    if i == 0: continue\n",
        "    val = basket_price[(basket_price['Basket Price'] < price) &\n",
        "                       (basket_price['Basket Price'] > price_range[i-1])]['Basket Price'].count()\n",
        "    count_price.append(val)\n",
        "#____________________________________________\n",
        "# Représentation du nombre d'achats / montant        \n",
        "plt.rc('font', weight='bold')\n",
        "f, ax = plt.subplots(figsize=(11, 6))\n",
        "colors = ['yellowgreen', 'gold', 'wheat', 'c', 'violet', 'royalblue','firebrick']\n",
        "labels = [ '{}<.<{}'.format(price_range[i-1], s) for i,s in enumerate(price_range) if i != 0]\n",
        "sizes  = count_price\n",
        "explode = [0.0 if sizes[i] < 100 else 0.0 for i in range(len(sizes))]\n",
        "ax.pie(sizes, explode = explode, labels=labels, colors = colors,\n",
        "       autopct = lambda x:'{:1.0f}%'.format(x) if x > 1 else '',\n",
        "       shadow = False, startangle=0)\n",
        "ax.axis('equal')\n",
        "f.text(0.5, 1.01, \"Répartition des montants des commandes\", ha='center', fontsize = 18);"
      ],
      "execution_count": 0,
      "outputs": []
    },
    {
      "cell_type": "code",
      "metadata": {
        "id": "zsxjeQiui1rA",
        "colab_type": "code",
        "colab": {}
      },
      "source": [
        "#It can be seen that the vast majority of orders concern relatively large purchases given that ~65% of purchases give prizes in excess of 200"
      ],
      "execution_count": 0,
      "outputs": []
    },
    {
      "cell_type": "markdown",
      "metadata": {
        "id": "vG6sljIVjrRj",
        "colab_type": "text"
      },
      "source": [
        "3. Insight on product categories¶\n",
        "In the dataframe, products are uniquely identified through the StockCode variable. A shrort description of the products is given in the Description variable. In this section, I intend to use the content of this latter variable in order to group the products into different categories.\n",
        "\n",
        "\n",
        "3.1 Products Description¶\n",
        "As a first step, I extract from the Description variable the information that will prove useful. To do this, I use the following function:"
      ]
    },
    {
      "cell_type": "code",
      "metadata": {
        "id": "jxrEHNFwjntF",
        "colab_type": "code",
        "colab": {}
      },
      "source": [
        "is_noun = lambda pos: pos[:2] == 'NN'\n",
        "\n",
        "def keywords_inventory(dataframe, colonne = 'Description'):\n",
        "    stemmer = nltk.stem.SnowballStemmer(\"english\")\n",
        "    keywords_roots  = dict()  # collect the words / root\n",
        "    keywords_select = dict()  # association: root <-> keyword\n",
        "    category_keys   = []\n",
        "    count_keywords  = dict()\n",
        "    icount = 0\n",
        "    for s in dataframe[colonne]:\n",
        "        if pd.isnull(s): continue\n",
        "        lines = s.lower()\n",
        "        tokenized = nltk.word_tokenize(lines)\n",
        "        nouns = [word for (word, pos) in nltk.pos_tag(tokenized) if is_noun(pos)] \n",
        "        \n",
        "        for t in nouns:\n",
        "            t = t.lower() ; racine = stemmer.stem(t)\n",
        "            if racine in keywords_roots:                \n",
        "                keywords_roots[racine].add(t)\n",
        "                count_keywords[racine] += 1                \n",
        "            else:\n",
        "                keywords_roots[racine] = {t}\n",
        "                count_keywords[racine] = 1\n",
        "    \n",
        "    for s in keywords_roots.keys():\n",
        "        if len(keywords_roots[s]) > 1:  \n",
        "            min_length = 1000\n",
        "            for k in keywords_roots[s]:\n",
        "                if len(k) < min_length:\n",
        "                    clef = k ; min_length = len(k)            \n",
        "            category_keys.append(clef)\n",
        "            keywords_select[s] = clef\n",
        "        else:\n",
        "            category_keys.append(list(keywords_roots[s])[0])\n",
        "            keywords_select[s] = list(keywords_roots[s])[0]\n",
        "                   \n",
        "    print(\"Nb of keywords in variable '{}': {}\".format(colonne,len(category_keys)))\n",
        "    return category_keys, keywords_roots, keywords_select, count_keywords"
      ],
      "execution_count": 0,
      "outputs": []
    },
    {
      "cell_type": "markdown",
      "metadata": {
        "id": "2aIVaq4-j14Z",
        "colab_type": "text"
      },
      "source": [
        "This function takes as input the dataframe and analyzes the content of the Description column by performing the following operations:\n",
        "\n",
        "extract the names (proper, common) appearing in the products description\n",
        "for each name, I extract the root of the word and aggregate the set of names associated with this particular root\n",
        "count the number of times each root appears in the dataframe\n",
        "when several words are listed for the same root, I consider that the keyword associated with this root is the shortest name (this systematically selects the singular when there are singular/plural variants)\n",
        "The first step of the analysis is to retrieve the list of products:"
      ]
    },
    {
      "cell_type": "code",
      "metadata": {
        "id": "hdipTZWNjxqG",
        "colab_type": "code",
        "colab": {}
      },
      "source": [
        "df_products = pd.DataFrame(df_initial['Description'].unique()).rename(columns = {0:'Description'})"
      ],
      "execution_count": 0,
      "outputs": []
    },
    {
      "cell_type": "code",
      "metadata": {
        "id": "N8BGXQhDj3w_",
        "colab_type": "code",
        "colab": {
          "base_uri": "https://localhost:8080/",
          "height": 119
        },
        "outputId": "58147f77-56f4-4dc2-fd13-511b6250a540"
      },
      "source": [
        "import nltk\n",
        "nltk.download('punkt')\n",
        "nltk.download('averaged_perceptron_tagger')\n",
        "keywords, keywords_roots, keywords_select, count_keywords = keywords_inventory(df_products)"
      ],
      "execution_count": 73,
      "outputs": [
        {
          "output_type": "stream",
          "text": [
            "[nltk_data] Downloading package punkt to /root/nltk_data...\n",
            "[nltk_data]   Package punkt is already up-to-date!\n",
            "[nltk_data] Downloading package averaged_perceptron_tagger to\n",
            "[nltk_data]     /root/nltk_data...\n",
            "[nltk_data]   Unzipping taggers/averaged_perceptron_tagger.zip.\n",
            "Nb of keywords in variable 'Description': 1483\n"
          ],
          "name": "stdout"
        }
      ]
    },
    {
      "cell_type": "markdown",
      "metadata": {
        "id": "7gEe_m20kUf5",
        "colab_type": "text"
      },
      "source": [
        "The execution of this function returns three variables:\n",
        "\n",
        "keywords: the list of extracted keywords\n",
        "keywords_roots: a dictionary where the keys are the keywords roots and the values are the lists of words associated with those roots\n",
        "count_keywords: dictionary listing the number of times every word is used\n",
        "At this point, I convert the count_keywords dictionary into a list, to sort the keywords according to their occurences:"
      ]
    },
    {
      "cell_type": "code",
      "metadata": {
        "id": "1GGfhp6aj7TZ",
        "colab_type": "code",
        "colab": {}
      },
      "source": [
        "list_products = []\n",
        "for k,v in count_keywords.items():\n",
        "    list_products.append([keywords_select[k],v])\n",
        "list_products.sort(key = lambda x:x[1], reverse = True)"
      ],
      "execution_count": 0,
      "outputs": []
    },
    {
      "cell_type": "markdown",
      "metadata": {
        "id": "m-AFC87nkcDL",
        "colab_type": "text"
      },
      "source": [
        "\n",
        "3.2 Defining product categories\n",
        "The list that was obtained contains more than 1400 keywords and the most frequent ones appear in more than 200 products. However, while examinating the content of the list, I note that some names are useless. Others are do not carry information, like colors. Therefore, I discard these words from the analysis that follows and also, I decide to consider only the words that appear more than 13 times."
      ]
    },
    {
      "cell_type": "code",
      "metadata": {
        "id": "Gt7esqGbkW24",
        "colab_type": "code",
        "colab": {
          "base_uri": "https://localhost:8080/",
          "height": 34
        },
        "outputId": "3bf51c81-9b16-4ff1-89e9-c05cb65916d9"
      },
      "source": [
        "list_products = []\n",
        "for k,v in count_keywords.items():\n",
        "    word = keywords_select[k]\n",
        "    if word in ['pink', 'blue', 'tag', 'green', 'orange']: continue\n",
        "    if len(word) < 3 or v < 13: continue\n",
        "    if ('+' in word) or ('/' in word): continue\n",
        "    list_products.append([word, v])\n",
        "#______________________________________________________    \n",
        "list_products.sort(key = lambda x:x[1], reverse = True)\n",
        "print('mots conservés:', len(list_products))"
      ],
      "execution_count": 76,
      "outputs": [
        {
          "output_type": "stream",
          "text": [
            "mots conservés: 193\n"
          ],
          "name": "stdout"
        }
      ]
    },
    {
      "cell_type": "markdown",
      "metadata": {
        "id": "faucA5tQk3Xg",
        "colab_type": "text"
      },
      "source": [
        "\n",
        "3.2.1 Data encoding¶\n",
        "Now I will use these keywords to create groups of product. Firstly, I define the  X  matrix as:\n",
        "\n",
        "where the  ai,j  coefficient is 1 if the description of the product  i  contains the word  j , and 0 otherwise."
      ]
    },
    {
      "cell_type": "code",
      "metadata": {
        "id": "V41FJFQRkea9",
        "colab_type": "code",
        "colab": {}
      },
      "source": [
        "liste_produits = df_cleaned['Description'].unique()\n",
        "X = pd.DataFrame()\n",
        "for key, occurence in list_products:\n",
        "    X.loc[:, key] = list(map(lambda x:int(key.upper() in x), liste_produits))"
      ],
      "execution_count": 0,
      "outputs": []
    },
    {
      "cell_type": "markdown",
      "metadata": {
        "id": "5c5Pez7Nk-u7",
        "colab_type": "text"
      },
      "source": [
        "The  X  matrix indicates the words contained in the description of the products using the one-hot-encoding principle. In practice, I have found that introducing the price range results in more balanced groups in terms of element numbers. Hence, I add 6 extra columns to this matrix, where I indicate the price range of the products:"
      ]
    },
    {
      "cell_type": "code",
      "metadata": {
        "id": "zU1zRV5kk9CA",
        "colab_type": "code",
        "colab": {}
      },
      "source": [
        "threshold = [0, 1, 2, 3, 5, 10]\n",
        "label_col = []\n",
        "for i in range(len(threshold)):\n",
        "    if i == len(threshold)-1:\n",
        "        col = '.>{}'.format(threshold[i])\n",
        "    else:\n",
        "        col = '{}<.<{}'.format(threshold[i],threshold[i+1])\n",
        "    label_col.append(col)\n",
        "    X.loc[:, col] = 0\n",
        "\n",
        "for i, prod in enumerate(liste_produits):\n",
        "    prix = df_cleaned[ df_cleaned['Description'] == prod]['UnitPrice'].mean()\n",
        "    j = 0\n",
        "    while prix > threshold[j]:\n",
        "        j+=1\n",
        "        if j == len(threshold): break\n",
        "    X.loc[i, label_col[j-1]] = 1"
      ],
      "execution_count": 0,
      "outputs": []
    },
    {
      "cell_type": "code",
      "metadata": {
        "id": "chmQycznlBPx",
        "colab_type": "code",
        "colab": {
          "base_uri": "https://localhost:8080/",
          "height": 153
        },
        "outputId": "dd0f051d-f043-4b48-82ba-7f934aa425ea"
      },
      "source": [
        "print(\"{:<8} {:<20} \\n\".format('gamme', 'nb. produits') + 20*'-')\n",
        "for i in range(len(threshold)):\n",
        "    if i == len(threshold)-1:\n",
        "        col = '.>{}'.format(threshold[i])\n",
        "    else:\n",
        "        col = '{}<.<{}'.format(threshold[i],threshold[i+1])    \n",
        "    print(\"{:<10}  {:<20}\".format(col, X.loc[:, col].sum()))"
      ],
      "execution_count": 79,
      "outputs": [
        {
          "output_type": "stream",
          "text": [
            "gamme    nb. produits         \n",
            "--------------------\n",
            "0<.<1       964                 \n",
            "1<.<2       1009                \n",
            "2<.<3       673                 \n",
            "3<.<5       606                 \n",
            "5<.<10      470                 \n",
            ".>10        156                 \n"
          ],
          "name": "stdout"
        }
      ]
    },
    {
      "cell_type": "markdown",
      "metadata": {
        "id": "vXzFD0iKlImC",
        "colab_type": "text"
      },
      "source": [
        "\n",
        "3.2.2 Creating clusters of products\n",
        "In this section, I will group the products into different classes. In the case of matrices with binary encoding, the most suitable metric for the calculation of distances is the Hamming's metric. Note that the kmeans method of sklearn uses a Euclidean distance that can be used, but it is not to the best choice in the case of categorical variables. However, in order to use the Hamming's metric, we need to use the kmodes package which is not available on the current plateform. Hence, I use the kmeans method even if this is not the best choice.\n",
        "\n",
        "In order to define (approximately) the number of clusters that best represents the data, I use the silhouette score:"
      ]
    },
    {
      "cell_type": "code",
      "metadata": {
        "id": "RTIC1BwglEN_",
        "colab_type": "code",
        "colab": {
          "base_uri": "https://localhost:8080/",
          "height": 136
        },
        "outputId": "7d9cb34f-1e1d-483e-b4f0-51220c769156"
      },
      "source": [
        "matrix = X.as_matrix()\n",
        "for n_clusters in range(3,10):\n",
        "    kmeans = KMeans(init='k-means++', n_clusters = n_clusters, n_init=30)\n",
        "    kmeans.fit(matrix)\n",
        "    clusters = kmeans.predict(matrix)\n",
        "    silhouette_avg = silhouette_score(matrix, clusters)\n",
        "    print(\"For n_clusters =\", n_clusters, \"The average silhouette_score is :\", silhouette_avg)"
      ],
      "execution_count": 80,
      "outputs": [
        {
          "output_type": "stream",
          "text": [
            "For n_clusters = 3 The average silhouette_score is : 0.10158702596012364\n",
            "For n_clusters = 4 The average silhouette_score is : 0.1268004588393788\n",
            "For n_clusters = 5 The average silhouette_score is : 0.12670138195616623\n",
            "For n_clusters = 6 The average silhouette_score is : 0.15122077520906058\n",
            "For n_clusters = 7 The average silhouette_score is : 0.14644510046650297\n",
            "For n_clusters = 8 The average silhouette_score is : 0.14522551252254837\n",
            "For n_clusters = 9 The average silhouette_score is : 0.12422388450751833\n"
          ],
          "name": "stdout"
        }
      ]
    },
    {
      "cell_type": "markdown",
      "metadata": {
        "id": "xudB-iKJl7M7",
        "colab_type": "text"
      },
      "source": [
        "In practice, the scores obtained above can be considered equivalent since, depending on the run, scores of  0.1±0.05  will be obtained for all clusters with n_clusters  >  3 (we obtain slightly lower scores for the first cluster). On the other hand, I found that beyond 5 clusters, some clusters contained very few elements. I therefore choose to separate the dataset into 5 clusters. In order to ensure a good classification at every run of the notebook, I iterate untill we obtain the best possible silhouette score, which is, in the present case, around 0.15:"
      ]
    },
    {
      "cell_type": "code",
      "metadata": {
        "id": "VfzEO95Yl5yu",
        "colab_type": "code",
        "colab": {
          "base_uri": "https://localhost:8080/",
          "height": 34
        },
        "outputId": "aa8d868e-b4a6-49af-e073-8a53025b394a"
      },
      "source": [
        "n_clusters = 5\n",
        "silhouette_avg = -1\n",
        "while silhouette_avg < 0.145:\n",
        "    kmeans = KMeans(init='k-means++', n_clusters = n_clusters, n_init=30)\n",
        "    kmeans.fit(matrix)\n",
        "    clusters = kmeans.predict(matrix)\n",
        "    silhouette_avg = silhouette_score(matrix, clusters)\n",
        "    \n",
        "    #km = kmodes.KModes(n_clusters = n_clusters, init='Huang', n_init=2, verbose=0)\n",
        "    #clusters = km.fit_predict(matrix)\n",
        "    #silhouette_avg = silhouette_score(matrix, clusters)\n",
        "    print(\"For n_clusters =\", n_clusters, \"The average silhouette_score is :\", silhouette_avg)"
      ],
      "execution_count": 81,
      "outputs": [
        {
          "output_type": "stream",
          "text": [
            "For n_clusters = 5 The average silhouette_score is : 0.14551915467116125\n"
          ],
          "name": "stdout"
        }
      ]
    },
    {
      "cell_type": "code",
      "metadata": {
        "id": "PJOAOHNRl8hc",
        "colab_type": "code",
        "colab": {
          "base_uri": "https://localhost:8080/",
          "height": 119
        },
        "outputId": "abb789b1-c898-467f-a9df-102e441dd905"
      },
      "source": [
        "pd.Series(clusters).value_counts()"
      ],
      "execution_count": 82,
      "outputs": [
        {
          "output_type": "execute_result",
          "data": {
            "text/plain": [
              "1    1114\n",
              "3    1009\n",
              "4     673\n",
              "2     606\n",
              "0     476\n",
              "dtype: int64"
            ]
          },
          "metadata": {
            "tags": []
          },
          "execution_count": 82
        }
      ]
    },
    {
      "cell_type": "markdown",
      "metadata": {
        "id": "5EB06_XemEBJ",
        "colab_type": "text"
      },
      "source": [
        "a / Silhouette intra-cluster score\n",
        "\n",
        "In order to have an insight on the quality of the classification, we can represent the silhouette scores of each element of the different clusters. This is the purpose of the next figure which is taken from the sklearn documentation:"
      ]
    },
    {
      "cell_type": "code",
      "metadata": {
        "id": "Eg4OViaLmB7r",
        "colab_type": "code",
        "colab": {}
      },
      "source": [
        "def graph_component_silhouette(n_clusters, lim_x, mat_size, sample_silhouette_values, clusters):\n",
        "    plt.rcParams[\"patch.force_edgecolor\"] = True\n",
        "    plt.style.use('fivethirtyeight')\n",
        "    mpl.rc('patch', edgecolor = 'dimgray', linewidth=1)\n",
        "    #____________________________\n",
        "    fig, ax1 = plt.subplots(1, 1)\n",
        "    fig.set_size_inches(8, 8)\n",
        "    ax1.set_xlim([lim_x[0], lim_x[1]])\n",
        "    ax1.set_ylim([0, mat_size + (n_clusters + 1) * 10])\n",
        "    y_lower = 10\n",
        "    for i in range(n_clusters):\n",
        "        #___________________________________________________________________________________\n",
        "        # Aggregate the silhouette scores for samples belonging to cluster i, and sort them\n",
        "        ith_cluster_silhouette_values = sample_silhouette_values[clusters == i]\n",
        "        ith_cluster_silhouette_values.sort()\n",
        "        size_cluster_i = ith_cluster_silhouette_values.shape[0]\n",
        "        y_upper = y_lower + size_cluster_i\n",
        "        cmap = cm.get_cmap(\"Spectral\")\n",
        "        color = cmap(float(i) / n_clusters)        \n",
        "        ax1.fill_betweenx(np.arange(y_lower, y_upper), 0, ith_cluster_silhouette_values,\n",
        "                           facecolor=color, edgecolor=color, alpha=0.8)\n",
        "        #____________________________________________________________________\n",
        "        # Label the silhouette plots with their cluster numbers at the middle\n",
        "        ax1.text(-0.03, y_lower + 0.5 * size_cluster_i, str(i), color = 'red', fontweight = 'bold',\n",
        "                bbox=dict(facecolor='white', edgecolor='black', boxstyle='round, pad=0.3'))\n",
        "        #______________________________________\n",
        "        # Compute the new y_lower for next plot\n",
        "        y_lower = y_upper + 10  "
      ],
      "execution_count": 0,
      "outputs": []
    },
    {
      "cell_type": "code",
      "metadata": {
        "id": "xsylB9GlmHXm",
        "colab_type": "code",
        "colab": {}
      },
      "source": [
        "#____________________________________\n",
        "# define individual silouhette scores\n",
        "sample_silhouette_values = silhouette_samples(matrix, clusters)\n",
        "#__________________\n",
        "# and do the graph\n",
        "graph_component_silhouette(n_clusters, [-0.07, 0.33], len(X), sample_silhouette_values, clusters)\n",
        "plt.show()"
      ],
      "execution_count": 0,
      "outputs": []
    },
    {
      "cell_type": "markdown",
      "metadata": {
        "id": "HSM_2PjJmRwM",
        "colab_type": "text"
      },
      "source": [
        "b/ Word Cloud\n",
        "\n",
        "Now we can have a look at the type of objects that each cluster represents. In order to obtain a global view of their contents, I determine which keywords are the most frequent in each of them"
      ]
    },
    {
      "cell_type": "code",
      "metadata": {
        "id": "IF71bp6fmJN8",
        "colab_type": "code",
        "colab": {}
      },
      "source": [
        "liste = pd.DataFrame(liste_produits)\n",
        "liste_words = [word for (word, occurence) in list_products]\n",
        "\n",
        "occurence = [dict() for _ in range(n_clusters)]\n",
        "\n",
        "for i in range(n_clusters):\n",
        "    liste_cluster = liste.loc[clusters == i]\n",
        "    for word in liste_words:\n",
        "        if word in ['art', 'set', 'heart', 'pink', 'blue', 'tag']: continue\n",
        "        occurence[i][word] = sum(liste_cluster.loc[:, 0].str.contains(word.upper()))"
      ],
      "execution_count": 0,
      "outputs": []
    },
    {
      "cell_type": "code",
      "metadata": {
        "id": "qlrTg1DqmT3M",
        "colab_type": "code",
        "colab": {}
      },
      "source": [
        "#________________________________________________________________________\n",
        "def random_color_func(word=None, font_size=None, position=None,\n",
        "                      orientation=None, font_path=None, random_state=None):\n",
        "    h = int(360.0 * tone / 255.0)\n",
        "    s = int(100.0 * 255.0 / 255.0)\n",
        "    l = int(100.0 * float(random_state.randint(70, 120)) / 255.0)\n",
        "    return \"hsl({}, {}%, {}%)\".format(h, s, l)\n",
        "#________________________________________________________________________\n",
        "def make_wordcloud(liste, increment):\n",
        "    ax1 = fig.add_subplot(4,2,increment)\n",
        "    words = dict()\n",
        "    trunc_occurences = liste[0:150]\n",
        "    for s in trunc_occurences:\n",
        "        words[s[0]] = s[1]\n",
        "    #________________________________________________________\n",
        "    wordcloud = WordCloud(width=1000,height=400, background_color='lightgrey', \n",
        "                          max_words=1628,relative_scaling=1,\n",
        "                          color_func = random_color_func,\n",
        "                          normalize_plurals=False)\n",
        "    wordcloud.generate_from_frequencies(words)\n",
        "    ax1.imshow(wordcloud, interpolation=\"bilinear\")\n",
        "    ax1.axis('off')\n",
        "    plt.title('cluster nº{}'.format(increment-1))\n",
        "#________________________________________________________________________\n",
        "fig = plt.figure(1, figsize=(14,14))\n",
        "color = [0, 160, 130, 95, 280, 40, 330, 110, 25]\n",
        "for i in range(n_clusters):\n",
        "    list_cluster_occurences = occurence[i]\n",
        "\n",
        "    tone = color[i] # define the color of the words\n",
        "    liste = []\n",
        "    for key, value in list_cluster_occurences.items():\n",
        "        liste.append([key, value])\n",
        "    liste.sort(key = lambda x:x[1], reverse = True)\n",
        "    make_wordcloud(liste, i+1)      "
      ],
      "execution_count": 0,
      "outputs": []
    },
    {
      "cell_type": "markdown",
      "metadata": {
        "id": "h12Kz0ajmYud",
        "colab_type": "text"
      },
      "source": [
        "From this representation, we can see that for example, one of the clusters contains objects that could be associated with gifts (keywords: Christmas, packaging, card, ...). Another cluster would rather contain luxury items and jewelry (keywords: necklace, bracelet, lace, silver, ...). Nevertheless, it can also be observed that many words appear in various clusters and it is therefore difficult to clearly distinguish them.\n",
        "\n",
        "c / Principal Component Analysis\n",
        "\n",
        "In order to ensure that these clusters are truly distinct, I look at their composition. Given the large number of variables of the initial matrix, I first perform a PCA:"
      ]
    },
    {
      "cell_type": "code",
      "metadata": {
        "id": "XgkAQkjmmWuZ",
        "colab_type": "code",
        "colab": {}
      },
      "source": [
        "pca = PCA()\n",
        "pca.fit(matrix)\n",
        "pca_samples = pca.transform(matrix)"
      ],
      "execution_count": 0,
      "outputs": []
    },
    {
      "cell_type": "code",
      "metadata": {
        "id": "jL5YCgLxmbMX",
        "colab_type": "code",
        "colab": {}
      },
      "source": [
        "fig, ax = plt.subplots(figsize=(14, 5))\n",
        "sns.set(font_scale=1)\n",
        "plt.step(range(matrix.shape[1]), pca.explained_variance_ratio_.cumsum(), where='mid',\n",
        "         label='cumulative explained variance')\n",
        "sns.barplot(np.arange(1,matrix.shape[1]+1), pca.explained_variance_ratio_, alpha=0.5, color = 'g',\n",
        "            label='individual explained variance')\n",
        "plt.xlim(0, 100)\n",
        "\n",
        "ax.set_xticklabels([s if int(s.get_text())%2 == 0 else '' for s in ax.get_xticklabels()])\n",
        "\n",
        "plt.ylabel('Explained variance', fontsize = 14)\n",
        "plt.xlabel('Principal components', fontsize = 14)\n",
        "plt.legend(loc='upper left', fontsize = 13);"
      ],
      "execution_count": 0,
      "outputs": []
    },
    {
      "cell_type": "markdown",
      "metadata": {
        "id": "IMDskit7mfJy",
        "colab_type": "text"
      },
      "source": [
        "We see that the number of components required to explain the data is extremely important: we need more than 100 components to explain 90% of the variance of the data. In practice, I decide to keep only a limited number of components since this decomposition is only performed to visualize the data:"
      ]
    },
    {
      "cell_type": "code",
      "metadata": {
        "id": "jCJFvcXMmdYo",
        "colab_type": "code",
        "colab": {}
      },
      "source": [
        "pca = PCA(n_components=50)\n",
        "matrix_9D = pca.fit_transform(matrix)\n",
        "mat = pd.DataFrame(matrix_9D)\n",
        "mat['cluster'] = pd.Series(clusters)"
      ],
      "execution_count": 0,
      "outputs": []
    },
    {
      "cell_type": "code",
      "metadata": {
        "id": "nbUJ2iyNmhCg",
        "colab_type": "code",
        "colab": {}
      },
      "source": [
        "import matplotlib.patches as mpatches\n",
        "\n",
        "sns.set_style(\"white\")\n",
        "sns.set_context(\"notebook\", font_scale=1, rc={\"lines.linewidth\": 2.5})\n",
        "\n",
        "LABEL_COLOR_MAP = {0:'r', 1:'gold', 2:'b', 3:'k', 4:'c', 5:'g'}\n",
        "label_color = [LABEL_COLOR_MAP[l] for l in mat['cluster']]\n",
        "\n",
        "fig = plt.figure(figsize = (15,8))\n",
        "increment = 0\n",
        "for ix in range(4):\n",
        "    for iy in range(ix+1, 4):    \n",
        "        increment += 1\n",
        "        ax = fig.add_subplot(2,3,increment)\n",
        "        ax.scatter(mat[ix], mat[iy], c= label_color, alpha=0.4) \n",
        "        plt.ylabel('PCA {}'.format(iy+1), fontsize = 12)\n",
        "        plt.xlabel('PCA {}'.format(ix+1), fontsize = 12)\n",
        "        ax.yaxis.grid(color='lightgray', linestyle=':')\n",
        "        ax.xaxis.grid(color='lightgray', linestyle=':')\n",
        "        ax.spines['right'].set_visible(False)\n",
        "        ax.spines['top'].set_visible(False)\n",
        "        \n",
        "        if increment == 9: break\n",
        "    if increment == 9: break\n",
        "        \n",
        "#_______________________________________________\n",
        "# I set the legend: abreviation -> airline name\n",
        "comp_handler = []\n",
        "for i in range(5):\n",
        "    comp_handler.append(mpatches.Patch(color = LABEL_COLOR_MAP[i], label = i))\n",
        "\n",
        "plt.legend(handles=comp_handler, bbox_to_anchor=(1.1, 0.97), \n",
        "           title='Cluster', facecolor = 'lightgrey',\n",
        "           shadow = True, frameon = True, framealpha = 1,\n",
        "           fontsize = 13, bbox_transform = plt.gcf().transFigure)\n",
        "\n",
        "plt.show()"
      ],
      "execution_count": 0,
      "outputs": []
    },
    {
      "cell_type": "markdown",
      "metadata": {
        "id": "QwwsK3cEmlHP",
        "colab_type": "text"
      },
      "source": [
        "4. Customer categories\n",
        "4.1 Formatting data\n",
        "In the previous section, the different products were grouped in five clusters. In order to prepare the rest of the analysis, a first step consists in introducing this information into the dataframe. To do this, I create the categorical variable categ_product where I indicate the cluster of each product :"
      ]
    },
    {
      "cell_type": "code",
      "metadata": {
        "id": "BcjvqGE8mjNF",
        "colab_type": "code",
        "colab": {}
      },
      "source": [
        "corresp = dict()\n",
        "for key, val in zip (liste_produits, clusters):\n",
        "    corresp[key] = val \n",
        "#__________________________________________________________________________\n",
        "df_cleaned['categ_product'] = df_cleaned.loc[:, 'Description'].map(corresp)"
      ],
      "execution_count": 0,
      "outputs": []
    },
    {
      "cell_type": "markdown",
      "metadata": {
        "id": "aT0g4C5FmolG",
        "colab_type": "text"
      },
      "source": [
        "4.1.1 Grouping products\n",
        "In a second step, I decide to create the categ_N variables (with  N∈[0:4] ) that contains the amount spent in each product category:"
      ]
    },
    {
      "cell_type": "code",
      "metadata": {
        "id": "M5hEu8f8mnK_",
        "colab_type": "code",
        "colab": {
          "base_uri": "https://localhost:8080/",
          "height": 272
        },
        "outputId": "7fc41d5a-35ff-4871-801c-dd15e30652bb"
      },
      "source": [
        "for i in range(5):\n",
        "    col = 'categ_{}'.format(i)        \n",
        "    df_temp = df_cleaned[df_cleaned['categ_product'] == i]\n",
        "    price_temp = df_temp['UnitPrice'] * (df_temp['Quantity'] - df_temp['QuantityCanceled'])\n",
        "    price_temp = price_temp.apply(lambda x:x if x > 0 else 0)\n",
        "    df_cleaned.loc[:, col] = price_temp\n",
        "    df_cleaned[col].fillna(0, inplace = True)\n",
        "#__________________________________________________________________________________________________\n",
        "df_cleaned[['InvoiceNo', 'Description', 'categ_product', 'categ_0', 'categ_1', 'categ_2', 'categ_3','categ_4']][:5]"
      ],
      "execution_count": 93,
      "outputs": [
        {
          "output_type": "execute_result",
          "data": {
            "text/html": [
              "<div>\n",
              "<style scoped>\n",
              "    .dataframe tbody tr th:only-of-type {\n",
              "        vertical-align: middle;\n",
              "    }\n",
              "\n",
              "    .dataframe tbody tr th {\n",
              "        vertical-align: top;\n",
              "    }\n",
              "\n",
              "    .dataframe thead th {\n",
              "        text-align: right;\n",
              "    }\n",
              "</style>\n",
              "<table border=\"1\" class=\"dataframe\">\n",
              "  <thead>\n",
              "    <tr style=\"text-align: right;\">\n",
              "      <th></th>\n",
              "      <th>InvoiceNo</th>\n",
              "      <th>Description</th>\n",
              "      <th>categ_product</th>\n",
              "      <th>categ_0</th>\n",
              "      <th>categ_1</th>\n",
              "      <th>categ_2</th>\n",
              "      <th>categ_3</th>\n",
              "      <th>categ_4</th>\n",
              "    </tr>\n",
              "  </thead>\n",
              "  <tbody>\n",
              "    <tr>\n",
              "      <th>0</th>\n",
              "      <td>536365</td>\n",
              "      <td>WHITE HANGING HEART T-LIGHT HOLDER</td>\n",
              "      <td>4</td>\n",
              "      <td>0.0</td>\n",
              "      <td>0.0</td>\n",
              "      <td>0.00</td>\n",
              "      <td>0.0</td>\n",
              "      <td>15.3</td>\n",
              "    </tr>\n",
              "    <tr>\n",
              "      <th>1</th>\n",
              "      <td>536365</td>\n",
              "      <td>WHITE METAL LANTERN</td>\n",
              "      <td>2</td>\n",
              "      <td>0.0</td>\n",
              "      <td>0.0</td>\n",
              "      <td>20.34</td>\n",
              "      <td>0.0</td>\n",
              "      <td>0.0</td>\n",
              "    </tr>\n",
              "    <tr>\n",
              "      <th>2</th>\n",
              "      <td>536365</td>\n",
              "      <td>CREAM CUPID HEARTS COAT HANGER</td>\n",
              "      <td>2</td>\n",
              "      <td>0.0</td>\n",
              "      <td>0.0</td>\n",
              "      <td>22.00</td>\n",
              "      <td>0.0</td>\n",
              "      <td>0.0</td>\n",
              "    </tr>\n",
              "    <tr>\n",
              "      <th>3</th>\n",
              "      <td>536365</td>\n",
              "      <td>KNITTED UNION FLAG HOT WATER BOTTLE</td>\n",
              "      <td>2</td>\n",
              "      <td>0.0</td>\n",
              "      <td>0.0</td>\n",
              "      <td>20.34</td>\n",
              "      <td>0.0</td>\n",
              "      <td>0.0</td>\n",
              "    </tr>\n",
              "    <tr>\n",
              "      <th>4</th>\n",
              "      <td>536365</td>\n",
              "      <td>RED WOOLLY HOTTIE WHITE HEART.</td>\n",
              "      <td>2</td>\n",
              "      <td>0.0</td>\n",
              "      <td>0.0</td>\n",
              "      <td>20.34</td>\n",
              "      <td>0.0</td>\n",
              "      <td>0.0</td>\n",
              "    </tr>\n",
              "  </tbody>\n",
              "</table>\n",
              "</div>"
            ],
            "text/plain": [
              "  InvoiceNo                          Description  ...  categ_3  categ_4\n",
              "0    536365   WHITE HANGING HEART T-LIGHT HOLDER  ...      0.0     15.3\n",
              "1    536365                  WHITE METAL LANTERN  ...      0.0      0.0\n",
              "2    536365       CREAM CUPID HEARTS COAT HANGER  ...      0.0      0.0\n",
              "3    536365  KNITTED UNION FLAG HOT WATER BOTTLE  ...      0.0      0.0\n",
              "4    536365       RED WOOLLY HOTTIE WHITE HEART.  ...      0.0      0.0\n",
              "\n",
              "[5 rows x 8 columns]"
            ]
          },
          "metadata": {
            "tags": []
          },
          "execution_count": 93
        }
      ]
    },
    {
      "cell_type": "code",
      "metadata": {
        "id": "-so3frXUmqqL",
        "colab_type": "code",
        "colab": {
          "base_uri": "https://localhost:8080/",
          "height": 306
        },
        "outputId": "2c5820be-f9f5-4f05-9c12-21fe0c446f40"
      },
      "source": [
        "#___________________________________________\n",
        "# somme des achats / utilisateur & commande\n",
        "temp = df_cleaned.groupby(by=['CustomerID', 'InvoiceNo'], as_index=False)['TotalPrice'].sum()\n",
        "basket_price = temp.rename(columns = {'TotalPrice':'Basket Price'})\n",
        "#____________________________________________________________\n",
        "# pourcentage du prix de la commande / categorie de produit\n",
        "for i in range(5):\n",
        "    col = 'categ_{}'.format(i) \n",
        "    temp = df_cleaned.groupby(by=['CustomerID', 'InvoiceNo'], as_index=False)[col].sum()\n",
        "    basket_price.loc[:, col] = temp \n",
        "#_____________________\n",
        "# date de la commande\n",
        "df_cleaned['InvoiceDate_int'] = df_cleaned['InvoiceDate'].astype('int64')\n",
        "temp = df_cleaned.groupby(by=['CustomerID', 'InvoiceNo'], as_index=False)['InvoiceDate_int'].mean()\n",
        "df_cleaned.drop('InvoiceDate_int', axis = 1, inplace = True)\n",
        "basket_price.loc[:, 'InvoiceDate'] = pd.to_datetime(temp['InvoiceDate_int'])\n",
        "#______________________________________\n",
        "# selection des entrées significatives:\n",
        "basket_price = basket_price[basket_price['Basket Price'] > 0]\n",
        "basket_price.sort_values('CustomerID', ascending = True)[:5]"
      ],
      "execution_count": 95,
      "outputs": [
        {
          "output_type": "execute_result",
          "data": {
            "text/html": [
              "<div>\n",
              "<style scoped>\n",
              "    .dataframe tbody tr th:only-of-type {\n",
              "        vertical-align: middle;\n",
              "    }\n",
              "\n",
              "    .dataframe tbody tr th {\n",
              "        vertical-align: top;\n",
              "    }\n",
              "\n",
              "    .dataframe thead th {\n",
              "        text-align: right;\n",
              "    }\n",
              "</style>\n",
              "<table border=\"1\" class=\"dataframe\">\n",
              "  <thead>\n",
              "    <tr style=\"text-align: right;\">\n",
              "      <th></th>\n",
              "      <th>CustomerID</th>\n",
              "      <th>InvoiceNo</th>\n",
              "      <th>Basket Price</th>\n",
              "      <th>categ_0</th>\n",
              "      <th>categ_1</th>\n",
              "      <th>categ_2</th>\n",
              "      <th>categ_3</th>\n",
              "      <th>categ_4</th>\n",
              "      <th>InvoiceDate</th>\n",
              "    </tr>\n",
              "  </thead>\n",
              "  <tbody>\n",
              "    <tr>\n",
              "      <th>1</th>\n",
              "      <td>12347</td>\n",
              "      <td>537626</td>\n",
              "      <td>711.79</td>\n",
              "      <td>124.44</td>\n",
              "      <td>23.40</td>\n",
              "      <td>293.35</td>\n",
              "      <td>187.2</td>\n",
              "      <td>83.40</td>\n",
              "      <td>2010-12-07 14:57:00.000001024</td>\n",
              "    </tr>\n",
              "    <tr>\n",
              "      <th>2</th>\n",
              "      <td>12347</td>\n",
              "      <td>542237</td>\n",
              "      <td>475.39</td>\n",
              "      <td>0.00</td>\n",
              "      <td>122.59</td>\n",
              "      <td>169.20</td>\n",
              "      <td>130.5</td>\n",
              "      <td>53.10</td>\n",
              "      <td>2011-01-26 14:29:59.999999744</td>\n",
              "    </tr>\n",
              "    <tr>\n",
              "      <th>3</th>\n",
              "      <td>12347</td>\n",
              "      <td>549222</td>\n",
              "      <td>636.25</td>\n",
              "      <td>0.00</td>\n",
              "      <td>119.25</td>\n",
              "      <td>115.00</td>\n",
              "      <td>330.9</td>\n",
              "      <td>71.10</td>\n",
              "      <td>2011-04-07 10:42:59.999999232</td>\n",
              "    </tr>\n",
              "    <tr>\n",
              "      <th>4</th>\n",
              "      <td>12347</td>\n",
              "      <td>556201</td>\n",
              "      <td>382.52</td>\n",
              "      <td>19.90</td>\n",
              "      <td>41.40</td>\n",
              "      <td>168.76</td>\n",
              "      <td>74.4</td>\n",
              "      <td>78.06</td>\n",
              "      <td>2011-06-09 13:01:00.000000256</td>\n",
              "    </tr>\n",
              "    <tr>\n",
              "      <th>5</th>\n",
              "      <td>12347</td>\n",
              "      <td>562032</td>\n",
              "      <td>584.91</td>\n",
              "      <td>97.80</td>\n",
              "      <td>99.55</td>\n",
              "      <td>158.16</td>\n",
              "      <td>109.7</td>\n",
              "      <td>119.70</td>\n",
              "      <td>2011-08-02 08:48:00.000000000</td>\n",
              "    </tr>\n",
              "  </tbody>\n",
              "</table>\n",
              "</div>"
            ],
            "text/plain": [
              "  CustomerID InvoiceNo  ...  categ_4                   InvoiceDate\n",
              "1      12347    537626  ...    83.40 2010-12-07 14:57:00.000001024\n",
              "2      12347    542237  ...    53.10 2011-01-26 14:29:59.999999744\n",
              "3      12347    549222  ...    71.10 2011-04-07 10:42:59.999999232\n",
              "4      12347    556201  ...    78.06 2011-06-09 13:01:00.000000256\n",
              "5      12347    562032  ...   119.70 2011-08-02 08:48:00.000000000\n",
              "\n",
              "[5 rows x 9 columns]"
            ]
          },
          "metadata": {
            "tags": []
          },
          "execution_count": 95
        }
      ]
    },
    {
      "cell_type": "markdown",
      "metadata": {
        "id": "50BGLXKbmyXP",
        "colab_type": "text"
      },
      "source": [
        "4.1.2 Separation of data over time¶\n",
        "The dataframe basket_price contains information for a period of 12 months. Later, one of the objectives will be to develop a model capable of characterizing and anticipating the habits of the customers visiting the site and this, from their first visit. In order to be able to test the model in a realistic way, I split the data set by retaining the first 10 months to develop the model and the following two months to test it:"
      ]
    },
    {
      "cell_type": "code",
      "metadata": {
        "id": "dbTWENMNmspM",
        "colab_type": "code",
        "colab": {
          "base_uri": "https://localhost:8080/",
          "height": 34
        },
        "outputId": "0cc4b309-d4e9-44a5-f4d8-ef850d46c281"
      },
      "source": [
        "print(basket_price['InvoiceDate'].min(), '->',  basket_price['InvoiceDate'].max())"
      ],
      "execution_count": 96,
      "outputs": [
        {
          "output_type": "stream",
          "text": [
            "2010-12-01 08:26:00 -> 2011-12-09 12:50:00\n"
          ],
          "name": "stdout"
        }
      ]
    },
    {
      "cell_type": "code",
      "metadata": {
        "id": "Ko9mA-Ufm0h_",
        "colab_type": "code",
        "colab": {}
      },
      "source": [
        "set_entrainement = basket_price[basket_price['InvoiceDate'] < datetime.date(2011,10,1)]\n",
        "set_test         = basket_price[basket_price['InvoiceDate'] >= datetime.date(2011,10,1)]\n",
        "basket_price = set_entrainement.copy(deep = True)"
      ],
      "execution_count": 0,
      "outputs": []
    },
    {
      "cell_type": "markdown",
      "metadata": {
        "id": "eiWVSgdHm3m3",
        "colab_type": "text"
      },
      "source": [
        "\n",
        "4.1.3 Consumer Order Combinations\n",
        "In a second step, I group together the different entries that correspond to the same user. I thus determine the number of purchases made by the user, as well as the minimum, maximum, average amounts and the total amount spent during all the visits:"
      ]
    },
    {
      "cell_type": "code",
      "metadata": {
        "id": "vs1JozZxm2Es",
        "colab_type": "code",
        "colab": {
          "base_uri": "https://localhost:8080/",
          "height": 224
        },
        "outputId": "9961e6a1-d623-44c4-90c1-199218d5e2de"
      },
      "source": [
        "#________________________________________________________________\n",
        "# nb de visites et stats sur le montant du panier / utilisateurs\n",
        "transactions_per_user=basket_price.groupby(by=['CustomerID'])['Basket Price'].agg(['count','min','max','mean','sum'])\n",
        "for i in range(5):\n",
        "    col = 'categ_{}'.format(i)\n",
        "    transactions_per_user.loc[:,col] = basket_price.groupby(by=['CustomerID'])[col].sum() /\\\n",
        "                                            transactions_per_user['sum']*100\n",
        "\n",
        "transactions_per_user.reset_index(drop = False, inplace = True)\n",
        "basket_price.groupby(by=['CustomerID'])['categ_0'].sum()\n",
        "transactions_per_user.sort_values('CustomerID', ascending = True)[:5]"
      ],
      "execution_count": 98,
      "outputs": [
        {
          "output_type": "execute_result",
          "data": {
            "text/html": [
              "<div>\n",
              "<style scoped>\n",
              "    .dataframe tbody tr th:only-of-type {\n",
              "        vertical-align: middle;\n",
              "    }\n",
              "\n",
              "    .dataframe tbody tr th {\n",
              "        vertical-align: top;\n",
              "    }\n",
              "\n",
              "    .dataframe thead th {\n",
              "        text-align: right;\n",
              "    }\n",
              "</style>\n",
              "<table border=\"1\" class=\"dataframe\">\n",
              "  <thead>\n",
              "    <tr style=\"text-align: right;\">\n",
              "      <th></th>\n",
              "      <th>CustomerID</th>\n",
              "      <th>count</th>\n",
              "      <th>min</th>\n",
              "      <th>max</th>\n",
              "      <th>mean</th>\n",
              "      <th>sum</th>\n",
              "      <th>categ_0</th>\n",
              "      <th>categ_1</th>\n",
              "      <th>categ_2</th>\n",
              "      <th>categ_3</th>\n",
              "      <th>categ_4</th>\n",
              "    </tr>\n",
              "  </thead>\n",
              "  <tbody>\n",
              "    <tr>\n",
              "      <th>0</th>\n",
              "      <td>12347</td>\n",
              "      <td>5</td>\n",
              "      <td>382.52</td>\n",
              "      <td>711.79</td>\n",
              "      <td>558.172000</td>\n",
              "      <td>2790.86</td>\n",
              "      <td>8.676179</td>\n",
              "      <td>14.554295</td>\n",
              "      <td>32.408290</td>\n",
              "      <td>29.836681</td>\n",
              "      <td>14.524555</td>\n",
              "    </tr>\n",
              "    <tr>\n",
              "      <th>1</th>\n",
              "      <td>12348</td>\n",
              "      <td>4</td>\n",
              "      <td>227.44</td>\n",
              "      <td>892.80</td>\n",
              "      <td>449.310000</td>\n",
              "      <td>1797.24</td>\n",
              "      <td>0.000000</td>\n",
              "      <td>58.046783</td>\n",
              "      <td>0.000000</td>\n",
              "      <td>41.953217</td>\n",
              "      <td>0.000000</td>\n",
              "    </tr>\n",
              "    <tr>\n",
              "      <th>2</th>\n",
              "      <td>12350</td>\n",
              "      <td>1</td>\n",
              "      <td>334.40</td>\n",
              "      <td>334.40</td>\n",
              "      <td>334.400000</td>\n",
              "      <td>334.40</td>\n",
              "      <td>0.000000</td>\n",
              "      <td>23.654306</td>\n",
              "      <td>0.000000</td>\n",
              "      <td>48.444976</td>\n",
              "      <td>27.900718</td>\n",
              "    </tr>\n",
              "    <tr>\n",
              "      <th>3</th>\n",
              "      <td>12352</td>\n",
              "      <td>6</td>\n",
              "      <td>144.35</td>\n",
              "      <td>840.30</td>\n",
              "      <td>345.663333</td>\n",
              "      <td>2073.98</td>\n",
              "      <td>14.301006</td>\n",
              "      <td>53.725205</td>\n",
              "      <td>15.711338</td>\n",
              "      <td>12.892120</td>\n",
              "      <td>3.370331</td>\n",
              "    </tr>\n",
              "    <tr>\n",
              "      <th>4</th>\n",
              "      <td>12353</td>\n",
              "      <td>1</td>\n",
              "      <td>89.00</td>\n",
              "      <td>89.00</td>\n",
              "      <td>89.000000</td>\n",
              "      <td>89.00</td>\n",
              "      <td>22.359551</td>\n",
              "      <td>44.719101</td>\n",
              "      <td>0.000000</td>\n",
              "      <td>13.033708</td>\n",
              "      <td>19.887640</td>\n",
              "    </tr>\n",
              "  </tbody>\n",
              "</table>\n",
              "</div>"
            ],
            "text/plain": [
              "  CustomerID  count     min     max  ...    categ_1    categ_2    categ_3    categ_4\n",
              "0      12347      5  382.52  711.79  ...  14.554295  32.408290  29.836681  14.524555\n",
              "1      12348      4  227.44  892.80  ...  58.046783   0.000000  41.953217   0.000000\n",
              "2      12350      1  334.40  334.40  ...  23.654306   0.000000  48.444976  27.900718\n",
              "3      12352      6  144.35  840.30  ...  53.725205  15.711338  12.892120   3.370331\n",
              "4      12353      1   89.00   89.00  ...  44.719101   0.000000  13.033708  19.887640\n",
              "\n",
              "[5 rows x 11 columns]"
            ]
          },
          "metadata": {
            "tags": []
          },
          "execution_count": 98
        }
      ]
    },
    {
      "cell_type": "markdown",
      "metadata": {
        "id": "AIEXwh8Um8cH",
        "colab_type": "text"
      },
      "source": [
        "Finally, I define two additional variables that give the number of days elapsed since the first purchase ( FirstPurchase ) and the number of days since the last purchase ( LastPurchase ):"
      ]
    },
    {
      "cell_type": "code",
      "metadata": {
        "id": "Lpdk4Olbm6NX",
        "colab_type": "code",
        "colab": {
          "base_uri": "https://localhost:8080/",
          "height": 224
        },
        "outputId": "4b7dd195-a024-49da-f063-18fab2ecebcc"
      },
      "source": [
        "last_date = basket_price['InvoiceDate'].max().date()\n",
        "\n",
        "first_registration = pd.DataFrame(basket_price.groupby(by=['CustomerID'])['InvoiceDate'].min())\n",
        "last_purchase      = pd.DataFrame(basket_price.groupby(by=['CustomerID'])['InvoiceDate'].max())\n",
        "\n",
        "test  = first_registration.applymap(lambda x:(last_date - x.date()).days)\n",
        "test2 = last_purchase.applymap(lambda x:(last_date - x.date()).days)\n",
        "\n",
        "transactions_per_user.loc[:, 'LastPurchase'] = test2.reset_index(drop = False)['InvoiceDate']\n",
        "transactions_per_user.loc[:, 'FirstPurchase'] = test.reset_index(drop = False)['InvoiceDate']\n",
        "\n",
        "transactions_per_user[:5]"
      ],
      "execution_count": 99,
      "outputs": [
        {
          "output_type": "execute_result",
          "data": {
            "text/html": [
              "<div>\n",
              "<style scoped>\n",
              "    .dataframe tbody tr th:only-of-type {\n",
              "        vertical-align: middle;\n",
              "    }\n",
              "\n",
              "    .dataframe tbody tr th {\n",
              "        vertical-align: top;\n",
              "    }\n",
              "\n",
              "    .dataframe thead th {\n",
              "        text-align: right;\n",
              "    }\n",
              "</style>\n",
              "<table border=\"1\" class=\"dataframe\">\n",
              "  <thead>\n",
              "    <tr style=\"text-align: right;\">\n",
              "      <th></th>\n",
              "      <th>CustomerID</th>\n",
              "      <th>count</th>\n",
              "      <th>min</th>\n",
              "      <th>max</th>\n",
              "      <th>mean</th>\n",
              "      <th>sum</th>\n",
              "      <th>categ_0</th>\n",
              "      <th>categ_1</th>\n",
              "      <th>categ_2</th>\n",
              "      <th>categ_3</th>\n",
              "      <th>categ_4</th>\n",
              "      <th>LastPurchase</th>\n",
              "      <th>FirstPurchase</th>\n",
              "    </tr>\n",
              "  </thead>\n",
              "  <tbody>\n",
              "    <tr>\n",
              "      <th>0</th>\n",
              "      <td>12347</td>\n",
              "      <td>5</td>\n",
              "      <td>382.52</td>\n",
              "      <td>711.79</td>\n",
              "      <td>558.172000</td>\n",
              "      <td>2790.86</td>\n",
              "      <td>8.676179</td>\n",
              "      <td>14.554295</td>\n",
              "      <td>32.408290</td>\n",
              "      <td>29.836681</td>\n",
              "      <td>14.524555</td>\n",
              "      <td>59</td>\n",
              "      <td>297</td>\n",
              "    </tr>\n",
              "    <tr>\n",
              "      <th>1</th>\n",
              "      <td>12348</td>\n",
              "      <td>4</td>\n",
              "      <td>227.44</td>\n",
              "      <td>892.80</td>\n",
              "      <td>449.310000</td>\n",
              "      <td>1797.24</td>\n",
              "      <td>0.000000</td>\n",
              "      <td>58.046783</td>\n",
              "      <td>0.000000</td>\n",
              "      <td>41.953217</td>\n",
              "      <td>0.000000</td>\n",
              "      <td>5</td>\n",
              "      <td>288</td>\n",
              "    </tr>\n",
              "    <tr>\n",
              "      <th>2</th>\n",
              "      <td>12350</td>\n",
              "      <td>1</td>\n",
              "      <td>334.40</td>\n",
              "      <td>334.40</td>\n",
              "      <td>334.400000</td>\n",
              "      <td>334.40</td>\n",
              "      <td>0.000000</td>\n",
              "      <td>23.654306</td>\n",
              "      <td>0.000000</td>\n",
              "      <td>48.444976</td>\n",
              "      <td>27.900718</td>\n",
              "      <td>240</td>\n",
              "      <td>240</td>\n",
              "    </tr>\n",
              "    <tr>\n",
              "      <th>3</th>\n",
              "      <td>12352</td>\n",
              "      <td>6</td>\n",
              "      <td>144.35</td>\n",
              "      <td>840.30</td>\n",
              "      <td>345.663333</td>\n",
              "      <td>2073.98</td>\n",
              "      <td>14.301006</td>\n",
              "      <td>53.725205</td>\n",
              "      <td>15.711338</td>\n",
              "      <td>12.892120</td>\n",
              "      <td>3.370331</td>\n",
              "      <td>2</td>\n",
              "      <td>226</td>\n",
              "    </tr>\n",
              "    <tr>\n",
              "      <th>4</th>\n",
              "      <td>12353</td>\n",
              "      <td>1</td>\n",
              "      <td>89.00</td>\n",
              "      <td>89.00</td>\n",
              "      <td>89.000000</td>\n",
              "      <td>89.00</td>\n",
              "      <td>22.359551</td>\n",
              "      <td>44.719101</td>\n",
              "      <td>0.000000</td>\n",
              "      <td>13.033708</td>\n",
              "      <td>19.887640</td>\n",
              "      <td>134</td>\n",
              "      <td>134</td>\n",
              "    </tr>\n",
              "  </tbody>\n",
              "</table>\n",
              "</div>"
            ],
            "text/plain": [
              "  CustomerID  count     min  ...    categ_4  LastPurchase  FirstPurchase\n",
              "0      12347      5  382.52  ...  14.524555            59            297\n",
              "1      12348      4  227.44  ...   0.000000             5            288\n",
              "2      12350      1  334.40  ...  27.900718           240            240\n",
              "3      12352      6  144.35  ...   3.370331             2            226\n",
              "4      12353      1   89.00  ...  19.887640           134            134\n",
              "\n",
              "[5 rows x 13 columns]"
            ]
          },
          "metadata": {
            "tags": []
          },
          "execution_count": 99
        }
      ]
    },
    {
      "cell_type": "markdown",
      "metadata": {
        "id": "W6TTACPanAVg",
        "colab_type": "text"
      },
      "source": [
        "A customer category of particular interest is that of customers who make only one purchase. One of the objectives may be, for example, to target these customers in order to retain them. In part, I find that this type of customer represents 1/3 of the customers listed:"
      ]
    },
    {
      "cell_type": "code",
      "metadata": {
        "id": "kDjb1Pf5m-kI",
        "colab_type": "code",
        "colab": {
          "base_uri": "https://localhost:8080/",
          "height": 34
        },
        "outputId": "c59cb3de-6e3f-4cea-85da-9abc00326bd8"
      },
      "source": [
        "n1 = transactions_per_user[transactions_per_user['count'] == 1].shape[0]\n",
        "n2 = transactions_per_user.shape[0]\n",
        "print(\"nb. de clients avec achat unique: {:<2}/{:<5} ({:<2.2f}%)\".format(n1,n2,n1/n2*100))"
      ],
      "execution_count": 100,
      "outputs": [
        {
          "output_type": "stream",
          "text": [
            "nb. de clients avec achat unique: 1445/3608  (40.05%)\n"
          ],
          "name": "stdout"
        }
      ]
    },
    {
      "cell_type": "markdown",
      "metadata": {
        "id": "NamBws1lnEAG",
        "colab_type": "text"
      },
      "source": [
        "4.2 Creation of customers categories\n",
        "4.2.1 Data encoding\n",
        "The dataframe transactions_per_user contains a summary of all the commands that were made. Each entry in this dataframe corresponds to a particular client. I use this information to characterize the different types of customers and only keep a subset of variables:"
      ]
    },
    {
      "cell_type": "code",
      "metadata": {
        "id": "VRNtwX8fnCMM",
        "colab_type": "code",
        "colab": {}
      },
      "source": [
        "list_cols = ['count','min','max','mean','categ_0','categ_1','categ_2','categ_3','categ_4']\n",
        "#_____________________________________________________________\n",
        "selected_customers = transactions_per_user.copy(deep = True)\n",
        "matrix = selected_customers[list_cols].as_matrix()"
      ],
      "execution_count": 0,
      "outputs": []
    },
    {
      "cell_type": "markdown",
      "metadata": {
        "id": "kirE0SzhnHiS",
        "colab_type": "text"
      },
      "source": [
        "In practice, the different variables I selected have quite different ranges of variation and before continuing the analysis, I create a matrix where these data are standardized"
      ]
    },
    {
      "cell_type": "code",
      "metadata": {
        "id": "CdfOA5fUnF1j",
        "colab_type": "code",
        "colab": {
          "base_uri": "https://localhost:8080/",
          "height": 85
        },
        "outputId": "b92913ab-597f-4fb4-b0f7-ef35d8324e00"
      },
      "source": [
        "scaler = StandardScaler()\n",
        "scaler.fit(matrix)\n",
        "print('variables mean values: \\n' + 90*'-' + '\\n' , scaler.mean_)\n",
        "scaled_matrix = scaler.transform(matrix)"
      ],
      "execution_count": 102,
      "outputs": [
        {
          "output_type": "stream",
          "text": [
            "variables mean values: \n",
            "------------------------------------------------------------------------------------------\n",
            " [  3.62305987 259.93189634 556.26687999 377.06036244  15.6945421\n",
            "  21.51301063  16.37327913  25.22916919  21.19884856]\n"
          ],
          "name": "stdout"
        }
      ]
    },
    {
      "cell_type": "markdown",
      "metadata": {
        "id": "WdyblDLqnLEr",
        "colab_type": "text"
      },
      "source": [
        "In the following, I will create clusters of customers. In practice, before creating these clusters, it is interesting to define a base of smaller dimension allowing to describe the scaled_matrix matrix. In this case, I will use this base in order to create a representation of the different clusters and thus verify the quality of the separation of the different groups. I therefore perform a PCA beforehand:"
      ]
    },
    {
      "cell_type": "code",
      "metadata": {
        "id": "6sTbcy8InJeq",
        "colab_type": "code",
        "colab": {}
      },
      "source": [
        "pca = PCA()\n",
        "pca.fit(scaled_matrix)\n",
        "pca_samples = pca.transform(scaled_matrix)"
      ],
      "execution_count": 0,
      "outputs": []
    },
    {
      "cell_type": "code",
      "metadata": {
        "id": "keDiprw6nM6o",
        "colab_type": "code",
        "colab": {}
      },
      "source": [
        "fig, ax = plt.subplots(figsize=(14, 5))\n",
        "sns.set(font_scale=1)\n",
        "plt.step(range(matrix.shape[1]), pca.explained_variance_ratio_.cumsum(), where='mid',\n",
        "         label='cumulative explained variance')\n",
        "sns.barplot(np.arange(1,matrix.shape[1]+1), pca.explained_variance_ratio_, alpha=0.5, color = 'g',\n",
        "            label='individual explained variance')\n",
        "plt.xlim(0, 10)\n",
        "\n",
        "ax.set_xticklabels([s if int(s.get_text())%2 == 0 else '' for s in ax.get_xticklabels()])\n",
        "\n",
        "plt.ylabel('Explained variance', fontsize = 14)\n",
        "plt.xlabel('Principal components', fontsize = 14)\n",
        "plt.legend(loc='best', fontsize = 13);"
      ],
      "execution_count": 0,
      "outputs": []
    },
    {
      "cell_type": "markdown",
      "metadata": {
        "id": "IlWPb_uQnRnj",
        "colab_type": "text"
      },
      "source": [
        "4.2.2 Creation of customer categories\n",
        "At this point, I define clusters of clients from the standardized matrix that was defined earlier and using the k-means algorithm fromscikit-learn. I choose the number of clusters based on the silhouette score and I find that the best score is obtained with 11 clusters:"
      ]
    },
    {
      "cell_type": "code",
      "metadata": {
        "id": "qMHaTgyZnPdb",
        "colab_type": "code",
        "colab": {
          "base_uri": "https://localhost:8080/",
          "height": 34
        },
        "outputId": "ca278f7f-9822-4d82-a4de-8796d28da122"
      },
      "source": [
        "n_clusters = 11\n",
        "kmeans = KMeans(init='k-means++', n_clusters = n_clusters, n_init=100)\n",
        "kmeans.fit(scaled_matrix)\n",
        "clusters_clients = kmeans.predict(scaled_matrix)\n",
        "silhouette_avg = silhouette_score(scaled_matrix, clusters_clients)\n",
        "print('score de silhouette: {:<.3f}'.format(silhouette_avg))"
      ],
      "execution_count": 105,
      "outputs": [
        {
          "output_type": "stream",
          "text": [
            "score de silhouette: 0.212\n"
          ],
          "name": "stdout"
        }
      ]
    },
    {
      "cell_type": "code",
      "metadata": {
        "id": "2T46VeLHnTkr",
        "colab_type": "code",
        "colab": {
          "base_uri": "https://localhost:8080/",
          "height": 80
        },
        "outputId": "f1c4fe9e-9a39-4acb-b3ac-5975d2e5384e"
      },
      "source": [
        "pd.DataFrame(pd.Series(clusters_clients).value_counts(), columns = ['nb. de clients']).T"
      ],
      "execution_count": 106,
      "outputs": [
        {
          "output_type": "execute_result",
          "data": {
            "text/html": [
              "<div>\n",
              "<style scoped>\n",
              "    .dataframe tbody tr th:only-of-type {\n",
              "        vertical-align: middle;\n",
              "    }\n",
              "\n",
              "    .dataframe tbody tr th {\n",
              "        vertical-align: top;\n",
              "    }\n",
              "\n",
              "    .dataframe thead th {\n",
              "        text-align: right;\n",
              "    }\n",
              "</style>\n",
              "<table border=\"1\" class=\"dataframe\">\n",
              "  <thead>\n",
              "    <tr style=\"text-align: right;\">\n",
              "      <th></th>\n",
              "      <th>0</th>\n",
              "      <th>1</th>\n",
              "      <th>3</th>\n",
              "      <th>6</th>\n",
              "      <th>9</th>\n",
              "      <th>7</th>\n",
              "      <th>4</th>\n",
              "      <th>10</th>\n",
              "      <th>5</th>\n",
              "      <th>2</th>\n",
              "      <th>8</th>\n",
              "    </tr>\n",
              "  </thead>\n",
              "  <tbody>\n",
              "    <tr>\n",
              "      <th>nb. de clients</th>\n",
              "      <td>1484</td>\n",
              "      <td>452</td>\n",
              "      <td>372</td>\n",
              "      <td>343</td>\n",
              "      <td>294</td>\n",
              "      <td>285</td>\n",
              "      <td>191</td>\n",
              "      <td>161</td>\n",
              "      <td>9</td>\n",
              "      <td>9</td>\n",
              "      <td>8</td>\n",
              "    </tr>\n",
              "  </tbody>\n",
              "</table>\n",
              "</div>"
            ],
            "text/plain": [
              "                  0    1    3    6    9    7    4    10  5   2   8 \n",
              "nb. de clients  1484  452  372  343  294  285  191  161   9   9   8"
            ]
          },
          "metadata": {
            "tags": []
          },
          "execution_count": 106
        }
      ]
    },
    {
      "cell_type": "markdown",
      "metadata": {
        "id": "i1_dePRynXjz",
        "colab_type": "text"
      },
      "source": [
        "a / Report via the PCA\n",
        "\n",
        "There is a certain disparity in the sizes of different groups that have been created. Hence I will now try to understand the content of these clusters in order to validate (or not) this particular separation. At first, I use the result of the PCA:"
      ]
    },
    {
      "cell_type": "code",
      "metadata": {
        "id": "LvjTh0-tnVrM",
        "colab_type": "code",
        "colab": {}
      },
      "source": [
        "pca = PCA(n_components=6)\n",
        "matrix_3D = pca.fit_transform(scaled_matrix)\n",
        "mat = pd.DataFrame(matrix_3D)\n",
        "mat['cluster'] = pd.Series(clusters_clients)"
      ],
      "execution_count": 0,
      "outputs": []
    },
    {
      "cell_type": "code",
      "metadata": {
        "id": "YQxuNaU2nZXE",
        "colab_type": "code",
        "colab": {}
      },
      "source": [
        "import matplotlib.patches as mpatches\n",
        "\n",
        "sns.set_style(\"white\")\n",
        "sns.set_context(\"notebook\", font_scale=1, rc={\"lines.linewidth\": 2.5})\n",
        "\n",
        "LABEL_COLOR_MAP = {0:'r', 1:'tan', 2:'b', 3:'k', 4:'c', 5:'g', 6:'deeppink', 7:'skyblue', 8:'darkcyan', 9:'orange',\n",
        "                   10:'yellow', 11:'tomato', 12:'seagreen'}\n",
        "label_color = [LABEL_COLOR_MAP[l] for l in mat['cluster']]\n",
        "\n",
        "fig = plt.figure(figsize = (12,10))\n",
        "increment = 0\n",
        "for ix in range(6):\n",
        "    for iy in range(ix+1, 6):   \n",
        "        increment += 1\n",
        "        ax = fig.add_subplot(4,3,increment)\n",
        "        ax.scatter(mat[ix], mat[iy], c= label_color, alpha=0.5) \n",
        "        plt.ylabel('PCA {}'.format(iy+1), fontsize = 12)\n",
        "        plt.xlabel('PCA {}'.format(ix+1), fontsize = 12)\n",
        "        ax.yaxis.grid(color='lightgray', linestyle=':')\n",
        "        ax.xaxis.grid(color='lightgray', linestyle=':')\n",
        "        ax.spines['right'].set_visible(False)\n",
        "        ax.spines['top'].set_visible(False)\n",
        "        \n",
        "        if increment == 12: break\n",
        "    if increment == 12: break\n",
        "        \n",
        "#_______________________________________________\n",
        "# I set the legend: abreviation -> airline name\n",
        "comp_handler = []\n",
        "for i in range(n_clusters):\n",
        "    comp_handler.append(mpatches.Patch(color = LABEL_COLOR_MAP[i], label = i))\n",
        "\n",
        "plt.legend(handles=comp_handler, bbox_to_anchor=(1.1, 0.9), \n",
        "           title='Cluster', facecolor = 'lightgrey',\n",
        "           shadow = True, frameon = True, framealpha = 1,\n",
        "           fontsize = 13, bbox_transform = plt.gcf().transFigure)\n",
        "\n",
        "plt.tight_layout()"
      ],
      "execution_count": 0,
      "outputs": []
    },
    {
      "cell_type": "markdown",
      "metadata": {
        "id": "1Qw43L5JnfvL",
        "colab_type": "text"
      },
      "source": [
        "From this representation, it can be seen, for example, that the first principal component allow to separate the tiniest clusters from the rest. More generally, we see that there is always a representation in which two clusters will appear to be distinct.\n",
        "\n",
        "b/ Score de silhouette intra-cluster\n",
        "\n",
        "As with product categories, another way to look at the quality of the separation is to look at silouhette scores within different clusters:"
      ]
    },
    {
      "cell_type": "code",
      "metadata": {
        "id": "85gdYHI_ncpL",
        "colab_type": "code",
        "colab": {}
      },
      "source": [
        "sample_silhouette_values = silhouette_samples(scaled_matrix, clusters_clients)\n",
        "#____________________________________\n",
        "# define individual silouhette scores\n",
        "sample_silhouette_values = silhouette_samples(scaled_matrix, clusters_clients)\n",
        "#__________________\n",
        "# and do the graph\n",
        "graph_component_silhouette(n_clusters, [-0.15, 0.55], len(scaled_matrix), sample_silhouette_values, clusters_clients)"
      ],
      "execution_count": 0,
      "outputs": []
    },
    {
      "cell_type": "markdown",
      "metadata": {
        "id": "JKLt5K26njeW",
        "colab_type": "text"
      },
      "source": [
        "c/ Customers morphotype\n",
        "\n",
        "At this stage, I have verified that the different clusters are indeed disjoint (at least, in a global way). It remains to understand the habits of the customers in each cluster. To do so, I start by adding to the selected_customers dataframe a variable that defines the cluster to which each client belongs:"
      ]
    },
    {
      "cell_type": "code",
      "metadata": {
        "id": "Ns5euL5Snhog",
        "colab_type": "code",
        "colab": {}
      },
      "source": [
        "selected_customers.loc[:, 'cluster'] = clusters_clients"
      ],
      "execution_count": 0,
      "outputs": []
    },
    {
      "cell_type": "markdown",
      "metadata": {
        "id": "xpV2lLYjnnzf",
        "colab_type": "text"
      },
      "source": [
        "Then, I average the contents of this dataframe by first selecting the different groups of clients. This gives access to, for example, the average baskets price, the number of visits or the total sums spent by the clients of the different clusters. I also determine the number of clients in each group (variable size ):"
      ]
    },
    {
      "cell_type": "code",
      "metadata": {
        "id": "NzQ3eidonlkJ",
        "colab_type": "code",
        "colab": {
          "base_uri": "https://localhost:8080/",
          "height": 34
        },
        "outputId": "25616c7c-df73-4186-f7af-1861d289d347"
      },
      "source": [
        "merged_df = pd.DataFrame()\n",
        "for i in range(n_clusters):\n",
        "    test = pd.DataFrame(selected_customers[selected_customers['cluster'] == i].mean())\n",
        "    test = test.T.set_index('cluster', drop = True)\n",
        "    test['size'] = selected_customers[selected_customers['cluster'] == i].shape[0]\n",
        "    merged_df = pd.concat([merged_df, test])\n",
        "#_____________________________________________________\n",
        "merged_df.drop('CustomerID', axis = 1, inplace = True)\n",
        "print('number of customers:', merged_df['size'].sum())\n",
        "\n",
        "merged_df = merged_df.sort_values('sum')"
      ],
      "execution_count": 111,
      "outputs": [
        {
          "output_type": "stream",
          "text": [
            "number of customers: 3608\n"
          ],
          "name": "stdout"
        }
      ]
    },
    {
      "cell_type": "code",
      "metadata": {
        "id": "SPqgVs6HnpuP",
        "colab_type": "code",
        "colab": {}
      },
      "source": [
        "#Finally, I re-organize the content of the dataframe by ordering the different clusters: first, in relation to the amount wpsent in each product category and then, according to the total amount spent:"
      ],
      "execution_count": 0,
      "outputs": []
    },
    {
      "cell_type": "code",
      "metadata": {
        "id": "4Syux6hMnrJ4",
        "colab_type": "code",
        "colab": {
          "base_uri": "https://localhost:8080/",
          "height": 410
        },
        "outputId": "fa9048fb-afe4-4a5e-e5b5-3c597ba0928a"
      },
      "source": [
        "liste_index = []\n",
        "for i in range(5):\n",
        "    column = 'categ_{}'.format(i)\n",
        "    liste_index.append(merged_df[merged_df[column] > 45].index.values[0])\n",
        "#___________________________________\n",
        "liste_index_reordered = liste_index\n",
        "liste_index_reordered += [ s for s in merged_df.index if s not in liste_index]\n",
        "#___________________________________________________________\n",
        "merged_df = merged_df.reindex(index = liste_index_reordered)\n",
        "merged_df = merged_df.reset_index(drop = False)\n",
        "display(merged_df[['cluster', 'count', 'min', 'max', 'mean', 'sum', 'categ_0',\n",
        "                   'categ_1', 'categ_2', 'categ_3', 'categ_4', 'size']])"
      ],
      "execution_count": 113,
      "outputs": [
        {
          "output_type": "display_data",
          "data": {
            "text/html": [
              "<div>\n",
              "<style scoped>\n",
              "    .dataframe tbody tr th:only-of-type {\n",
              "        vertical-align: middle;\n",
              "    }\n",
              "\n",
              "    .dataframe tbody tr th {\n",
              "        vertical-align: top;\n",
              "    }\n",
              "\n",
              "    .dataframe thead th {\n",
              "        text-align: right;\n",
              "    }\n",
              "</style>\n",
              "<table border=\"1\" class=\"dataframe\">\n",
              "  <thead>\n",
              "    <tr style=\"text-align: right;\">\n",
              "      <th></th>\n",
              "      <th>cluster</th>\n",
              "      <th>count</th>\n",
              "      <th>min</th>\n",
              "      <th>max</th>\n",
              "      <th>mean</th>\n",
              "      <th>sum</th>\n",
              "      <th>categ_0</th>\n",
              "      <th>categ_1</th>\n",
              "      <th>categ_2</th>\n",
              "      <th>categ_3</th>\n",
              "      <th>categ_4</th>\n",
              "      <th>size</th>\n",
              "    </tr>\n",
              "  </thead>\n",
              "  <tbody>\n",
              "    <tr>\n",
              "      <th>0</th>\n",
              "      <td>6.0</td>\n",
              "      <td>2.481050</td>\n",
              "      <td>191.276939</td>\n",
              "      <td>306.260496</td>\n",
              "      <td>242.719853</td>\n",
              "      <td>618.229184</td>\n",
              "      <td>52.675110</td>\n",
              "      <td>11.596177</td>\n",
              "      <td>12.977983</td>\n",
              "      <td>11.334261</td>\n",
              "      <td>11.432921</td>\n",
              "      <td>343</td>\n",
              "    </tr>\n",
              "    <tr>\n",
              "      <th>1</th>\n",
              "      <td>3.0</td>\n",
              "      <td>2.182796</td>\n",
              "      <td>196.024973</td>\n",
              "      <td>325.981452</td>\n",
              "      <td>251.220384</td>\n",
              "      <td>597.004866</td>\n",
              "      <td>7.603192</td>\n",
              "      <td>61.041692</td>\n",
              "      <td>6.951786</td>\n",
              "      <td>15.103279</td>\n",
              "      <td>9.300051</td>\n",
              "      <td>372</td>\n",
              "    </tr>\n",
              "    <tr>\n",
              "      <th>2</th>\n",
              "      <td>7.0</td>\n",
              "      <td>2.150877</td>\n",
              "      <td>200.454702</td>\n",
              "      <td>339.932351</td>\n",
              "      <td>264.116733</td>\n",
              "      <td>663.612175</td>\n",
              "      <td>10.658798</td>\n",
              "      <td>9.752821</td>\n",
              "      <td>51.621911</td>\n",
              "      <td>13.745609</td>\n",
              "      <td>14.275209</td>\n",
              "      <td>285</td>\n",
              "    </tr>\n",
              "    <tr>\n",
              "      <th>3</th>\n",
              "      <td>1.0</td>\n",
              "      <td>2.446903</td>\n",
              "      <td>213.854226</td>\n",
              "      <td>327.063299</td>\n",
              "      <td>267.029087</td>\n",
              "      <td>673.641750</td>\n",
              "      <td>5.851900</td>\n",
              "      <td>15.771699</td>\n",
              "      <td>7.817691</td>\n",
              "      <td>57.570945</td>\n",
              "      <td>12.991059</td>\n",
              "      <td>452</td>\n",
              "    </tr>\n",
              "    <tr>\n",
              "      <th>4</th>\n",
              "      <td>9.0</td>\n",
              "      <td>2.591837</td>\n",
              "      <td>213.130646</td>\n",
              "      <td>383.670952</td>\n",
              "      <td>294.536074</td>\n",
              "      <td>825.276769</td>\n",
              "      <td>7.396085</td>\n",
              "      <td>9.592354</td>\n",
              "      <td>7.163197</td>\n",
              "      <td>15.001239</td>\n",
              "      <td>60.847125</td>\n",
              "      <td>294</td>\n",
              "    </tr>\n",
              "    <tr>\n",
              "      <th>5</th>\n",
              "      <td>0.0</td>\n",
              "      <td>3.234501</td>\n",
              "      <td>221.624132</td>\n",
              "      <td>461.354670</td>\n",
              "      <td>332.251749</td>\n",
              "      <td>1081.509961</td>\n",
              "      <td>14.954877</td>\n",
              "      <td>20.556179</td>\n",
              "      <td>17.085184</td>\n",
              "      <td>25.438962</td>\n",
              "      <td>21.968792</td>\n",
              "      <td>1484</td>\n",
              "    </tr>\n",
              "    <tr>\n",
              "      <th>6</th>\n",
              "      <td>4.0</td>\n",
              "      <td>1.811518</td>\n",
              "      <td>1050.926440</td>\n",
              "      <td>1475.326969</td>\n",
              "      <td>1244.839077</td>\n",
              "      <td>2500.924874</td>\n",
              "      <td>13.905269</td>\n",
              "      <td>21.564228</td>\n",
              "      <td>17.190336</td>\n",
              "      <td>26.099084</td>\n",
              "      <td>21.241436</td>\n",
              "      <td>191</td>\n",
              "    </tr>\n",
              "    <tr>\n",
              "      <th>7</th>\n",
              "      <td>2.0</td>\n",
              "      <td>1.222222</td>\n",
              "      <td>3901.461111</td>\n",
              "      <td>4064.098889</td>\n",
              "      <td>3982.780000</td>\n",
              "      <td>5032.047778</td>\n",
              "      <td>19.521209</td>\n",
              "      <td>33.707434</td>\n",
              "      <td>14.531229</td>\n",
              "      <td>20.388127</td>\n",
              "      <td>11.852002</td>\n",
              "      <td>9</td>\n",
              "    </tr>\n",
              "    <tr>\n",
              "      <th>8</th>\n",
              "      <td>10.0</td>\n",
              "      <td>17.695652</td>\n",
              "      <td>85.946335</td>\n",
              "      <td>1467.326025</td>\n",
              "      <td>533.758509</td>\n",
              "      <td>9091.875963</td>\n",
              "      <td>15.700919</td>\n",
              "      <td>18.597906</td>\n",
              "      <td>16.378925</td>\n",
              "      <td>23.837210</td>\n",
              "      <td>25.504502</td>\n",
              "      <td>161</td>\n",
              "    </tr>\n",
              "    <tr>\n",
              "      <th>9</th>\n",
              "      <td>8.0</td>\n",
              "      <td>87.125000</td>\n",
              "      <td>20.862500</td>\n",
              "      <td>2643.812500</td>\n",
              "      <td>456.526689</td>\n",
              "      <td>37313.235000</td>\n",
              "      <td>16.434535</td>\n",
              "      <td>19.838292</td>\n",
              "      <td>13.979829</td>\n",
              "      <td>25.165035</td>\n",
              "      <td>24.604929</td>\n",
              "      <td>8</td>\n",
              "    </tr>\n",
              "    <tr>\n",
              "      <th>10</th>\n",
              "      <td>5.0</td>\n",
              "      <td>25.000000</td>\n",
              "      <td>457.591111</td>\n",
              "      <td>18086.800000</td>\n",
              "      <td>4989.406686</td>\n",
              "      <td>94822.113333</td>\n",
              "      <td>20.970479</td>\n",
              "      <td>13.884074</td>\n",
              "      <td>18.673715</td>\n",
              "      <td>23.543560</td>\n",
              "      <td>22.928172</td>\n",
              "      <td>9</td>\n",
              "    </tr>\n",
              "  </tbody>\n",
              "</table>\n",
              "</div>"
            ],
            "text/plain": [
              "    cluster      count          min  ...    categ_3    categ_4  size\n",
              "0       6.0   2.481050   191.276939  ...  11.334261  11.432921   343\n",
              "1       3.0   2.182796   196.024973  ...  15.103279   9.300051   372\n",
              "2       7.0   2.150877   200.454702  ...  13.745609  14.275209   285\n",
              "3       1.0   2.446903   213.854226  ...  57.570945  12.991059   452\n",
              "4       9.0   2.591837   213.130646  ...  15.001239  60.847125   294\n",
              "5       0.0   3.234501   221.624132  ...  25.438962  21.968792  1484\n",
              "6       4.0   1.811518  1050.926440  ...  26.099084  21.241436   191\n",
              "7       2.0   1.222222  3901.461111  ...  20.388127  11.852002     9\n",
              "8      10.0  17.695652    85.946335  ...  23.837210  25.504502   161\n",
              "9       8.0  87.125000    20.862500  ...  25.165035  24.604929     8\n",
              "10      5.0  25.000000   457.591111  ...  23.543560  22.928172     9\n",
              "\n",
              "[11 rows x 12 columns]"
            ]
          },
          "metadata": {
            "tags": []
          }
        }
      ]
    },
    {
      "cell_type": "markdown",
      "metadata": {
        "id": "1t3JCN0LnwlG",
        "colab_type": "text"
      },
      "source": [
        "d / Customers morphology\n",
        "\n",
        "Finally, I created a representation of the different morphotypes. To do this, I define a class to create \"Radar Charts\" (which has been adapted from this kernel)"
      ]
    },
    {
      "cell_type": "code",
      "metadata": {
        "id": "KA5t_5X7ntij",
        "colab_type": "code",
        "colab": {}
      },
      "source": [
        "def _scale_data(data, ranges):\n",
        "    (x1, x2) = ranges[0]\n",
        "    d = data[0]\n",
        "    return [(d - y1) / (y2 - y1) * (x2 - x1) + x1 for d, (y1, y2) in zip(data, ranges)]\n",
        "\n",
        "class RadarChart():\n",
        "    def __init__(self, fig, location, sizes, variables, ranges, n_ordinate_levels = 6):\n",
        "\n",
        "        angles = np.arange(0, 360, 360./len(variables))\n",
        "\n",
        "        ix, iy = location[:] ; size_x, size_y = sizes[:]\n",
        "        \n",
        "        axes = [fig.add_axes([ix, iy, size_x, size_y], polar = True, \n",
        "        label = \"axes{}\".format(i)) for i in range(len(variables))]\n",
        "\n",
        "        _, text = axes[0].set_thetagrids(angles, labels = variables)\n",
        "        \n",
        "        for txt, angle in zip(text, angles):\n",
        "            if angle > -1 and angle < 181:\n",
        "                txt.set_rotation(angle - 90)\n",
        "            else:\n",
        "                txt.set_rotation(angle - 270)\n",
        "        \n",
        "        for ax in axes[1:]:\n",
        "            ax.patch.set_visible(False)\n",
        "            ax.xaxis.set_visible(False)\n",
        "            ax.grid(\"off\")\n",
        "        \n",
        "        for i, ax in enumerate(axes):\n",
        "            grid = np.linspace(*ranges[i],num = n_ordinate_levels)\n",
        "            grid_label = [\"\"]+[\"{:.0f}\".format(x) for x in grid[1:-1]]\n",
        "            ax.set_rgrids(grid, labels = grid_label, angle = angles[i])\n",
        "            ax.set_ylim(*ranges[i])\n",
        "        \n",
        "        self.angle = np.deg2rad(np.r_[angles, angles[0]])\n",
        "        self.ranges = ranges\n",
        "        self.ax = axes[0]\n",
        "                \n",
        "    def plot(self, data, *args, **kw):\n",
        "        sdata = _scale_data(data, self.ranges)\n",
        "        self.ax.plot(self.angle, np.r_[sdata, sdata[0]], *args, **kw)\n",
        "\n",
        "    def fill(self, data, *args, **kw):\n",
        "        sdata = _scale_data(data, self.ranges)\n",
        "        self.ax.fill(self.angle, np.r_[sdata, sdata[0]], *args, **kw)\n",
        "\n",
        "    def legend(self, *args, **kw):\n",
        "        self.ax.legend(*args, **kw)\n",
        "        \n",
        "    def title(self, title, *args, **kw):\n",
        "        self.ax.text(0.9, 1, title, transform = self.ax.transAxes, *args, **kw)"
      ],
      "execution_count": 0,
      "outputs": []
    },
    {
      "cell_type": "code",
      "metadata": {
        "id": "B2GRQ4b4nzwR",
        "colab_type": "code",
        "colab": {}
      },
      "source": [
        "fig = plt.figure(figsize=(10,12))\n",
        "\n",
        "attributes = ['count', 'mean', 'sum', 'categ_0', 'categ_1', 'categ_2', 'categ_3', 'categ_4']\n",
        "ranges = [[0.01, 10], [0.01, 1500], [0.01, 10000], [0.01, 75], [0.01, 75], [0.01, 75], [0.01, 75], [0.01, 75]]\n",
        "index  = [0, 1, 2, 3, 4, 5, 6, 7, 8, 9, 10, 11, 12]\n",
        "\n",
        "n_groups = n_clusters ; i_cols = 3\n",
        "i_rows = n_groups//i_cols\n",
        "size_x, size_y = (1/i_cols), (1/i_rows)\n",
        "\n",
        "for ind in range(n_clusters):\n",
        "    ix = ind%3 ; iy = i_rows - ind//3\n",
        "    pos_x = ix*(size_x + 0.05) ; pos_y = iy*(size_y + 0.05)            \n",
        "    location = [pos_x, pos_y]  ; sizes = [size_x, size_y] \n",
        "    #______________________________________________________\n",
        "    data = np.array(merged_df.loc[index[ind], attributes])    \n",
        "    radar = RadarChart(fig, location, sizes, attributes, ranges)\n",
        "    radar.plot(data, color = 'b', linewidth=2.0)\n",
        "    radar.fill(data, alpha = 0.2, color = 'b')\n",
        "    radar.title(title = 'cluster nº{}'.format(index[ind]), color = 'r')\n",
        "    ind += 1 "
      ],
      "execution_count": 0,
      "outputs": []
    },
    {
      "cell_type": "markdown",
      "metadata": {
        "id": "7TOCpYHMn5a1",
        "colab_type": "text"
      },
      "source": [
        "It can be seen, for example, that the first 5 clusters correspond to a strong preponderance of purchases in a particular category of products. Other clusters will differ from basket averages ( mean ), the total sum spent by the clients ( sum ) or the total number of visits made ( count )."
      ]
    },
    {
      "cell_type": "markdown",
      "metadata": {
        "id": "y6vo_EF0n7L4",
        "colab_type": "text"
      },
      "source": [
        "5. Classification of customers\n",
        "In this part, the objective will be to adjust a classifier that will classify consumers in the different client categories that were established in the previous section. The objective is to make this classification possible at the first visit. To fulfill this objective, I will test several classifiers implemented in scikit-learn. First, in order to simplify their use, I define a class that allows to interface several of the functionalities common to these different classifiers:"
      ]
    },
    {
      "cell_type": "code",
      "metadata": {
        "id": "f_Rbb7eIn2YI",
        "colab_type": "code",
        "colab": {}
      },
      "source": [
        "class Class_Fit(object):\n",
        "    def __init__(self, clf, params=None):\n",
        "        if params:            \n",
        "            self.clf = clf(**params)\n",
        "        else:\n",
        "            self.clf = clf()\n",
        "\n",
        "    def train(self, x_train, y_train):\n",
        "        self.clf.fit(x_train, y_train)\n",
        "\n",
        "    def predict(self, x):\n",
        "        return self.clf.predict(x)\n",
        "    \n",
        "    def grid_search(self, parameters, Kfold):\n",
        "        self.grid = GridSearchCV(estimator = self.clf, param_grid = parameters, cv = Kfold)\n",
        "        \n",
        "    def grid_fit(self, X, Y):\n",
        "        self.grid.fit(X, Y)\n",
        "        \n",
        "    def grid_predict(self, X, Y):\n",
        "        self.predictions = self.grid.predict(X)\n",
        "        print(\"Precision: {:.2f} % \".format(100*metrics.accuracy_score(Y, self.predictions)))"
      ],
      "execution_count": 0,
      "outputs": []
    },
    {
      "cell_type": "markdown",
      "metadata": {
        "id": "MYnHZorTn_De",
        "colab_type": "text"
      },
      "source": [
        "Since the goal is to define the class to which a client belongs and this, as soon as its first visit, I only keep the variables that describe the content of the basket, and do not take into account the variables related to the frequency of visits or variations of the basket price over time:"
      ]
    },
    {
      "cell_type": "code",
      "metadata": {
        "id": "lRtv9Ta2n9Zc",
        "colab_type": "code",
        "colab": {}
      },
      "source": [
        "columns = ['mean', 'categ_0', 'categ_1', 'categ_2', 'categ_3', 'categ_4' ]\n",
        "X = selected_customers[columns]\n",
        "Y = selected_customers['cluster']"
      ],
      "execution_count": 0,
      "outputs": []
    },
    {
      "cell_type": "code",
      "metadata": {
        "id": "DjPfSjqMoAwC",
        "colab_type": "code",
        "colab": {}
      },
      "source": [
        "X_train, X_test, Y_train, Y_test = model_selection.train_test_split(X, Y, train_size = 0.8)"
      ],
      "execution_count": 0,
      "outputs": []
    },
    {
      "cell_type": "markdown",
      "metadata": {
        "id": "Mp6-VcRIoFBK",
        "colab_type": "text"
      },
      "source": [
        "\n",
        "5.1 Support Vector Machine Classifier (SVC)\n",
        "The first classifier I use is the SVC classifier. In order to use it, I create an instance of the Class_Fit class and then callgrid_search(). When calling this method, I provide as parameters:\n",
        "\n",
        "the hyperparameters for which I will seek an optimal value\n",
        "the number of folds to be used for cross-validation"
      ]
    },
    {
      "cell_type": "code",
      "metadata": {
        "id": "Day5IyA4oDIY",
        "colab_type": "code",
        "colab": {}
      },
      "source": [
        "svc = Class_Fit(clf = svm.LinearSVC)\n",
        "svc.grid_search(parameters = [{'C':np.logspace(-2,2,10)}], Kfold = 5)"
      ],
      "execution_count": 0,
      "outputs": []
    },
    {
      "cell_type": "markdown",
      "metadata": {
        "id": "ig-uHiyuoIag",
        "colab_type": "text"
      },
      "source": [
        "Once this instance is created, I adjust the classifier to the training data:"
      ]
    },
    {
      "cell_type": "code",
      "metadata": {
        "id": "lhmLekYfoHLv",
        "colab_type": "code",
        "colab": {}
      },
      "source": [
        "svc.grid_fit(X = X_train, Y = Y_train)"
      ],
      "execution_count": 0,
      "outputs": []
    },
    {
      "cell_type": "markdown",
      "metadata": {
        "id": "FApd314qoL8l",
        "colab_type": "text"
      },
      "source": [
        "then I can test the quality of the prediction with respect to the test data:"
      ]
    },
    {
      "cell_type": "code",
      "metadata": {
        "id": "4-rIan_WoKGp",
        "colab_type": "code",
        "colab": {
          "base_uri": "https://localhost:8080/",
          "height": 34
        },
        "outputId": "0dc70004-4928-4075-92eb-6811a330a2bb"
      },
      "source": [
        "svc.grid_predict(X_test, Y_test)"
      ],
      "execution_count": 122,
      "outputs": [
        {
          "output_type": "stream",
          "text": [
            "Precision: 76.04 % \n"
          ],
          "name": "stdout"
        }
      ]
    },
    {
      "cell_type": "markdown",
      "metadata": {
        "id": "xYd6zyGmoPko",
        "colab_type": "text"
      },
      "source": [
        "5.1.1 Confusion matrix¶\n",
        "The accuracy of the results seems to be correct. Nevertheless, let us remember that when the different classes were defined, there was an imbalance in size between the classes obtained. In particular, one class contains around 40% of the clients. It is therefore interesting to look at how the predictions and real values compare to the breasts of the different classes. This is the subject of the confusion matrices and to represent them, I use the code of the sklearn documentation:"
      ]
    },
    {
      "cell_type": "code",
      "metadata": {
        "id": "FG0ZOSRhoNqx",
        "colab_type": "code",
        "colab": {}
      },
      "source": [
        "def plot_confusion_matrix(cm, classes, normalize=False, title='Confusion matrix', cmap=plt.cm.Blues):\n",
        "    if normalize:\n",
        "        cm = cm.astype('float') / cm.sum(axis=1)[:, np.newaxis]\n",
        "        print(\"Normalized confusion matrix\")\n",
        "    else:\n",
        "        print('Confusion matrix, without normalization')\n",
        "    #_________________________________________________\n",
        "    plt.imshow(cm, interpolation='nearest', cmap=cmap)\n",
        "    plt.title(title)\n",
        "    plt.colorbar()\n",
        "    tick_marks = np.arange(len(classes))\n",
        "    plt.xticks(tick_marks, classes, rotation=0)\n",
        "    plt.yticks(tick_marks, classes)\n",
        "    #_________________________________________________\n",
        "    fmt = '.2f' if normalize else 'd'\n",
        "    thresh = cm.max() / 2.\n",
        "    for i, j in itertools.product(range(cm.shape[0]), range(cm.shape[1])):\n",
        "        plt.text(j, i, format(cm[i, j], fmt),\n",
        "                 horizontalalignment=\"center\",\n",
        "                 color=\"white\" if cm[i, j] > thresh else \"black\")\n",
        "    #_________________________________________________\n",
        "    plt.tight_layout()\n",
        "    plt.ylabel('True label')\n",
        "    plt.xlabel('Predicted label')"
      ],
      "execution_count": 0,
      "outputs": []
    },
    {
      "cell_type": "markdown",
      "metadata": {
        "id": "hci_J0aIoTkd",
        "colab_type": "text"
      },
      "source": [
        "from which I create the following representation:"
      ]
    },
    {
      "cell_type": "code",
      "metadata": {
        "id": "OR7Rdbp3oR_c",
        "colab_type": "code",
        "colab": {
          "base_uri": "https://localhost:8080/",
          "height": 34
        },
        "outputId": "2deed63d-fddb-481e-974e-fcf53b206b2a"
      },
      "source": [
        "class_names = [i for i in range(11)]\n",
        "cnf_matrix = confusion_matrix(Y_test, svc.predictions) \n",
        "np.set_printoptions(precision=2)\n",
        "plt.figure(figsize = (8,8))\n",
        "plot_confusion_matrix(cnf_matrix, classes=class_names, normalize = False, title='Confusion matrix')"
      ],
      "execution_count": 124,
      "outputs": [
        {
          "output_type": "stream",
          "text": [
            "Confusion matrix, without normalization\n"
          ],
          "name": "stdout"
        }
      ]
    },
    {
      "cell_type": "markdown",
      "metadata": {
        "id": "I4kS_a74oY58",
        "colab_type": "text"
      },
      "source": [
        "\n",
        "5.1.2 Learning curve\n",
        "A typical way to test the quality of a fit is to draw a learning curve. In particular, this type of curves allow to detect possible drawbacks in the model, linked for example to over- or under-fitting. This also shows to which extent the mode could benefit from a larger data sample. In order to draw this curve, I use the scikit-learn documentation code again"
      ]
    },
    {
      "cell_type": "code",
      "metadata": {
        "id": "-iR6CkCkoVlu",
        "colab_type": "code",
        "colab": {}
      },
      "source": [
        "def plot_learning_curve(estimator, title, X, y, ylim=None, cv=None,\n",
        "                        n_jobs=-1, train_sizes=np.linspace(.1, 1.0, 10)):\n",
        "    \"\"\"Generate a simple plot of the test and training learning curve\"\"\"\n",
        "    plt.figure()\n",
        "    plt.title(title)\n",
        "    if ylim is not None:\n",
        "        plt.ylim(*ylim)\n",
        "    plt.xlabel(\"Training examples\")\n",
        "    plt.ylabel(\"Score\")\n",
        "    train_sizes, train_scores, test_scores = learning_curve(\n",
        "        estimator, X, y, cv=cv, n_jobs=n_jobs, train_sizes=train_sizes)\n",
        "    train_scores_mean = np.mean(train_scores, axis=1)\n",
        "    train_scores_std = np.std(train_scores, axis=1)\n",
        "    test_scores_mean = np.mean(test_scores, axis=1)\n",
        "    test_scores_std = np.std(test_scores, axis=1)\n",
        "    plt.grid()\n",
        "\n",
        "    plt.fill_between(train_sizes, train_scores_mean - train_scores_std,\n",
        "                     train_scores_mean + train_scores_std, alpha=0.1, color=\"r\")\n",
        "    plt.fill_between(train_sizes, test_scores_mean - test_scores_std,\n",
        "                     test_scores_mean + test_scores_std, alpha=0.1, color=\"g\")\n",
        "    plt.plot(train_sizes, train_scores_mean, 'o-', color=\"r\", label=\"Training score\")\n",
        "    plt.plot(train_sizes, test_scores_mean, 'o-', color=\"g\", label=\"Cross-validation score\")\n",
        "\n",
        "    plt.legend(loc=\"best\")\n",
        "    return plt"
      ],
      "execution_count": 0,
      "outputs": []
    },
    {
      "cell_type": "markdown",
      "metadata": {
        "id": "twloKeJvocXA",
        "colab_type": "text"
      },
      "source": [
        "from which I represent the leanring curve of the SVC classifier:"
      ]
    },
    {
      "cell_type": "code",
      "metadata": {
        "id": "3NxQSLt0obYB",
        "colab_type": "code",
        "colab": {}
      },
      "source": [
        "g = plot_learning_curve(svc.grid.best_estimator_,\n",
        "                        \"SVC learning curves\", X_train, Y_train, ylim = [1.01, 0.6],\n",
        "                        cv = 5,  train_sizes = [0.05, 0.1, 0.2, 0.3, 0.4, 0.5,\n",
        "                                                0.6, 0.7, 0.8, 0.9, 1])"
      ],
      "execution_count": 0,
      "outputs": []
    },
    {
      "cell_type": "markdown",
      "metadata": {
        "id": "iwUcDByHohfE",
        "colab_type": "text"
      },
      "source": [
        "On this curve, we can see that the train and cross-validation curves converge towards the same limit when the sample size increases. This is typical of modeling with low variance and proves that the model does not suffer from overfitting. Also, we can see that the accuracy of the training curve is correct which is synonymous of a low bias. Hence the model does not underfit the data."
      ]
    },
    {
      "cell_type": "markdown",
      "metadata": {
        "id": "yGyRt8XkokAx",
        "colab_type": "text"
      },
      "source": [
        "5.2 Logistic Regression\n",
        "I now consider the logistic regression classifier. As before, I create an instance of the Class_Fit class, adjust the model on the training data and see how the predictions compare to the real values:"
      ]
    },
    {
      "cell_type": "code",
      "metadata": {
        "id": "YNN8zzJFoebA",
        "colab_type": "code",
        "colab": {
          "base_uri": "https://localhost:8080/",
          "height": 34
        },
        "outputId": "0b1424c8-35bd-43c7-aa66-aa397c9a84c6"
      },
      "source": [
        "lr = Class_Fit(clf = linear_model.LogisticRegression)\n",
        "lr.grid_search(parameters = [{'C':np.logspace(-2,2,20)}], Kfold = 5)\n",
        "lr.grid_fit(X = X_train, Y = Y_train)\n",
        "lr.grid_predict(X_test, Y_test)"
      ],
      "execution_count": 127,
      "outputs": [
        {
          "output_type": "stream",
          "text": [
            "Precision: 87.12 % \n"
          ],
          "name": "stdout"
        }
      ]
    },
    {
      "cell_type": "markdown",
      "metadata": {
        "id": "Sxt5SyFron-5",
        "colab_type": "text"
      },
      "source": [
        "Then, I plot the learning curve to have a feeling of the quality of the model:"
      ]
    },
    {
      "cell_type": "code",
      "metadata": {
        "id": "lQ3hgfx_olvw",
        "colab_type": "code",
        "colab": {}
      },
      "source": [
        "g = plot_learning_curve(lr.grid.best_estimator_, \"Logistic Regression learning curves\", X_train, Y_train,\n",
        "                        ylim = [1.01, 0.7], cv = 5, \n",
        "                        train_sizes = [0.05, 0.1, 0.2, 0.3, 0.4, 0.5, 0.6, 0.7, 0.8, 0.9, 1])"
      ],
      "execution_count": 0,
      "outputs": []
    },
    {
      "cell_type": "markdown",
      "metadata": {
        "id": "cqi49U9couVN",
        "colab_type": "text"
      },
      "source": [
        "5.3 k-Nearest Neighbors¶"
      ]
    },
    {
      "cell_type": "code",
      "metadata": {
        "id": "3cskEEBCoqqe",
        "colab_type": "code",
        "colab": {
          "base_uri": "https://localhost:8080/",
          "height": 34
        },
        "outputId": "b8975cf4-5f54-474a-995f-dc9066abd720"
      },
      "source": [
        "knn = Class_Fit(clf = neighbors.KNeighborsClassifier)\n",
        "knn.grid_search(parameters = [{'n_neighbors': np.arange(1,50,1)}], Kfold = 5)\n",
        "knn.grid_fit(X = X_train, Y = Y_train)\n",
        "knn.grid_predict(X_test, Y_test)"
      ],
      "execution_count": 129,
      "outputs": [
        {
          "output_type": "stream",
          "text": [
            "Precision: 79.64 % \n"
          ],
          "name": "stdout"
        }
      ]
    },
    {
      "cell_type": "code",
      "metadata": {
        "id": "p7EaQLerowTM",
        "colab_type": "code",
        "colab": {}
      },
      "source": [
        "g = plot_learning_curve(knn.grid.best_estimator_, \"Nearest Neighbors learning curves\", X_train, Y_train,\n",
        "                        ylim = [1.01, 0.7], cv = 5, \n",
        "                        train_sizes = [0.05, 0.1, 0.2, 0.3, 0.4, 0.5, 0.6, 0.7, 0.8, 0.9, 1])"
      ],
      "execution_count": 0,
      "outputs": []
    },
    {
      "cell_type": "markdown",
      "metadata": {
        "id": "AEjTn295o0g2",
        "colab_type": "text"
      },
      "source": [
        " 5.4 Decision Tree"
      ]
    },
    {
      "cell_type": "code",
      "metadata": {
        "id": "aI_iK1r8ozDG",
        "colab_type": "code",
        "colab": {
          "base_uri": "https://localhost:8080/",
          "height": 34
        },
        "outputId": "1412351d-9a4a-4b1d-8e62-cb1384755039"
      },
      "source": [
        "tr = Class_Fit(clf = tree.DecisionTreeClassifier)\n",
        "tr.grid_search(parameters = [{'criterion' : ['entropy', 'gini'], 'max_features' :['sqrt', 'log2']}], Kfold = 5)\n",
        "tr.grid_fit(X = X_train, Y = Y_train)\n",
        "tr.grid_predict(X_test, Y_test)"
      ],
      "execution_count": 131,
      "outputs": [
        {
          "output_type": "stream",
          "text": [
            "Precision: 85.18 % \n"
          ],
          "name": "stdout"
        }
      ]
    },
    {
      "cell_type": "code",
      "metadata": {
        "id": "uZjNvNK8o21Q",
        "colab_type": "code",
        "colab": {}
      },
      "source": [
        "g = plot_learning_curve(tr.grid.best_estimator_, \"Decision tree learning curves\", X_train, Y_train,\n",
        "                        ylim = [1.01, 0.7], cv = 5, \n",
        "                        train_sizes = [0.05, 0.1, 0.2, 0.3, 0.4, 0.5, 0.6, 0.7, 0.8, 0.9, 1])"
      ],
      "execution_count": 0,
      "outputs": []
    },
    {
      "cell_type": "markdown",
      "metadata": {
        "id": "mGx3xldUo7f5",
        "colab_type": "text"
      },
      "source": [
        "5.5 Random Forest¶"
      ]
    },
    {
      "cell_type": "code",
      "metadata": {
        "id": "HquhcxVXo5QV",
        "colab_type": "code",
        "colab": {
          "base_uri": "https://localhost:8080/",
          "height": 34
        },
        "outputId": "89b7fd7c-ffe6-4002-8d34-1d46baf8e758"
      },
      "source": [
        "rf = Class_Fit(clf = ensemble.RandomForestClassifier)\n",
        "param_grid = {'criterion' : ['entropy', 'gini'], 'n_estimators' : [20, 40, 60, 80, 100],\n",
        "               'max_features' :['sqrt', 'log2']}\n",
        "rf.grid_search(parameters = param_grid, Kfold = 5)\n",
        "rf.grid_fit(X = X_train, Y = Y_train)\n",
        "rf.grid_predict(X_test, Y_test)"
      ],
      "execution_count": 133,
      "outputs": [
        {
          "output_type": "stream",
          "text": [
            "Precision: 90.03 % \n"
          ],
          "name": "stdout"
        }
      ]
    },
    {
      "cell_type": "code",
      "metadata": {
        "id": "1rqpvkoZo9k5",
        "colab_type": "code",
        "colab": {}
      },
      "source": [
        "g = plot_learning_curve(rf.grid.best_estimator_, \"Random Forest learning curves\", X_train, Y_train,\n",
        "                        ylim = [1.01, 0.7], cv = 5, \n",
        "                        train_sizes = [0.05, 0.1, 0.2, 0.3, 0.4, 0.5, 0.6, 0.7, 0.8, 0.9, 1])"
      ],
      "execution_count": 0,
      "outputs": []
    },
    {
      "cell_type": "markdown",
      "metadata": {
        "id": "oOFyREcepCFU",
        "colab_type": "text"
      },
      "source": [
        "5.6 AdaBoost Classifier"
      ]
    },
    {
      "cell_type": "code",
      "metadata": {
        "id": "xwBiEh4Zo_fg",
        "colab_type": "code",
        "colab": {
          "base_uri": "https://localhost:8080/",
          "height": 34
        },
        "outputId": "a1f8afaf-939f-4b2b-c133-c47147a2b152"
      },
      "source": [
        "ada = Class_Fit(clf = AdaBoostClassifier)\n",
        "param_grid = {'n_estimators' : [10, 20, 30, 40, 50, 60, 70, 80, 90, 100]}\n",
        "ada.grid_search(parameters = param_grid, Kfold = 5)\n",
        "ada.grid_fit(X = X_train, Y = Y_train)\n",
        "ada.grid_predict(X_test, Y_test)"
      ],
      "execution_count": 135,
      "outputs": [
        {
          "output_type": "stream",
          "text": [
            "Precision: 54.71 % \n"
          ],
          "name": "stdout"
        }
      ]
    },
    {
      "cell_type": "code",
      "metadata": {
        "id": "hGaHKBW1pD56",
        "colab_type": "code",
        "colab": {}
      },
      "source": [
        "g = plot_learning_curve(ada.grid.best_estimator_, \"AdaBoost learning curves\", X_train, Y_train,\n",
        "                        ylim = [1.01, 0.4], cv = 5, \n",
        "                        train_sizes = [0.05, 0.1, 0.2, 0.3, 0.4, 0.5, 0.6, 0.7, 0.8, 0.9, 1])"
      ],
      "execution_count": 0,
      "outputs": []
    },
    {
      "cell_type": "markdown",
      "metadata": {
        "id": "-QMY3d8HpIDa",
        "colab_type": "text"
      },
      "source": [
        "5.7 Gradient Boosting Classifie"
      ]
    },
    {
      "cell_type": "code",
      "metadata": {
        "id": "UPMyqXQMpGDR",
        "colab_type": "code",
        "colab": {
          "base_uri": "https://localhost:8080/",
          "height": 34
        },
        "outputId": "a987eff1-325a-473f-e70b-caaaf6303624"
      },
      "source": [
        "gb = Class_Fit(clf = ensemble.GradientBoostingClassifier)\n",
        "param_grid = {'n_estimators' : [10, 20, 30, 40, 50, 60, 70, 80, 90, 100]}\n",
        "gb.grid_search(parameters = param_grid, Kfold = 5)\n",
        "gb.grid_fit(X = X_train, Y = Y_train)\n",
        "gb.grid_predict(X_test, Y_test)"
      ],
      "execution_count": 137,
      "outputs": [
        {
          "output_type": "stream",
          "text": [
            "Precision: 89.75 % \n"
          ],
          "name": "stdout"
        }
      ]
    },
    {
      "cell_type": "code",
      "metadata": {
        "id": "gsvLp_eupJ7e",
        "colab_type": "code",
        "colab": {}
      },
      "source": [
        "g = plot_learning_curve(gb.grid.best_estimator_, \"Gradient Boosting learning curves\", X_train, Y_train,\n",
        "                        ylim = [1.01, 0.7], cv = 5, \n",
        "                        train_sizes = [0.05, 0.1, 0.2, 0.3, 0.4, 0.5, 0.6, 0.7, 0.8, 0.9, 1])"
      ],
      "execution_count": 0,
      "outputs": []
    },
    {
      "cell_type": "markdown",
      "metadata": {
        "id": "xGknHBLSpO56",
        "colab_type": "text"
      },
      "source": [
        "Finally, the results of the different classifiers presented in the previous sections can be combined to improve the classification model. This can be achieved by selecting the customer category as the one indicated by the majority of classifiers. To do this, I use the VotingClassifier method of the sklearn package. As a first step, I adjust the parameters of the various classifiers using the best parameters previously found:"
      ]
    },
    {
      "cell_type": "code",
      "metadata": {
        "id": "B6AmZG6HpLzb",
        "colab_type": "code",
        "colab": {}
      },
      "source": [
        "rf_best  = ensemble.RandomForestClassifier(**rf.grid.best_params_)\n",
        "gb_best  = ensemble.GradientBoostingClassifier(**gb.grid.best_params_)\n",
        "svc_best = svm.LinearSVC(**svc.grid.best_params_)\n",
        "tr_best  = tree.DecisionTreeClassifier(**tr.grid.best_params_)\n",
        "knn_best = neighbors.KNeighborsClassifier(**knn.grid.best_params_)\n",
        "lr_best  = linear_model.LogisticRegression(**lr.grid.best_params_)"
      ],
      "execution_count": 0,
      "outputs": []
    },
    {
      "cell_type": "markdown",
      "metadata": {
        "id": "QZsWDaKtpSvg",
        "colab_type": "text"
      },
      "source": [
        "I define a classifier that merges the results of the various classifiers:"
      ]
    },
    {
      "cell_type": "code",
      "metadata": {
        "id": "BMsBaQM4pRD9",
        "colab_type": "code",
        "colab": {}
      },
      "source": [
        "votingC = ensemble.VotingClassifier(estimators=[('rf', rf_best),('gb', gb_best),\n",
        "                                                ('knn', knn_best)], voting='soft') "
      ],
      "execution_count": 0,
      "outputs": []
    },
    {
      "cell_type": "code",
      "metadata": {
        "id": "GON-FyiypU-r",
        "colab_type": "code",
        "colab": {}
      },
      "source": [
        "votingC = votingC.fit(X_train, Y_train)"
      ],
      "execution_count": 0,
      "outputs": []
    },
    {
      "cell_type": "code",
      "metadata": {
        "id": "kGLdzYKSpWmT",
        "colab_type": "code",
        "colab": {
          "base_uri": "https://localhost:8080/",
          "height": 34
        },
        "outputId": "e6ea19c7-6566-4452-bebd-6fcb0490a78c"
      },
      "source": [
        "#creation of prediction model\n",
        "predictions = votingC.predict(X_test)\n",
        "print(\"Precision: {:.2f} % \".format(100*metrics.accuracy_score(Y_test, predictions)))"
      ],
      "execution_count": 142,
      "outputs": [
        {
          "output_type": "stream",
          "text": [
            "Precision: 90.58 % \n"
          ],
          "name": "stdout"
        }
      ]
    },
    {
      "cell_type": "markdown",
      "metadata": {
        "id": "oM1HD3c2pejr",
        "colab_type": "text"
      },
      "source": [
        "Note that when defining the votingC classifier, I only used a sub-sample of the whole set of classifiers defined above and only retained the Random Forest, the k-Nearest Neighbors and the Gradient Boosting classifiers. In practice, this choice has been done with respect to the performance of the classification carried out in the next section."
      ]
    },
    {
      "cell_type": "markdown",
      "metadata": {
        "id": "0tzsurLWpihq",
        "colab_type": "text"
      },
      "source": [
        "6. Testing predictions¶\n",
        "In the previous section, a few classifiers were trained in order to categorize customers. Until that point, the whole analysis was based on the data of the first 10 months. In this section, I test the model the last two months of the dataset, that has been stored in the set_test dataframe:"
      ]
    },
    {
      "cell_type": "code",
      "metadata": {
        "id": "2iN2vx8zpcYz",
        "colab_type": "code",
        "colab": {}
      },
      "source": [
        "basket_price = set_test.copy(deep = True)"
      ],
      "execution_count": 0,
      "outputs": []
    },
    {
      "cell_type": "markdown",
      "metadata": {
        "id": "9RGu1j1rpmXo",
        "colab_type": "text"
      },
      "source": [
        "In a first step, I regroup reformattes these data according to the same procedure as used on the training set. However, I am correcting the data to take into account the difference in time between the two datasets and weights the variables count and sum to obtain an equivalence with the training set:"
      ]
    },
    {
      "cell_type": "code",
      "metadata": {
        "id": "Kio0dgv-pkec",
        "colab_type": "code",
        "colab": {
          "base_uri": "https://localhost:8080/",
          "height": 224
        },
        "outputId": "c4c0ee74-2c3d-4ea2-9c43-a05dd3416b80"
      },
      "source": [
        "transactions_per_user=basket_price.groupby(by=['CustomerID'])['Basket Price'].agg(['count','min','max','mean','sum'])\n",
        "for i in range(5):\n",
        "    col = 'categ_{}'.format(i)\n",
        "    transactions_per_user.loc[:,col] = basket_price.groupby(by=['CustomerID'])[col].sum() /\\\n",
        "                                            transactions_per_user['sum']*100\n",
        "\n",
        "transactions_per_user.reset_index(drop = False, inplace = True)\n",
        "basket_price.groupby(by=['CustomerID'])['categ_0'].sum()\n",
        "\n",
        "#_______________________\n",
        "# Correcting time range\n",
        "transactions_per_user['count'] = 5 * transactions_per_user['count']\n",
        "transactions_per_user['sum']   = transactions_per_user['count'] * transactions_per_user['mean']\n",
        "\n",
        "transactions_per_user.sort_values('CustomerID', ascending = True)[:5]"
      ],
      "execution_count": 144,
      "outputs": [
        {
          "output_type": "execute_result",
          "data": {
            "text/html": [
              "<div>\n",
              "<style scoped>\n",
              "    .dataframe tbody tr th:only-of-type {\n",
              "        vertical-align: middle;\n",
              "    }\n",
              "\n",
              "    .dataframe tbody tr th {\n",
              "        vertical-align: top;\n",
              "    }\n",
              "\n",
              "    .dataframe thead th {\n",
              "        text-align: right;\n",
              "    }\n",
              "</style>\n",
              "<table border=\"1\" class=\"dataframe\">\n",
              "  <thead>\n",
              "    <tr style=\"text-align: right;\">\n",
              "      <th></th>\n",
              "      <th>CustomerID</th>\n",
              "      <th>count</th>\n",
              "      <th>min</th>\n",
              "      <th>max</th>\n",
              "      <th>mean</th>\n",
              "      <th>sum</th>\n",
              "      <th>categ_0</th>\n",
              "      <th>categ_1</th>\n",
              "      <th>categ_2</th>\n",
              "      <th>categ_3</th>\n",
              "      <th>categ_4</th>\n",
              "    </tr>\n",
              "  </thead>\n",
              "  <tbody>\n",
              "    <tr>\n",
              "      <th>0</th>\n",
              "      <td>12347</td>\n",
              "      <td>10</td>\n",
              "      <td>224.82</td>\n",
              "      <td>1294.32</td>\n",
              "      <td>759.57</td>\n",
              "      <td>7595.70</td>\n",
              "      <td>5.634767</td>\n",
              "      <td>17.732401</td>\n",
              "      <td>24.271627</td>\n",
              "      <td>20.017905</td>\n",
              "      <td>32.343299</td>\n",
              "    </tr>\n",
              "    <tr>\n",
              "      <th>1</th>\n",
              "      <td>12349</td>\n",
              "      <td>5</td>\n",
              "      <td>1757.55</td>\n",
              "      <td>1757.55</td>\n",
              "      <td>1757.55</td>\n",
              "      <td>8787.75</td>\n",
              "      <td>20.389178</td>\n",
              "      <td>30.145373</td>\n",
              "      <td>10.713778</td>\n",
              "      <td>26.506216</td>\n",
              "      <td>12.245455</td>\n",
              "    </tr>\n",
              "    <tr>\n",
              "      <th>2</th>\n",
              "      <td>12352</td>\n",
              "      <td>5</td>\n",
              "      <td>311.73</td>\n",
              "      <td>311.73</td>\n",
              "      <td>311.73</td>\n",
              "      <td>1558.65</td>\n",
              "      <td>17.290604</td>\n",
              "      <td>32.335675</td>\n",
              "      <td>7.217785</td>\n",
              "      <td>34.420813</td>\n",
              "      <td>8.735123</td>\n",
              "    </tr>\n",
              "    <tr>\n",
              "      <th>3</th>\n",
              "      <td>12356</td>\n",
              "      <td>5</td>\n",
              "      <td>58.35</td>\n",
              "      <td>58.35</td>\n",
              "      <td>58.35</td>\n",
              "      <td>291.75</td>\n",
              "      <td>0.000000</td>\n",
              "      <td>100.000000</td>\n",
              "      <td>0.000000</td>\n",
              "      <td>0.000000</td>\n",
              "      <td>0.000000</td>\n",
              "    </tr>\n",
              "    <tr>\n",
              "      <th>4</th>\n",
              "      <td>12357</td>\n",
              "      <td>5</td>\n",
              "      <td>6207.67</td>\n",
              "      <td>6207.67</td>\n",
              "      <td>6207.67</td>\n",
              "      <td>31038.35</td>\n",
              "      <td>25.189000</td>\n",
              "      <td>13.300643</td>\n",
              "      <td>28.350089</td>\n",
              "      <td>18.475531</td>\n",
              "      <td>14.684737</td>\n",
              "    </tr>\n",
              "  </tbody>\n",
              "</table>\n",
              "</div>"
            ],
            "text/plain": [
              "  CustomerID  count      min  ...    categ_2    categ_3    categ_4\n",
              "0      12347     10   224.82  ...  24.271627  20.017905  32.343299\n",
              "1      12349      5  1757.55  ...  10.713778  26.506216  12.245455\n",
              "2      12352      5   311.73  ...   7.217785  34.420813   8.735123\n",
              "3      12356      5    58.35  ...   0.000000   0.000000   0.000000\n",
              "4      12357      5  6207.67  ...  28.350089  18.475531  14.684737\n",
              "\n",
              "[5 rows x 11 columns]"
            ]
          },
          "metadata": {
            "tags": []
          },
          "execution_count": 144
        }
      ]
    },
    {
      "cell_type": "code",
      "metadata": {
        "id": "aiXSzpG0ppAb",
        "colab_type": "code",
        "colab": {
          "base_uri": "https://localhost:8080/",
          "height": 149
        },
        "outputId": "4afbb1a7-77db-4788-88e2-25411b72d113"
      },
      "source": [
        "Then, I convert the dataframe into a matrix and retain only variables that define the category to which consumers belong. At this level, I recall the method of normalization that had been used on the training set:"
      ],
      "execution_count": 145,
      "outputs": [
        {
          "output_type": "error",
          "ename": "SyntaxError",
          "evalue": "ignored",
          "traceback": [
            "\u001b[0;36m  File \u001b[0;32m\"<ipython-input-145-3849a140df7d>\"\u001b[0;36m, line \u001b[0;32m1\u001b[0m\n\u001b[0;31m    Then, I convert the dataframe into a matrix and retain only variables that define the category to which consumers belong. At this level, I recall the method of normalization that had been used on the training set:\u001b[0m\n\u001b[0m                  ^\u001b[0m\n\u001b[0;31mSyntaxError\u001b[0m\u001b[0;31m:\u001b[0m invalid syntax\n"
          ]
        }
      ]
    },
    {
      "cell_type": "code",
      "metadata": {
        "id": "7QeXJwXppqqm",
        "colab_type": "code",
        "colab": {}
      },
      "source": [
        "list_cols = ['count','min','max','mean','categ_0','categ_1','categ_2','categ_3','categ_4']\n",
        "#_____________________________________________________________\n",
        "matrix_test = transactions_per_user[list_cols].as_matrix()\n",
        "scaled_test_matrix = scaler.transform(matrix_test)"
      ],
      "execution_count": 0,
      "outputs": []
    },
    {
      "cell_type": "markdown",
      "metadata": {
        "id": "rvKQN-YCptwo",
        "colab_type": "text"
      },
      "source": [
        "Each line in this matrix contains a consumer's buying habits. At this stage, it is a question of using these habits in order to define the category to which the consumer belongs. These categories have been established in Section 4. At this stage, it is important to bear in mind that this step does not correspond to the classification stage itself. Here, we prepare the test data by defining the category to which the customers belong. However, this definition uses data obtained over a period of 2 months (via the variables count , min , max and sum ). The classifier defined in Section 5 uses a more restricted set of variables that will be defined from the first purchase of a client.\n",
        "\n",
        "Here it is a question of using the available data over a period of two months and using this data to define the category to which the customers belong. Then, the classifier can be tested by comparing its predictions with these categories. In order to define the category to which the clients belong, I recall the instance of the kmeans method used in section 4. Thepredict method of this instance calculates the distance of the consumers from the centroids of the 11 client classes and the smallest distance will define the belonging to the different categories:"
      ]
    },
    {
      "cell_type": "code",
      "metadata": {
        "id": "yOuuE-L9psWe",
        "colab_type": "code",
        "colab": {}
      },
      "source": [
        "Y = kmeans.predict(scaled_test_matrix)"
      ],
      "execution_count": 0,
      "outputs": []
    },
    {
      "cell_type": "markdown",
      "metadata": {
        "id": "8TfRhn1hpyOl",
        "colab_type": "text"
      },
      "source": [
        "Finally, in order to prepare the execution of the classifier, it is sufficient to select the variables on which it acts:"
      ]
    },
    {
      "cell_type": "code",
      "metadata": {
        "id": "9oShNlbNpv4v",
        "colab_type": "code",
        "colab": {}
      },
      "source": [
        "columns = ['mean', 'categ_0', 'categ_1', 'categ_2', 'categ_3', 'categ_4' ]\n",
        "X = transactions_per_user[columns]"
      ],
      "execution_count": 0,
      "outputs": []
    },
    {
      "cell_type": "markdown",
      "metadata": {
        "id": "_ITrm4T_p1k2",
        "colab_type": "text"
      },
      "source": [
        "It remains only to examine the predictions of the different classifiers that have been trained in section 5:"
      ]
    },
    {
      "cell_type": "code",
      "metadata": {
        "id": "AU8UDQAZp0Vo",
        "colab_type": "code",
        "colab": {
          "base_uri": "https://localhost:8080/",
          "height": 323
        },
        "outputId": "e9eb01b9-530e-4ed1-e89a-c84f8799ac5b"
      },
      "source": [
        "classifiers = [(svc, 'Support Vector Machine'),\n",
        "                (lr, 'Logostic Regression'),\n",
        "                (knn, 'k-Nearest Neighbors'),\n",
        "                (tr, 'Decision Tree'),\n",
        "                (rf, 'Random Forest'),\n",
        "                (gb, 'Gradient Boosting')]\n",
        "#______________________________\n",
        "for clf, label in classifiers:\n",
        "    print(30*'_', '\\n{}'.format(label))\n",
        "    clf.grid_predict(X, Y)"
      ],
      "execution_count": 146,
      "outputs": [
        {
          "output_type": "stream",
          "text": [
            "______________________________ \n",
            "Support Vector Machine\n",
            "Precision: 76.00 % \n",
            "______________________________ \n",
            "Logostic Regression\n",
            "Precision: 87.83 % \n",
            "______________________________ \n",
            "k-Nearest Neighbors\n",
            "Precision: 83.59 % \n",
            "______________________________ \n",
            "Decision Tree\n",
            "Precision: 97.03 % \n",
            "______________________________ \n",
            "Random Forest\n",
            "Precision: 98.00 % \n",
            "______________________________ \n",
            "Gradient Boosting\n",
            "Precision: 95.18 % \n"
          ],
          "name": "stdout"
        }
      ]
    },
    {
      "cell_type": "markdown",
      "metadata": {
        "id": "FiA1gYvvp5B8",
        "colab_type": "text"
      },
      "source": [
        "Finally, as anticipated in Section 5.8, it is possible to improve the quality of the classifier by combining their respective predictions. At this level, I chose to mix Random Forest, Gradient Boosting and k-Nearest Neighbors predictions because this leads to a slight improvement in predictions:"
      ]
    },
    {
      "cell_type": "code",
      "metadata": {
        "id": "UoI045x9p3d2",
        "colab_type": "code",
        "colab": {
          "base_uri": "https://localhost:8080/",
          "height": 34
        },
        "outputId": "25f8cb56-35c7-4a9a-d083-80e89203a446"
      },
      "source": [
        "predictions = votingC.predict(X)\n",
        "print(\"Precision: {:.2f} % \".format(100*metrics.accuracy_score(Y, predictions)))"
      ],
      "execution_count": 147,
      "outputs": [
        {
          "output_type": "stream",
          "text": [
            "Precision: 95.93 % \n"
          ],
          "name": "stdout"
        }
      ]
    },
    {
      "cell_type": "markdown",
      "metadata": {
        "id": "XZShxLo8p9VM",
        "colab_type": "text"
      },
      "source": [
        "Conclusion:\n",
        "\n",
        "The work described in this notebook is based on a database providing details on purchases made on an E-commerce platform over a period of one year. Each entry in the dataset describes the purchase of a product, by a particular customer and at a given date. In total, approximately  ∼ 4000 clients appear in the database. Given the available information, I decided to develop a classifier that allows to anticipate the type of purchase that a customer will make, as well as the number of visits that he will make during a year, and this from its first visit to the E-commerce site.\n",
        "\n",
        "The first stage of this work consisted in describing the different products sold by the site, which was the subject of a first classification. There, I grouped the different products into 5 main categories of goods. In a second step, I performed a classification of the customers by analyzing their consumption habits over a period of 10 months. I have classified clients into 11 major categories based on the type of products they usually buy, the number of visits they make and the amount they spent during the 10 months. Once these categories established, I finally trained several classifiers whose objective is to be able to classify consumers in one of these 11 categories and this from their first purchase. For this, the classifier is based on 5 variables which are:\n",
        "\n",
        "mean : amount of the basket of the current purchase\n",
        "categ_N with  N∈[0:4] : percentage spent in product category with index  N \n",
        "Finally, the quality of the predictions of the different classifiers was tested over the last two months of the dataset. The data were then processed in two steps: first, all the data was considered (ober the 2 months) to define the category to which each client belongs, and then, the classifier predictions were compared with this category assignment. I then found that 75% of clients are awarded the right classes. The performance of the classifier therefore seems correct given the potential shortcomings of the current model. In particular, a bias that has not been dealt with concerns the seasonality of purchases and the fact that purchasing habits will potentially depend on the time of year (for example, Christmas ). In practice, this seasonal effect may cause the categories defined over a 10-month period to be quite different from those extrapolated from the last two months. In order to correct such bias, it would be beneficial to have data that would cover a longer period of time."
      ]
    },
    {
      "cell_type": "code",
      "metadata": {
        "id": "FspojeVKp7MT",
        "colab_type": "code",
        "colab": {}
      },
      "source": [
        ""
      ],
      "execution_count": 0,
      "outputs": []
    }
  ]
}